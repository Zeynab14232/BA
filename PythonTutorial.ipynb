{
  "nbformat": 4,
  "nbformat_minor": 0,
  "metadata": {
    "colab": {
      "name": "PythonTutorial.ipynb",
      "provenance": []
    },
    "kernelspec": {
      "name": "python3",
      "display_name": "Python 3"
    },
    "language_info": {
      "name": "python"
    }
  },
  "cells": [
    {
      "cell_type": "code",
      "execution_count": 1,
      "metadata": {
        "colab": {
          "base_uri": "https://localhost:8080/"
        },
        "id": "gm-PQLMH1fsg",
        "outputId": "704eb30c-765e-4aee-d0e8-15e6a5ab57d4"
      },
      "outputs": [
        {
          "output_type": "stream",
          "name": "stdout",
          "text": [
            "Hello world \n"
          ]
        }
      ],
      "source": [
        "print('Hello world ')"
      ]
    },
    {
      "cell_type": "code",
      "source": [
        "# Python program to add two numbers\n",
        " \n",
        "numb1 = 8\n",
        "numb2 = 4\n",
        " \n",
        "# Adding two numbers\n",
        "sum = numb1 + numb2\n",
        " \n",
        "# Printing the result\n",
        "print(\"The sum is\", sum)"
      ],
      "metadata": {
        "colab": {
          "base_uri": "https://localhost:8080/"
        },
        "id": "ORu-yd243bYm",
        "outputId": "f2ca9a28-d10d-4b80-c912-856ec8e01049"
      },
      "execution_count": 26,
      "outputs": [
        {
          "output_type": "stream",
          "name": "stdout",
          "text": [
            "The sum is 12\n"
          ]
        }
      ]
    },
    {
      "cell_type": "code",
      "source": [
        "!pip uninstall rpy2 -y\n",
        "!pip install rpy2==3.0.0\n",
        "%load_ext rpy2.ipython"
      ],
      "metadata": {
        "id": "k90ZvSi1EtGS",
        "outputId": "3107f167-a741-46f2-b8ed-28eab7b4aad7",
        "colab": {
          "base_uri": "https://localhost:8080/",
          "height": 523
        }
      },
      "execution_count": 14,
      "outputs": [
        {
          "output_type": "stream",
          "name": "stdout",
          "text": [
            "Found existing installation: rpy2 3.0.0\n",
            "Uninstalling rpy2-3.0.0:\n",
            "  Successfully uninstalled rpy2-3.0.0\n",
            "Looking in indexes: https://pypi.org/simple, https://us-python.pkg.dev/colab-wheels/public/simple/\n",
            "Collecting rpy2==3.0.0\n",
            "  Using cached rpy2-3.0.0-py3-none-any.whl\n",
            "Requirement already satisfied: cffi>=1.0.0 in /usr/local/lib/python3.8/dist-packages (from rpy2==3.0.0) (1.15.1)\n",
            "Requirement already satisfied: jinja2 in /usr/local/lib/python3.8/dist-packages (from rpy2==3.0.0) (2.11.3)\n",
            "Requirement already satisfied: simplegeneric in /usr/local/lib/python3.8/dist-packages (from rpy2==3.0.0) (0.8.1)\n",
            "Requirement already satisfied: pytest in /usr/local/lib/python3.8/dist-packages (from rpy2==3.0.0) (3.6.4)\n",
            "Requirement already satisfied: pycparser in /usr/local/lib/python3.8/dist-packages (from cffi>=1.0.0->rpy2==3.0.0) (2.21)\n",
            "Requirement already satisfied: MarkupSafe>=0.23 in /usr/local/lib/python3.8/dist-packages (from jinja2->rpy2==3.0.0) (2.0.1)\n",
            "Requirement already satisfied: six>=1.10.0 in /usr/local/lib/python3.8/dist-packages (from pytest->rpy2==3.0.0) (1.15.0)\n",
            "Requirement already satisfied: setuptools in /usr/local/lib/python3.8/dist-packages (from pytest->rpy2==3.0.0) (57.4.0)\n",
            "Requirement already satisfied: py>=1.5.0 in /usr/local/lib/python3.8/dist-packages (from pytest->rpy2==3.0.0) (1.11.0)\n",
            "Requirement already satisfied: more-itertools>=4.0.0 in /usr/local/lib/python3.8/dist-packages (from pytest->rpy2==3.0.0) (9.0.0)\n",
            "Requirement already satisfied: atomicwrites>=1.0 in /usr/local/lib/python3.8/dist-packages (from pytest->rpy2==3.0.0) (1.4.1)\n",
            "Requirement already satisfied: attrs>=17.4.0 in /usr/local/lib/python3.8/dist-packages (from pytest->rpy2==3.0.0) (22.1.0)\n",
            "Requirement already satisfied: pluggy<0.8,>=0.5 in /usr/local/lib/python3.8/dist-packages (from pytest->rpy2==3.0.0) (0.7.1)\n",
            "Installing collected packages: rpy2\n",
            "Successfully installed rpy2-3.0.0\n"
          ]
        },
        {
          "output_type": "display_data",
          "data": {
            "application/vnd.colab-display-data+json": {
              "pip_warning": {
                "packages": [
                  "_rinterface_cffi",
                  "rpy2"
                ]
              }
            }
          },
          "metadata": {}
        },
        {
          "output_type": "stream",
          "name": "stdout",
          "text": [
            "The rpy2.ipython extension is already loaded. To reload it, use:\n",
            "  %reload_ext rpy2.ipython\n"
          ]
        }
      ]
    },
    {
      "cell_type": "code",
      "source": [
        "%%R\n",
        "# R program to add two numbers\n",
        "numb1 <- 8\n",
        "numb2 <- 4\n",
        " \n",
        "# Adding two numbers\n",
        "sum <- numb1 + numb2\n",
        " \n",
        "print(paste('The sum is ', sum))"
      ],
      "metadata": {
        "colab": {
          "base_uri": "https://localhost:8080/",
          "height": 34
        },
        "id": "HdBUUPO23yoK",
        "outputId": "910ba8eb-fac1-468d-af75-f358ee4ba2e4"
      },
      "execution_count": 15,
      "outputs": [
        {
          "output_type": "display_data",
          "data": {
            "text/plain": [
              "[1] \"The sum is  12\"\n"
            ]
          },
          "metadata": {}
        }
      ]
    },
    {
      "cell_type": "code",
      "source": [
        "# With user input\n",
        "fn= input(\"Enter  Your First Name \")\n",
        "ln= input(\"Enter Your last Name \")\n",
        "\n",
        " \n",
        "# Printing the result\n",
        "print(\"your full name is \"+ fn+\" \"+ln)"
      ],
      "metadata": {
        "id": "r5ZrHIKjLPxE",
        "outputId": "a4a8db33-e119-4b11-b53b-0c9a188bfb34",
        "colab": {
          "base_uri": "https://localhost:8080/"
        }
      },
      "execution_count": 23,
      "outputs": [
        {
          "output_type": "stream",
          "name": "stdout",
          "text": [
            "Enter  Your First Name Hulisi\n",
            "Enter Your last Name Ogut\n",
            "your full name is Hulisi Ogut\n"
          ]
        }
      ]
    },
    {
      "cell_type": "code",
      "source": [
        "a=2\n",
        "b=2.0\n",
        "c='2'\n",
        "print(type(a))\n",
        "print(type(b))\n",
        "print(type(c))"
      ],
      "metadata": {
        "colab": {
          "base_uri": "https://localhost:8080/"
        },
        "id": "cnvY6_Lx5Xfw",
        "outputId": "4678aa75-53ab-44fe-c379-c635236f74b6"
      },
      "execution_count": 9,
      "outputs": [
        {
          "output_type": "stream",
          "name": "stdout",
          "text": [
            "<class 'int'>\n",
            "<class 'float'>\n",
            "<class 'str'>\n"
          ]
        }
      ]
    },
    {
      "cell_type": "code",
      "source": [
        "d= int (c)\n",
        "print(d)\n",
        "print(type(d))\n",
        "\n",
        "e=float (a)\n",
        "print(e)\n",
        "print(type(e))"
      ],
      "metadata": {
        "colab": {
          "base_uri": "https://localhost:8080/"
        },
        "id": "2GtH0IC_5yRk",
        "outputId": "adf699ea-c18c-4af8-e674-7b0981282b51"
      },
      "execution_count": 10,
      "outputs": [
        {
          "output_type": "stream",
          "name": "stdout",
          "text": [
            "2\n",
            "<class 'int'>\n",
            "2.0\n",
            "<class 'float'>\n"
          ]
        }
      ]
    },
    {
      "cell_type": "code",
      "source": [
        "fn= input(\"Enter  First Number \")\n",
        "sn= input(\"Enter Second Number \")\n",
        "\n",
        "\n",
        "#Convert these number to float as these numbers are string\n",
        "fn1= float (fn)\n",
        "sn1= float (sn)\n",
        "\n",
        "sum = fn1 + sn1\n",
        " \n",
        "# Printing the result\n",
        "#print(\"The sum is\", sum)\n",
        "print(type(sn))"
      ],
      "metadata": {
        "id": "tcTWPRHpRFdQ",
        "outputId": "48371ca4-94c9-42bb-a637-0361f010ad8a",
        "colab": {
          "base_uri": "https://localhost:8080/"
        }
      },
      "execution_count": 26,
      "outputs": [
        {
          "output_type": "stream",
          "name": "stdout",
          "text": [
            "Enter  First Number 12\n",
            "Enter Second Number 2\n",
            "<class 'str'>\n"
          ]
        }
      ]
    },
    {
      "cell_type": "markdown",
      "source": [
        "![image.png](data:image/png;base64,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)"
      ],
      "metadata": {
        "id": "DIMvqxor7ssS"
      }
    },
    {
      "cell_type": "code",
      "source": [
        "a=4\n",
        "b=4\n",
        "print(a==b)\n",
        "print(a!=b)\n",
        "print(a>b)\n",
        "print(a<b)\n",
        "print(a>=b)\n",
        "print(a<=b)"
      ],
      "metadata": {
        "colab": {
          "base_uri": "https://localhost:8080/"
        },
        "id": "WqT3Ii6F8fVC",
        "outputId": "fd010d18-336d-4fd5-8470-218de1b44d29"
      },
      "execution_count": 28,
      "outputs": [
        {
          "output_type": "stream",
          "name": "stdout",
          "text": [
            "True\n",
            "False\n",
            "False\n",
            "False\n",
            "True\n",
            "True\n"
          ]
        }
      ]
    },
    {
      "cell_type": "markdown",
      "source": [
        "![image.png](data:image/png;base64,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)"
      ],
      "metadata": {
        "id": "otBrOQ7r_Utg"
      }
    },
    {
      "cell_type": "code",
      "source": [
        "a=5\n",
        "b=2\n",
        "print(a+b)\n",
        "print(a-b)\n",
        "print(a*b)\n",
        "print(a/b)\n",
        "print(a%b)\n",
        "print(a**b)\n",
        "print(a//b)"
      ],
      "metadata": {
        "colab": {
          "base_uri": "https://localhost:8080/"
        },
        "id": "Hw586dSg_Y5_",
        "outputId": "82e6ff6a-5c9e-4ebe-cba3-7d794a266778"
      },
      "execution_count": 12,
      "outputs": [
        {
          "output_type": "stream",
          "name": "stdout",
          "text": [
            "7\n",
            "3\n",
            "10\n",
            "2.5\n",
            "1\n",
            "25\n",
            "2\n"
          ]
        }
      ]
    },
    {
      "cell_type": "markdown",
      "source": [
        "## If Statement"
      ],
      "metadata": {
        "id": "ey9eGrurASOU"
      }
    },
    {
      "cell_type": "code",
      "source": [
        "a=-3\n",
        "if(a>0):\n",
        "  print(\"This is positive number\")"
      ],
      "metadata": {
        "id": "x2KxkqAKLOa-"
      },
      "execution_count": 10,
      "outputs": []
    },
    {
      "cell_type": "code",
      "source": [
        "a=-3\n",
        "if(a>0):\n",
        "  print(\"This is positive number\")\n",
        "else:\n",
        "  print(\"This is non-positive number\")"
      ],
      "metadata": {
        "id": "mTQFvVcQLo4_",
        "outputId": "aee899ee-1e32-4faf-c743-03651e39f7d2",
        "colab": {
          "base_uri": "https://localhost:8080/"
        }
      },
      "execution_count": 11,
      "outputs": [
        {
          "output_type": "stream",
          "name": "stdout",
          "text": [
            "This is non-positive number\n"
          ]
        }
      ]
    },
    {
      "cell_type": "code",
      "source": [
        "#LIne comment starts with #\n",
        "#<More than 1 line comment starts with '''\n",
        "#Lets differentiate positive, negative number and zero \n",
        "a=-3\n",
        "if(a>0):\n",
        "  print(\"positive number\")\n",
        "if(a==0):\n",
        "  print(\"zero\")\n",
        "else:\n",
        "  print(\"negative number\")\n",
        " \n"
      ],
      "metadata": {
        "colab": {
          "base_uri": "https://localhost:8080/"
        },
        "id": "Xzd0MGXsL5CK",
        "outputId": "87bd1a67-98b0-431e-e37d-fc18d23b124d"
      },
      "execution_count": null,
      "outputs": [
        {
          "output_type": "stream",
          "name": "stdout",
          "text": [
            "negative number\n"
          ]
        }
      ]
    },
    {
      "cell_type": "code",
      "source": [
        "#List\n",
        "city=['Miami','Boston','Dallas']\n"
      ],
      "metadata": {
        "id": "lE2kLGepRGqo"
      },
      "execution_count": 12,
      "outputs": []
    },
    {
      "cell_type": "code",
      "source": [
        "#Print the length of city list\n",
        "len(city)"
      ],
      "metadata": {
        "id": "9RVEcwysaSZv",
        "colab": {
          "base_uri": "https://localhost:8080/"
        },
        "outputId": "35c67a50-1dc1-42bf-ec71-21a75c639ed3"
      },
      "execution_count": 13,
      "outputs": [
        {
          "output_type": "execute_result",
          "data": {
            "text/plain": [
              "3"
            ]
          },
          "metadata": {},
          "execution_count": 13
        }
      ]
    },
    {
      "cell_type": "code",
      "source": [
        "#print the 1st(Miami) and 2nd item (Boston) in the city list and last item.\n",
        "print(city[0])\n",
        "print(city[1])\n",
        "print(city[-1])"
      ],
      "metadata": {
        "colab": {
          "base_uri": "https://localhost:8080/"
        },
        "id": "zdB6Q3rhdOHt",
        "outputId": "d059296e-8120-4635-a142-7232197d64d1"
      },
      "execution_count": 14,
      "outputs": [
        {
          "output_type": "stream",
          "name": "stdout",
          "text": [
            "Miami\n",
            "Boston\n",
            "Dallas\n"
          ]
        }
      ]
    },
    {
      "cell_type": "code",
      "source": [
        "#print 0 to 4 using for loop\n",
        "for i in range(0,5):\n",
        "    print(i)"
      ],
      "metadata": {
        "colab": {
          "base_uri": "https://localhost:8080/"
        },
        "id": "grK-h8reSULr",
        "outputId": "295652ee-59e7-4c50-9735-bd28e304e6c9"
      },
      "execution_count": 15,
      "outputs": [
        {
          "output_type": "stream",
          "name": "stdout",
          "text": [
            "0\n",
            "1\n",
            "2\n",
            "3\n",
            "4\n"
          ]
        }
      ]
    },
    {
      "cell_type": "code",
      "source": [
        "for i in range(5,0,-2):\n",
        "    print(i)"
      ],
      "metadata": {
        "colab": {
          "base_uri": "https://localhost:8080/"
        },
        "id": "bl0HEuArU1e_",
        "outputId": "f437b974-5502-4aa9-a686-1e8b5b57a4ce"
      },
      "execution_count": 16,
      "outputs": [
        {
          "output_type": "stream",
          "name": "stdout",
          "text": [
            "5\n",
            "3\n",
            "1\n"
          ]
        }
      ]
    },
    {
      "cell_type": "code",
      "source": [
        "for c in city:\n",
        "   print(c)"
      ],
      "metadata": {
        "colab": {
          "base_uri": "https://localhost:8080/"
        },
        "id": "DT-XegooVszX",
        "outputId": "3ce34409-e86f-47d7-946c-ba0824839bad"
      },
      "execution_count": 17,
      "outputs": [
        {
          "output_type": "stream",
          "name": "stdout",
          "text": [
            "Miami\n",
            "Boston\n",
            "Dallas\n"
          ]
        }
      ]
    },
    {
      "cell_type": "code",
      "source": [
        "for i in range(0,len(city)):\n",
        "   print(city[i])"
      ],
      "metadata": {
        "id": "MlV4oF7DWLLq",
        "outputId": "5c8f950c-7371-4993-d67c-7d3796305b8c",
        "colab": {
          "base_uri": "https://localhost:8080/"
        }
      },
      "execution_count": 18,
      "outputs": [
        {
          "output_type": "stream",
          "name": "stdout",
          "text": [
            "Miami\n",
            "Boston\n",
            "Dallas\n"
          ]
        }
      ]
    },
    {
      "cell_type": "code",
      "source": [
        "i=5\n",
        "while(i>0):\n",
        "  print(i)\n",
        "  i=i-2"
      ],
      "metadata": {
        "colab": {
          "base_uri": "https://localhost:8080/"
        },
        "id": "_gQr_0aLWl6d",
        "outputId": "bd580566-9904-48f8-dd1e-847ea0799376"
      },
      "execution_count": 19,
      "outputs": [
        {
          "output_type": "stream",
          "name": "stdout",
          "text": [
            "5\n",
            "3\n",
            "1\n"
          ]
        }
      ]
    },
    {
      "cell_type": "code",
      "source": [
        "def addition(a,b):\n",
        "   return a+b"
      ],
      "metadata": {
        "id": "1je3SiNeLuNs"
      },
      "execution_count": 20,
      "outputs": []
    },
    {
      "cell_type": "code",
      "source": [
        "addition(10,3)"
      ],
      "metadata": {
        "colab": {
          "base_uri": "https://localhost:8080/"
        },
        "id": "BIXxlKrlL8qg",
        "outputId": "be556b81-423e-4bec-d39b-23cbc4c0ad89"
      },
      "execution_count": 21,
      "outputs": [
        {
          "output_type": "execute_result",
          "data": {
            "text/plain": [
              "13"
            ]
          },
          "metadata": {},
          "execution_count": 21
        }
      ]
    },
    {
      "cell_type": "code",
      "source": [
        "import math\n",
        "math.pi"
      ],
      "metadata": {
        "colab": {
          "base_uri": "https://localhost:8080/"
        },
        "id": "itCDGMjIMFHM",
        "outputId": "d9e5dfc9-4e88-4e60-8d78-a2e9fdb66e3d"
      },
      "execution_count": 22,
      "outputs": [
        {
          "output_type": "execute_result",
          "data": {
            "text/plain": [
              "3.141592653589793"
            ]
          },
          "metadata": {},
          "execution_count": 22
        }
      ]
    },
    {
      "cell_type": "code",
      "source": [
        "def circle(r):\n",
        "  return 2*math.pi*r, math.pi*r*r\n",
        "a,b=circle(10)\n",
        "print(a)\n",
        "print(b)"
      ],
      "metadata": {
        "colab": {
          "base_uri": "https://localhost:8080/"
        },
        "id": "2UgeavErMZc-",
        "outputId": "db46e80b-74e1-4cbc-e802-ee0841f6a7d0"
      },
      "execution_count": 23,
      "outputs": [
        {
          "output_type": "stream",
          "name": "stdout",
          "text": [
            "62.83185307179586\n",
            "314.1592653589793\n"
          ]
        }
      ]
    },
    {
      "cell_type": "code",
      "source": [
        "import pandas as pd\n",
        "import numpy as np\n",
        "ax=pd.read_excel(\"https://github.com/ogut77/University/blob/main/GlobalSuperstore.xls?raw=true\")\n",
        "ax"
      ],
      "metadata": {
        "colab": {
          "base_uri": "https://localhost:8080/",
          "height": 537
        },
        "id": "agga3KefXWYW",
        "outputId": "5e544c77-d3dd-4b2e-a180-9e4777c3b41b"
      },
      "execution_count": 24,
      "outputs": [
        {
          "output_type": "error",
          "ename": "ImportError",
          "evalue": "ignored",
          "traceback": [
            "\u001b[0;31m---------------------------------------------------------------------------\u001b[0m",
            "\u001b[0;31mImportError\u001b[0m                               Traceback (most recent call last)",
            "\u001b[0;32m<ipython-input-24-53c602c9d29b>\u001b[0m in \u001b[0;36m<module>\u001b[0;34m\u001b[0m\n\u001b[1;32m      1\u001b[0m \u001b[0;32mimport\u001b[0m \u001b[0mpandas\u001b[0m \u001b[0;32mas\u001b[0m \u001b[0mpd\u001b[0m\u001b[0;34m\u001b[0m\u001b[0;34m\u001b[0m\u001b[0m\n\u001b[1;32m      2\u001b[0m \u001b[0;32mimport\u001b[0m \u001b[0mnumpy\u001b[0m \u001b[0;32mas\u001b[0m \u001b[0mnp\u001b[0m\u001b[0;34m\u001b[0m\u001b[0;34m\u001b[0m\u001b[0m\n\u001b[0;32m----> 3\u001b[0;31m \u001b[0max\u001b[0m\u001b[0;34m=\u001b[0m\u001b[0mpd\u001b[0m\u001b[0;34m.\u001b[0m\u001b[0mread_excel\u001b[0m\u001b[0;34m(\u001b[0m\u001b[0;34m\"https://github.com/ogut77/University/blob/main/GlobalSuperstore.xls?raw=true\"\u001b[0m\u001b[0;34m)\u001b[0m\u001b[0;34m\u001b[0m\u001b[0;34m\u001b[0m\u001b[0m\n\u001b[0m\u001b[1;32m      4\u001b[0m \u001b[0max\u001b[0m\u001b[0;34m\u001b[0m\u001b[0;34m\u001b[0m\u001b[0m\n",
            "\u001b[0;32m/usr/local/lib/python3.8/dist-packages/pandas/util/_decorators.py\u001b[0m in \u001b[0;36mwrapper\u001b[0;34m(*args, **kwargs)\u001b[0m\n\u001b[1;32m    309\u001b[0m                     \u001b[0mstacklevel\u001b[0m\u001b[0;34m=\u001b[0m\u001b[0mstacklevel\u001b[0m\u001b[0;34m,\u001b[0m\u001b[0;34m\u001b[0m\u001b[0;34m\u001b[0m\u001b[0m\n\u001b[1;32m    310\u001b[0m                 )\n\u001b[0;32m--> 311\u001b[0;31m             \u001b[0;32mreturn\u001b[0m \u001b[0mfunc\u001b[0m\u001b[0;34m(\u001b[0m\u001b[0;34m*\u001b[0m\u001b[0margs\u001b[0m\u001b[0;34m,\u001b[0m \u001b[0;34m**\u001b[0m\u001b[0mkwargs\u001b[0m\u001b[0;34m)\u001b[0m\u001b[0;34m\u001b[0m\u001b[0;34m\u001b[0m\u001b[0m\n\u001b[0m\u001b[1;32m    312\u001b[0m \u001b[0;34m\u001b[0m\u001b[0m\n\u001b[1;32m    313\u001b[0m         \u001b[0;32mreturn\u001b[0m \u001b[0mwrapper\u001b[0m\u001b[0;34m\u001b[0m\u001b[0;34m\u001b[0m\u001b[0m\n",
            "\u001b[0;32m/usr/local/lib/python3.8/dist-packages/pandas/io/excel/_base.py\u001b[0m in \u001b[0;36mread_excel\u001b[0;34m(io, sheet_name, header, names, index_col, usecols, squeeze, dtype, engine, converters, true_values, false_values, skiprows, nrows, na_values, keep_default_na, na_filter, verbose, parse_dates, date_parser, thousands, comment, skipfooter, convert_float, mangle_dupe_cols, storage_options)\u001b[0m\n\u001b[1;32m    362\u001b[0m     \u001b[0;32mif\u001b[0m \u001b[0;32mnot\u001b[0m \u001b[0misinstance\u001b[0m\u001b[0;34m(\u001b[0m\u001b[0mio\u001b[0m\u001b[0;34m,\u001b[0m \u001b[0mExcelFile\u001b[0m\u001b[0;34m)\u001b[0m\u001b[0;34m:\u001b[0m\u001b[0;34m\u001b[0m\u001b[0;34m\u001b[0m\u001b[0m\n\u001b[1;32m    363\u001b[0m         \u001b[0mshould_close\u001b[0m \u001b[0;34m=\u001b[0m \u001b[0;32mTrue\u001b[0m\u001b[0;34m\u001b[0m\u001b[0;34m\u001b[0m\u001b[0m\n\u001b[0;32m--> 364\u001b[0;31m         \u001b[0mio\u001b[0m \u001b[0;34m=\u001b[0m \u001b[0mExcelFile\u001b[0m\u001b[0;34m(\u001b[0m\u001b[0mio\u001b[0m\u001b[0;34m,\u001b[0m \u001b[0mstorage_options\u001b[0m\u001b[0;34m=\u001b[0m\u001b[0mstorage_options\u001b[0m\u001b[0;34m,\u001b[0m \u001b[0mengine\u001b[0m\u001b[0;34m=\u001b[0m\u001b[0mengine\u001b[0m\u001b[0;34m)\u001b[0m\u001b[0;34m\u001b[0m\u001b[0;34m\u001b[0m\u001b[0m\n\u001b[0m\u001b[1;32m    365\u001b[0m     \u001b[0;32melif\u001b[0m \u001b[0mengine\u001b[0m \u001b[0;32mand\u001b[0m \u001b[0mengine\u001b[0m \u001b[0;34m!=\u001b[0m \u001b[0mio\u001b[0m\u001b[0;34m.\u001b[0m\u001b[0mengine\u001b[0m\u001b[0;34m:\u001b[0m\u001b[0;34m\u001b[0m\u001b[0;34m\u001b[0m\u001b[0m\n\u001b[1;32m    366\u001b[0m         raise ValueError(\n",
            "\u001b[0;32m/usr/local/lib/python3.8/dist-packages/pandas/io/excel/_base.py\u001b[0m in \u001b[0;36m__init__\u001b[0;34m(self, path_or_buffer, engine, storage_options)\u001b[0m\n\u001b[1;32m   1231\u001b[0m         \u001b[0mself\u001b[0m\u001b[0;34m.\u001b[0m\u001b[0mstorage_options\u001b[0m \u001b[0;34m=\u001b[0m \u001b[0mstorage_options\u001b[0m\u001b[0;34m\u001b[0m\u001b[0;34m\u001b[0m\u001b[0m\n\u001b[1;32m   1232\u001b[0m \u001b[0;34m\u001b[0m\u001b[0m\n\u001b[0;32m-> 1233\u001b[0;31m         \u001b[0mself\u001b[0m\u001b[0;34m.\u001b[0m\u001b[0m_reader\u001b[0m \u001b[0;34m=\u001b[0m \u001b[0mself\u001b[0m\u001b[0;34m.\u001b[0m\u001b[0m_engines\u001b[0m\u001b[0;34m[\u001b[0m\u001b[0mengine\u001b[0m\u001b[0;34m]\u001b[0m\u001b[0;34m(\u001b[0m\u001b[0mself\u001b[0m\u001b[0;34m.\u001b[0m\u001b[0m_io\u001b[0m\u001b[0;34m,\u001b[0m \u001b[0mstorage_options\u001b[0m\u001b[0;34m=\u001b[0m\u001b[0mstorage_options\u001b[0m\u001b[0;34m)\u001b[0m\u001b[0;34m\u001b[0m\u001b[0;34m\u001b[0m\u001b[0m\n\u001b[0m\u001b[1;32m   1234\u001b[0m \u001b[0;34m\u001b[0m\u001b[0m\n\u001b[1;32m   1235\u001b[0m     \u001b[0;32mdef\u001b[0m \u001b[0m__fspath__\u001b[0m\u001b[0;34m(\u001b[0m\u001b[0mself\u001b[0m\u001b[0;34m)\u001b[0m\u001b[0;34m:\u001b[0m\u001b[0;34m\u001b[0m\u001b[0;34m\u001b[0m\u001b[0m\n",
            "\u001b[0;32m/usr/local/lib/python3.8/dist-packages/pandas/io/excel/_xlrd.py\u001b[0m in \u001b[0;36m__init__\u001b[0;34m(self, filepath_or_buffer, storage_options)\u001b[0m\n\u001b[1;32m     22\u001b[0m         \"\"\"\n\u001b[1;32m     23\u001b[0m         \u001b[0merr_msg\u001b[0m \u001b[0;34m=\u001b[0m \u001b[0;34m\"Install xlrd >= 1.0.0 for Excel support\"\u001b[0m\u001b[0;34m\u001b[0m\u001b[0;34m\u001b[0m\u001b[0m\n\u001b[0;32m---> 24\u001b[0;31m         \u001b[0mimport_optional_dependency\u001b[0m\u001b[0;34m(\u001b[0m\u001b[0;34m\"xlrd\"\u001b[0m\u001b[0;34m,\u001b[0m \u001b[0mextra\u001b[0m\u001b[0;34m=\u001b[0m\u001b[0merr_msg\u001b[0m\u001b[0;34m)\u001b[0m\u001b[0;34m\u001b[0m\u001b[0;34m\u001b[0m\u001b[0m\n\u001b[0m\u001b[1;32m     25\u001b[0m         \u001b[0msuper\u001b[0m\u001b[0;34m(\u001b[0m\u001b[0;34m)\u001b[0m\u001b[0;34m.\u001b[0m\u001b[0m__init__\u001b[0m\u001b[0;34m(\u001b[0m\u001b[0mfilepath_or_buffer\u001b[0m\u001b[0;34m,\u001b[0m \u001b[0mstorage_options\u001b[0m\u001b[0;34m=\u001b[0m\u001b[0mstorage_options\u001b[0m\u001b[0;34m)\u001b[0m\u001b[0;34m\u001b[0m\u001b[0;34m\u001b[0m\u001b[0m\n\u001b[1;32m     26\u001b[0m \u001b[0;34m\u001b[0m\u001b[0m\n",
            "\u001b[0;32m/usr/local/lib/python3.8/dist-packages/pandas/compat/_optional.py\u001b[0m in \u001b[0;36mimport_optional_dependency\u001b[0;34m(name, extra, errors, min_version)\u001b[0m\n\u001b[1;32m    139\u001b[0m                 \u001b[0;32mreturn\u001b[0m \u001b[0;32mNone\u001b[0m\u001b[0;34m\u001b[0m\u001b[0;34m\u001b[0m\u001b[0m\n\u001b[1;32m    140\u001b[0m             \u001b[0;32melif\u001b[0m \u001b[0merrors\u001b[0m \u001b[0;34m==\u001b[0m \u001b[0;34m\"raise\"\u001b[0m\u001b[0;34m:\u001b[0m\u001b[0;34m\u001b[0m\u001b[0;34m\u001b[0m\u001b[0m\n\u001b[0;32m--> 141\u001b[0;31m                 \u001b[0;32mraise\u001b[0m \u001b[0mImportError\u001b[0m\u001b[0;34m(\u001b[0m\u001b[0mmsg\u001b[0m\u001b[0;34m)\u001b[0m\u001b[0;34m\u001b[0m\u001b[0;34m\u001b[0m\u001b[0m\n\u001b[0m\u001b[1;32m    142\u001b[0m \u001b[0;34m\u001b[0m\u001b[0m\n\u001b[1;32m    143\u001b[0m     \u001b[0;32mreturn\u001b[0m \u001b[0mmodule\u001b[0m\u001b[0;34m\u001b[0m\u001b[0;34m\u001b[0m\u001b[0m\n",
            "\u001b[0;31mImportError\u001b[0m: Pandas requires version '1.2.0' or newer of 'xlrd' (version '1.1.0' currently installed).",
            "",
            "\u001b[0;31m---------------------------------------------------------------------------\u001b[0;32m\nNOTE: If your import is failing due to a missing package, you can\nmanually install dependencies using either !pip or !apt.\n\nTo view examples of installing some common dependencies, click the\n\"Open Examples\" button below.\n\u001b[0;31m---------------------------------------------------------------------------\u001b[0m\n"
          ],
          "errorDetails": {
            "actions": [
              {
                "action": "open_url",
                "actionText": "Open Examples",
                "url": "/notebooks/snippets/importing_libraries.ipynb"
              }
            ]
          }
        }
      ]
    },
    {
      "cell_type": "code",
      "source": [
        "ax.head()"
      ],
      "metadata": {
        "colab": {
          "base_uri": "https://localhost:8080/",
          "height": 166
        },
        "id": "_q4GGjLlYmSI",
        "outputId": "5bf518e1-224f-4bbe-fc66-9a71d50987a2"
      },
      "execution_count": 25,
      "outputs": [
        {
          "output_type": "error",
          "ename": "NameError",
          "evalue": "ignored",
          "traceback": [
            "\u001b[0;31m---------------------------------------------------------------------------\u001b[0m",
            "\u001b[0;31mNameError\u001b[0m                                 Traceback (most recent call last)",
            "\u001b[0;32m<ipython-input-25-fa738495080d>\u001b[0m in \u001b[0;36m<module>\u001b[0;34m\u001b[0m\n\u001b[0;32m----> 1\u001b[0;31m \u001b[0max\u001b[0m\u001b[0;34m.\u001b[0m\u001b[0mhead\u001b[0m\u001b[0;34m(\u001b[0m\u001b[0;34m)\u001b[0m\u001b[0;34m\u001b[0m\u001b[0;34m\u001b[0m\u001b[0m\n\u001b[0m",
            "\u001b[0;31mNameError\u001b[0m: name 'ax' is not defined"
          ]
        }
      ]
    },
    {
      "cell_type": "code",
      "source": [
        "ax.tail()\n",
        "ax.shape"
      ],
      "metadata": {
        "id": "8M0dCr2LYqop"
      },
      "execution_count": null,
      "outputs": []
    }
  ]
}
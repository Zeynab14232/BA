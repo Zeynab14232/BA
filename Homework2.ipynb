{
  "nbformat": 4,
  "nbformat_minor": 0,
  "metadata": {
    "colab": {
      "provenance": [],
      "authorship_tag": "ABX9TyNPo9tZRORowp2WH9EAr2ni",
      "include_colab_link": true
    },
    "kernelspec": {
      "name": "python3",
      "display_name": "Python 3"
    },
    "language_info": {
      "name": "python"
    }
  },
  "cells": [
    {
      "cell_type": "markdown",
      "metadata": {
        "id": "view-in-github",
        "colab_type": "text"
      },
      "source": [
        "<a href=\"https://colab.research.google.com/github/ogut77/BA/blob/main/Homework2.ipynb\" target=\"_parent\"><img src=\"https://colab.research.google.com/assets/colab-badge.svg\" alt=\"Open In Colab\"/></a>"
      ]
    },
    {
      "cell_type": "code",
      "execution_count": null,
      "metadata": {
        "id": "ZcxUtyxGMAHb"
      },
      "outputs": [],
      "source": [
        "!pip install pandasql\n",
        "import pandas as pd\n",
        "import pandasql as psql\n",
        "Customer=pd.read_excel(\"https://github.com/ogut77/BA/blob/main/Customer.xlsx?raw=true\")\n",
        "Employee=pd.read_excel(\"https://github.com/ogut77/BA/blob/main/Employee.xlsx?raw=true\")\n",
        "Employee_1=pd.read_excel(\"https://github.com/ogut77/BA/blob/main/Employee.xlsx?raw=true\")\n",
        "Product=pd.read_excel(\"https://github.com/ogut77/BA/blob/main/Product.xlsx?raw=true\")\n",
        "OrdLine=pd.read_excel(\"https://github.com/ogut77/BA/blob/main/OrdLine.xlsx?raw=true\")\n",
        "OrderTbl=pd.read_excel(\"https://github.com/ogut77/BA/blob/main/OrderTbl.xlsx?raw=true\")"
      ]
    },
    {
      "cell_type": "code",
      "source": [
        "#1-List Employee first name and last name from Employee Table\n",
        "txt='''\n",
        "Select *\n",
        "From Employee\n",
        "'''\n",
        "Q1 =  psql.sqldf(txt)\n",
        "Q1"
      ],
      "metadata": {
        "id": "Oz0rIWh4QdvH"
      },
      "execution_count": null,
      "outputs": []
    },
    {
      "cell_type": "code",
      "source": [
        "#2-List Customer first name and last name from Customer Table where Customer city is Seattle and  or \n",
        "#Customer State is 'CO'\n",
        "txt='''\n",
        "Select *\n",
        "From Customer\n",
        "'''\n",
        "Q2 =  psql.sqldf(txt)\n",
        "Q2"
      ],
      "metadata": {
        "id": "J6yD5Qt8Q4qK"
      },
      "execution_count": null,
      "outputs": []
    },
    {
      "cell_type": "code",
      "source": [
        "#3-How many Customer are there in Customer Table where Customer Balance is 0.\n",
        "txt='''\n",
        "Select *\n",
        "From Customer\n",
        "'''\n",
        "Q3 =  psql.sqldf(txt)\n",
        "Q3"
      ],
      "metadata": {
        "id": "dAalU_NRStdO"
      },
      "execution_count": null,
      "outputs": []
    },
    {
      "cell_type": "code",
      "source": [
        "#4-How many different product are there in each orders ?\n",
        "txt='''\n",
        "Select *\n",
        "From Customer\n",
        "'''\n",
        "Q4 =  psql.sqldf(txt)\n",
        "Q4"
      ],
      "metadata": {
        "id": "VVgGWLuOVElw"
      },
      "execution_count": null,
      "outputs": []
    },
    {
      "cell_type": "code",
      "source": [
        "#4-How many different product item  in each order?.\n",
        "txt='''\n",
        "Select *\n",
        "From Customer\n",
        "'''\n",
        "Q4 =  psql.sqldf(txt)\n",
        "Q4"
      ],
      "metadata": {
        "id": "5Kq8FGE-WNog"
      },
      "execution_count": null,
      "outputs": []
    },
    {
      "cell_type": "code",
      "source": [
        "#5-What is the minimum, maximum and average order for each product?\n",
        "txt='''\n",
        "Select *\n",
        "From Customer\n",
        "'''\n",
        "Q5 =  psql.sqldf(txt)\n",
        "Q5"
      ],
      "metadata": {
        "id": "FRtlzLnxZArQ"
      },
      "execution_count": null,
      "outputs": []
    },
    {
      "cell_type": "code",
      "source": [
        "#6-List orderno who have more than 1 product item\n",
        "txt='''\n",
        "Select *\n",
        "From Customer\n",
        "'''\n",
        "Q6 =  psql.sqldf(txt)\n",
        "Q6"
      ],
      "metadata": {
        "id": "r96VlDo_V7eH"
      },
      "execution_count": null,
      "outputs": []
    },
    {
      "cell_type": "code",
      "source": [
        "#7-List orderno who have more than 1 product item\n",
        "txt='''\n",
        "Select *\n",
        "From Customer\n",
        "'''\n",
        "Q7 =  psql.sqldf(txt)\n",
        "Q7"
      ],
      "metadata": {
        "id": "E2bFCoqlWd3V"
      },
      "execution_count": null,
      "outputs": []
    },
    {
      "cell_type": "code",
      "source": [
        "#8-How many orders are given in January?\n",
        "txt='''\n",
        "Select *\n",
        "From Customer\n",
        "'''\n",
        "Q8 =  psql.sqldf(txt)\n",
        "Q8"
      ],
      "metadata": {
        "id": "LoRBTy4XXmMS"
      },
      "execution_count": null,
      "outputs": []
    },
    {
      "cell_type": "code",
      "source": [
        "#9-How many orders are given each month?\n",
        "txt='''\n",
        "Select *\n",
        "From Customer\n",
        "'''\n",
        "Q9 =  psql.sqldf(txt)\n",
        "Q9"
      ],
      "metadata": {
        "id": "96j1zmmTX6Qn"
      },
      "execution_count": null,
      "outputs": []
    },
    {
      "cell_type": "code",
      "source": [
        "9. List the order number, order date, and customer number of orders placed after\n",
        "January 23, 2017, shipped to Washington recipients.\n",
        "txt='''\n",
        "Select *\n",
        "From OrderTbl,Employee\n",
        "Where OrderTbl.CustNo=Customer.CustNo\n",
        "'''\n",
        "Q9=  psql.sqldf(txt)\n",
        "Q9"
      ],
      "metadata": {
        "id": "A39f01HjMhnw"
      },
      "execution_count": null,
      "outputs": []
    },
    {
      "cell_type": "code",
      "source": [
        "11. List the order number, order date, customer number, and customer name (first\n",
        "and last) of orders placed in January 2017 sent to Colorado recipients.\n"
      ],
      "metadata": {
        "id": "G5Op25_9M06I"
      },
      "execution_count": null,
      "outputs": []
    },
    {
      "cell_type": "code",
      "source": [
        "20. List the average balance and number of customers by city. Only include\n",
        "customers residing in Washington State (WA)."
      ],
      "metadata": {
        "id": "W3ujMRaTNilu"
      },
      "execution_count": null,
      "outputs": []
    },
    {
      "cell_type": "code",
      "source": [
        "20. List the average balance and number of customers by city. Only include\n",
        "customers residing in Washington State (WA). Eliminate cities in the result with\n",
        "less than two customers."
      ],
      "metadata": {
        "id": "_hSbSr89NQ9r"
      },
      "execution_count": null,
      "outputs": []
    }
  ]
}
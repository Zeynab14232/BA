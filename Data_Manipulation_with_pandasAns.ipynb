{
  "cells": [
    {
      "cell_type": "markdown",
      "metadata": {
        "id": "view-in-github",
        "colab_type": "text"
      },
      "source": [
        "<a href=\"https://colab.research.google.com/github/ogut77/BA/blob/main/Data_Manipulation_with_pandasAns.ipynb\" target=\"_parent\"><img src=\"https://colab.research.google.com/assets/colab-badge.svg\" alt=\"Open In Colab\"/></a>"
      ]
    },
    {
      "cell_type": "markdown",
      "metadata": {
        "id": "VrR9O1csn8cw"
      },
      "source": [
        "# Transforming DataFrames\n",
        "\n",
        "<p class=\"chapter__description\">\n",
        "    Let’s master the pandas basics. Learn how to inspect DataFrames and perform fundamental manipulations, including sorting rows, subsetting, and adding new columns.\n",
        "  </p>\n",
        "  \n"
      ]
    },
    {
      "cell_type": "markdown",
      "source": [
        "## Introducing DataFrames\n",
        "\n",
        "\n",
        "\n"
      ],
      "metadata": {
        "id": "rDTYvQgZoR1R"
      }
    },
    {
      "cell_type": "markdown",
      "source": [
        "### Inspecting a DataFrame\n",
        "\n",
        "\n",
        "<div class>\n",
        "<p>When you get a new DataFrame to work with, the first thing you need to do is explore it and see what it contains. There are several useful methods and attributes for this.</p>\n",
        "<ul>\n",
        "<li>\n",
        "<code>.head()</code> returns the first few rows (the “head” of the DataFrame).</li>\n",
        "<li>\n",
        "<code>.info()</code> shows information on each of the columns, such as the data type and number of missing values.</li>\n",
        "<li>\n",
        "<code>.shape</code> returns the number of rows and columns of the DataFrame.</li>\n",
        "<li>\n",
        "<code>.describe()</code> calculates a few summary statistics for each column.</li>\n",
        "</ul>\n",
        "<p><code>homelessness</code> is a DataFrame containing estimates of homelessness in each U.S. state in 2018. The <code>individual</code> column is the number of homeless individuals not part of a family with children. The <code>family_members</code> column is the number of homeless individuals part of a family with children. The <code>state_pop</code> column is the state's total population.</p>\n",
        "<p><code>pandas</code> is imported for you.</p>\n",
        "</div>\n"
      ],
      "metadata": {
        "id": "h_Q4IhgxoS3n"
      }
    },
    {
      "cell_type": "code",
      "execution_count": 53,
      "metadata": {
        "id": "Jquq1dILn8cx"
      },
      "outputs": [],
      "source": [
        "\n",
        "import pandas as pd\n",
        "hs = pd.read_csv('https://raw.githubusercontent.com/ogut77/BA/main/homelessness.csv',index_col=0)\n"
      ]
    },
    {
      "cell_type": "markdown",
      "metadata": {
        "id": "RiajwGbZn8cy"
      },
      "source": [
        "\n",
        "<li>Print the head of the <code>homelessness</code> DataFrame.</li>\n"
      ]
    },
    {
      "cell_type": "code",
      "execution_count": 54,
      "metadata": {
        "colab": {
          "base_uri": "https://localhost:8080/",
          "height": 206
        },
        "id": "EMoIIutfn8cy",
        "outputId": "48448aa0-f0cb-4332-983d-21002cf62df6"
      },
      "outputs": [
        {
          "output_type": "execute_result",
          "data": {
            "text/plain": [
              "               region       state  individuals  family_members  state_pop\n",
              "0  East South Central     Alabama       2570.0           864.0    4887681\n",
              "1             Pacific      Alaska       1434.0           582.0     735139\n",
              "2            Mountain     Arizona       7259.0          2606.0    7158024\n",
              "3  West South Central    Arkansas       2280.0           432.0    3009733\n",
              "4             Pacific  California     109008.0         20964.0   39461588"
            ],
            "text/html": [
              "\n",
              "  <div id=\"df-36387e8c-ae69-4853-9b75-514218656a7b\">\n",
              "    <div class=\"colab-df-container\">\n",
              "      <div>\n",
              "<style scoped>\n",
              "    .dataframe tbody tr th:only-of-type {\n",
              "        vertical-align: middle;\n",
              "    }\n",
              "\n",
              "    .dataframe tbody tr th {\n",
              "        vertical-align: top;\n",
              "    }\n",
              "\n",
              "    .dataframe thead th {\n",
              "        text-align: right;\n",
              "    }\n",
              "</style>\n",
              "<table border=\"1\" class=\"dataframe\">\n",
              "  <thead>\n",
              "    <tr style=\"text-align: right;\">\n",
              "      <th></th>\n",
              "      <th>region</th>\n",
              "      <th>state</th>\n",
              "      <th>individuals</th>\n",
              "      <th>family_members</th>\n",
              "      <th>state_pop</th>\n",
              "    </tr>\n",
              "  </thead>\n",
              "  <tbody>\n",
              "    <tr>\n",
              "      <th>0</th>\n",
              "      <td>East South Central</td>\n",
              "      <td>Alabama</td>\n",
              "      <td>2570.0</td>\n",
              "      <td>864.0</td>\n",
              "      <td>4887681</td>\n",
              "    </tr>\n",
              "    <tr>\n",
              "      <th>1</th>\n",
              "      <td>Pacific</td>\n",
              "      <td>Alaska</td>\n",
              "      <td>1434.0</td>\n",
              "      <td>582.0</td>\n",
              "      <td>735139</td>\n",
              "    </tr>\n",
              "    <tr>\n",
              "      <th>2</th>\n",
              "      <td>Mountain</td>\n",
              "      <td>Arizona</td>\n",
              "      <td>7259.0</td>\n",
              "      <td>2606.0</td>\n",
              "      <td>7158024</td>\n",
              "    </tr>\n",
              "    <tr>\n",
              "      <th>3</th>\n",
              "      <td>West South Central</td>\n",
              "      <td>Arkansas</td>\n",
              "      <td>2280.0</td>\n",
              "      <td>432.0</td>\n",
              "      <td>3009733</td>\n",
              "    </tr>\n",
              "    <tr>\n",
              "      <th>4</th>\n",
              "      <td>Pacific</td>\n",
              "      <td>California</td>\n",
              "      <td>109008.0</td>\n",
              "      <td>20964.0</td>\n",
              "      <td>39461588</td>\n",
              "    </tr>\n",
              "  </tbody>\n",
              "</table>\n",
              "</div>\n",
              "      <button class=\"colab-df-convert\" onclick=\"convertToInteractive('df-36387e8c-ae69-4853-9b75-514218656a7b')\"\n",
              "              title=\"Convert this dataframe to an interactive table.\"\n",
              "              style=\"display:none;\">\n",
              "        \n",
              "  <svg xmlns=\"http://www.w3.org/2000/svg\" height=\"24px\"viewBox=\"0 0 24 24\"\n",
              "       width=\"24px\">\n",
              "    <path d=\"M0 0h24v24H0V0z\" fill=\"none\"/>\n",
              "    <path d=\"M18.56 5.44l.94 2.06.94-2.06 2.06-.94-2.06-.94-.94-2.06-.94 2.06-2.06.94zm-11 1L8.5 8.5l.94-2.06 2.06-.94-2.06-.94L8.5 2.5l-.94 2.06-2.06.94zm10 10l.94 2.06.94-2.06 2.06-.94-2.06-.94-.94-2.06-.94 2.06-2.06.94z\"/><path d=\"M17.41 7.96l-1.37-1.37c-.4-.4-.92-.59-1.43-.59-.52 0-1.04.2-1.43.59L10.3 9.45l-7.72 7.72c-.78.78-.78 2.05 0 2.83L4 21.41c.39.39.9.59 1.41.59.51 0 1.02-.2 1.41-.59l7.78-7.78 2.81-2.81c.8-.78.8-2.07 0-2.86zM5.41 20L4 18.59l7.72-7.72 1.47 1.35L5.41 20z\"/>\n",
              "  </svg>\n",
              "      </button>\n",
              "      \n",
              "  <style>\n",
              "    .colab-df-container {\n",
              "      display:flex;\n",
              "      flex-wrap:wrap;\n",
              "      gap: 12px;\n",
              "    }\n",
              "\n",
              "    .colab-df-convert {\n",
              "      background-color: #E8F0FE;\n",
              "      border: none;\n",
              "      border-radius: 50%;\n",
              "      cursor: pointer;\n",
              "      display: none;\n",
              "      fill: #1967D2;\n",
              "      height: 32px;\n",
              "      padding: 0 0 0 0;\n",
              "      width: 32px;\n",
              "    }\n",
              "\n",
              "    .colab-df-convert:hover {\n",
              "      background-color: #E2EBFA;\n",
              "      box-shadow: 0px 1px 2px rgba(60, 64, 67, 0.3), 0px 1px 3px 1px rgba(60, 64, 67, 0.15);\n",
              "      fill: #174EA6;\n",
              "    }\n",
              "\n",
              "    [theme=dark] .colab-df-convert {\n",
              "      background-color: #3B4455;\n",
              "      fill: #D2E3FC;\n",
              "    }\n",
              "\n",
              "    [theme=dark] .colab-df-convert:hover {\n",
              "      background-color: #434B5C;\n",
              "      box-shadow: 0px 1px 3px 1px rgba(0, 0, 0, 0.15);\n",
              "      filter: drop-shadow(0px 1px 2px rgba(0, 0, 0, 0.3));\n",
              "      fill: #FFFFFF;\n",
              "    }\n",
              "  </style>\n",
              "\n",
              "      <script>\n",
              "        const buttonEl =\n",
              "          document.querySelector('#df-36387e8c-ae69-4853-9b75-514218656a7b button.colab-df-convert');\n",
              "        buttonEl.style.display =\n",
              "          google.colab.kernel.accessAllowed ? 'block' : 'none';\n",
              "\n",
              "        async function convertToInteractive(key) {\n",
              "          const element = document.querySelector('#df-36387e8c-ae69-4853-9b75-514218656a7b');\n",
              "          const dataTable =\n",
              "            await google.colab.kernel.invokeFunction('convertToInteractive',\n",
              "                                                     [key], {});\n",
              "          if (!dataTable) return;\n",
              "\n",
              "          const docLinkHtml = 'Like what you see? Visit the ' +\n",
              "            '<a target=\"_blank\" href=https://colab.research.google.com/notebooks/data_table.ipynb>data table notebook</a>'\n",
              "            + ' to learn more about interactive tables.';\n",
              "          element.innerHTML = '';\n",
              "          dataTable['output_type'] = 'display_data';\n",
              "          await google.colab.output.renderOutput(dataTable, element);\n",
              "          const docLink = document.createElement('div');\n",
              "          docLink.innerHTML = docLinkHtml;\n",
              "          element.appendChild(docLink);\n",
              "        }\n",
              "      </script>\n",
              "    </div>\n",
              "  </div>\n",
              "  "
            ]
          },
          "metadata": {},
          "execution_count": 54
        }
      ],
      "source": [
        "# Print the head of the homelessness data\n",
        "hs.head()\n"
      ]
    },
    {
      "cell_type": "code",
      "source": [
        "#Load through laptop."
      ],
      "metadata": {
        "id": "93ZUMvzJgpoL"
      },
      "execution_count": null,
      "outputs": []
    },
    {
      "cell_type": "code",
      "source": [
        "#Print first two rows of homelessness data\n",
        "hs.head(2)"
      ],
      "metadata": {
        "id": "TJ1njWci4Fqh",
        "outputId": "86473788-800d-4df0-8fc7-dd8778ae11d3",
        "colab": {
          "base_uri": "https://localhost:8080/",
          "height": 112
        }
      },
      "execution_count": 55,
      "outputs": [
        {
          "output_type": "execute_result",
          "data": {
            "text/plain": [
              "               region    state  individuals  family_members  state_pop\n",
              "0  East South Central  Alabama       2570.0           864.0    4887681\n",
              "1             Pacific   Alaska       1434.0           582.0     735139"
            ],
            "text/html": [
              "\n",
              "  <div id=\"df-c29e4167-6784-463e-ae48-b851b2839028\">\n",
              "    <div class=\"colab-df-container\">\n",
              "      <div>\n",
              "<style scoped>\n",
              "    .dataframe tbody tr th:only-of-type {\n",
              "        vertical-align: middle;\n",
              "    }\n",
              "\n",
              "    .dataframe tbody tr th {\n",
              "        vertical-align: top;\n",
              "    }\n",
              "\n",
              "    .dataframe thead th {\n",
              "        text-align: right;\n",
              "    }\n",
              "</style>\n",
              "<table border=\"1\" class=\"dataframe\">\n",
              "  <thead>\n",
              "    <tr style=\"text-align: right;\">\n",
              "      <th></th>\n",
              "      <th>region</th>\n",
              "      <th>state</th>\n",
              "      <th>individuals</th>\n",
              "      <th>family_members</th>\n",
              "      <th>state_pop</th>\n",
              "    </tr>\n",
              "  </thead>\n",
              "  <tbody>\n",
              "    <tr>\n",
              "      <th>0</th>\n",
              "      <td>East South Central</td>\n",
              "      <td>Alabama</td>\n",
              "      <td>2570.0</td>\n",
              "      <td>864.0</td>\n",
              "      <td>4887681</td>\n",
              "    </tr>\n",
              "    <tr>\n",
              "      <th>1</th>\n",
              "      <td>Pacific</td>\n",
              "      <td>Alaska</td>\n",
              "      <td>1434.0</td>\n",
              "      <td>582.0</td>\n",
              "      <td>735139</td>\n",
              "    </tr>\n",
              "  </tbody>\n",
              "</table>\n",
              "</div>\n",
              "      <button class=\"colab-df-convert\" onclick=\"convertToInteractive('df-c29e4167-6784-463e-ae48-b851b2839028')\"\n",
              "              title=\"Convert this dataframe to an interactive table.\"\n",
              "              style=\"display:none;\">\n",
              "        \n",
              "  <svg xmlns=\"http://www.w3.org/2000/svg\" height=\"24px\"viewBox=\"0 0 24 24\"\n",
              "       width=\"24px\">\n",
              "    <path d=\"M0 0h24v24H0V0z\" fill=\"none\"/>\n",
              "    <path d=\"M18.56 5.44l.94 2.06.94-2.06 2.06-.94-2.06-.94-.94-2.06-.94 2.06-2.06.94zm-11 1L8.5 8.5l.94-2.06 2.06-.94-2.06-.94L8.5 2.5l-.94 2.06-2.06.94zm10 10l.94 2.06.94-2.06 2.06-.94-2.06-.94-.94-2.06-.94 2.06-2.06.94z\"/><path d=\"M17.41 7.96l-1.37-1.37c-.4-.4-.92-.59-1.43-.59-.52 0-1.04.2-1.43.59L10.3 9.45l-7.72 7.72c-.78.78-.78 2.05 0 2.83L4 21.41c.39.39.9.59 1.41.59.51 0 1.02-.2 1.41-.59l7.78-7.78 2.81-2.81c.8-.78.8-2.07 0-2.86zM5.41 20L4 18.59l7.72-7.72 1.47 1.35L5.41 20z\"/>\n",
              "  </svg>\n",
              "      </button>\n",
              "      \n",
              "  <style>\n",
              "    .colab-df-container {\n",
              "      display:flex;\n",
              "      flex-wrap:wrap;\n",
              "      gap: 12px;\n",
              "    }\n",
              "\n",
              "    .colab-df-convert {\n",
              "      background-color: #E8F0FE;\n",
              "      border: none;\n",
              "      border-radius: 50%;\n",
              "      cursor: pointer;\n",
              "      display: none;\n",
              "      fill: #1967D2;\n",
              "      height: 32px;\n",
              "      padding: 0 0 0 0;\n",
              "      width: 32px;\n",
              "    }\n",
              "\n",
              "    .colab-df-convert:hover {\n",
              "      background-color: #E2EBFA;\n",
              "      box-shadow: 0px 1px 2px rgba(60, 64, 67, 0.3), 0px 1px 3px 1px rgba(60, 64, 67, 0.15);\n",
              "      fill: #174EA6;\n",
              "    }\n",
              "\n",
              "    [theme=dark] .colab-df-convert {\n",
              "      background-color: #3B4455;\n",
              "      fill: #D2E3FC;\n",
              "    }\n",
              "\n",
              "    [theme=dark] .colab-df-convert:hover {\n",
              "      background-color: #434B5C;\n",
              "      box-shadow: 0px 1px 3px 1px rgba(0, 0, 0, 0.15);\n",
              "      filter: drop-shadow(0px 1px 2px rgba(0, 0, 0, 0.3));\n",
              "      fill: #FFFFFF;\n",
              "    }\n",
              "  </style>\n",
              "\n",
              "      <script>\n",
              "        const buttonEl =\n",
              "          document.querySelector('#df-c29e4167-6784-463e-ae48-b851b2839028 button.colab-df-convert');\n",
              "        buttonEl.style.display =\n",
              "          google.colab.kernel.accessAllowed ? 'block' : 'none';\n",
              "\n",
              "        async function convertToInteractive(key) {\n",
              "          const element = document.querySelector('#df-c29e4167-6784-463e-ae48-b851b2839028');\n",
              "          const dataTable =\n",
              "            await google.colab.kernel.invokeFunction('convertToInteractive',\n",
              "                                                     [key], {});\n",
              "          if (!dataTable) return;\n",
              "\n",
              "          const docLinkHtml = 'Like what you see? Visit the ' +\n",
              "            '<a target=\"_blank\" href=https://colab.research.google.com/notebooks/data_table.ipynb>data table notebook</a>'\n",
              "            + ' to learn more about interactive tables.';\n",
              "          element.innerHTML = '';\n",
              "          dataTable['output_type'] = 'display_data';\n",
              "          await google.colab.output.renderOutput(dataTable, element);\n",
              "          const docLink = document.createElement('div');\n",
              "          docLink.innerHTML = docLinkHtml;\n",
              "          element.appendChild(docLink);\n",
              "        }\n",
              "      </script>\n",
              "    </div>\n",
              "  </div>\n",
              "  "
            ]
          },
          "metadata": {},
          "execution_count": 55
        }
      ]
    },
    {
      "cell_type": "markdown",
      "metadata": {
        "id": "du_thzH8n8cy"
      },
      "source": [
        "\n",
        "<li>Print information about the column types and missing values in <code>homelessness</code>.</li>\n"
      ]
    },
    {
      "cell_type": "code",
      "execution_count": 56,
      "metadata": {
        "colab": {
          "base_uri": "https://localhost:8080/"
        },
        "id": "oT7OSCs9n8cz",
        "outputId": "f6f6cd72-f184-4099-8822-82084f83aecb"
      },
      "outputs": [
        {
          "output_type": "stream",
          "name": "stdout",
          "text": [
            "<class 'pandas.core.frame.DataFrame'>\n",
            "Int64Index: 51 entries, 0 to 50\n",
            "Data columns (total 5 columns):\n",
            " #   Column          Non-Null Count  Dtype  \n",
            "---  ------          --------------  -----  \n",
            " 0   region          51 non-null     object \n",
            " 1   state           51 non-null     object \n",
            " 2   individuals     51 non-null     float64\n",
            " 3   family_members  51 non-null     float64\n",
            " 4   state_pop       51 non-null     int64  \n",
            "dtypes: float64(2), int64(1), object(2)\n",
            "memory usage: 2.4+ KB\n"
          ]
        }
      ],
      "source": [
        "# Print information about homelessness\n",
        "hs.info()\n"
      ]
    },
    {
      "cell_type": "code",
      "source": [
        "#Print the whole data\n",
        "hs"
      ],
      "metadata": {
        "id": "bFtFU7dy4jkd",
        "outputId": "94a4bcc8-3307-4787-e560-a0ea1207178e",
        "colab": {
          "base_uri": "https://localhost:8080/",
          "height": 1000
        }
      },
      "execution_count": 57,
      "outputs": [
        {
          "output_type": "execute_result",
          "data": {
            "text/plain": [
              "                region                 state  individuals  family_members  \\\n",
              "0   East South Central               Alabama       2570.0           864.0   \n",
              "1              Pacific                Alaska       1434.0           582.0   \n",
              "2             Mountain               Arizona       7259.0          2606.0   \n",
              "3   West South Central              Arkansas       2280.0           432.0   \n",
              "4              Pacific            California     109008.0         20964.0   \n",
              "5             Mountain              Colorado       7607.0          3250.0   \n",
              "6          New England           Connecticut       2280.0          1696.0   \n",
              "7       South Atlantic              Delaware        708.0           374.0   \n",
              "8       South Atlantic  District of Columbia       3770.0          3134.0   \n",
              "9       South Atlantic               Florida      21443.0          9587.0   \n",
              "10      South Atlantic               Georgia       6943.0          2556.0   \n",
              "11             Pacific                Hawaii       4131.0          2399.0   \n",
              "12            Mountain                 Idaho       1297.0           715.0   \n",
              "13  East North Central              Illinois       6752.0          3891.0   \n",
              "14  East North Central               Indiana       3776.0          1482.0   \n",
              "15  West North Central                  Iowa       1711.0          1038.0   \n",
              "16  West North Central                Kansas       1443.0           773.0   \n",
              "17  East South Central              Kentucky       2735.0           953.0   \n",
              "18  West South Central             Louisiana       2540.0           519.0   \n",
              "19         New England                 Maine       1450.0          1066.0   \n",
              "20      South Atlantic              Maryland       4914.0          2230.0   \n",
              "21         New England         Massachusetts       6811.0         13257.0   \n",
              "22  East North Central              Michigan       5209.0          3142.0   \n",
              "23  West North Central             Minnesota       3993.0          3250.0   \n",
              "24  East South Central           Mississippi       1024.0           328.0   \n",
              "25  West North Central              Missouri       3776.0          2107.0   \n",
              "26            Mountain               Montana        983.0           422.0   \n",
              "27  West North Central              Nebraska       1745.0           676.0   \n",
              "28            Mountain                Nevada       7058.0           486.0   \n",
              "29         New England         New Hampshire        835.0           615.0   \n",
              "30        Mid-Atlantic            New Jersey       6048.0          3350.0   \n",
              "31            Mountain            New Mexico       1949.0           602.0   \n",
              "32        Mid-Atlantic              New York      39827.0         52070.0   \n",
              "33      South Atlantic        North Carolina       6451.0          2817.0   \n",
              "34  West North Central          North Dakota        467.0            75.0   \n",
              "35  East North Central                  Ohio       6929.0          3320.0   \n",
              "36  West South Central              Oklahoma       2823.0          1048.0   \n",
              "37             Pacific                Oregon      11139.0          3337.0   \n",
              "38        Mid-Atlantic          Pennsylvania       8163.0          5349.0   \n",
              "39         New England          Rhode Island        747.0           354.0   \n",
              "40      South Atlantic        South Carolina       3082.0           851.0   \n",
              "41  West North Central          South Dakota        836.0           323.0   \n",
              "42  East South Central             Tennessee       6139.0          1744.0   \n",
              "43  West South Central                 Texas      19199.0          6111.0   \n",
              "44            Mountain                  Utah       1904.0           972.0   \n",
              "45         New England               Vermont        780.0           511.0   \n",
              "46      South Atlantic              Virginia       3928.0          2047.0   \n",
              "47             Pacific            Washington      16424.0          5880.0   \n",
              "48      South Atlantic         West Virginia       1021.0           222.0   \n",
              "49  East North Central             Wisconsin       2740.0          2167.0   \n",
              "50            Mountain               Wyoming        434.0           205.0   \n",
              "\n",
              "    state_pop  \n",
              "0     4887681  \n",
              "1      735139  \n",
              "2     7158024  \n",
              "3     3009733  \n",
              "4    39461588  \n",
              "5     5691287  \n",
              "6     3571520  \n",
              "7      965479  \n",
              "8      701547  \n",
              "9    21244317  \n",
              "10   10511131  \n",
              "11    1420593  \n",
              "12    1750536  \n",
              "13   12723071  \n",
              "14    6695497  \n",
              "15    3148618  \n",
              "16    2911359  \n",
              "17    4461153  \n",
              "18    4659690  \n",
              "19    1339057  \n",
              "20    6035802  \n",
              "21    6882635  \n",
              "22    9984072  \n",
              "23    5606249  \n",
              "24    2981020  \n",
              "25    6121623  \n",
              "26    1060665  \n",
              "27    1925614  \n",
              "28    3027341  \n",
              "29    1353465  \n",
              "30    8886025  \n",
              "31    2092741  \n",
              "32   19530351  \n",
              "33   10381615  \n",
              "34     758080  \n",
              "35   11676341  \n",
              "36    3940235  \n",
              "37    4181886  \n",
              "38   12800922  \n",
              "39    1058287  \n",
              "40    5084156  \n",
              "41     878698  \n",
              "42    6771631  \n",
              "43   28628666  \n",
              "44    3153550  \n",
              "45     624358  \n",
              "46    8501286  \n",
              "47    7523869  \n",
              "48    1804291  \n",
              "49    5807406  \n",
              "50     577601  "
            ],
            "text/html": [
              "\n",
              "  <div id=\"df-4aaffa22-cf30-426f-9f3f-71f847aed766\">\n",
              "    <div class=\"colab-df-container\">\n",
              "      <div>\n",
              "<style scoped>\n",
              "    .dataframe tbody tr th:only-of-type {\n",
              "        vertical-align: middle;\n",
              "    }\n",
              "\n",
              "    .dataframe tbody tr th {\n",
              "        vertical-align: top;\n",
              "    }\n",
              "\n",
              "    .dataframe thead th {\n",
              "        text-align: right;\n",
              "    }\n",
              "</style>\n",
              "<table border=\"1\" class=\"dataframe\">\n",
              "  <thead>\n",
              "    <tr style=\"text-align: right;\">\n",
              "      <th></th>\n",
              "      <th>region</th>\n",
              "      <th>state</th>\n",
              "      <th>individuals</th>\n",
              "      <th>family_members</th>\n",
              "      <th>state_pop</th>\n",
              "    </tr>\n",
              "  </thead>\n",
              "  <tbody>\n",
              "    <tr>\n",
              "      <th>0</th>\n",
              "      <td>East South Central</td>\n",
              "      <td>Alabama</td>\n",
              "      <td>2570.0</td>\n",
              "      <td>864.0</td>\n",
              "      <td>4887681</td>\n",
              "    </tr>\n",
              "    <tr>\n",
              "      <th>1</th>\n",
              "      <td>Pacific</td>\n",
              "      <td>Alaska</td>\n",
              "      <td>1434.0</td>\n",
              "      <td>582.0</td>\n",
              "      <td>735139</td>\n",
              "    </tr>\n",
              "    <tr>\n",
              "      <th>2</th>\n",
              "      <td>Mountain</td>\n",
              "      <td>Arizona</td>\n",
              "      <td>7259.0</td>\n",
              "      <td>2606.0</td>\n",
              "      <td>7158024</td>\n",
              "    </tr>\n",
              "    <tr>\n",
              "      <th>3</th>\n",
              "      <td>West South Central</td>\n",
              "      <td>Arkansas</td>\n",
              "      <td>2280.0</td>\n",
              "      <td>432.0</td>\n",
              "      <td>3009733</td>\n",
              "    </tr>\n",
              "    <tr>\n",
              "      <th>4</th>\n",
              "      <td>Pacific</td>\n",
              "      <td>California</td>\n",
              "      <td>109008.0</td>\n",
              "      <td>20964.0</td>\n",
              "      <td>39461588</td>\n",
              "    </tr>\n",
              "    <tr>\n",
              "      <th>5</th>\n",
              "      <td>Mountain</td>\n",
              "      <td>Colorado</td>\n",
              "      <td>7607.0</td>\n",
              "      <td>3250.0</td>\n",
              "      <td>5691287</td>\n",
              "    </tr>\n",
              "    <tr>\n",
              "      <th>6</th>\n",
              "      <td>New England</td>\n",
              "      <td>Connecticut</td>\n",
              "      <td>2280.0</td>\n",
              "      <td>1696.0</td>\n",
              "      <td>3571520</td>\n",
              "    </tr>\n",
              "    <tr>\n",
              "      <th>7</th>\n",
              "      <td>South Atlantic</td>\n",
              "      <td>Delaware</td>\n",
              "      <td>708.0</td>\n",
              "      <td>374.0</td>\n",
              "      <td>965479</td>\n",
              "    </tr>\n",
              "    <tr>\n",
              "      <th>8</th>\n",
              "      <td>South Atlantic</td>\n",
              "      <td>District of Columbia</td>\n",
              "      <td>3770.0</td>\n",
              "      <td>3134.0</td>\n",
              "      <td>701547</td>\n",
              "    </tr>\n",
              "    <tr>\n",
              "      <th>9</th>\n",
              "      <td>South Atlantic</td>\n",
              "      <td>Florida</td>\n",
              "      <td>21443.0</td>\n",
              "      <td>9587.0</td>\n",
              "      <td>21244317</td>\n",
              "    </tr>\n",
              "    <tr>\n",
              "      <th>10</th>\n",
              "      <td>South Atlantic</td>\n",
              "      <td>Georgia</td>\n",
              "      <td>6943.0</td>\n",
              "      <td>2556.0</td>\n",
              "      <td>10511131</td>\n",
              "    </tr>\n",
              "    <tr>\n",
              "      <th>11</th>\n",
              "      <td>Pacific</td>\n",
              "      <td>Hawaii</td>\n",
              "      <td>4131.0</td>\n",
              "      <td>2399.0</td>\n",
              "      <td>1420593</td>\n",
              "    </tr>\n",
              "    <tr>\n",
              "      <th>12</th>\n",
              "      <td>Mountain</td>\n",
              "      <td>Idaho</td>\n",
              "      <td>1297.0</td>\n",
              "      <td>715.0</td>\n",
              "      <td>1750536</td>\n",
              "    </tr>\n",
              "    <tr>\n",
              "      <th>13</th>\n",
              "      <td>East North Central</td>\n",
              "      <td>Illinois</td>\n",
              "      <td>6752.0</td>\n",
              "      <td>3891.0</td>\n",
              "      <td>12723071</td>\n",
              "    </tr>\n",
              "    <tr>\n",
              "      <th>14</th>\n",
              "      <td>East North Central</td>\n",
              "      <td>Indiana</td>\n",
              "      <td>3776.0</td>\n",
              "      <td>1482.0</td>\n",
              "      <td>6695497</td>\n",
              "    </tr>\n",
              "    <tr>\n",
              "      <th>15</th>\n",
              "      <td>West North Central</td>\n",
              "      <td>Iowa</td>\n",
              "      <td>1711.0</td>\n",
              "      <td>1038.0</td>\n",
              "      <td>3148618</td>\n",
              "    </tr>\n",
              "    <tr>\n",
              "      <th>16</th>\n",
              "      <td>West North Central</td>\n",
              "      <td>Kansas</td>\n",
              "      <td>1443.0</td>\n",
              "      <td>773.0</td>\n",
              "      <td>2911359</td>\n",
              "    </tr>\n",
              "    <tr>\n",
              "      <th>17</th>\n",
              "      <td>East South Central</td>\n",
              "      <td>Kentucky</td>\n",
              "      <td>2735.0</td>\n",
              "      <td>953.0</td>\n",
              "      <td>4461153</td>\n",
              "    </tr>\n",
              "    <tr>\n",
              "      <th>18</th>\n",
              "      <td>West South Central</td>\n",
              "      <td>Louisiana</td>\n",
              "      <td>2540.0</td>\n",
              "      <td>519.0</td>\n",
              "      <td>4659690</td>\n",
              "    </tr>\n",
              "    <tr>\n",
              "      <th>19</th>\n",
              "      <td>New England</td>\n",
              "      <td>Maine</td>\n",
              "      <td>1450.0</td>\n",
              "      <td>1066.0</td>\n",
              "      <td>1339057</td>\n",
              "    </tr>\n",
              "    <tr>\n",
              "      <th>20</th>\n",
              "      <td>South Atlantic</td>\n",
              "      <td>Maryland</td>\n",
              "      <td>4914.0</td>\n",
              "      <td>2230.0</td>\n",
              "      <td>6035802</td>\n",
              "    </tr>\n",
              "    <tr>\n",
              "      <th>21</th>\n",
              "      <td>New England</td>\n",
              "      <td>Massachusetts</td>\n",
              "      <td>6811.0</td>\n",
              "      <td>13257.0</td>\n",
              "      <td>6882635</td>\n",
              "    </tr>\n",
              "    <tr>\n",
              "      <th>22</th>\n",
              "      <td>East North Central</td>\n",
              "      <td>Michigan</td>\n",
              "      <td>5209.0</td>\n",
              "      <td>3142.0</td>\n",
              "      <td>9984072</td>\n",
              "    </tr>\n",
              "    <tr>\n",
              "      <th>23</th>\n",
              "      <td>West North Central</td>\n",
              "      <td>Minnesota</td>\n",
              "      <td>3993.0</td>\n",
              "      <td>3250.0</td>\n",
              "      <td>5606249</td>\n",
              "    </tr>\n",
              "    <tr>\n",
              "      <th>24</th>\n",
              "      <td>East South Central</td>\n",
              "      <td>Mississippi</td>\n",
              "      <td>1024.0</td>\n",
              "      <td>328.0</td>\n",
              "      <td>2981020</td>\n",
              "    </tr>\n",
              "    <tr>\n",
              "      <th>25</th>\n",
              "      <td>West North Central</td>\n",
              "      <td>Missouri</td>\n",
              "      <td>3776.0</td>\n",
              "      <td>2107.0</td>\n",
              "      <td>6121623</td>\n",
              "    </tr>\n",
              "    <tr>\n",
              "      <th>26</th>\n",
              "      <td>Mountain</td>\n",
              "      <td>Montana</td>\n",
              "      <td>983.0</td>\n",
              "      <td>422.0</td>\n",
              "      <td>1060665</td>\n",
              "    </tr>\n",
              "    <tr>\n",
              "      <th>27</th>\n",
              "      <td>West North Central</td>\n",
              "      <td>Nebraska</td>\n",
              "      <td>1745.0</td>\n",
              "      <td>676.0</td>\n",
              "      <td>1925614</td>\n",
              "    </tr>\n",
              "    <tr>\n",
              "      <th>28</th>\n",
              "      <td>Mountain</td>\n",
              "      <td>Nevada</td>\n",
              "      <td>7058.0</td>\n",
              "      <td>486.0</td>\n",
              "      <td>3027341</td>\n",
              "    </tr>\n",
              "    <tr>\n",
              "      <th>29</th>\n",
              "      <td>New England</td>\n",
              "      <td>New Hampshire</td>\n",
              "      <td>835.0</td>\n",
              "      <td>615.0</td>\n",
              "      <td>1353465</td>\n",
              "    </tr>\n",
              "    <tr>\n",
              "      <th>30</th>\n",
              "      <td>Mid-Atlantic</td>\n",
              "      <td>New Jersey</td>\n",
              "      <td>6048.0</td>\n",
              "      <td>3350.0</td>\n",
              "      <td>8886025</td>\n",
              "    </tr>\n",
              "    <tr>\n",
              "      <th>31</th>\n",
              "      <td>Mountain</td>\n",
              "      <td>New Mexico</td>\n",
              "      <td>1949.0</td>\n",
              "      <td>602.0</td>\n",
              "      <td>2092741</td>\n",
              "    </tr>\n",
              "    <tr>\n",
              "      <th>32</th>\n",
              "      <td>Mid-Atlantic</td>\n",
              "      <td>New York</td>\n",
              "      <td>39827.0</td>\n",
              "      <td>52070.0</td>\n",
              "      <td>19530351</td>\n",
              "    </tr>\n",
              "    <tr>\n",
              "      <th>33</th>\n",
              "      <td>South Atlantic</td>\n",
              "      <td>North Carolina</td>\n",
              "      <td>6451.0</td>\n",
              "      <td>2817.0</td>\n",
              "      <td>10381615</td>\n",
              "    </tr>\n",
              "    <tr>\n",
              "      <th>34</th>\n",
              "      <td>West North Central</td>\n",
              "      <td>North Dakota</td>\n",
              "      <td>467.0</td>\n",
              "      <td>75.0</td>\n",
              "      <td>758080</td>\n",
              "    </tr>\n",
              "    <tr>\n",
              "      <th>35</th>\n",
              "      <td>East North Central</td>\n",
              "      <td>Ohio</td>\n",
              "      <td>6929.0</td>\n",
              "      <td>3320.0</td>\n",
              "      <td>11676341</td>\n",
              "    </tr>\n",
              "    <tr>\n",
              "      <th>36</th>\n",
              "      <td>West South Central</td>\n",
              "      <td>Oklahoma</td>\n",
              "      <td>2823.0</td>\n",
              "      <td>1048.0</td>\n",
              "      <td>3940235</td>\n",
              "    </tr>\n",
              "    <tr>\n",
              "      <th>37</th>\n",
              "      <td>Pacific</td>\n",
              "      <td>Oregon</td>\n",
              "      <td>11139.0</td>\n",
              "      <td>3337.0</td>\n",
              "      <td>4181886</td>\n",
              "    </tr>\n",
              "    <tr>\n",
              "      <th>38</th>\n",
              "      <td>Mid-Atlantic</td>\n",
              "      <td>Pennsylvania</td>\n",
              "      <td>8163.0</td>\n",
              "      <td>5349.0</td>\n",
              "      <td>12800922</td>\n",
              "    </tr>\n",
              "    <tr>\n",
              "      <th>39</th>\n",
              "      <td>New England</td>\n",
              "      <td>Rhode Island</td>\n",
              "      <td>747.0</td>\n",
              "      <td>354.0</td>\n",
              "      <td>1058287</td>\n",
              "    </tr>\n",
              "    <tr>\n",
              "      <th>40</th>\n",
              "      <td>South Atlantic</td>\n",
              "      <td>South Carolina</td>\n",
              "      <td>3082.0</td>\n",
              "      <td>851.0</td>\n",
              "      <td>5084156</td>\n",
              "    </tr>\n",
              "    <tr>\n",
              "      <th>41</th>\n",
              "      <td>West North Central</td>\n",
              "      <td>South Dakota</td>\n",
              "      <td>836.0</td>\n",
              "      <td>323.0</td>\n",
              "      <td>878698</td>\n",
              "    </tr>\n",
              "    <tr>\n",
              "      <th>42</th>\n",
              "      <td>East South Central</td>\n",
              "      <td>Tennessee</td>\n",
              "      <td>6139.0</td>\n",
              "      <td>1744.0</td>\n",
              "      <td>6771631</td>\n",
              "    </tr>\n",
              "    <tr>\n",
              "      <th>43</th>\n",
              "      <td>West South Central</td>\n",
              "      <td>Texas</td>\n",
              "      <td>19199.0</td>\n",
              "      <td>6111.0</td>\n",
              "      <td>28628666</td>\n",
              "    </tr>\n",
              "    <tr>\n",
              "      <th>44</th>\n",
              "      <td>Mountain</td>\n",
              "      <td>Utah</td>\n",
              "      <td>1904.0</td>\n",
              "      <td>972.0</td>\n",
              "      <td>3153550</td>\n",
              "    </tr>\n",
              "    <tr>\n",
              "      <th>45</th>\n",
              "      <td>New England</td>\n",
              "      <td>Vermont</td>\n",
              "      <td>780.0</td>\n",
              "      <td>511.0</td>\n",
              "      <td>624358</td>\n",
              "    </tr>\n",
              "    <tr>\n",
              "      <th>46</th>\n",
              "      <td>South Atlantic</td>\n",
              "      <td>Virginia</td>\n",
              "      <td>3928.0</td>\n",
              "      <td>2047.0</td>\n",
              "      <td>8501286</td>\n",
              "    </tr>\n",
              "    <tr>\n",
              "      <th>47</th>\n",
              "      <td>Pacific</td>\n",
              "      <td>Washington</td>\n",
              "      <td>16424.0</td>\n",
              "      <td>5880.0</td>\n",
              "      <td>7523869</td>\n",
              "    </tr>\n",
              "    <tr>\n",
              "      <th>48</th>\n",
              "      <td>South Atlantic</td>\n",
              "      <td>West Virginia</td>\n",
              "      <td>1021.0</td>\n",
              "      <td>222.0</td>\n",
              "      <td>1804291</td>\n",
              "    </tr>\n",
              "    <tr>\n",
              "      <th>49</th>\n",
              "      <td>East North Central</td>\n",
              "      <td>Wisconsin</td>\n",
              "      <td>2740.0</td>\n",
              "      <td>2167.0</td>\n",
              "      <td>5807406</td>\n",
              "    </tr>\n",
              "    <tr>\n",
              "      <th>50</th>\n",
              "      <td>Mountain</td>\n",
              "      <td>Wyoming</td>\n",
              "      <td>434.0</td>\n",
              "      <td>205.0</td>\n",
              "      <td>577601</td>\n",
              "    </tr>\n",
              "  </tbody>\n",
              "</table>\n",
              "</div>\n",
              "      <button class=\"colab-df-convert\" onclick=\"convertToInteractive('df-4aaffa22-cf30-426f-9f3f-71f847aed766')\"\n",
              "              title=\"Convert this dataframe to an interactive table.\"\n",
              "              style=\"display:none;\">\n",
              "        \n",
              "  <svg xmlns=\"http://www.w3.org/2000/svg\" height=\"24px\"viewBox=\"0 0 24 24\"\n",
              "       width=\"24px\">\n",
              "    <path d=\"M0 0h24v24H0V0z\" fill=\"none\"/>\n",
              "    <path d=\"M18.56 5.44l.94 2.06.94-2.06 2.06-.94-2.06-.94-.94-2.06-.94 2.06-2.06.94zm-11 1L8.5 8.5l.94-2.06 2.06-.94-2.06-.94L8.5 2.5l-.94 2.06-2.06.94zm10 10l.94 2.06.94-2.06 2.06-.94-2.06-.94-.94-2.06-.94 2.06-2.06.94z\"/><path d=\"M17.41 7.96l-1.37-1.37c-.4-.4-.92-.59-1.43-.59-.52 0-1.04.2-1.43.59L10.3 9.45l-7.72 7.72c-.78.78-.78 2.05 0 2.83L4 21.41c.39.39.9.59 1.41.59.51 0 1.02-.2 1.41-.59l7.78-7.78 2.81-2.81c.8-.78.8-2.07 0-2.86zM5.41 20L4 18.59l7.72-7.72 1.47 1.35L5.41 20z\"/>\n",
              "  </svg>\n",
              "      </button>\n",
              "      \n",
              "  <style>\n",
              "    .colab-df-container {\n",
              "      display:flex;\n",
              "      flex-wrap:wrap;\n",
              "      gap: 12px;\n",
              "    }\n",
              "\n",
              "    .colab-df-convert {\n",
              "      background-color: #E8F0FE;\n",
              "      border: none;\n",
              "      border-radius: 50%;\n",
              "      cursor: pointer;\n",
              "      display: none;\n",
              "      fill: #1967D2;\n",
              "      height: 32px;\n",
              "      padding: 0 0 0 0;\n",
              "      width: 32px;\n",
              "    }\n",
              "\n",
              "    .colab-df-convert:hover {\n",
              "      background-color: #E2EBFA;\n",
              "      box-shadow: 0px 1px 2px rgba(60, 64, 67, 0.3), 0px 1px 3px 1px rgba(60, 64, 67, 0.15);\n",
              "      fill: #174EA6;\n",
              "    }\n",
              "\n",
              "    [theme=dark] .colab-df-convert {\n",
              "      background-color: #3B4455;\n",
              "      fill: #D2E3FC;\n",
              "    }\n",
              "\n",
              "    [theme=dark] .colab-df-convert:hover {\n",
              "      background-color: #434B5C;\n",
              "      box-shadow: 0px 1px 3px 1px rgba(0, 0, 0, 0.15);\n",
              "      filter: drop-shadow(0px 1px 2px rgba(0, 0, 0, 0.3));\n",
              "      fill: #FFFFFF;\n",
              "    }\n",
              "  </style>\n",
              "\n",
              "      <script>\n",
              "        const buttonEl =\n",
              "          document.querySelector('#df-4aaffa22-cf30-426f-9f3f-71f847aed766 button.colab-df-convert');\n",
              "        buttonEl.style.display =\n",
              "          google.colab.kernel.accessAllowed ? 'block' : 'none';\n",
              "\n",
              "        async function convertToInteractive(key) {\n",
              "          const element = document.querySelector('#df-4aaffa22-cf30-426f-9f3f-71f847aed766');\n",
              "          const dataTable =\n",
              "            await google.colab.kernel.invokeFunction('convertToInteractive',\n",
              "                                                     [key], {});\n",
              "          if (!dataTable) return;\n",
              "\n",
              "          const docLinkHtml = 'Like what you see? Visit the ' +\n",
              "            '<a target=\"_blank\" href=https://colab.research.google.com/notebooks/data_table.ipynb>data table notebook</a>'\n",
              "            + ' to learn more about interactive tables.';\n",
              "          element.innerHTML = '';\n",
              "          dataTable['output_type'] = 'display_data';\n",
              "          await google.colab.output.renderOutput(dataTable, element);\n",
              "          const docLink = document.createElement('div');\n",
              "          docLink.innerHTML = docLinkHtml;\n",
              "          element.appendChild(docLink);\n",
              "        }\n",
              "      </script>\n",
              "    </div>\n",
              "  </div>\n",
              "  "
            ]
          },
          "metadata": {},
          "execution_count": 57
        }
      ]
    },
    {
      "cell_type": "code",
      "source": [
        "#Print the last row of the data\n",
        "hs.tail(1)"
      ],
      "metadata": {
        "id": "VlkfAkSt4rHa",
        "outputId": "4ef716d1-2ee7-499a-8f72-dcadcdf2c81e",
        "colab": {
          "base_uri": "https://localhost:8080/",
          "height": 81
        }
      },
      "execution_count": 58,
      "outputs": [
        {
          "output_type": "execute_result",
          "data": {
            "text/plain": [
              "      region    state  individuals  family_members  state_pop\n",
              "50  Mountain  Wyoming        434.0           205.0     577601"
            ],
            "text/html": [
              "\n",
              "  <div id=\"df-9b3208ea-027d-47ec-8abb-d870bbbff119\">\n",
              "    <div class=\"colab-df-container\">\n",
              "      <div>\n",
              "<style scoped>\n",
              "    .dataframe tbody tr th:only-of-type {\n",
              "        vertical-align: middle;\n",
              "    }\n",
              "\n",
              "    .dataframe tbody tr th {\n",
              "        vertical-align: top;\n",
              "    }\n",
              "\n",
              "    .dataframe thead th {\n",
              "        text-align: right;\n",
              "    }\n",
              "</style>\n",
              "<table border=\"1\" class=\"dataframe\">\n",
              "  <thead>\n",
              "    <tr style=\"text-align: right;\">\n",
              "      <th></th>\n",
              "      <th>region</th>\n",
              "      <th>state</th>\n",
              "      <th>individuals</th>\n",
              "      <th>family_members</th>\n",
              "      <th>state_pop</th>\n",
              "    </tr>\n",
              "  </thead>\n",
              "  <tbody>\n",
              "    <tr>\n",
              "      <th>50</th>\n",
              "      <td>Mountain</td>\n",
              "      <td>Wyoming</td>\n",
              "      <td>434.0</td>\n",
              "      <td>205.0</td>\n",
              "      <td>577601</td>\n",
              "    </tr>\n",
              "  </tbody>\n",
              "</table>\n",
              "</div>\n",
              "      <button class=\"colab-df-convert\" onclick=\"convertToInteractive('df-9b3208ea-027d-47ec-8abb-d870bbbff119')\"\n",
              "              title=\"Convert this dataframe to an interactive table.\"\n",
              "              style=\"display:none;\">\n",
              "        \n",
              "  <svg xmlns=\"http://www.w3.org/2000/svg\" height=\"24px\"viewBox=\"0 0 24 24\"\n",
              "       width=\"24px\">\n",
              "    <path d=\"M0 0h24v24H0V0z\" fill=\"none\"/>\n",
              "    <path d=\"M18.56 5.44l.94 2.06.94-2.06 2.06-.94-2.06-.94-.94-2.06-.94 2.06-2.06.94zm-11 1L8.5 8.5l.94-2.06 2.06-.94-2.06-.94L8.5 2.5l-.94 2.06-2.06.94zm10 10l.94 2.06.94-2.06 2.06-.94-2.06-.94-.94-2.06-.94 2.06-2.06.94z\"/><path d=\"M17.41 7.96l-1.37-1.37c-.4-.4-.92-.59-1.43-.59-.52 0-1.04.2-1.43.59L10.3 9.45l-7.72 7.72c-.78.78-.78 2.05 0 2.83L4 21.41c.39.39.9.59 1.41.59.51 0 1.02-.2 1.41-.59l7.78-7.78 2.81-2.81c.8-.78.8-2.07 0-2.86zM5.41 20L4 18.59l7.72-7.72 1.47 1.35L5.41 20z\"/>\n",
              "  </svg>\n",
              "      </button>\n",
              "      \n",
              "  <style>\n",
              "    .colab-df-container {\n",
              "      display:flex;\n",
              "      flex-wrap:wrap;\n",
              "      gap: 12px;\n",
              "    }\n",
              "\n",
              "    .colab-df-convert {\n",
              "      background-color: #E8F0FE;\n",
              "      border: none;\n",
              "      border-radius: 50%;\n",
              "      cursor: pointer;\n",
              "      display: none;\n",
              "      fill: #1967D2;\n",
              "      height: 32px;\n",
              "      padding: 0 0 0 0;\n",
              "      width: 32px;\n",
              "    }\n",
              "\n",
              "    .colab-df-convert:hover {\n",
              "      background-color: #E2EBFA;\n",
              "      box-shadow: 0px 1px 2px rgba(60, 64, 67, 0.3), 0px 1px 3px 1px rgba(60, 64, 67, 0.15);\n",
              "      fill: #174EA6;\n",
              "    }\n",
              "\n",
              "    [theme=dark] .colab-df-convert {\n",
              "      background-color: #3B4455;\n",
              "      fill: #D2E3FC;\n",
              "    }\n",
              "\n",
              "    [theme=dark] .colab-df-convert:hover {\n",
              "      background-color: #434B5C;\n",
              "      box-shadow: 0px 1px 3px 1px rgba(0, 0, 0, 0.15);\n",
              "      filter: drop-shadow(0px 1px 2px rgba(0, 0, 0, 0.3));\n",
              "      fill: #FFFFFF;\n",
              "    }\n",
              "  </style>\n",
              "\n",
              "      <script>\n",
              "        const buttonEl =\n",
              "          document.querySelector('#df-9b3208ea-027d-47ec-8abb-d870bbbff119 button.colab-df-convert');\n",
              "        buttonEl.style.display =\n",
              "          google.colab.kernel.accessAllowed ? 'block' : 'none';\n",
              "\n",
              "        async function convertToInteractive(key) {\n",
              "          const element = document.querySelector('#df-9b3208ea-027d-47ec-8abb-d870bbbff119');\n",
              "          const dataTable =\n",
              "            await google.colab.kernel.invokeFunction('convertToInteractive',\n",
              "                                                     [key], {});\n",
              "          if (!dataTable) return;\n",
              "\n",
              "          const docLinkHtml = 'Like what you see? Visit the ' +\n",
              "            '<a target=\"_blank\" href=https://colab.research.google.com/notebooks/data_table.ipynb>data table notebook</a>'\n",
              "            + ' to learn more about interactive tables.';\n",
              "          element.innerHTML = '';\n",
              "          dataTable['output_type'] = 'display_data';\n",
              "          await google.colab.output.renderOutput(dataTable, element);\n",
              "          const docLink = document.createElement('div');\n",
              "          docLink.innerHTML = docLinkHtml;\n",
              "          element.appendChild(docLink);\n",
              "        }\n",
              "      </script>\n",
              "    </div>\n",
              "  </div>\n",
              "  "
            ]
          },
          "metadata": {},
          "execution_count": 58
        }
      ]
    },
    {
      "cell_type": "code",
      "source": [
        "#Get random 5 rows\n",
        "hs.sample(5)"
      ],
      "metadata": {
        "id": "sgEnx7z6WNXV",
        "outputId": "bbe1c29b-1299-44d9-efc0-b25ada0d27b5",
        "colab": {
          "base_uri": "https://localhost:8080/",
          "height": 206
        }
      },
      "execution_count": 59,
      "outputs": [
        {
          "output_type": "execute_result",
          "data": {
            "text/plain": [
              "                region           state  individuals  family_members  state_pop\n",
              "42  East South Central       Tennessee       6139.0          1744.0    6771631\n",
              "40      South Atlantic  South Carolina       3082.0           851.0    5084156\n",
              "25  West North Central        Missouri       3776.0          2107.0    6121623\n",
              "18  West South Central       Louisiana       2540.0           519.0    4659690\n",
              "10      South Atlantic         Georgia       6943.0          2556.0   10511131"
            ],
            "text/html": [
              "\n",
              "  <div id=\"df-9eb94057-0cfd-42b1-83a4-9315fe50c3cc\">\n",
              "    <div class=\"colab-df-container\">\n",
              "      <div>\n",
              "<style scoped>\n",
              "    .dataframe tbody tr th:only-of-type {\n",
              "        vertical-align: middle;\n",
              "    }\n",
              "\n",
              "    .dataframe tbody tr th {\n",
              "        vertical-align: top;\n",
              "    }\n",
              "\n",
              "    .dataframe thead th {\n",
              "        text-align: right;\n",
              "    }\n",
              "</style>\n",
              "<table border=\"1\" class=\"dataframe\">\n",
              "  <thead>\n",
              "    <tr style=\"text-align: right;\">\n",
              "      <th></th>\n",
              "      <th>region</th>\n",
              "      <th>state</th>\n",
              "      <th>individuals</th>\n",
              "      <th>family_members</th>\n",
              "      <th>state_pop</th>\n",
              "    </tr>\n",
              "  </thead>\n",
              "  <tbody>\n",
              "    <tr>\n",
              "      <th>42</th>\n",
              "      <td>East South Central</td>\n",
              "      <td>Tennessee</td>\n",
              "      <td>6139.0</td>\n",
              "      <td>1744.0</td>\n",
              "      <td>6771631</td>\n",
              "    </tr>\n",
              "    <tr>\n",
              "      <th>40</th>\n",
              "      <td>South Atlantic</td>\n",
              "      <td>South Carolina</td>\n",
              "      <td>3082.0</td>\n",
              "      <td>851.0</td>\n",
              "      <td>5084156</td>\n",
              "    </tr>\n",
              "    <tr>\n",
              "      <th>25</th>\n",
              "      <td>West North Central</td>\n",
              "      <td>Missouri</td>\n",
              "      <td>3776.0</td>\n",
              "      <td>2107.0</td>\n",
              "      <td>6121623</td>\n",
              "    </tr>\n",
              "    <tr>\n",
              "      <th>18</th>\n",
              "      <td>West South Central</td>\n",
              "      <td>Louisiana</td>\n",
              "      <td>2540.0</td>\n",
              "      <td>519.0</td>\n",
              "      <td>4659690</td>\n",
              "    </tr>\n",
              "    <tr>\n",
              "      <th>10</th>\n",
              "      <td>South Atlantic</td>\n",
              "      <td>Georgia</td>\n",
              "      <td>6943.0</td>\n",
              "      <td>2556.0</td>\n",
              "      <td>10511131</td>\n",
              "    </tr>\n",
              "  </tbody>\n",
              "</table>\n",
              "</div>\n",
              "      <button class=\"colab-df-convert\" onclick=\"convertToInteractive('df-9eb94057-0cfd-42b1-83a4-9315fe50c3cc')\"\n",
              "              title=\"Convert this dataframe to an interactive table.\"\n",
              "              style=\"display:none;\">\n",
              "        \n",
              "  <svg xmlns=\"http://www.w3.org/2000/svg\" height=\"24px\"viewBox=\"0 0 24 24\"\n",
              "       width=\"24px\">\n",
              "    <path d=\"M0 0h24v24H0V0z\" fill=\"none\"/>\n",
              "    <path d=\"M18.56 5.44l.94 2.06.94-2.06 2.06-.94-2.06-.94-.94-2.06-.94 2.06-2.06.94zm-11 1L8.5 8.5l.94-2.06 2.06-.94-2.06-.94L8.5 2.5l-.94 2.06-2.06.94zm10 10l.94 2.06.94-2.06 2.06-.94-2.06-.94-.94-2.06-.94 2.06-2.06.94z\"/><path d=\"M17.41 7.96l-1.37-1.37c-.4-.4-.92-.59-1.43-.59-.52 0-1.04.2-1.43.59L10.3 9.45l-7.72 7.72c-.78.78-.78 2.05 0 2.83L4 21.41c.39.39.9.59 1.41.59.51 0 1.02-.2 1.41-.59l7.78-7.78 2.81-2.81c.8-.78.8-2.07 0-2.86zM5.41 20L4 18.59l7.72-7.72 1.47 1.35L5.41 20z\"/>\n",
              "  </svg>\n",
              "      </button>\n",
              "      \n",
              "  <style>\n",
              "    .colab-df-container {\n",
              "      display:flex;\n",
              "      flex-wrap:wrap;\n",
              "      gap: 12px;\n",
              "    }\n",
              "\n",
              "    .colab-df-convert {\n",
              "      background-color: #E8F0FE;\n",
              "      border: none;\n",
              "      border-radius: 50%;\n",
              "      cursor: pointer;\n",
              "      display: none;\n",
              "      fill: #1967D2;\n",
              "      height: 32px;\n",
              "      padding: 0 0 0 0;\n",
              "      width: 32px;\n",
              "    }\n",
              "\n",
              "    .colab-df-convert:hover {\n",
              "      background-color: #E2EBFA;\n",
              "      box-shadow: 0px 1px 2px rgba(60, 64, 67, 0.3), 0px 1px 3px 1px rgba(60, 64, 67, 0.15);\n",
              "      fill: #174EA6;\n",
              "    }\n",
              "\n",
              "    [theme=dark] .colab-df-convert {\n",
              "      background-color: #3B4455;\n",
              "      fill: #D2E3FC;\n",
              "    }\n",
              "\n",
              "    [theme=dark] .colab-df-convert:hover {\n",
              "      background-color: #434B5C;\n",
              "      box-shadow: 0px 1px 3px 1px rgba(0, 0, 0, 0.15);\n",
              "      filter: drop-shadow(0px 1px 2px rgba(0, 0, 0, 0.3));\n",
              "      fill: #FFFFFF;\n",
              "    }\n",
              "  </style>\n",
              "\n",
              "      <script>\n",
              "        const buttonEl =\n",
              "          document.querySelector('#df-9eb94057-0cfd-42b1-83a4-9315fe50c3cc button.colab-df-convert');\n",
              "        buttonEl.style.display =\n",
              "          google.colab.kernel.accessAllowed ? 'block' : 'none';\n",
              "\n",
              "        async function convertToInteractive(key) {\n",
              "          const element = document.querySelector('#df-9eb94057-0cfd-42b1-83a4-9315fe50c3cc');\n",
              "          const dataTable =\n",
              "            await google.colab.kernel.invokeFunction('convertToInteractive',\n",
              "                                                     [key], {});\n",
              "          if (!dataTable) return;\n",
              "\n",
              "          const docLinkHtml = 'Like what you see? Visit the ' +\n",
              "            '<a target=\"_blank\" href=https://colab.research.google.com/notebooks/data_table.ipynb>data table notebook</a>'\n",
              "            + ' to learn more about interactive tables.';\n",
              "          element.innerHTML = '';\n",
              "          dataTable['output_type'] = 'display_data';\n",
              "          await google.colab.output.renderOutput(dataTable, element);\n",
              "          const docLink = document.createElement('div');\n",
              "          docLink.innerHTML = docLinkHtml;\n",
              "          element.appendChild(docLink);\n",
              "        }\n",
              "      </script>\n",
              "    </div>\n",
              "  </div>\n",
              "  "
            ]
          },
          "metadata": {},
          "execution_count": 59
        }
      ]
    },
    {
      "cell_type": "code",
      "source": [
        "#in order to access specific column, \n",
        "hs['region']"
      ],
      "metadata": {
        "id": "0HWDNyjYDEsX",
        "outputId": "7adebda4-9dfd-45bb-82f4-ebeaafc0ca02",
        "colab": {
          "base_uri": "https://localhost:8080/"
        }
      },
      "execution_count": 60,
      "outputs": [
        {
          "output_type": "execute_result",
          "data": {
            "text/plain": [
              "0     East South Central\n",
              "1                Pacific\n",
              "2               Mountain\n",
              "3     West South Central\n",
              "4                Pacific\n",
              "5               Mountain\n",
              "6            New England\n",
              "7         South Atlantic\n",
              "8         South Atlantic\n",
              "9         South Atlantic\n",
              "10        South Atlantic\n",
              "11               Pacific\n",
              "12              Mountain\n",
              "13    East North Central\n",
              "14    East North Central\n",
              "15    West North Central\n",
              "16    West North Central\n",
              "17    East South Central\n",
              "18    West South Central\n",
              "19           New England\n",
              "20        South Atlantic\n",
              "21           New England\n",
              "22    East North Central\n",
              "23    West North Central\n",
              "24    East South Central\n",
              "25    West North Central\n",
              "26              Mountain\n",
              "27    West North Central\n",
              "28              Mountain\n",
              "29           New England\n",
              "30          Mid-Atlantic\n",
              "31              Mountain\n",
              "32          Mid-Atlantic\n",
              "33        South Atlantic\n",
              "34    West North Central\n",
              "35    East North Central\n",
              "36    West South Central\n",
              "37               Pacific\n",
              "38          Mid-Atlantic\n",
              "39           New England\n",
              "40        South Atlantic\n",
              "41    West North Central\n",
              "42    East South Central\n",
              "43    West South Central\n",
              "44              Mountain\n",
              "45           New England\n",
              "46        South Atlantic\n",
              "47               Pacific\n",
              "48        South Atlantic\n",
              "49    East North Central\n",
              "50              Mountain\n",
              "Name: region, dtype: object"
            ]
          },
          "metadata": {},
          "execution_count": 60
        }
      ]
    },
    {
      "cell_type": "code",
      "source": [
        "#or you can put . and column name after dataframe name\n",
        "hs.region"
      ],
      "metadata": {
        "id": "DYPaR7cgDUqb",
        "outputId": "2691d17f-23fe-4e73-bb39-9d137ff3ed1e",
        "colab": {
          "base_uri": "https://localhost:8080/"
        }
      },
      "execution_count": 61,
      "outputs": [
        {
          "output_type": "execute_result",
          "data": {
            "text/plain": [
              "0     East South Central\n",
              "1                Pacific\n",
              "2               Mountain\n",
              "3     West South Central\n",
              "4                Pacific\n",
              "5               Mountain\n",
              "6            New England\n",
              "7         South Atlantic\n",
              "8         South Atlantic\n",
              "9         South Atlantic\n",
              "10        South Atlantic\n",
              "11               Pacific\n",
              "12              Mountain\n",
              "13    East North Central\n",
              "14    East North Central\n",
              "15    West North Central\n",
              "16    West North Central\n",
              "17    East South Central\n",
              "18    West South Central\n",
              "19           New England\n",
              "20        South Atlantic\n",
              "21           New England\n",
              "22    East North Central\n",
              "23    West North Central\n",
              "24    East South Central\n",
              "25    West North Central\n",
              "26              Mountain\n",
              "27    West North Central\n",
              "28              Mountain\n",
              "29           New England\n",
              "30          Mid-Atlantic\n",
              "31              Mountain\n",
              "32          Mid-Atlantic\n",
              "33        South Atlantic\n",
              "34    West North Central\n",
              "35    East North Central\n",
              "36    West South Central\n",
              "37               Pacific\n",
              "38          Mid-Atlantic\n",
              "39           New England\n",
              "40        South Atlantic\n",
              "41    West North Central\n",
              "42    East South Central\n",
              "43    West South Central\n",
              "44              Mountain\n",
              "45           New England\n",
              "46        South Atlantic\n",
              "47               Pacific\n",
              "48        South Atlantic\n",
              "49    East North Central\n",
              "50              Mountain\n",
              "Name: region, dtype: object"
            ]
          },
          "metadata": {},
          "execution_count": 61
        }
      ]
    },
    {
      "cell_type": "markdown",
      "metadata": {
        "id": "XSdTspWCn8cz"
      },
      "source": [
        "\n",
        "<li>Print the number of rows and columns in <code>homelessness</code>.</li>\n"
      ]
    },
    {
      "cell_type": "code",
      "execution_count": 62,
      "metadata": {
        "colab": {
          "base_uri": "https://localhost:8080/"
        },
        "id": "9iJ9E7t-n8cz",
        "outputId": "ec08c1cb-77dd-4b63-95e6-c8aac250b477"
      },
      "outputs": [
        {
          "output_type": "execute_result",
          "data": {
            "text/plain": [
              "(51, 5)"
            ]
          },
          "metadata": {},
          "execution_count": 62
        }
      ],
      "source": [
        "# Print the shape of homelessness\n",
        "hs.shape\n"
      ]
    },
    {
      "cell_type": "code",
      "source": [
        "#get the rows and columns\n",
        "a=hs.shape\n",
        "print('Number of row :'+str(a[0]))\n",
        "print('Number of column :'+str(a[1]))"
      ],
      "metadata": {
        "id": "e731VRgO6R8A",
        "outputId": "58248f95-c2b6-4413-c52f-dbda8374815c",
        "colab": {
          "base_uri": "https://localhost:8080/"
        }
      },
      "execution_count": 63,
      "outputs": [
        {
          "output_type": "stream",
          "name": "stdout",
          "text": [
            "Number of row :51\n",
            "Number of column :5\n"
          ]
        }
      ]
    },
    {
      "cell_type": "code",
      "source": [
        "#Print the lenght of homelessness data\n",
        "len(hs)"
      ],
      "metadata": {
        "id": "AwwP6X-741vt",
        "outputId": "07576fa2-81ac-4fdf-dd17-aba5a39297a0",
        "colab": {
          "base_uri": "https://localhost:8080/"
        }
      },
      "execution_count": 64,
      "outputs": [
        {
          "output_type": "execute_result",
          "data": {
            "text/plain": [
              "51"
            ]
          },
          "metadata": {},
          "execution_count": 64
        }
      ]
    },
    {
      "cell_type": "markdown",
      "metadata": {
        "id": "ZJu2rrQVn8c0"
      },
      "source": [
        "\n",
        "<li>Print some summary statistics that describe the <code>homelessness</code> DataFrame.</li>\n"
      ]
    },
    {
      "cell_type": "code",
      "execution_count": 65,
      "metadata": {
        "colab": {
          "base_uri": "https://localhost:8080/",
          "height": 300
        },
        "id": "gngC47bYn8c0",
        "outputId": "bcf65c4e-d057-4735-e551-b195177912f8"
      },
      "outputs": [
        {
          "output_type": "execute_result",
          "data": {
            "text/plain": [
              "         individuals  family_members     state_pop\n",
              "count      51.000000       51.000000  5.100000e+01\n",
              "mean     7225.784314     3504.882353  6.405637e+06\n",
              "std     15991.025083     7805.411811  7.327258e+06\n",
              "min       434.000000       75.000000  5.776010e+05\n",
              "25%      1446.500000      592.000000  1.777414e+06\n",
              "50%      3082.000000     1482.000000  4.461153e+06\n",
              "75%      6781.500000     3196.000000  7.340946e+06\n",
              "max    109008.000000    52070.000000  3.946159e+07"
            ],
            "text/html": [
              "\n",
              "  <div id=\"df-ae0d2659-75a7-4c41-9c79-fefae192038d\">\n",
              "    <div class=\"colab-df-container\">\n",
              "      <div>\n",
              "<style scoped>\n",
              "    .dataframe tbody tr th:only-of-type {\n",
              "        vertical-align: middle;\n",
              "    }\n",
              "\n",
              "    .dataframe tbody tr th {\n",
              "        vertical-align: top;\n",
              "    }\n",
              "\n",
              "    .dataframe thead th {\n",
              "        text-align: right;\n",
              "    }\n",
              "</style>\n",
              "<table border=\"1\" class=\"dataframe\">\n",
              "  <thead>\n",
              "    <tr style=\"text-align: right;\">\n",
              "      <th></th>\n",
              "      <th>individuals</th>\n",
              "      <th>family_members</th>\n",
              "      <th>state_pop</th>\n",
              "    </tr>\n",
              "  </thead>\n",
              "  <tbody>\n",
              "    <tr>\n",
              "      <th>count</th>\n",
              "      <td>51.000000</td>\n",
              "      <td>51.000000</td>\n",
              "      <td>5.100000e+01</td>\n",
              "    </tr>\n",
              "    <tr>\n",
              "      <th>mean</th>\n",
              "      <td>7225.784314</td>\n",
              "      <td>3504.882353</td>\n",
              "      <td>6.405637e+06</td>\n",
              "    </tr>\n",
              "    <tr>\n",
              "      <th>std</th>\n",
              "      <td>15991.025083</td>\n",
              "      <td>7805.411811</td>\n",
              "      <td>7.327258e+06</td>\n",
              "    </tr>\n",
              "    <tr>\n",
              "      <th>min</th>\n",
              "      <td>434.000000</td>\n",
              "      <td>75.000000</td>\n",
              "      <td>5.776010e+05</td>\n",
              "    </tr>\n",
              "    <tr>\n",
              "      <th>25%</th>\n",
              "      <td>1446.500000</td>\n",
              "      <td>592.000000</td>\n",
              "      <td>1.777414e+06</td>\n",
              "    </tr>\n",
              "    <tr>\n",
              "      <th>50%</th>\n",
              "      <td>3082.000000</td>\n",
              "      <td>1482.000000</td>\n",
              "      <td>4.461153e+06</td>\n",
              "    </tr>\n",
              "    <tr>\n",
              "      <th>75%</th>\n",
              "      <td>6781.500000</td>\n",
              "      <td>3196.000000</td>\n",
              "      <td>7.340946e+06</td>\n",
              "    </tr>\n",
              "    <tr>\n",
              "      <th>max</th>\n",
              "      <td>109008.000000</td>\n",
              "      <td>52070.000000</td>\n",
              "      <td>3.946159e+07</td>\n",
              "    </tr>\n",
              "  </tbody>\n",
              "</table>\n",
              "</div>\n",
              "      <button class=\"colab-df-convert\" onclick=\"convertToInteractive('df-ae0d2659-75a7-4c41-9c79-fefae192038d')\"\n",
              "              title=\"Convert this dataframe to an interactive table.\"\n",
              "              style=\"display:none;\">\n",
              "        \n",
              "  <svg xmlns=\"http://www.w3.org/2000/svg\" height=\"24px\"viewBox=\"0 0 24 24\"\n",
              "       width=\"24px\">\n",
              "    <path d=\"M0 0h24v24H0V0z\" fill=\"none\"/>\n",
              "    <path d=\"M18.56 5.44l.94 2.06.94-2.06 2.06-.94-2.06-.94-.94-2.06-.94 2.06-2.06.94zm-11 1L8.5 8.5l.94-2.06 2.06-.94-2.06-.94L8.5 2.5l-.94 2.06-2.06.94zm10 10l.94 2.06.94-2.06 2.06-.94-2.06-.94-.94-2.06-.94 2.06-2.06.94z\"/><path d=\"M17.41 7.96l-1.37-1.37c-.4-.4-.92-.59-1.43-.59-.52 0-1.04.2-1.43.59L10.3 9.45l-7.72 7.72c-.78.78-.78 2.05 0 2.83L4 21.41c.39.39.9.59 1.41.59.51 0 1.02-.2 1.41-.59l7.78-7.78 2.81-2.81c.8-.78.8-2.07 0-2.86zM5.41 20L4 18.59l7.72-7.72 1.47 1.35L5.41 20z\"/>\n",
              "  </svg>\n",
              "      </button>\n",
              "      \n",
              "  <style>\n",
              "    .colab-df-container {\n",
              "      display:flex;\n",
              "      flex-wrap:wrap;\n",
              "      gap: 12px;\n",
              "    }\n",
              "\n",
              "    .colab-df-convert {\n",
              "      background-color: #E8F0FE;\n",
              "      border: none;\n",
              "      border-radius: 50%;\n",
              "      cursor: pointer;\n",
              "      display: none;\n",
              "      fill: #1967D2;\n",
              "      height: 32px;\n",
              "      padding: 0 0 0 0;\n",
              "      width: 32px;\n",
              "    }\n",
              "\n",
              "    .colab-df-convert:hover {\n",
              "      background-color: #E2EBFA;\n",
              "      box-shadow: 0px 1px 2px rgba(60, 64, 67, 0.3), 0px 1px 3px 1px rgba(60, 64, 67, 0.15);\n",
              "      fill: #174EA6;\n",
              "    }\n",
              "\n",
              "    [theme=dark] .colab-df-convert {\n",
              "      background-color: #3B4455;\n",
              "      fill: #D2E3FC;\n",
              "    }\n",
              "\n",
              "    [theme=dark] .colab-df-convert:hover {\n",
              "      background-color: #434B5C;\n",
              "      box-shadow: 0px 1px 3px 1px rgba(0, 0, 0, 0.15);\n",
              "      filter: drop-shadow(0px 1px 2px rgba(0, 0, 0, 0.3));\n",
              "      fill: #FFFFFF;\n",
              "    }\n",
              "  </style>\n",
              "\n",
              "      <script>\n",
              "        const buttonEl =\n",
              "          document.querySelector('#df-ae0d2659-75a7-4c41-9c79-fefae192038d button.colab-df-convert');\n",
              "        buttonEl.style.display =\n",
              "          google.colab.kernel.accessAllowed ? 'block' : 'none';\n",
              "\n",
              "        async function convertToInteractive(key) {\n",
              "          const element = document.querySelector('#df-ae0d2659-75a7-4c41-9c79-fefae192038d');\n",
              "          const dataTable =\n",
              "            await google.colab.kernel.invokeFunction('convertToInteractive',\n",
              "                                                     [key], {});\n",
              "          if (!dataTable) return;\n",
              "\n",
              "          const docLinkHtml = 'Like what you see? Visit the ' +\n",
              "            '<a target=\"_blank\" href=https://colab.research.google.com/notebooks/data_table.ipynb>data table notebook</a>'\n",
              "            + ' to learn more about interactive tables.';\n",
              "          element.innerHTML = '';\n",
              "          dataTable['output_type'] = 'display_data';\n",
              "          await google.colab.output.renderOutput(dataTable, element);\n",
              "          const docLink = document.createElement('div');\n",
              "          docLink.innerHTML = docLinkHtml;\n",
              "          element.appendChild(docLink);\n",
              "        }\n",
              "      </script>\n",
              "    </div>\n",
              "  </div>\n",
              "  "
            ]
          },
          "metadata": {},
          "execution_count": 65
        }
      ],
      "source": [
        "# Print a summary stats of homelesness data\n",
        "hs.describe()\n"
      ]
    },
    {
      "cell_type": "markdown",
      "metadata": {
        "id": "mXMhEPJMn8c1"
      },
      "source": [
        "<p class=\"\">Insightful inspecting! You can see that the average number of homeless individuals in each state is about 7226. Let's explore the DataFrame further.</p>\n",
        "\n"
      ]
    },
    {
      "cell_type": "code",
      "source": [
        "#In order to see statistics on non-numerical features, \n",
        "#one has to explicitly indicate data types of interest in the include parameter.\n",
        "hs.describe(include=[\"object\"])"
      ],
      "metadata": {
        "id": "j2A1478jBABr",
        "outputId": "49f30357-27a7-46e1-ef9c-88bcda44a46d",
        "colab": {
          "base_uri": "https://localhost:8080/",
          "height": 175
        }
      },
      "execution_count": 66,
      "outputs": [
        {
          "output_type": "execute_result",
          "data": {
            "text/plain": [
              "                region    state\n",
              "count               51       51\n",
              "unique               9       51\n",
              "top     South Atlantic  Alabama\n",
              "freq                 9        1"
            ],
            "text/html": [
              "\n",
              "  <div id=\"df-6600f340-1d1e-47d9-b593-ef2e14f7d027\">\n",
              "    <div class=\"colab-df-container\">\n",
              "      <div>\n",
              "<style scoped>\n",
              "    .dataframe tbody tr th:only-of-type {\n",
              "        vertical-align: middle;\n",
              "    }\n",
              "\n",
              "    .dataframe tbody tr th {\n",
              "        vertical-align: top;\n",
              "    }\n",
              "\n",
              "    .dataframe thead th {\n",
              "        text-align: right;\n",
              "    }\n",
              "</style>\n",
              "<table border=\"1\" class=\"dataframe\">\n",
              "  <thead>\n",
              "    <tr style=\"text-align: right;\">\n",
              "      <th></th>\n",
              "      <th>region</th>\n",
              "      <th>state</th>\n",
              "    </tr>\n",
              "  </thead>\n",
              "  <tbody>\n",
              "    <tr>\n",
              "      <th>count</th>\n",
              "      <td>51</td>\n",
              "      <td>51</td>\n",
              "    </tr>\n",
              "    <tr>\n",
              "      <th>unique</th>\n",
              "      <td>9</td>\n",
              "      <td>51</td>\n",
              "    </tr>\n",
              "    <tr>\n",
              "      <th>top</th>\n",
              "      <td>South Atlantic</td>\n",
              "      <td>Alabama</td>\n",
              "    </tr>\n",
              "    <tr>\n",
              "      <th>freq</th>\n",
              "      <td>9</td>\n",
              "      <td>1</td>\n",
              "    </tr>\n",
              "  </tbody>\n",
              "</table>\n",
              "</div>\n",
              "      <button class=\"colab-df-convert\" onclick=\"convertToInteractive('df-6600f340-1d1e-47d9-b593-ef2e14f7d027')\"\n",
              "              title=\"Convert this dataframe to an interactive table.\"\n",
              "              style=\"display:none;\">\n",
              "        \n",
              "  <svg xmlns=\"http://www.w3.org/2000/svg\" height=\"24px\"viewBox=\"0 0 24 24\"\n",
              "       width=\"24px\">\n",
              "    <path d=\"M0 0h24v24H0V0z\" fill=\"none\"/>\n",
              "    <path d=\"M18.56 5.44l.94 2.06.94-2.06 2.06-.94-2.06-.94-.94-2.06-.94 2.06-2.06.94zm-11 1L8.5 8.5l.94-2.06 2.06-.94-2.06-.94L8.5 2.5l-.94 2.06-2.06.94zm10 10l.94 2.06.94-2.06 2.06-.94-2.06-.94-.94-2.06-.94 2.06-2.06.94z\"/><path d=\"M17.41 7.96l-1.37-1.37c-.4-.4-.92-.59-1.43-.59-.52 0-1.04.2-1.43.59L10.3 9.45l-7.72 7.72c-.78.78-.78 2.05 0 2.83L4 21.41c.39.39.9.59 1.41.59.51 0 1.02-.2 1.41-.59l7.78-7.78 2.81-2.81c.8-.78.8-2.07 0-2.86zM5.41 20L4 18.59l7.72-7.72 1.47 1.35L5.41 20z\"/>\n",
              "  </svg>\n",
              "      </button>\n",
              "      \n",
              "  <style>\n",
              "    .colab-df-container {\n",
              "      display:flex;\n",
              "      flex-wrap:wrap;\n",
              "      gap: 12px;\n",
              "    }\n",
              "\n",
              "    .colab-df-convert {\n",
              "      background-color: #E8F0FE;\n",
              "      border: none;\n",
              "      border-radius: 50%;\n",
              "      cursor: pointer;\n",
              "      display: none;\n",
              "      fill: #1967D2;\n",
              "      height: 32px;\n",
              "      padding: 0 0 0 0;\n",
              "      width: 32px;\n",
              "    }\n",
              "\n",
              "    .colab-df-convert:hover {\n",
              "      background-color: #E2EBFA;\n",
              "      box-shadow: 0px 1px 2px rgba(60, 64, 67, 0.3), 0px 1px 3px 1px rgba(60, 64, 67, 0.15);\n",
              "      fill: #174EA6;\n",
              "    }\n",
              "\n",
              "    [theme=dark] .colab-df-convert {\n",
              "      background-color: #3B4455;\n",
              "      fill: #D2E3FC;\n",
              "    }\n",
              "\n",
              "    [theme=dark] .colab-df-convert:hover {\n",
              "      background-color: #434B5C;\n",
              "      box-shadow: 0px 1px 3px 1px rgba(0, 0, 0, 0.15);\n",
              "      filter: drop-shadow(0px 1px 2px rgba(0, 0, 0, 0.3));\n",
              "      fill: #FFFFFF;\n",
              "    }\n",
              "  </style>\n",
              "\n",
              "      <script>\n",
              "        const buttonEl =\n",
              "          document.querySelector('#df-6600f340-1d1e-47d9-b593-ef2e14f7d027 button.colab-df-convert');\n",
              "        buttonEl.style.display =\n",
              "          google.colab.kernel.accessAllowed ? 'block' : 'none';\n",
              "\n",
              "        async function convertToInteractive(key) {\n",
              "          const element = document.querySelector('#df-6600f340-1d1e-47d9-b593-ef2e14f7d027');\n",
              "          const dataTable =\n",
              "            await google.colab.kernel.invokeFunction('convertToInteractive',\n",
              "                                                     [key], {});\n",
              "          if (!dataTable) return;\n",
              "\n",
              "          const docLinkHtml = 'Like what you see? Visit the ' +\n",
              "            '<a target=\"_blank\" href=https://colab.research.google.com/notebooks/data_table.ipynb>data table notebook</a>'\n",
              "            + ' to learn more about interactive tables.';\n",
              "          element.innerHTML = '';\n",
              "          dataTable['output_type'] = 'display_data';\n",
              "          await google.colab.output.renderOutput(dataTable, element);\n",
              "          const docLink = document.createElement('div');\n",
              "          docLink.innerHTML = docLinkHtml;\n",
              "          element.appendChild(docLink);\n",
              "        }\n",
              "      </script>\n",
              "    </div>\n",
              "  </div>\n",
              "  "
            ]
          },
          "metadata": {},
          "execution_count": 66
        }
      ]
    },
    {
      "cell_type": "code",
      "source": [
        "#Get frequincies by region\n",
        "hs['region'].value_counts()"
      ],
      "metadata": {
        "id": "qFMYMwzNBYA4",
        "outputId": "cf8dc016-20ab-4d9e-8af4-3028a5d37d1c",
        "colab": {
          "base_uri": "https://localhost:8080/"
        }
      },
      "execution_count": 67,
      "outputs": [
        {
          "output_type": "execute_result",
          "data": {
            "text/plain": [
              "South Atlantic        9\n",
              "Mountain              8\n",
              "West North Central    7\n",
              "New England           6\n",
              "Pacific               5\n",
              "East North Central    5\n",
              "East South Central    4\n",
              "West South Central    4\n",
              "Mid-Atlantic          3\n",
              "Name: region, dtype: int64"
            ]
          },
          "metadata": {},
          "execution_count": 67
        }
      ]
    },
    {
      "cell_type": "code",
      "source": [
        "#To calculate fractions, pass normalize=True to the value_counts function.\n",
        "hs['region'].value_counts(normalize=True)"
      ],
      "metadata": {
        "id": "mTFUt8coCtpE",
        "outputId": "b316ae64-8684-4be5-b2a0-b0b9810f633d",
        "colab": {
          "base_uri": "https://localhost:8080/"
        }
      },
      "execution_count": 68,
      "outputs": [
        {
          "output_type": "execute_result",
          "data": {
            "text/plain": [
              "South Atlantic        0.176471\n",
              "Mountain              0.156863\n",
              "West North Central    0.137255\n",
              "New England           0.117647\n",
              "Pacific               0.098039\n",
              "East North Central    0.098039\n",
              "East South Central    0.078431\n",
              "West South Central    0.078431\n",
              "Mid-Atlantic          0.058824\n",
              "Name: region, dtype: float64"
            ]
          },
          "metadata": {},
          "execution_count": 68
        }
      ]
    },
    {
      "cell_type": "code",
      "source": [
        "#Get the correlation matrix of homeleness dataframe\n",
        "hs.corr()"
      ],
      "metadata": {
        "id": "Jk6BLITYASSg",
        "outputId": "12aa17c7-5d98-4494-db35-fbe3a0f2495b",
        "colab": {
          "base_uri": "https://localhost:8080/",
          "height": 143
        }
      },
      "execution_count": 69,
      "outputs": [
        {
          "output_type": "execute_result",
          "data": {
            "text/plain": [
              "                individuals  family_members  state_pop\n",
              "individuals        1.000000        0.631426   0.834960\n",
              "family_members     0.631426        1.000000   0.589913\n",
              "state_pop          0.834960        0.589913   1.000000"
            ],
            "text/html": [
              "\n",
              "  <div id=\"df-47ce4c1e-8c1e-4f43-be64-f11e492732bb\">\n",
              "    <div class=\"colab-df-container\">\n",
              "      <div>\n",
              "<style scoped>\n",
              "    .dataframe tbody tr th:only-of-type {\n",
              "        vertical-align: middle;\n",
              "    }\n",
              "\n",
              "    .dataframe tbody tr th {\n",
              "        vertical-align: top;\n",
              "    }\n",
              "\n",
              "    .dataframe thead th {\n",
              "        text-align: right;\n",
              "    }\n",
              "</style>\n",
              "<table border=\"1\" class=\"dataframe\">\n",
              "  <thead>\n",
              "    <tr style=\"text-align: right;\">\n",
              "      <th></th>\n",
              "      <th>individuals</th>\n",
              "      <th>family_members</th>\n",
              "      <th>state_pop</th>\n",
              "    </tr>\n",
              "  </thead>\n",
              "  <tbody>\n",
              "    <tr>\n",
              "      <th>individuals</th>\n",
              "      <td>1.000000</td>\n",
              "      <td>0.631426</td>\n",
              "      <td>0.834960</td>\n",
              "    </tr>\n",
              "    <tr>\n",
              "      <th>family_members</th>\n",
              "      <td>0.631426</td>\n",
              "      <td>1.000000</td>\n",
              "      <td>0.589913</td>\n",
              "    </tr>\n",
              "    <tr>\n",
              "      <th>state_pop</th>\n",
              "      <td>0.834960</td>\n",
              "      <td>0.589913</td>\n",
              "      <td>1.000000</td>\n",
              "    </tr>\n",
              "  </tbody>\n",
              "</table>\n",
              "</div>\n",
              "      <button class=\"colab-df-convert\" onclick=\"convertToInteractive('df-47ce4c1e-8c1e-4f43-be64-f11e492732bb')\"\n",
              "              title=\"Convert this dataframe to an interactive table.\"\n",
              "              style=\"display:none;\">\n",
              "        \n",
              "  <svg xmlns=\"http://www.w3.org/2000/svg\" height=\"24px\"viewBox=\"0 0 24 24\"\n",
              "       width=\"24px\">\n",
              "    <path d=\"M0 0h24v24H0V0z\" fill=\"none\"/>\n",
              "    <path d=\"M18.56 5.44l.94 2.06.94-2.06 2.06-.94-2.06-.94-.94-2.06-.94 2.06-2.06.94zm-11 1L8.5 8.5l.94-2.06 2.06-.94-2.06-.94L8.5 2.5l-.94 2.06-2.06.94zm10 10l.94 2.06.94-2.06 2.06-.94-2.06-.94-.94-2.06-.94 2.06-2.06.94z\"/><path d=\"M17.41 7.96l-1.37-1.37c-.4-.4-.92-.59-1.43-.59-.52 0-1.04.2-1.43.59L10.3 9.45l-7.72 7.72c-.78.78-.78 2.05 0 2.83L4 21.41c.39.39.9.59 1.41.59.51 0 1.02-.2 1.41-.59l7.78-7.78 2.81-2.81c.8-.78.8-2.07 0-2.86zM5.41 20L4 18.59l7.72-7.72 1.47 1.35L5.41 20z\"/>\n",
              "  </svg>\n",
              "      </button>\n",
              "      \n",
              "  <style>\n",
              "    .colab-df-container {\n",
              "      display:flex;\n",
              "      flex-wrap:wrap;\n",
              "      gap: 12px;\n",
              "    }\n",
              "\n",
              "    .colab-df-convert {\n",
              "      background-color: #E8F0FE;\n",
              "      border: none;\n",
              "      border-radius: 50%;\n",
              "      cursor: pointer;\n",
              "      display: none;\n",
              "      fill: #1967D2;\n",
              "      height: 32px;\n",
              "      padding: 0 0 0 0;\n",
              "      width: 32px;\n",
              "    }\n",
              "\n",
              "    .colab-df-convert:hover {\n",
              "      background-color: #E2EBFA;\n",
              "      box-shadow: 0px 1px 2px rgba(60, 64, 67, 0.3), 0px 1px 3px 1px rgba(60, 64, 67, 0.15);\n",
              "      fill: #174EA6;\n",
              "    }\n",
              "\n",
              "    [theme=dark] .colab-df-convert {\n",
              "      background-color: #3B4455;\n",
              "      fill: #D2E3FC;\n",
              "    }\n",
              "\n",
              "    [theme=dark] .colab-df-convert:hover {\n",
              "      background-color: #434B5C;\n",
              "      box-shadow: 0px 1px 3px 1px rgba(0, 0, 0, 0.15);\n",
              "      filter: drop-shadow(0px 1px 2px rgba(0, 0, 0, 0.3));\n",
              "      fill: #FFFFFF;\n",
              "    }\n",
              "  </style>\n",
              "\n",
              "      <script>\n",
              "        const buttonEl =\n",
              "          document.querySelector('#df-47ce4c1e-8c1e-4f43-be64-f11e492732bb button.colab-df-convert');\n",
              "        buttonEl.style.display =\n",
              "          google.colab.kernel.accessAllowed ? 'block' : 'none';\n",
              "\n",
              "        async function convertToInteractive(key) {\n",
              "          const element = document.querySelector('#df-47ce4c1e-8c1e-4f43-be64-f11e492732bb');\n",
              "          const dataTable =\n",
              "            await google.colab.kernel.invokeFunction('convertToInteractive',\n",
              "                                                     [key], {});\n",
              "          if (!dataTable) return;\n",
              "\n",
              "          const docLinkHtml = 'Like what you see? Visit the ' +\n",
              "            '<a target=\"_blank\" href=https://colab.research.google.com/notebooks/data_table.ipynb>data table notebook</a>'\n",
              "            + ' to learn more about interactive tables.';\n",
              "          element.innerHTML = '';\n",
              "          dataTable['output_type'] = 'display_data';\n",
              "          await google.colab.output.renderOutput(dataTable, element);\n",
              "          const docLink = document.createElement('div');\n",
              "          docLink.innerHTML = docLinkHtml;\n",
              "          element.appendChild(docLink);\n",
              "        }\n",
              "      </script>\n",
              "    </div>\n",
              "  </div>\n",
              "  "
            ]
          },
          "metadata": {},
          "execution_count": 69
        }
      ]
    },
    {
      "cell_type": "markdown",
      "source": [
        "### Parts of a DataFrame\n",
        "\n",
        "\n",
        "<div class>\n",
        "<p>To better understand DataFrame objects, it's useful to know that they consist of three components, stored as attributes:</p>\n",
        "<ul>\n",
        "<li>\n",
        "<code>.values</code>: A two-dimensional NumPy array of values.</li>\n",
        "<li>\n",
        "<code>.columns</code>: An index of columns: the column names.</li>\n",
        "<li>\n",
        "<code>.index</code>: An index for the rows: either row numbers or row names.</li>\n",
        "</ul>\n",
        "<p>You can usually think of indexes as a list of strings or numbers, though the pandas <code>Index</code> data type allows for more sophisticated options. (These will be covered later in the course.)</p>\n",
        "<p><code>homelessness</code> is available.</p>\n",
        "</div>\n",
        "\n",
        "<li>Import <code>pandas</code> using the alias <code>pd</code>.</li>\n"
      ],
      "metadata": {
        "id": "c0TT3qWloU4D"
      }
    },
    {
      "cell_type": "code",
      "execution_count": null,
      "metadata": {
        "id": "a24f_jsbn8c1"
      },
      "outputs": [],
      "source": [
        "# Import pandas using the alias pd\n",
        "import pandas as pd\n"
      ]
    },
    {
      "cell_type": "markdown",
      "metadata": {
        "id": "LNbznsAfn8c1"
      },
      "source": [
        "<li>Print a 2D NumPy array of the values in <code>homelessness</code>.</li>\n"
      ]
    },
    {
      "cell_type": "code",
      "execution_count": 70,
      "metadata": {
        "colab": {
          "base_uri": "https://localhost:8080/"
        },
        "id": "Vmq0FTJQn8c1",
        "outputId": "863aa2e8-a3ad-4638-bebf-aa943d2ada6a"
      },
      "outputs": [
        {
          "output_type": "execute_result",
          "data": {
            "text/plain": [
              "array([['East South Central', 'Alabama', 2570.0, 864.0, 4887681],\n",
              "       ['Pacific', 'Alaska', 1434.0, 582.0, 735139],\n",
              "       ['Mountain', 'Arizona', 7259.0, 2606.0, 7158024],\n",
              "       ['West South Central', 'Arkansas', 2280.0, 432.0, 3009733],\n",
              "       ['Pacific', 'California', 109008.0, 20964.0, 39461588],\n",
              "       ['Mountain', 'Colorado', 7607.0, 3250.0, 5691287],\n",
              "       ['New England', 'Connecticut', 2280.0, 1696.0, 3571520],\n",
              "       ['South Atlantic', 'Delaware', 708.0, 374.0, 965479],\n",
              "       ['South Atlantic', 'District of Columbia', 3770.0, 3134.0, 701547],\n",
              "       ['South Atlantic', 'Florida', 21443.0, 9587.0, 21244317],\n",
              "       ['South Atlantic', 'Georgia', 6943.0, 2556.0, 10511131],\n",
              "       ['Pacific', 'Hawaii', 4131.0, 2399.0, 1420593],\n",
              "       ['Mountain', 'Idaho', 1297.0, 715.0, 1750536],\n",
              "       ['East North Central', 'Illinois', 6752.0, 3891.0, 12723071],\n",
              "       ['East North Central', 'Indiana', 3776.0, 1482.0, 6695497],\n",
              "       ['West North Central', 'Iowa', 1711.0, 1038.0, 3148618],\n",
              "       ['West North Central', 'Kansas', 1443.0, 773.0, 2911359],\n",
              "       ['East South Central', 'Kentucky', 2735.0, 953.0, 4461153],\n",
              "       ['West South Central', 'Louisiana', 2540.0, 519.0, 4659690],\n",
              "       ['New England', 'Maine', 1450.0, 1066.0, 1339057],\n",
              "       ['South Atlantic', 'Maryland', 4914.0, 2230.0, 6035802],\n",
              "       ['New England', 'Massachusetts', 6811.0, 13257.0, 6882635],\n",
              "       ['East North Central', 'Michigan', 5209.0, 3142.0, 9984072],\n",
              "       ['West North Central', 'Minnesota', 3993.0, 3250.0, 5606249],\n",
              "       ['East South Central', 'Mississippi', 1024.0, 328.0, 2981020],\n",
              "       ['West North Central', 'Missouri', 3776.0, 2107.0, 6121623],\n",
              "       ['Mountain', 'Montana', 983.0, 422.0, 1060665],\n",
              "       ['West North Central', 'Nebraska', 1745.0, 676.0, 1925614],\n",
              "       ['Mountain', 'Nevada', 7058.0, 486.0, 3027341],\n",
              "       ['New England', 'New Hampshire', 835.0, 615.0, 1353465],\n",
              "       ['Mid-Atlantic', 'New Jersey', 6048.0, 3350.0, 8886025],\n",
              "       ['Mountain', 'New Mexico', 1949.0, 602.0, 2092741],\n",
              "       ['Mid-Atlantic', 'New York', 39827.0, 52070.0, 19530351],\n",
              "       ['South Atlantic', 'North Carolina', 6451.0, 2817.0, 10381615],\n",
              "       ['West North Central', 'North Dakota', 467.0, 75.0, 758080],\n",
              "       ['East North Central', 'Ohio', 6929.0, 3320.0, 11676341],\n",
              "       ['West South Central', 'Oklahoma', 2823.0, 1048.0, 3940235],\n",
              "       ['Pacific', 'Oregon', 11139.0, 3337.0, 4181886],\n",
              "       ['Mid-Atlantic', 'Pennsylvania', 8163.0, 5349.0, 12800922],\n",
              "       ['New England', 'Rhode Island', 747.0, 354.0, 1058287],\n",
              "       ['South Atlantic', 'South Carolina', 3082.0, 851.0, 5084156],\n",
              "       ['West North Central', 'South Dakota', 836.0, 323.0, 878698],\n",
              "       ['East South Central', 'Tennessee', 6139.0, 1744.0, 6771631],\n",
              "       ['West South Central', 'Texas', 19199.0, 6111.0, 28628666],\n",
              "       ['Mountain', 'Utah', 1904.0, 972.0, 3153550],\n",
              "       ['New England', 'Vermont', 780.0, 511.0, 624358],\n",
              "       ['South Atlantic', 'Virginia', 3928.0, 2047.0, 8501286],\n",
              "       ['Pacific', 'Washington', 16424.0, 5880.0, 7523869],\n",
              "       ['South Atlantic', 'West Virginia', 1021.0, 222.0, 1804291],\n",
              "       ['East North Central', 'Wisconsin', 2740.0, 2167.0, 5807406],\n",
              "       ['Mountain', 'Wyoming', 434.0, 205.0, 577601]], dtype=object)"
            ]
          },
          "metadata": {},
          "execution_count": 70
        }
      ],
      "source": [
        "# Print the values of homelessness\n",
        "hs.values\n"
      ]
    },
    {
      "cell_type": "markdown",
      "metadata": {
        "id": "xdx6NJA-n8c1"
      },
      "source": [
        "<li>Print the column names of <code>homelessness</code>.</li>\n"
      ]
    },
    {
      "cell_type": "code",
      "execution_count": 71,
      "metadata": {
        "colab": {
          "base_uri": "https://localhost:8080/"
        },
        "id": "izKC5uF5n8c2",
        "outputId": "58b15e46-15fe-44ac-e2fa-309b6cc7c5f2"
      },
      "outputs": [
        {
          "output_type": "execute_result",
          "data": {
            "text/plain": [
              "Index(['region', 'state', 'individuals', 'family_members', 'state_pop'], dtype='object')"
            ]
          },
          "metadata": {},
          "execution_count": 71
        }
      ],
      "source": [
        "# Print the column index of homelessness\n",
        "hs.columns\n"
      ]
    },
    {
      "cell_type": "markdown",
      "metadata": {
        "id": "qABEoSmIn8c2"
      },
      "source": [
        "<li>Print the index of <code>homelessness</code>.</li>\n"
      ]
    },
    {
      "cell_type": "code",
      "execution_count": 72,
      "metadata": {
        "colab": {
          "base_uri": "https://localhost:8080/"
        },
        "id": "6KeqxSszn8c2",
        "outputId": "859291d9-5e63-435f-f672-aa9d72b35568"
      },
      "outputs": [
        {
          "output_type": "execute_result",
          "data": {
            "text/plain": [
              "Int64Index([ 0,  1,  2,  3,  4,  5,  6,  7,  8,  9, 10, 11, 12, 13, 14, 15, 16,\n",
              "            17, 18, 19, 20, 21, 22, 23, 24, 25, 26, 27, 28, 29, 30, 31, 32, 33,\n",
              "            34, 35, 36, 37, 38, 39, 40, 41, 42, 43, 44, 45, 46, 47, 48, 49,\n",
              "            50],\n",
              "           dtype='int64')"
            ]
          },
          "metadata": {},
          "execution_count": 72
        }
      ],
      "source": [
        "# Print the row index of homelessness\n",
        "hs.index\n"
      ]
    },
    {
      "cell_type": "markdown",
      "metadata": {
        "id": "vjAU2eUgn8c2"
      },
      "source": [
        "<p class=\"\">Dynamite <code>DataFrame</code> dissection! <code>DataFrame</code>s have three components: values, a column index, and a row index.</p>\n",
        "\n"
      ]
    },
    {
      "cell_type": "markdown",
      "source": [
        "## Sorting and subsetting\n",
        "\n",
        "\n",
        "\n"
      ],
      "metadata": {
        "id": "IjdpChE9oqZO"
      }
    },
    {
      "cell_type": "markdown",
      "source": [
        "### Sorting rows\n",
        "\n",
        "\n",
        "<div class>\n",
        "<p>Finding interesting bits of data in a DataFrame is often easier if you change the order of the rows. You can sort the rows by passing a column name to <code>.sort_values()</code>.</p>\n",
        "<p>In cases where rows have the same value (this is common if you sort on a categorical variable), you may wish to break the ties by sorting on another column. You can sort on multiple columns in this way by passing a list of column names.</p>\n",
        "<table>\n",
        "<thead><tr>\n",
        "<th>Sort on …</th>\n",
        "<th>Syntax</th>\n",
        "</tr></thead>\n",
        "<tbody>\n",
        "<tr>\n",
        "<td>one column</td>\n",
        "<td><code>df.sort_values(\"breed\")</code></td>\n",
        "</tr>\n",
        "<tr>\n",
        "<td>multiple columns</td>\n",
        "<td><code>df.sort_values([\"breed\", \"weight_kg\"])</code></td>\n",
        "</tr>\n",
        "</tbody>\n",
        "</table>\n",
        "<p>By combining <code>.sort_values()</code> with <code>.head()</code>, you can answer questions in the form, \"What are the top cases where…?\".</p>\n",
        "<p><code>homelessness</code> is available and <code>pandas</code> is loaded as <code>pd</code>.</p>\n",
        "</div>\n",
        "\n",
        "<li>Sort <code>homelessness</code> by the number of homeless individuals, from smallest to largest, and save this as <code>homelessness_ind</code>.</li>\n"
      ],
      "metadata": {
        "id": "WVCROX-PorR2"
      }
    },
    {
      "cell_type": "code",
      "execution_count": 74,
      "metadata": {
        "id": "s6zcifiVn8c2"
      },
      "outputs": [],
      "source": [
        "# Sort homelessness by individuals\n",
        "hs_ind = hs.sort_values(\"individuals\")\n"
      ]
    },
    {
      "cell_type": "markdown",
      "metadata": {
        "id": "dL4tbrfdn8c2"
      },
      "source": [
        "<li>Print the head of the sorted DataFrame.</li>\n"
      ]
    },
    {
      "cell_type": "code",
      "execution_count": 75,
      "metadata": {
        "colab": {
          "base_uri": "https://localhost:8080/"
        },
        "id": "zYHRV1_Yn8c2",
        "outputId": "a702690d-3ebe-4bdb-8442-b111be9f785e"
      },
      "outputs": [
        {
          "output_type": "stream",
          "name": "stdout",
          "text": [
            "                region         state  individuals  family_members  state_pop\n",
            "50            Mountain       Wyoming        434.0           205.0     577601\n",
            "34  West North Central  North Dakota        467.0            75.0     758080\n",
            "7       South Atlantic      Delaware        708.0           374.0     965479\n",
            "39         New England  Rhode Island        747.0           354.0    1058287\n",
            "45         New England       Vermont        780.0           511.0     624358\n"
          ]
        }
      ],
      "source": [
        "# Print the top few rows\n",
        "print(hs_ind.head())\n"
      ]
    },
    {
      "cell_type": "markdown",
      "metadata": {
        "id": "ZQvh7xnYn8c3"
      },
      "source": [
        "\n",
        "<li>Sort <code>homelessness</code> by the number of homeless <code>family_members</code> in descending order, and save this as <code>homelessness_fam</code>.</li>\n"
      ]
    },
    {
      "cell_type": "code",
      "execution_count": 76,
      "metadata": {
        "id": "m07M5BHyn8c3"
      },
      "outputs": [],
      "source": [
        "# Sort homelessness by descending family members\n",
        "hs_fam = hs.sort_values(\"family_members\", ascending=False)\n"
      ]
    },
    {
      "cell_type": "markdown",
      "metadata": {
        "id": "9Xef0F_yn8c3"
      },
      "source": [
        "<li>Print the head of the sorted DataFrame.</li>\n"
      ]
    },
    {
      "cell_type": "code",
      "execution_count": 77,
      "metadata": {
        "colab": {
          "base_uri": "https://localhost:8080/"
        },
        "id": "tw-k4f1Zn8c3",
        "outputId": "9c6046e6-8661-4a36-b944-60e1b34f2daf"
      },
      "outputs": [
        {
          "output_type": "stream",
          "name": "stdout",
          "text": [
            "                region          state  individuals  family_members  state_pop\n",
            "32        Mid-Atlantic       New York      39827.0         52070.0   19530351\n",
            "4              Pacific     California     109008.0         20964.0   39461588\n",
            "21         New England  Massachusetts       6811.0         13257.0    6882635\n",
            "9       South Atlantic        Florida      21443.0          9587.0   21244317\n",
            "43  West South Central          Texas      19199.0          6111.0   28628666\n"
          ]
        }
      ],
      "source": [
        "# Print the top few rows\n",
        "print(hs_fam.head())\n"
      ]
    },
    {
      "cell_type": "markdown",
      "metadata": {
        "id": "9q_tgorhn8c3"
      },
      "source": [
        "\n",
        "<li>Sort <code>homelessness</code> first by region (ascending), and then by number of family members (descending). Save this as <code>homelessness_reg_fam</code>.</li>\n"
      ]
    },
    {
      "cell_type": "code",
      "execution_count": 78,
      "metadata": {
        "id": "iIQR2dyyn8c3"
      },
      "outputs": [],
      "source": [
        "# Sort homelessness by region, then descending family members\n",
        "hs_reg_fam = hs.sort_values([\"region\", \"family_members\"], ascending=[True, False])\n"
      ]
    },
    {
      "cell_type": "markdown",
      "metadata": {
        "id": "Bh94biGin8c3"
      },
      "source": [
        "<li>Print the head of the sorted DataFrame.</li>\n"
      ]
    },
    {
      "cell_type": "code",
      "execution_count": 79,
      "metadata": {
        "colab": {
          "base_uri": "https://localhost:8080/"
        },
        "id": "PKBSBBusn8c3",
        "outputId": "afa9cc3b-336f-44b5-fe5f-bdb5cf899b02"
      },
      "outputs": [
        {
          "output_type": "stream",
          "name": "stdout",
          "text": [
            "                region      state  individuals  family_members  state_pop\n",
            "13  East North Central   Illinois       6752.0          3891.0   12723071\n",
            "35  East North Central       Ohio       6929.0          3320.0   11676341\n",
            "22  East North Central   Michigan       5209.0          3142.0    9984072\n",
            "49  East North Central  Wisconsin       2740.0          2167.0    5807406\n",
            "14  East North Central    Indiana       3776.0          1482.0    6695497\n"
          ]
        }
      ],
      "source": [
        "# Print the top few rows\n",
        "print(hs_reg_fam.head())\n"
      ]
    },
    {
      "cell_type": "markdown",
      "metadata": {
        "id": "Jjj2qxhnn8c4"
      },
      "source": [
        "<p class=\"\">Your head is sorted! Using <code>.sort_values()</code> and <code>.head()</code> form a powerful pair.</p>\n",
        "\n"
      ]
    },
    {
      "cell_type": "markdown",
      "source": [
        "### Subsetting columns\n",
        "\n",
        "\n",
        "<div class>\n",
        "<p>When working with data, you may not need all of the variables in your dataset. Square brackets (<code>[]</code>) can be used to select only the columns that matter to you in an order that makes sense to you.\n",
        "To select only <code>\"col_a\"</code> of the DataFrame <code>df</code>, use</p>\n",
        "<pre><code>df[\"col_a\"]\n",
        "</code></pre>\n",
        "<p>To select <code>\"col_a\"</code> and <code>\"col_b\"</code> of <code>df</code>, use</p>\n",
        "<pre><code>df[[\"col_a\", \"col_b\"]]\n",
        "</code></pre>\n",
        "<p><code>homelessness</code> is available and <code>pandas</code> is loaded as <code>pd</code>.</p>\n",
        "</div>\n",
        "\n",
        "<li>Create a DataFrame called <code>individuals</code> that contains only the <code>individuals</code> column of <code>homelessness</code>.</li>\n"
      ],
      "metadata": {
        "id": "FV_XDWjTotGy"
      }
    },
    {
      "cell_type": "code",
      "execution_count": 80,
      "metadata": {
        "id": "apF9LEnAn8c4"
      },
      "outputs": [],
      "source": [
        "# Select the individuals column\n",
        "\n",
        "individuals = hs[\"individuals\"]\n"
      ]
    },
    {
      "cell_type": "markdown",
      "metadata": {
        "id": "Iqi2rAbLn8c4"
      },
      "source": [
        "<li>Print the head of the result.</li>\n"
      ]
    },
    {
      "cell_type": "code",
      "execution_count": 81,
      "metadata": {
        "colab": {
          "base_uri": "https://localhost:8080/"
        },
        "id": "Icqera0ln8c4",
        "outputId": "a5282aa4-1951-404e-ae42-b0e294dc2e12"
      },
      "outputs": [
        {
          "output_type": "stream",
          "name": "stdout",
          "text": [
            "0      2570.0\n",
            "1      1434.0\n",
            "2      7259.0\n",
            "3      2280.0\n",
            "4    109008.0\n",
            "Name: individuals, dtype: float64\n"
          ]
        }
      ],
      "source": [
        "# Print the head of the result\n",
        "print(individuals.head())\n"
      ]
    },
    {
      "cell_type": "markdown",
      "metadata": {
        "id": "1OqBRixNn8c4"
      },
      "source": [
        "\n",
        "<li>Create a DataFrame called <code>state_fam</code> that contains only the <code>state</code> and <code>family_members</code> columns of <code>homelessness</code>, in that order.</li>\n"
      ]
    },
    {
      "cell_type": "code",
      "execution_count": 82,
      "metadata": {
        "id": "tyx2e_97n8c4"
      },
      "outputs": [],
      "source": [
        "# Select the state and family_members columns\n",
        "state_fam = hs[[\"state\", \"family_members\"]]\n"
      ]
    },
    {
      "cell_type": "markdown",
      "metadata": {
        "id": "MG1_kK8wn8c4"
      },
      "source": [
        "<li>Print the head of the result.</li>\n"
      ]
    },
    {
      "cell_type": "code",
      "execution_count": 83,
      "metadata": {
        "colab": {
          "base_uri": "https://localhost:8080/"
        },
        "id": "o9R_HxK0n8c4",
        "outputId": "58ff831f-e909-448e-b581-e3bd3da022f1"
      },
      "outputs": [
        {
          "output_type": "stream",
          "name": "stdout",
          "text": [
            "        state  family_members\n",
            "0     Alabama           864.0\n",
            "1      Alaska           582.0\n",
            "2     Arizona          2606.0\n",
            "3    Arkansas           432.0\n",
            "4  California         20964.0\n"
          ]
        }
      ],
      "source": [
        "# Print the head of the result\n",
        "print(state_fam.head())\n"
      ]
    },
    {
      "cell_type": "markdown",
      "metadata": {
        "id": "u5Z7Q30_n8c5"
      },
      "source": [
        "\n",
        "<li>Create a DataFrame called <code>ind_state</code> that contains the <code>individuals</code> and <code>state</code> columns of <code>homelessness</code>, in that order.</li>\n"
      ]
    },
    {
      "cell_type": "code",
      "execution_count": 84,
      "metadata": {
        "id": "NcISLnKxn8c5"
      },
      "outputs": [],
      "source": [
        "# Select only the individuals and state columns, in that order\n",
        "ind_state = hs[[\"individuals\", \"state\"]]\n"
      ]
    },
    {
      "cell_type": "markdown",
      "metadata": {
        "id": "fIX0h2ifn8c5"
      },
      "source": [
        "<li>Print the head of the result.</li>\n"
      ]
    },
    {
      "cell_type": "code",
      "execution_count": 85,
      "metadata": {
        "colab": {
          "base_uri": "https://localhost:8080/"
        },
        "id": "1824lpCKn8c5",
        "outputId": "4aabd227-1f09-423a-d87b-bcabd27a867d"
      },
      "outputs": [
        {
          "output_type": "stream",
          "name": "stdout",
          "text": [
            "   individuals       state\n",
            "0       2570.0     Alabama\n",
            "1       1434.0      Alaska\n",
            "2       7259.0     Arizona\n",
            "3       2280.0    Arkansas\n",
            "4     109008.0  California\n"
          ]
        }
      ],
      "source": [
        "# Print the head of the result\n",
        "print(ind_state.head())\n"
      ]
    },
    {
      "cell_type": "markdown",
      "metadata": {
        "id": "XSwkfupvn8c5"
      },
      "source": [
        "<p class=\"\">Radical reordering! Selecting and reordering columns can make data easier to work with.</p>\n",
        "\n"
      ]
    },
    {
      "cell_type": "markdown",
      "source": [
        "### Subsetting rows\n",
        "\n",
        "\n",
        "<div class>\n",
        "<p>A large part of data science is about finding which bits of your dataset are interesting. One of the simplest techniques for this is to find a subset of rows that match some criteria. This is sometimes known as <em>filtering rows</em> or <em>selecting rows</em>.</p>\n",
        "<p>There are many ways to subset a DataFrame, perhaps the most common is to use relational operators to return <code>True</code> or <code>False</code> for each row, then pass that inside square brackets.</p>\n",
        "<pre><code>dogs[dogs[\"height_cm\"] &gt; 60]\n",
        "dogs[dogs[\"color\"] == \"tan\"]\n",
        "</code></pre>\n",
        "<p>You can filter for multiple conditions at once by using the \"bitwise and\" operator, <code>&amp;</code>.</p>\n",
        "<pre><code>dogs[(dogs[\"height_cm\"] &gt; 60) &amp; (dogs[\"color\"] == \"tan\")]\n",
        "</code></pre>\n",
        "<p><code>homelessness</code> is available and <code>pandas</code> is loaded as <code>pd</code>.</p>\n",
        "</div>\n",
        "<div class=\"exercise--instructions__content\"><p>Filter <code>homelessness</code> for cases where the number of individuals is greater than ten thousand, assigning to <code>ind_gt_10k</code>. <em>View the printed result.</em></p></div>\n"
      ],
      "metadata": {
        "id": "ITsI42zWouvU"
      }
    },
    {
      "cell_type": "code",
      "execution_count": 86,
      "metadata": {
        "colab": {
          "base_uri": "https://localhost:8080/"
        },
        "id": "8v3HRvYZn8c5",
        "outputId": "90701a0b-6b13-455c-c702-89599f58f944"
      },
      "outputs": [
        {
          "output_type": "stream",
          "name": "stdout",
          "text": [
            "                region       state  individuals  family_members  state_pop\n",
            "4              Pacific  California     109008.0         20964.0   39461588\n",
            "9       South Atlantic     Florida      21443.0          9587.0   21244317\n",
            "32        Mid-Atlantic    New York      39827.0         52070.0   19530351\n",
            "37             Pacific      Oregon      11139.0          3337.0    4181886\n",
            "43  West South Central       Texas      19199.0          6111.0   28628666\n",
            "47             Pacific  Washington      16424.0          5880.0    7523869\n"
          ]
        }
      ],
      "source": [
        "# Filter for rows where individuals is greater than 10000\n",
        "ind_gt_10k = hs[hs[\"individuals\"]>10000]\n",
        "\n",
        "# See the result\n",
        "print(ind_gt_10k)\n"
      ]
    },
    {
      "cell_type": "markdown",
      "metadata": {
        "id": "AqXAuEX_n8c5"
      },
      "source": [
        "\n",
        "<div class=\"exercise--instructions__content\"><p>Filter <code>homelessness</code> for cases where the USA Census region is <code>\"Mountain\"</code>, assigning to <code>mountain_reg</code>. <em>View the printed result.</em></p></div>\n"
      ]
    },
    {
      "cell_type": "code",
      "execution_count": 87,
      "metadata": {
        "colab": {
          "base_uri": "https://localhost:8080/"
        },
        "id": "MjhltS4Yn8c5",
        "outputId": "551761cb-9c13-4b37-ad07-09bac2bc5f84"
      },
      "outputs": [
        {
          "output_type": "stream",
          "name": "stdout",
          "text": [
            "      region       state  individuals  family_members  state_pop\n",
            "2   Mountain     Arizona       7259.0          2606.0    7158024\n",
            "5   Mountain    Colorado       7607.0          3250.0    5691287\n",
            "12  Mountain       Idaho       1297.0           715.0    1750536\n",
            "26  Mountain     Montana        983.0           422.0    1060665\n",
            "28  Mountain      Nevada       7058.0           486.0    3027341\n",
            "31  Mountain  New Mexico       1949.0           602.0    2092741\n",
            "44  Mountain        Utah       1904.0           972.0    3153550\n",
            "50  Mountain     Wyoming        434.0           205.0     577601\n"
          ]
        }
      ],
      "source": [
        "# Filter for rows where region is Mountain\n",
        "mountain_reg = hs[hs[\"region\"] == \"Mountain\"]\n",
        "\n",
        "# See the result\n",
        "print(mountain_reg)\n"
      ]
    },
    {
      "cell_type": "markdown",
      "metadata": {
        "id": "ZLG6Wbt7n8c6"
      },
      "source": [
        "\n",
        "<div class=\"exercise--instructions__content\"><p>Filter <code>homelessness</code> for cases where the number of <code>family_members</code> is less than one thousand and the <code>region</code> is \"Pacific\", assigning to <code>fam_lt_1k_pac</code>. <em>View the printed result.</em></p></div>\n"
      ]
    },
    {
      "cell_type": "code",
      "execution_count": null,
      "metadata": {
        "colab": {
          "base_uri": "https://localhost:8080/"
        },
        "id": "T8GSbEG0n8c6",
        "outputId": "9a0dba91-4ff7-461a-d06e-85a34c738c3e"
      },
      "outputs": [
        {
          "output_type": "stream",
          "name": "stdout",
          "text": [
            "    region   state  individuals  family_members  state_pop\n",
            "1  Pacific  Alaska       1434.0           582.0     735139\n"
          ]
        }
      ],
      "source": [
        "# Filter for rows where family_members is less than 1000 \n",
        "# and region is Pacific\n",
        "fam_lt_1k_pac = hs[(hs[\"family_members\"] < 1000) & (hs[\"region\"] == \"Pacific\")]\n",
        "\n",
        "# See the result\n",
        "print(fam_lt_1k_pac)\n"
      ]
    },
    {
      "cell_type": "markdown",
      "metadata": {
        "id": "JHILxXXjn8c6"
      },
      "source": [
        "<p class=\"\">Superb subsetting! Using square brackets plus logical conditions is often the most powerful way of identifying interesting rows of data.</p>\n",
        "\n"
      ]
    },
    {
      "cell_type": "markdown",
      "source": [
        "### Subsetting rows by categorical variables\n",
        "\n",
        "\n",
        "<div class>\n",
        "<p>Subsetting data based on a categorical variable often involves using the \"or\" operator (<code>|</code>) to select rows from multiple categories. This can get tedious when you want all states in one of three different regions, for example. \n",
        "Instead, use the <code>.isin()</code> method, which will allow you to tackle this problem by writing one condition instead of three separate ones.</p>\n",
        "<pre><code>colors = [\"brown\", \"black\", \"tan\"]\n",
        "condition = dogs[\"color\"].isin(colors)\n",
        "dogs[condition]\n",
        "</code></pre>\n",
        "<p><code>homelessness</code> is available and <code>pandas</code> is loaded as <code>pd</code>.</p>\n",
        "</div>\n",
        "<div class=\"exercise--instructions__content\"><p>Filter <code>homelessness</code> for cases where the USA census region is \"South Atlantic\" or it is \"Mid-Atlantic\", assigning to <code>south_mid_atlantic</code>. <em>View the printed result.</em></p></div>\n"
      ],
      "metadata": {
        "id": "SZmCEI2-owUM"
      }
    },
    {
      "cell_type": "code",
      "execution_count": null,
      "metadata": {
        "colab": {
          "base_uri": "https://localhost:8080/"
        },
        "id": "3yop3QtYn8c6",
        "outputId": "87ad492b-a792-4597-a7bd-a6181a2573bf"
      },
      "outputs": [
        {
          "output_type": "stream",
          "name": "stdout",
          "text": [
            "            region                 state  individuals  family_members  \\\n",
            "7   South Atlantic              Delaware        708.0           374.0   \n",
            "8   South Atlantic  District of Columbia       3770.0          3134.0   \n",
            "9   South Atlantic               Florida      21443.0          9587.0   \n",
            "10  South Atlantic               Georgia       6943.0          2556.0   \n",
            "20  South Atlantic              Maryland       4914.0          2230.0   \n",
            "30    Mid-Atlantic            New Jersey       6048.0          3350.0   \n",
            "32    Mid-Atlantic              New York      39827.0         52070.0   \n",
            "33  South Atlantic        North Carolina       6451.0          2817.0   \n",
            "38    Mid-Atlantic          Pennsylvania       8163.0          5349.0   \n",
            "40  South Atlantic        South Carolina       3082.0           851.0   \n",
            "46  South Atlantic              Virginia       3928.0          2047.0   \n",
            "48  South Atlantic         West Virginia       1021.0           222.0   \n",
            "\n",
            "    state_pop  \n",
            "7      965479  \n",
            "8      701547  \n",
            "9    21244317  \n",
            "10   10511131  \n",
            "20    6035802  \n",
            "30    8886025  \n",
            "32   19530351  \n",
            "33   10381615  \n",
            "38   12800922  \n",
            "40    5084156  \n",
            "46    8501286  \n",
            "48    1804291  \n"
          ]
        }
      ],
      "source": [
        "# Subset for rows in South Atlantic or Mid-Atlantic regions\n",
        "regions=[]\n",
        "south_mid_atlantic = homelessness[(homelessness[\"region\"]==\"South Atlantic\") |(homelessness[\"region\"]==\"Mid-Atlantic\")]\n",
        "\n",
        "# See the result\n",
        "print(south_mid_atlantic)\n"
      ]
    },
    {
      "cell_type": "markdown",
      "metadata": {
        "id": "kg7Ur5TPn8c6"
      },
      "source": [
        "\n",
        "<div class=\"exercise--instructions__content\"><p>Filter <code>homelessness</code> for cases where the USA census <code>state</code> is in the list of Mojave states, <code>canu</code>, assigning to <code>mojave_homelessness</code>. <em>View the printed result.</em></p></div>\n"
      ]
    },
    {
      "cell_type": "code",
      "execution_count": 88,
      "metadata": {
        "colab": {
          "base_uri": "https://localhost:8080/"
        },
        "id": "bcrXGEDpn8c7",
        "outputId": "fb73650b-5a4a-45f4-8ba9-4ec87821f774"
      },
      "outputs": [
        {
          "output_type": "stream",
          "name": "stdout",
          "text": [
            "      region       state  individuals  family_members  state_pop\n",
            "2   Mountain     Arizona       7259.0          2606.0    7158024\n",
            "4    Pacific  California     109008.0         20964.0   39461588\n",
            "28  Mountain      Nevada       7058.0           486.0    3027341\n",
            "44  Mountain        Utah       1904.0           972.0    3153550\n"
          ]
        }
      ],
      "source": [
        "# The Mojave Desert states\n",
        "canu = [\"California\", \"Arizona\", \"Nevada\", \"Utah\"]\n",
        "\n",
        "# Filter for rows in the Mojave Desert states\n",
        "mojave_hs = hs[hs[\"state\"].isin(canu)]\n",
        "\n",
        "# See the result\n",
        "print(mojave_hs)\n"
      ]
    },
    {
      "cell_type": "markdown",
      "metadata": {
        "id": "AYbZHmamn8c7"
      },
      "source": [
        "<p class=\"\">Success <em>is in</em> the air! Using <code>.isin()</code> makes subsetting categorical variables a breeze.</p>\n",
        "\n"
      ]
    },
    {
      "cell_type": "markdown",
      "source": [
        "## New columns\n",
        "\n",
        "\n",
        "\n"
      ],
      "metadata": {
        "id": "FoFbrEIPoyO9"
      }
    },
    {
      "cell_type": "markdown",
      "source": [
        "### Adding new columns\n",
        "\n",
        "\n",
        "<div class>\n",
        "<p>You aren't stuck with just the data you are given. Instead, you can add new columns to a DataFrame. This has many names, such as <em>transforming</em>, <em>mutating</em>, and <em>feature engineering</em>.</p>\n",
        "<p>You can create new columns from scratch, but it is also common to derive them from other columns, for example, by adding columns together or by changing their units. </p>\n",
        "<p><code>homelessness</code> is available and <code>pandas</code> is loaded as <code>pd</code>.</p>\n",
        "</div>\n",
        "\n",
        "<li>Add a new column to <code>homelessness</code>, named <code>total</code>, containing the sum of the <code>individuals</code> and <code>family_members</code> columns.</li>\n"
      ],
      "metadata": {
        "id": "rmKbtYiGoy9h"
      }
    },
    {
      "cell_type": "code",
      "execution_count": 90,
      "metadata": {
        "id": "8v3V2cJJn8c7"
      },
      "outputs": [],
      "source": [
        "# Add total col as sum of individuals and family_members\n",
        "hs[\"total\"] = hs[\"individuals\"] + hs[\"family_members\"]\n"
      ]
    },
    {
      "cell_type": "markdown",
      "metadata": {
        "id": "grY7hgj0n8c7"
      },
      "source": [
        "<li>Add another column to <code>homelessness</code>, named <code>p_individuals</code>, containing the proportion of homeless people in each state who are individuals.</li>\n"
      ]
    },
    {
      "cell_type": "code",
      "execution_count": 91,
      "metadata": {
        "colab": {
          "base_uri": "https://localhost:8080/"
        },
        "id": "8MjvTWGdn8c7",
        "outputId": "73027b5c-e88e-4507-8781-9ab46a58ce97"
      },
      "outputs": [
        {
          "output_type": "stream",
          "name": "stdout",
          "text": [
            "                region                 state  individuals  family_members  \\\n",
            "0   East South Central               Alabama       2570.0           864.0   \n",
            "1              Pacific                Alaska       1434.0           582.0   \n",
            "2             Mountain               Arizona       7259.0          2606.0   \n",
            "3   West South Central              Arkansas       2280.0           432.0   \n",
            "4              Pacific            California     109008.0         20964.0   \n",
            "5             Mountain              Colorado       7607.0          3250.0   \n",
            "6          New England           Connecticut       2280.0          1696.0   \n",
            "7       South Atlantic              Delaware        708.0           374.0   \n",
            "8       South Atlantic  District of Columbia       3770.0          3134.0   \n",
            "9       South Atlantic               Florida      21443.0          9587.0   \n",
            "10      South Atlantic               Georgia       6943.0          2556.0   \n",
            "11             Pacific                Hawaii       4131.0          2399.0   \n",
            "12            Mountain                 Idaho       1297.0           715.0   \n",
            "13  East North Central              Illinois       6752.0          3891.0   \n",
            "14  East North Central               Indiana       3776.0          1482.0   \n",
            "15  West North Central                  Iowa       1711.0          1038.0   \n",
            "16  West North Central                Kansas       1443.0           773.0   \n",
            "17  East South Central              Kentucky       2735.0           953.0   \n",
            "18  West South Central             Louisiana       2540.0           519.0   \n",
            "19         New England                 Maine       1450.0          1066.0   \n",
            "20      South Atlantic              Maryland       4914.0          2230.0   \n",
            "21         New England         Massachusetts       6811.0         13257.0   \n",
            "22  East North Central              Michigan       5209.0          3142.0   \n",
            "23  West North Central             Minnesota       3993.0          3250.0   \n",
            "24  East South Central           Mississippi       1024.0           328.0   \n",
            "25  West North Central              Missouri       3776.0          2107.0   \n",
            "26            Mountain               Montana        983.0           422.0   \n",
            "27  West North Central              Nebraska       1745.0           676.0   \n",
            "28            Mountain                Nevada       7058.0           486.0   \n",
            "29         New England         New Hampshire        835.0           615.0   \n",
            "30        Mid-Atlantic            New Jersey       6048.0          3350.0   \n",
            "31            Mountain            New Mexico       1949.0           602.0   \n",
            "32        Mid-Atlantic              New York      39827.0         52070.0   \n",
            "33      South Atlantic        North Carolina       6451.0          2817.0   \n",
            "34  West North Central          North Dakota        467.0            75.0   \n",
            "35  East North Central                  Ohio       6929.0          3320.0   \n",
            "36  West South Central              Oklahoma       2823.0          1048.0   \n",
            "37             Pacific                Oregon      11139.0          3337.0   \n",
            "38        Mid-Atlantic          Pennsylvania       8163.0          5349.0   \n",
            "39         New England          Rhode Island        747.0           354.0   \n",
            "40      South Atlantic        South Carolina       3082.0           851.0   \n",
            "41  West North Central          South Dakota        836.0           323.0   \n",
            "42  East South Central             Tennessee       6139.0          1744.0   \n",
            "43  West South Central                 Texas      19199.0          6111.0   \n",
            "44            Mountain                  Utah       1904.0           972.0   \n",
            "45         New England               Vermont        780.0           511.0   \n",
            "46      South Atlantic              Virginia       3928.0          2047.0   \n",
            "47             Pacific            Washington      16424.0          5880.0   \n",
            "48      South Atlantic         West Virginia       1021.0           222.0   \n",
            "49  East North Central             Wisconsin       2740.0          2167.0   \n",
            "50            Mountain               Wyoming        434.0           205.0   \n",
            "\n",
            "    state_pop     total  p_individuals  \n",
            "0     4887681    3434.0       0.748398  \n",
            "1      735139    2016.0       0.711310  \n",
            "2     7158024    9865.0       0.735834  \n",
            "3     3009733    2712.0       0.840708  \n",
            "4    39461588  129972.0       0.838704  \n",
            "5     5691287   10857.0       0.700654  \n",
            "6     3571520    3976.0       0.573441  \n",
            "7      965479    1082.0       0.654344  \n",
            "8      701547    6904.0       0.546060  \n",
            "9    21244317   31030.0       0.691041  \n",
            "10   10511131    9499.0       0.730919  \n",
            "11    1420593    6530.0       0.632619  \n",
            "12    1750536    2012.0       0.644632  \n",
            "13   12723071   10643.0       0.634408  \n",
            "14    6695497    5258.0       0.718144  \n",
            "15    3148618    2749.0       0.622408  \n",
            "16    2911359    2216.0       0.651173  \n",
            "17    4461153    3688.0       0.741594  \n",
            "18    4659690    3059.0       0.830337  \n",
            "19    1339057    2516.0       0.576312  \n",
            "20    6035802    7144.0       0.687850  \n",
            "21    6882635   20068.0       0.339396  \n",
            "22    9984072    8351.0       0.623758  \n",
            "23    5606249    7243.0       0.551291  \n",
            "24    2981020    1352.0       0.757396  \n",
            "25    6121623    5883.0       0.641849  \n",
            "26    1060665    1405.0       0.699644  \n",
            "27    1925614    2421.0       0.720777  \n",
            "28    3027341    7544.0       0.935578  \n",
            "29    1353465    1450.0       0.575862  \n",
            "30    8886025    9398.0       0.643541  \n",
            "31    2092741    2551.0       0.764014  \n",
            "32   19530351   91897.0       0.433387  \n",
            "33   10381615    9268.0       0.696051  \n",
            "34     758080     542.0       0.861624  \n",
            "35   11676341   10249.0       0.676066  \n",
            "36    3940235    3871.0       0.729269  \n",
            "37    4181886   14476.0       0.769481  \n",
            "38   12800922   13512.0       0.604130  \n",
            "39    1058287    1101.0       0.678474  \n",
            "40    5084156    3933.0       0.783626  \n",
            "41     878698    1159.0       0.721311  \n",
            "42    6771631    7883.0       0.778764  \n",
            "43   28628666   25310.0       0.758554  \n",
            "44    3153550    2876.0       0.662031  \n",
            "45     624358    1291.0       0.604183  \n",
            "46    8501286    5975.0       0.657406  \n",
            "47    7523869   22304.0       0.736370  \n",
            "48    1804291    1243.0       0.821400  \n",
            "49    5807406    4907.0       0.558386  \n",
            "50     577601     639.0       0.679186  \n"
          ]
        }
      ],
      "source": [
        "# Add p_individuals col as proportion of total that are individuals\n",
        "hs[\"p_individuals\"] = hs[\"individuals\"] / hs[\"total\"]\n",
        "\n",
        "# See the result\n",
        "print(hs)\n"
      ]
    },
    {
      "cell_type": "markdown",
      "metadata": {
        "id": "LWnOCFLXn8c7"
      },
      "source": [
        "<p class=\"\">Astounding column assignment! If your dataset doesn't have the exact columns you need, you can often make your own from what you have.</p>\n",
        "\n"
      ]
    },
    {
      "cell_type": "markdown",
      "source": [
        "### Combo-attack!\n",
        "\n",
        "\n",
        "<div class>\n",
        "<p>You've seen the four most common types of data manipulation: sorting rows, subsetting columns, subsetting rows, and adding new columns. In a real-life data analysis, you can mix and match these four manipulations to answer a multitude of questions.</p>\n",
        "<p>In this exercise, you'll answer the question, \"Which state has the highest number of homeless individuals per 10,000 people in the state?\" Combine your new <code>pandas</code> skills to find out.</p>\n",
        "</div>\n",
        "\n",
        "<li>Add a column to <code>homelessness</code>, <code>indiv_per_10k</code>, containing the number of homeless individuals per ten thousand people in each state.</li>\n"
      ],
      "metadata": {
        "id": "Wct_bP5go2Qn"
      }
    },
    {
      "cell_type": "code",
      "execution_count": 92,
      "metadata": {
        "id": "mBrTQR8on8c7"
      },
      "outputs": [],
      "source": [
        "# Create indiv_per_10k col as homeless individuals per 10k state pop\n",
        "hs[\"indiv_per_10k\"] = 10000 * hs[\"individuals\"] / hs[\"state_pop\"] \n"
      ]
    },
    {
      "cell_type": "markdown",
      "metadata": {
        "id": "FeqtVDTvn8c7"
      },
      "source": [
        "<li>Subset rows where <code>indiv_per_10k</code> is higher than <code>20</code>, assigning to <code>high_homelessness</code>.</li>\n"
      ]
    },
    {
      "cell_type": "code",
      "execution_count": 93,
      "metadata": {
        "id": "fDiK39WUn8c8"
      },
      "outputs": [],
      "source": [
        "# Subset rows for indiv_per_10k greater than 20\n",
        "high_hs = hs[hs[\"indiv_per_10k\"] > 20]\n"
      ]
    },
    {
      "cell_type": "markdown",
      "metadata": {
        "id": "YpJy1MjVn8c8"
      },
      "source": [
        "<li>Sort <code>high_homelessness</code> by descending <code>indiv_per_10k</code>, assigning to <code>high_homelessness_srt</code>.</li>\n"
      ]
    },
    {
      "cell_type": "code",
      "execution_count": 94,
      "metadata": {
        "id": "TxuwazP9n8c8"
      },
      "outputs": [],
      "source": [
        "# Sort high_homelessness by descending indiv_per_10k\n",
        "high_hs_srt = high_hs.sort_values(\"indiv_per_10k\", ascending=False)\n"
      ]
    },
    {
      "cell_type": "markdown",
      "metadata": {
        "id": "BVPsu7obn8c8"
      },
      "source": [
        "<li>Select only the <code>state</code> and <code>indiv_per_10k</code> columns of <code>high_homelessness_srt</code> and save as <code>result</code>. <em>Look at the <code>result</code>.</em>\n",
        "</li>\n"
      ]
    },
    {
      "cell_type": "code",
      "execution_count": 95,
      "metadata": {
        "colab": {
          "base_uri": "https://localhost:8080/"
        },
        "id": "oR-eyoS9n8c8",
        "outputId": "8b55fcd3-6a47-40d0-c0df-fe8ab0b8a7ad"
      },
      "outputs": [
        {
          "output_type": "stream",
          "name": "stdout",
          "text": [
            "                   state  indiv_per_10k\n",
            "8   District of Columbia      53.738381\n",
            "11                Hawaii      29.079406\n",
            "4             California      27.623825\n",
            "37                Oregon      26.636307\n",
            "28                Nevada      23.314189\n",
            "47            Washington      21.829195\n",
            "32              New York      20.392363\n"
          ]
        }
      ],
      "source": [
        "# From high_homelessness_srt, select the state and indiv_per_10k cols\n",
        "result = high_hs_srt[[\"state\", \"indiv_per_10k\"]]\n",
        "\n",
        "# See the result\n",
        "print(result)\n"
      ]
    },
    {
      "cell_type": "code",
      "source": [
        "#Write this as csv\n",
        "result.to_csv('result.csv')"
      ],
      "metadata": {
        "id": "ERlr5-0LbcSR"
      },
      "execution_count": 96,
      "outputs": []
    },
    {
      "cell_type": "markdown",
      "metadata": {
        "id": "kQz9Ln08n8c8"
      },
      "source": [
        "<p class=\"\">Cool combination! District of Columbia has the highest number of homeless individuals - almost 54 per ten thousand people. This is almost double the number of the next-highest state, Hawaii. If you combine new column addition, row subsetting, sorting, and column selection, you can answer lots of questions like this.</p>\n",
        "\n"
      ]
    },
    {
      "cell_type": "markdown",
      "source": [
        "# Aggregating DataFrames\n",
        "\n",
        "<p class=\"chapter__description\">\n",
        "    In this chapter, you’ll calculate summary statistics on DataFrame columns, and master grouped summary statistics and pivot tables.\n",
        "  </p>\n",
        "\n"
      ],
      "metadata": {
        "id": "MKJDWogOo3jO"
      }
    },
    {
      "cell_type": "markdown",
      "source": [
        "## Summary statistics\n",
        "\n",
        "\n",
        "\n"
      ],
      "metadata": {
        "id": "ckXrj6t7o4YT"
      }
    },
    {
      "cell_type": "markdown",
      "source": [
        "### Mean and median\n",
        "\n",
        "\n",
        "<div class>\n",
        "<p>Summary statistics are exactly what they sound like - they summarize many numbers in one statistic. For example, mean, median, minimum, maximum, and standard deviation are summary statistics. Calculating summary statistics allows you to get a better sense of your data, even if there's a lot of it. </p>\n",
        "<p><code>sales</code> is available and <code>pandas</code> is loaded as <code>pd</code>.</p>\n",
        "</div>\n"
      ],
      "metadata": {
        "id": "UCaUV_h-o5Ez"
      }
    },
    {
      "cell_type": "code",
      "source": [
        "#get the mean value of state pouplation\n",
        "hs['state_pop'].mean()"
      ],
      "metadata": {
        "id": "mRUFtl3Vcy1c",
        "outputId": "c5bd9d9f-c513-4a16-a1f2-8c73b290895a",
        "colab": {
          "base_uri": "https://localhost:8080/"
        }
      },
      "execution_count": 98,
      "outputs": [
        {
          "output_type": "execute_result",
          "data": {
            "text/plain": [
              "6405637.274509804"
            ]
          },
          "metadata": {},
          "execution_count": 98
        }
      ]
    },
    {
      "cell_type": "markdown",
      "metadata": {
        "id": "98j2PA-sn8c9"
      },
      "source": [
        "<li>Print the median of the <code>weekly_sales</code> column.</li>\n"
      ]
    },
    {
      "cell_type": "code",
      "execution_count": 100,
      "metadata": {
        "colab": {
          "base_uri": "https://localhost:8080/"
        },
        "id": "o_i1c5ywn8c9",
        "outputId": "b92c4363-221b-4b69-bfdb-c2dfcc3766fb"
      },
      "outputs": [
        {
          "output_type": "execute_result",
          "data": {
            "text/plain": [
              "4461153.0"
            ]
          },
          "metadata": {},
          "execution_count": 100
        }
      ],
      "source": [
        "#get the median value of state population\n",
        "hs['state_pop'].median()"
      ]
    },
    {
      "cell_type": "markdown",
      "metadata": {
        "id": "kLC9WvNEn8c9"
      },
      "source": [
        "<p class=\"\">The mean weekly sales amount is almost double the median weekly sales amount! This can tell you that there are a few very high sales weeks that are making the mean so much higher than the median.</p>\n",
        "\n"
      ]
    },
    {
      "cell_type": "code",
      "execution_count": 101,
      "metadata": {
        "colab": {
          "base_uri": "https://localhost:8080/"
        },
        "id": "hUEm3aIPn8c9",
        "outputId": "a0817339-93af-4df6-cc16-f29fc7064c8e"
      },
      "outputs": [
        {
          "output_type": "execute_result",
          "data": {
            "text/plain": [
              "39461588"
            ]
          },
          "metadata": {},
          "execution_count": 101
        }
      ],
      "source": [
        "#get the maximum value of state population\n",
        "hs['state_pop'].max()\n"
      ]
    },
    {
      "cell_type": "markdown",
      "metadata": {
        "id": "_iuNgYbBn8c9"
      },
      "source": [
        "<li>Print the minimum of the <code>date</code> column.</li>\n"
      ]
    },
    {
      "cell_type": "code",
      "execution_count": 102,
      "metadata": {
        "colab": {
          "base_uri": "https://localhost:8080/"
        },
        "id": "seNxL3umn8c-",
        "outputId": "b9d637e0-e7d7-4a70-fd0a-8db393a49f68"
      },
      "outputs": [
        {
          "output_type": "execute_result",
          "data": {
            "text/plain": [
              "577601"
            ]
          },
          "metadata": {},
          "execution_count": 102
        }
      ],
      "source": [
        "#get the minimum value of state population\n",
        "hs['state_pop'].min()\n"
      ]
    },
    {
      "cell_type": "markdown",
      "metadata": {
        "id": "LJIyM4tYn8c-"
      },
      "source": [
        "<p class=\"\">Super summarizing! Taking the minimum and maximum of a column of dates is handy for figuring out what time period your data covers. In this case, there are data from February of 2010 to October of 2012.</p>\n",
        "\n"
      ]
    },
    {
      "cell_type": "markdown",
      "source": [
        "### Calculations with .groupby()\n",
        "\n",
        "\n",
        "<div class>\n",
        "<p>The <code>.groupby()</code> method makes life much easier. In this exercise, you'll perform the same calculations as last time, except you'll use the <code>.groupby()</code> method. "
      ],
      "metadata": {
        "id": "qRs4lL4YpEl1"
      }
    },
    {
      "cell_type": "code",
      "execution_count": 105,
      "metadata": {
        "id": "8jxuTwzqn8dI",
        "colab": {
          "base_uri": "https://localhost:8080/"
        },
        "outputId": "bf873f69-aa84-45ad-9484-5d9b1e032259"
      },
      "outputs": [
        {
          "output_type": "execute_result",
          "data": {
            "text/plain": [
              "region\n",
              "East North Central    46886387\n",
              "East South Central    19101485\n",
              "Mid-Atlantic          41217298\n",
              "Mountain              24511745\n",
              "New England           14829322\n",
              "Pacific               53323075\n",
              "South Atlantic        65229624\n",
              "West North Central    21350241\n",
              "West South Central    40238324\n",
              "Name: state_pop, dtype: int64"
            ]
          },
          "metadata": {},
          "execution_count": 105
        }
      ],
      "source": [
        "# Group by type; calculate state population by region\n",
        "stat_pop_by_region=hs.groupby(\"region\")['state_pop'].sum()\n",
        "stat_pop_by_region"
      ]
    },
    {
      "cell_type": "markdown",
      "source": [
        "### Multiple grouped summaries\n",
        "\n",
        "\n",
        "<div class>\n",
        "<p>Earlier in this chapter, you saw that the <code>.agg()</code> method is useful to compute multiple statistics on multiple variables. It also works with grouped data. NumPy, which is imported as <code>np</code>, has many different summary statistics functions, including: <code>np.min</code>, <code>np.max</code>, <code>np.mean</code>, and <code>np.median</code>.</p>\n",
        "\n",
        "</div>\n",
        "\n",
        "<li>Import <code>numpy</code> with the alias <code>np</code>.</li>\n"
      ],
      "metadata": {
        "id": "YfALdKUopGSz"
      }
    },
    {
      "cell_type": "code",
      "source": [
        "#Get all statistics\n",
        "import numpy as np\n",
        "stat_pop_by_region_all=hs.groupby(\"region\")['state_pop'].agg([np.min, np.max, np.mean, np.median,np.sum])\n",
        "stat_pop_by_region_all"
      ],
      "metadata": {
        "id": "HgYMWFPdft2J",
        "outputId": "c00fc541-24c2-4c63-e3e9-06644b0e4df9",
        "colab": {
          "base_uri": "https://localhost:8080/",
          "height": 363
        }
      },
      "execution_count": 108,
      "outputs": [
        {
          "output_type": "execute_result",
          "data": {
            "text/plain": [
              "                       amin      amax          mean      median       sum\n",
              "region                                                                   \n",
              "East North Central  5807406  12723071  9.377277e+06   9984072.0  46886387\n",
              "East South Central  2981020   6771631  4.775371e+06   4674417.0  19101485\n",
              "Mid-Atlantic        8886025  19530351  1.373910e+07  12800922.0  41217298\n",
              "Mountain             577601   7158024  3.063968e+06   2560041.0  24511745\n",
              "New England          624358   6882635  2.471554e+06   1346261.0  14829322\n",
              "Pacific              735139  39461588  1.066462e+07   4181886.0  53323075\n",
              "South Atlantic       701547  21244317  7.247736e+06   6035802.0  65229624\n",
              "West North Central   758080   6121623  3.050034e+06   2911359.0  21350241\n",
              "West South Central  3009733  28628666  1.005958e+07   4299962.5  40238324"
            ],
            "text/html": [
              "\n",
              "  <div id=\"df-8e611f63-60ad-444e-935c-5fe8918d56d8\">\n",
              "    <div class=\"colab-df-container\">\n",
              "      <div>\n",
              "<style scoped>\n",
              "    .dataframe tbody tr th:only-of-type {\n",
              "        vertical-align: middle;\n",
              "    }\n",
              "\n",
              "    .dataframe tbody tr th {\n",
              "        vertical-align: top;\n",
              "    }\n",
              "\n",
              "    .dataframe thead th {\n",
              "        text-align: right;\n",
              "    }\n",
              "</style>\n",
              "<table border=\"1\" class=\"dataframe\">\n",
              "  <thead>\n",
              "    <tr style=\"text-align: right;\">\n",
              "      <th></th>\n",
              "      <th>amin</th>\n",
              "      <th>amax</th>\n",
              "      <th>mean</th>\n",
              "      <th>median</th>\n",
              "      <th>sum</th>\n",
              "    </tr>\n",
              "    <tr>\n",
              "      <th>region</th>\n",
              "      <th></th>\n",
              "      <th></th>\n",
              "      <th></th>\n",
              "      <th></th>\n",
              "      <th></th>\n",
              "    </tr>\n",
              "  </thead>\n",
              "  <tbody>\n",
              "    <tr>\n",
              "      <th>East North Central</th>\n",
              "      <td>5807406</td>\n",
              "      <td>12723071</td>\n",
              "      <td>9.377277e+06</td>\n",
              "      <td>9984072.0</td>\n",
              "      <td>46886387</td>\n",
              "    </tr>\n",
              "    <tr>\n",
              "      <th>East South Central</th>\n",
              "      <td>2981020</td>\n",
              "      <td>6771631</td>\n",
              "      <td>4.775371e+06</td>\n",
              "      <td>4674417.0</td>\n",
              "      <td>19101485</td>\n",
              "    </tr>\n",
              "    <tr>\n",
              "      <th>Mid-Atlantic</th>\n",
              "      <td>8886025</td>\n",
              "      <td>19530351</td>\n",
              "      <td>1.373910e+07</td>\n",
              "      <td>12800922.0</td>\n",
              "      <td>41217298</td>\n",
              "    </tr>\n",
              "    <tr>\n",
              "      <th>Mountain</th>\n",
              "      <td>577601</td>\n",
              "      <td>7158024</td>\n",
              "      <td>3.063968e+06</td>\n",
              "      <td>2560041.0</td>\n",
              "      <td>24511745</td>\n",
              "    </tr>\n",
              "    <tr>\n",
              "      <th>New England</th>\n",
              "      <td>624358</td>\n",
              "      <td>6882635</td>\n",
              "      <td>2.471554e+06</td>\n",
              "      <td>1346261.0</td>\n",
              "      <td>14829322</td>\n",
              "    </tr>\n",
              "    <tr>\n",
              "      <th>Pacific</th>\n",
              "      <td>735139</td>\n",
              "      <td>39461588</td>\n",
              "      <td>1.066462e+07</td>\n",
              "      <td>4181886.0</td>\n",
              "      <td>53323075</td>\n",
              "    </tr>\n",
              "    <tr>\n",
              "      <th>South Atlantic</th>\n",
              "      <td>701547</td>\n",
              "      <td>21244317</td>\n",
              "      <td>7.247736e+06</td>\n",
              "      <td>6035802.0</td>\n",
              "      <td>65229624</td>\n",
              "    </tr>\n",
              "    <tr>\n",
              "      <th>West North Central</th>\n",
              "      <td>758080</td>\n",
              "      <td>6121623</td>\n",
              "      <td>3.050034e+06</td>\n",
              "      <td>2911359.0</td>\n",
              "      <td>21350241</td>\n",
              "    </tr>\n",
              "    <tr>\n",
              "      <th>West South Central</th>\n",
              "      <td>3009733</td>\n",
              "      <td>28628666</td>\n",
              "      <td>1.005958e+07</td>\n",
              "      <td>4299962.5</td>\n",
              "      <td>40238324</td>\n",
              "    </tr>\n",
              "  </tbody>\n",
              "</table>\n",
              "</div>\n",
              "      <button class=\"colab-df-convert\" onclick=\"convertToInteractive('df-8e611f63-60ad-444e-935c-5fe8918d56d8')\"\n",
              "              title=\"Convert this dataframe to an interactive table.\"\n",
              "              style=\"display:none;\">\n",
              "        \n",
              "  <svg xmlns=\"http://www.w3.org/2000/svg\" height=\"24px\"viewBox=\"0 0 24 24\"\n",
              "       width=\"24px\">\n",
              "    <path d=\"M0 0h24v24H0V0z\" fill=\"none\"/>\n",
              "    <path d=\"M18.56 5.44l.94 2.06.94-2.06 2.06-.94-2.06-.94-.94-2.06-.94 2.06-2.06.94zm-11 1L8.5 8.5l.94-2.06 2.06-.94-2.06-.94L8.5 2.5l-.94 2.06-2.06.94zm10 10l.94 2.06.94-2.06 2.06-.94-2.06-.94-.94-2.06-.94 2.06-2.06.94z\"/><path d=\"M17.41 7.96l-1.37-1.37c-.4-.4-.92-.59-1.43-.59-.52 0-1.04.2-1.43.59L10.3 9.45l-7.72 7.72c-.78.78-.78 2.05 0 2.83L4 21.41c.39.39.9.59 1.41.59.51 0 1.02-.2 1.41-.59l7.78-7.78 2.81-2.81c.8-.78.8-2.07 0-2.86zM5.41 20L4 18.59l7.72-7.72 1.47 1.35L5.41 20z\"/>\n",
              "  </svg>\n",
              "      </button>\n",
              "      \n",
              "  <style>\n",
              "    .colab-df-container {\n",
              "      display:flex;\n",
              "      flex-wrap:wrap;\n",
              "      gap: 12px;\n",
              "    }\n",
              "\n",
              "    .colab-df-convert {\n",
              "      background-color: #E8F0FE;\n",
              "      border: none;\n",
              "      border-radius: 50%;\n",
              "      cursor: pointer;\n",
              "      display: none;\n",
              "      fill: #1967D2;\n",
              "      height: 32px;\n",
              "      padding: 0 0 0 0;\n",
              "      width: 32px;\n",
              "    }\n",
              "\n",
              "    .colab-df-convert:hover {\n",
              "      background-color: #E2EBFA;\n",
              "      box-shadow: 0px 1px 2px rgba(60, 64, 67, 0.3), 0px 1px 3px 1px rgba(60, 64, 67, 0.15);\n",
              "      fill: #174EA6;\n",
              "    }\n",
              "\n",
              "    [theme=dark] .colab-df-convert {\n",
              "      background-color: #3B4455;\n",
              "      fill: #D2E3FC;\n",
              "    }\n",
              "\n",
              "    [theme=dark] .colab-df-convert:hover {\n",
              "      background-color: #434B5C;\n",
              "      box-shadow: 0px 1px 3px 1px rgba(0, 0, 0, 0.15);\n",
              "      filter: drop-shadow(0px 1px 2px rgba(0, 0, 0, 0.3));\n",
              "      fill: #FFFFFF;\n",
              "    }\n",
              "  </style>\n",
              "\n",
              "      <script>\n",
              "        const buttonEl =\n",
              "          document.querySelector('#df-8e611f63-60ad-444e-935c-5fe8918d56d8 button.colab-df-convert');\n",
              "        buttonEl.style.display =\n",
              "          google.colab.kernel.accessAllowed ? 'block' : 'none';\n",
              "\n",
              "        async function convertToInteractive(key) {\n",
              "          const element = document.querySelector('#df-8e611f63-60ad-444e-935c-5fe8918d56d8');\n",
              "          const dataTable =\n",
              "            await google.colab.kernel.invokeFunction('convertToInteractive',\n",
              "                                                     [key], {});\n",
              "          if (!dataTable) return;\n",
              "\n",
              "          const docLinkHtml = 'Like what you see? Visit the ' +\n",
              "            '<a target=\"_blank\" href=https://colab.research.google.com/notebooks/data_table.ipynb>data table notebook</a>'\n",
              "            + ' to learn more about interactive tables.';\n",
              "          element.innerHTML = '';\n",
              "          dataTable['output_type'] = 'display_data';\n",
              "          await google.colab.output.renderOutput(dataTable, element);\n",
              "          const docLink = document.createElement('div');\n",
              "          docLink.innerHTML = docLinkHtml;\n",
              "          element.appendChild(docLink);\n",
              "        }\n",
              "      </script>\n",
              "    </div>\n",
              "  </div>\n",
              "  "
            ]
          },
          "metadata": {},
          "execution_count": 108
        }
      ]
    },
    {
      "cell_type": "markdown",
      "metadata": {
        "id": "jEgux9nNn8dJ"
      },
      "source": [
        "<p class=\"\">Awesome aggregating! Notice that the minimum <code>weekly_sales</code> is negative because some stores had more returns than sales.</p>\n",
        "\n"
      ]
    },
    {
      "cell_type": "markdown",
      "source": [
        "## `SQL`"
      ],
      "metadata": {
        "id": "u1dfXZiLj2VL"
      }
    },
    {
      "cell_type": "code",
      "source": [
        "#Install Sql library fo pandas\n",
        "!pip install pandasql"
      ],
      "metadata": {
        "id": "Pv2aPYm5j75W"
      },
      "execution_count": null,
      "outputs": []
    },
    {
      "cell_type": "code",
      "source": [
        "#You can get this using sql as well usng pandasql\n",
        "\n",
        "\n",
        "import pandasql as psql\n",
        "qr=  psql.sqldf('select region,sum(state_pop) from hs group by region')\n",
        "qr"
      ],
      "metadata": {
        "id": "ut3T1qjMiBM9",
        "outputId": "ba861bbb-92b7-4d32-d179-d323f707b267",
        "colab": {
          "base_uri": "https://localhost:8080/",
          "height": 332
        }
      },
      "execution_count": 111,
      "outputs": [
        {
          "output_type": "execute_result",
          "data": {
            "text/plain": [
              "               region  sum(state_pop)\n",
              "0  East North Central        46886387\n",
              "1  East South Central        19101485\n",
              "2        Mid-Atlantic        41217298\n",
              "3            Mountain        24511745\n",
              "4         New England        14829322\n",
              "5             Pacific        53323075\n",
              "6      South Atlantic        65229624\n",
              "7  West North Central        21350241\n",
              "8  West South Central        40238324"
            ],
            "text/html": [
              "\n",
              "  <div id=\"df-c379939c-07fd-4915-b629-2f11506b8f66\">\n",
              "    <div class=\"colab-df-container\">\n",
              "      <div>\n",
              "<style scoped>\n",
              "    .dataframe tbody tr th:only-of-type {\n",
              "        vertical-align: middle;\n",
              "    }\n",
              "\n",
              "    .dataframe tbody tr th {\n",
              "        vertical-align: top;\n",
              "    }\n",
              "\n",
              "    .dataframe thead th {\n",
              "        text-align: right;\n",
              "    }\n",
              "</style>\n",
              "<table border=\"1\" class=\"dataframe\">\n",
              "  <thead>\n",
              "    <tr style=\"text-align: right;\">\n",
              "      <th></th>\n",
              "      <th>region</th>\n",
              "      <th>sum(state_pop)</th>\n",
              "    </tr>\n",
              "  </thead>\n",
              "  <tbody>\n",
              "    <tr>\n",
              "      <th>0</th>\n",
              "      <td>East North Central</td>\n",
              "      <td>46886387</td>\n",
              "    </tr>\n",
              "    <tr>\n",
              "      <th>1</th>\n",
              "      <td>East South Central</td>\n",
              "      <td>19101485</td>\n",
              "    </tr>\n",
              "    <tr>\n",
              "      <th>2</th>\n",
              "      <td>Mid-Atlantic</td>\n",
              "      <td>41217298</td>\n",
              "    </tr>\n",
              "    <tr>\n",
              "      <th>3</th>\n",
              "      <td>Mountain</td>\n",
              "      <td>24511745</td>\n",
              "    </tr>\n",
              "    <tr>\n",
              "      <th>4</th>\n",
              "      <td>New England</td>\n",
              "      <td>14829322</td>\n",
              "    </tr>\n",
              "    <tr>\n",
              "      <th>5</th>\n",
              "      <td>Pacific</td>\n",
              "      <td>53323075</td>\n",
              "    </tr>\n",
              "    <tr>\n",
              "      <th>6</th>\n",
              "      <td>South Atlantic</td>\n",
              "      <td>65229624</td>\n",
              "    </tr>\n",
              "    <tr>\n",
              "      <th>7</th>\n",
              "      <td>West North Central</td>\n",
              "      <td>21350241</td>\n",
              "    </tr>\n",
              "    <tr>\n",
              "      <th>8</th>\n",
              "      <td>West South Central</td>\n",
              "      <td>40238324</td>\n",
              "    </tr>\n",
              "  </tbody>\n",
              "</table>\n",
              "</div>\n",
              "      <button class=\"colab-df-convert\" onclick=\"convertToInteractive('df-c379939c-07fd-4915-b629-2f11506b8f66')\"\n",
              "              title=\"Convert this dataframe to an interactive table.\"\n",
              "              style=\"display:none;\">\n",
              "        \n",
              "  <svg xmlns=\"http://www.w3.org/2000/svg\" height=\"24px\"viewBox=\"0 0 24 24\"\n",
              "       width=\"24px\">\n",
              "    <path d=\"M0 0h24v24H0V0z\" fill=\"none\"/>\n",
              "    <path d=\"M18.56 5.44l.94 2.06.94-2.06 2.06-.94-2.06-.94-.94-2.06-.94 2.06-2.06.94zm-11 1L8.5 8.5l.94-2.06 2.06-.94-2.06-.94L8.5 2.5l-.94 2.06-2.06.94zm10 10l.94 2.06.94-2.06 2.06-.94-2.06-.94-.94-2.06-.94 2.06-2.06.94z\"/><path d=\"M17.41 7.96l-1.37-1.37c-.4-.4-.92-.59-1.43-.59-.52 0-1.04.2-1.43.59L10.3 9.45l-7.72 7.72c-.78.78-.78 2.05 0 2.83L4 21.41c.39.39.9.59 1.41.59.51 0 1.02-.2 1.41-.59l7.78-7.78 2.81-2.81c.8-.78.8-2.07 0-2.86zM5.41 20L4 18.59l7.72-7.72 1.47 1.35L5.41 20z\"/>\n",
              "  </svg>\n",
              "      </button>\n",
              "      \n",
              "  <style>\n",
              "    .colab-df-container {\n",
              "      display:flex;\n",
              "      flex-wrap:wrap;\n",
              "      gap: 12px;\n",
              "    }\n",
              "\n",
              "    .colab-df-convert {\n",
              "      background-color: #E8F0FE;\n",
              "      border: none;\n",
              "      border-radius: 50%;\n",
              "      cursor: pointer;\n",
              "      display: none;\n",
              "      fill: #1967D2;\n",
              "      height: 32px;\n",
              "      padding: 0 0 0 0;\n",
              "      width: 32px;\n",
              "    }\n",
              "\n",
              "    .colab-df-convert:hover {\n",
              "      background-color: #E2EBFA;\n",
              "      box-shadow: 0px 1px 2px rgba(60, 64, 67, 0.3), 0px 1px 3px 1px rgba(60, 64, 67, 0.15);\n",
              "      fill: #174EA6;\n",
              "    }\n",
              "\n",
              "    [theme=dark] .colab-df-convert {\n",
              "      background-color: #3B4455;\n",
              "      fill: #D2E3FC;\n",
              "    }\n",
              "\n",
              "    [theme=dark] .colab-df-convert:hover {\n",
              "      background-color: #434B5C;\n",
              "      box-shadow: 0px 1px 3px 1px rgba(0, 0, 0, 0.15);\n",
              "      filter: drop-shadow(0px 1px 2px rgba(0, 0, 0, 0.3));\n",
              "      fill: #FFFFFF;\n",
              "    }\n",
              "  </style>\n",
              "\n",
              "      <script>\n",
              "        const buttonEl =\n",
              "          document.querySelector('#df-c379939c-07fd-4915-b629-2f11506b8f66 button.colab-df-convert');\n",
              "        buttonEl.style.display =\n",
              "          google.colab.kernel.accessAllowed ? 'block' : 'none';\n",
              "\n",
              "        async function convertToInteractive(key) {\n",
              "          const element = document.querySelector('#df-c379939c-07fd-4915-b629-2f11506b8f66');\n",
              "          const dataTable =\n",
              "            await google.colab.kernel.invokeFunction('convertToInteractive',\n",
              "                                                     [key], {});\n",
              "          if (!dataTable) return;\n",
              "\n",
              "          const docLinkHtml = 'Like what you see? Visit the ' +\n",
              "            '<a target=\"_blank\" href=https://colab.research.google.com/notebooks/data_table.ipynb>data table notebook</a>'\n",
              "            + ' to learn more about interactive tables.';\n",
              "          element.innerHTML = '';\n",
              "          dataTable['output_type'] = 'display_data';\n",
              "          await google.colab.output.renderOutput(dataTable, element);\n",
              "          const docLink = document.createElement('div');\n",
              "          docLink.innerHTML = docLinkHtml;\n",
              "          element.appendChild(docLink);\n",
              "        }\n",
              "      </script>\n",
              "    </div>\n",
              "  </div>\n",
              "  "
            ]
          },
          "metadata": {},
          "execution_count": 111
        }
      ]
    },
    {
      "cell_type": "markdown",
      "source": [
        "If else"
      ],
      "metadata": {
        "id": "NxCbbVKukMe8"
      }
    },
    {
      "cell_type": "code",
      "source": [
        "hs.head(1)"
      ],
      "metadata": {
        "id": "IjoHcB9wkH3B",
        "outputId": "4ef9ca8a-ec2a-49ab-fa68-7e8516f380c9",
        "colab": {
          "base_uri": "https://localhost:8080/",
          "height": 142
        }
      },
      "execution_count": 113,
      "outputs": [
        {
          "output_type": "execute_result",
          "data": {
            "text/plain": [
              "               region    state  individuals  family_members  state_pop  \\\n",
              "0  East South Central  Alabama       2570.0           864.0    4887681   \n",
              "\n",
              "    total  p_individuals  indiv_per_10k  \n",
              "0  3434.0       0.748398       5.258117  "
            ],
            "text/html": [
              "\n",
              "  <div id=\"df-f14b52ee-970c-48e2-b47d-20c092a18df1\">\n",
              "    <div class=\"colab-df-container\">\n",
              "      <div>\n",
              "<style scoped>\n",
              "    .dataframe tbody tr th:only-of-type {\n",
              "        vertical-align: middle;\n",
              "    }\n",
              "\n",
              "    .dataframe tbody tr th {\n",
              "        vertical-align: top;\n",
              "    }\n",
              "\n",
              "    .dataframe thead th {\n",
              "        text-align: right;\n",
              "    }\n",
              "</style>\n",
              "<table border=\"1\" class=\"dataframe\">\n",
              "  <thead>\n",
              "    <tr style=\"text-align: right;\">\n",
              "      <th></th>\n",
              "      <th>region</th>\n",
              "      <th>state</th>\n",
              "      <th>individuals</th>\n",
              "      <th>family_members</th>\n",
              "      <th>state_pop</th>\n",
              "      <th>total</th>\n",
              "      <th>p_individuals</th>\n",
              "      <th>indiv_per_10k</th>\n",
              "    </tr>\n",
              "  </thead>\n",
              "  <tbody>\n",
              "    <tr>\n",
              "      <th>0</th>\n",
              "      <td>East South Central</td>\n",
              "      <td>Alabama</td>\n",
              "      <td>2570.0</td>\n",
              "      <td>864.0</td>\n",
              "      <td>4887681</td>\n",
              "      <td>3434.0</td>\n",
              "      <td>0.748398</td>\n",
              "      <td>5.258117</td>\n",
              "    </tr>\n",
              "  </tbody>\n",
              "</table>\n",
              "</div>\n",
              "      <button class=\"colab-df-convert\" onclick=\"convertToInteractive('df-f14b52ee-970c-48e2-b47d-20c092a18df1')\"\n",
              "              title=\"Convert this dataframe to an interactive table.\"\n",
              "              style=\"display:none;\">\n",
              "        \n",
              "  <svg xmlns=\"http://www.w3.org/2000/svg\" height=\"24px\"viewBox=\"0 0 24 24\"\n",
              "       width=\"24px\">\n",
              "    <path d=\"M0 0h24v24H0V0z\" fill=\"none\"/>\n",
              "    <path d=\"M18.56 5.44l.94 2.06.94-2.06 2.06-.94-2.06-.94-.94-2.06-.94 2.06-2.06.94zm-11 1L8.5 8.5l.94-2.06 2.06-.94-2.06-.94L8.5 2.5l-.94 2.06-2.06.94zm10 10l.94 2.06.94-2.06 2.06-.94-2.06-.94-.94-2.06-.94 2.06-2.06.94z\"/><path d=\"M17.41 7.96l-1.37-1.37c-.4-.4-.92-.59-1.43-.59-.52 0-1.04.2-1.43.59L10.3 9.45l-7.72 7.72c-.78.78-.78 2.05 0 2.83L4 21.41c.39.39.9.59 1.41.59.51 0 1.02-.2 1.41-.59l7.78-7.78 2.81-2.81c.8-.78.8-2.07 0-2.86zM5.41 20L4 18.59l7.72-7.72 1.47 1.35L5.41 20z\"/>\n",
              "  </svg>\n",
              "      </button>\n",
              "      \n",
              "  <style>\n",
              "    .colab-df-container {\n",
              "      display:flex;\n",
              "      flex-wrap:wrap;\n",
              "      gap: 12px;\n",
              "    }\n",
              "\n",
              "    .colab-df-convert {\n",
              "      background-color: #E8F0FE;\n",
              "      border: none;\n",
              "      border-radius: 50%;\n",
              "      cursor: pointer;\n",
              "      display: none;\n",
              "      fill: #1967D2;\n",
              "      height: 32px;\n",
              "      padding: 0 0 0 0;\n",
              "      width: 32px;\n",
              "    }\n",
              "\n",
              "    .colab-df-convert:hover {\n",
              "      background-color: #E2EBFA;\n",
              "      box-shadow: 0px 1px 2px rgba(60, 64, 67, 0.3), 0px 1px 3px 1px rgba(60, 64, 67, 0.15);\n",
              "      fill: #174EA6;\n",
              "    }\n",
              "\n",
              "    [theme=dark] .colab-df-convert {\n",
              "      background-color: #3B4455;\n",
              "      fill: #D2E3FC;\n",
              "    }\n",
              "\n",
              "    [theme=dark] .colab-df-convert:hover {\n",
              "      background-color: #434B5C;\n",
              "      box-shadow: 0px 1px 3px 1px rgba(0, 0, 0, 0.15);\n",
              "      filter: drop-shadow(0px 1px 2px rgba(0, 0, 0, 0.3));\n",
              "      fill: #FFFFFF;\n",
              "    }\n",
              "  </style>\n",
              "\n",
              "      <script>\n",
              "        const buttonEl =\n",
              "          document.querySelector('#df-f14b52ee-970c-48e2-b47d-20c092a18df1 button.colab-df-convert');\n",
              "        buttonEl.style.display =\n",
              "          google.colab.kernel.accessAllowed ? 'block' : 'none';\n",
              "\n",
              "        async function convertToInteractive(key) {\n",
              "          const element = document.querySelector('#df-f14b52ee-970c-48e2-b47d-20c092a18df1');\n",
              "          const dataTable =\n",
              "            await google.colab.kernel.invokeFunction('convertToInteractive',\n",
              "                                                     [key], {});\n",
              "          if (!dataTable) return;\n",
              "\n",
              "          const docLinkHtml = 'Like what you see? Visit the ' +\n",
              "            '<a target=\"_blank\" href=https://colab.research.google.com/notebooks/data_table.ipynb>data table notebook</a>'\n",
              "            + ' to learn more about interactive tables.';\n",
              "          element.innerHTML = '';\n",
              "          dataTable['output_type'] = 'display_data';\n",
              "          await google.colab.output.renderOutput(dataTable, element);\n",
              "          const docLink = document.createElement('div');\n",
              "          docLink.innerHTML = docLinkHtml;\n",
              "          element.appendChild(docLink);\n",
              "        }\n",
              "      </script>\n",
              "    </div>\n",
              "  </div>\n",
              "  "
            ]
          },
          "metadata": {},
          "execution_count": 113
        }
      ]
    },
    {
      "cell_type": "code",
      "source": [
        "#Create new variable nmaed 'state_pop_LH' and classify state pop hig or low based on mean value of state population\n",
        "import numpy as np\n",
        "hs['state_pop_LH']=np.where(hs['state_pop']>hs['state_pop'].mean(),'High','Low')\n",
        "hs.head()"
      ],
      "metadata": {
        "id": "tXkvD8jDkhgJ",
        "outputId": "3e8ab900-f02c-43ae-ccc3-13c7f1b9844a",
        "colab": {
          "base_uri": "https://localhost:8080/",
          "height": 340
        }
      },
      "execution_count": 117,
      "outputs": [
        {
          "output_type": "execute_result",
          "data": {
            "text/plain": [
              "               region       state  individuals  family_members  state_pop  \\\n",
              "0  East South Central     Alabama       2570.0           864.0    4887681   \n",
              "1             Pacific      Alaska       1434.0           582.0     735139   \n",
              "2            Mountain     Arizona       7259.0          2606.0    7158024   \n",
              "3  West South Central    Arkansas       2280.0           432.0    3009733   \n",
              "4             Pacific  California     109008.0         20964.0   39461588   \n",
              "\n",
              "      total  p_individuals  indiv_per_10k state_pop_LH  \n",
              "0    3434.0       0.748398       5.258117          Low  \n",
              "1    2016.0       0.711310      19.506515          Low  \n",
              "2    9865.0       0.735834      10.141067         High  \n",
              "3    2712.0       0.840708       7.575423          Low  \n",
              "4  129972.0       0.838704      27.623825         High  "
            ],
            "text/html": [
              "\n",
              "  <div id=\"df-21237976-57b6-494b-ae08-78f912957407\">\n",
              "    <div class=\"colab-df-container\">\n",
              "      <div>\n",
              "<style scoped>\n",
              "    .dataframe tbody tr th:only-of-type {\n",
              "        vertical-align: middle;\n",
              "    }\n",
              "\n",
              "    .dataframe tbody tr th {\n",
              "        vertical-align: top;\n",
              "    }\n",
              "\n",
              "    .dataframe thead th {\n",
              "        text-align: right;\n",
              "    }\n",
              "</style>\n",
              "<table border=\"1\" class=\"dataframe\">\n",
              "  <thead>\n",
              "    <tr style=\"text-align: right;\">\n",
              "      <th></th>\n",
              "      <th>region</th>\n",
              "      <th>state</th>\n",
              "      <th>individuals</th>\n",
              "      <th>family_members</th>\n",
              "      <th>state_pop</th>\n",
              "      <th>total</th>\n",
              "      <th>p_individuals</th>\n",
              "      <th>indiv_per_10k</th>\n",
              "      <th>state_pop_LH</th>\n",
              "    </tr>\n",
              "  </thead>\n",
              "  <tbody>\n",
              "    <tr>\n",
              "      <th>0</th>\n",
              "      <td>East South Central</td>\n",
              "      <td>Alabama</td>\n",
              "      <td>2570.0</td>\n",
              "      <td>864.0</td>\n",
              "      <td>4887681</td>\n",
              "      <td>3434.0</td>\n",
              "      <td>0.748398</td>\n",
              "      <td>5.258117</td>\n",
              "      <td>Low</td>\n",
              "    </tr>\n",
              "    <tr>\n",
              "      <th>1</th>\n",
              "      <td>Pacific</td>\n",
              "      <td>Alaska</td>\n",
              "      <td>1434.0</td>\n",
              "      <td>582.0</td>\n",
              "      <td>735139</td>\n",
              "      <td>2016.0</td>\n",
              "      <td>0.711310</td>\n",
              "      <td>19.506515</td>\n",
              "      <td>Low</td>\n",
              "    </tr>\n",
              "    <tr>\n",
              "      <th>2</th>\n",
              "      <td>Mountain</td>\n",
              "      <td>Arizona</td>\n",
              "      <td>7259.0</td>\n",
              "      <td>2606.0</td>\n",
              "      <td>7158024</td>\n",
              "      <td>9865.0</td>\n",
              "      <td>0.735834</td>\n",
              "      <td>10.141067</td>\n",
              "      <td>High</td>\n",
              "    </tr>\n",
              "    <tr>\n",
              "      <th>3</th>\n",
              "      <td>West South Central</td>\n",
              "      <td>Arkansas</td>\n",
              "      <td>2280.0</td>\n",
              "      <td>432.0</td>\n",
              "      <td>3009733</td>\n",
              "      <td>2712.0</td>\n",
              "      <td>0.840708</td>\n",
              "      <td>7.575423</td>\n",
              "      <td>Low</td>\n",
              "    </tr>\n",
              "    <tr>\n",
              "      <th>4</th>\n",
              "      <td>Pacific</td>\n",
              "      <td>California</td>\n",
              "      <td>109008.0</td>\n",
              "      <td>20964.0</td>\n",
              "      <td>39461588</td>\n",
              "      <td>129972.0</td>\n",
              "      <td>0.838704</td>\n",
              "      <td>27.623825</td>\n",
              "      <td>High</td>\n",
              "    </tr>\n",
              "  </tbody>\n",
              "</table>\n",
              "</div>\n",
              "      <button class=\"colab-df-convert\" onclick=\"convertToInteractive('df-21237976-57b6-494b-ae08-78f912957407')\"\n",
              "              title=\"Convert this dataframe to an interactive table.\"\n",
              "              style=\"display:none;\">\n",
              "        \n",
              "  <svg xmlns=\"http://www.w3.org/2000/svg\" height=\"24px\"viewBox=\"0 0 24 24\"\n",
              "       width=\"24px\">\n",
              "    <path d=\"M0 0h24v24H0V0z\" fill=\"none\"/>\n",
              "    <path d=\"M18.56 5.44l.94 2.06.94-2.06 2.06-.94-2.06-.94-.94-2.06-.94 2.06-2.06.94zm-11 1L8.5 8.5l.94-2.06 2.06-.94-2.06-.94L8.5 2.5l-.94 2.06-2.06.94zm10 10l.94 2.06.94-2.06 2.06-.94-2.06-.94-.94-2.06-.94 2.06-2.06.94z\"/><path d=\"M17.41 7.96l-1.37-1.37c-.4-.4-.92-.59-1.43-.59-.52 0-1.04.2-1.43.59L10.3 9.45l-7.72 7.72c-.78.78-.78 2.05 0 2.83L4 21.41c.39.39.9.59 1.41.59.51 0 1.02-.2 1.41-.59l7.78-7.78 2.81-2.81c.8-.78.8-2.07 0-2.86zM5.41 20L4 18.59l7.72-7.72 1.47 1.35L5.41 20z\"/>\n",
              "  </svg>\n",
              "      </button>\n",
              "      \n",
              "  <style>\n",
              "    .colab-df-container {\n",
              "      display:flex;\n",
              "      flex-wrap:wrap;\n",
              "      gap: 12px;\n",
              "    }\n",
              "\n",
              "    .colab-df-convert {\n",
              "      background-color: #E8F0FE;\n",
              "      border: none;\n",
              "      border-radius: 50%;\n",
              "      cursor: pointer;\n",
              "      display: none;\n",
              "      fill: #1967D2;\n",
              "      height: 32px;\n",
              "      padding: 0 0 0 0;\n",
              "      width: 32px;\n",
              "    }\n",
              "\n",
              "    .colab-df-convert:hover {\n",
              "      background-color: #E2EBFA;\n",
              "      box-shadow: 0px 1px 2px rgba(60, 64, 67, 0.3), 0px 1px 3px 1px rgba(60, 64, 67, 0.15);\n",
              "      fill: #174EA6;\n",
              "    }\n",
              "\n",
              "    [theme=dark] .colab-df-convert {\n",
              "      background-color: #3B4455;\n",
              "      fill: #D2E3FC;\n",
              "    }\n",
              "\n",
              "    [theme=dark] .colab-df-convert:hover {\n",
              "      background-color: #434B5C;\n",
              "      box-shadow: 0px 1px 3px 1px rgba(0, 0, 0, 0.15);\n",
              "      filter: drop-shadow(0px 1px 2px rgba(0, 0, 0, 0.3));\n",
              "      fill: #FFFFFF;\n",
              "    }\n",
              "  </style>\n",
              "\n",
              "      <script>\n",
              "        const buttonEl =\n",
              "          document.querySelector('#df-21237976-57b6-494b-ae08-78f912957407 button.colab-df-convert');\n",
              "        buttonEl.style.display =\n",
              "          google.colab.kernel.accessAllowed ? 'block' : 'none';\n",
              "\n",
              "        async function convertToInteractive(key) {\n",
              "          const element = document.querySelector('#df-21237976-57b6-494b-ae08-78f912957407');\n",
              "          const dataTable =\n",
              "            await google.colab.kernel.invokeFunction('convertToInteractive',\n",
              "                                                     [key], {});\n",
              "          if (!dataTable) return;\n",
              "\n",
              "          const docLinkHtml = 'Like what you see? Visit the ' +\n",
              "            '<a target=\"_blank\" href=https://colab.research.google.com/notebooks/data_table.ipynb>data table notebook</a>'\n",
              "            + ' to learn more about interactive tables.';\n",
              "          element.innerHTML = '';\n",
              "          dataTable['output_type'] = 'display_data';\n",
              "          await google.colab.output.renderOutput(dataTable, element);\n",
              "          const docLink = document.createElement('div');\n",
              "          docLink.innerHTML = docLinkHtml;\n",
              "          element.appendChild(docLink);\n",
              "        }\n",
              "      </script>\n",
              "    </div>\n",
              "  </div>\n",
              "  "
            ]
          },
          "metadata": {},
          "execution_count": 117
        }
      ]
    },
    {
      "cell_type": "code",
      "source": [],
      "metadata": {
        "id": "QiYDTj7rnh2N"
      },
      "execution_count": null,
      "outputs": []
    },
    {
      "cell_type": "code",
      "source": [
        "#drop newly created variable 'state_pop_LH'.\n",
        "#df = df.drop('column_name', axis=1)\n"
      ],
      "metadata": {
        "id": "BIbwNVwMmRM_",
        "outputId": "c4c83948-da02-4308-f3d0-9d7a71a92833",
        "colab": {
          "base_uri": "https://localhost:8080/",
          "height": 1000
        }
      },
      "execution_count": 116,
      "outputs": [
        {
          "output_type": "execute_result",
          "data": {
            "text/plain": [
              "                region                 state  individuals  family_members  \\\n",
              "0   East South Central               Alabama       2570.0           864.0   \n",
              "1              Pacific                Alaska       1434.0           582.0   \n",
              "2             Mountain               Arizona       7259.0          2606.0   \n",
              "3   West South Central              Arkansas       2280.0           432.0   \n",
              "4              Pacific            California     109008.0         20964.0   \n",
              "5             Mountain              Colorado       7607.0          3250.0   \n",
              "6          New England           Connecticut       2280.0          1696.0   \n",
              "7       South Atlantic              Delaware        708.0           374.0   \n",
              "8       South Atlantic  District of Columbia       3770.0          3134.0   \n",
              "9       South Atlantic               Florida      21443.0          9587.0   \n",
              "10      South Atlantic               Georgia       6943.0          2556.0   \n",
              "11             Pacific                Hawaii       4131.0          2399.0   \n",
              "12            Mountain                 Idaho       1297.0           715.0   \n",
              "13  East North Central              Illinois       6752.0          3891.0   \n",
              "14  East North Central               Indiana       3776.0          1482.0   \n",
              "15  West North Central                  Iowa       1711.0          1038.0   \n",
              "16  West North Central                Kansas       1443.0           773.0   \n",
              "17  East South Central              Kentucky       2735.0           953.0   \n",
              "18  West South Central             Louisiana       2540.0           519.0   \n",
              "19         New England                 Maine       1450.0          1066.0   \n",
              "20      South Atlantic              Maryland       4914.0          2230.0   \n",
              "21         New England         Massachusetts       6811.0         13257.0   \n",
              "22  East North Central              Michigan       5209.0          3142.0   \n",
              "23  West North Central             Minnesota       3993.0          3250.0   \n",
              "24  East South Central           Mississippi       1024.0           328.0   \n",
              "25  West North Central              Missouri       3776.0          2107.0   \n",
              "26            Mountain               Montana        983.0           422.0   \n",
              "27  West North Central              Nebraska       1745.0           676.0   \n",
              "28            Mountain                Nevada       7058.0           486.0   \n",
              "29         New England         New Hampshire        835.0           615.0   \n",
              "30        Mid-Atlantic            New Jersey       6048.0          3350.0   \n",
              "31            Mountain            New Mexico       1949.0           602.0   \n",
              "32        Mid-Atlantic              New York      39827.0         52070.0   \n",
              "33      South Atlantic        North Carolina       6451.0          2817.0   \n",
              "34  West North Central          North Dakota        467.0            75.0   \n",
              "35  East North Central                  Ohio       6929.0          3320.0   \n",
              "36  West South Central              Oklahoma       2823.0          1048.0   \n",
              "37             Pacific                Oregon      11139.0          3337.0   \n",
              "38        Mid-Atlantic          Pennsylvania       8163.0          5349.0   \n",
              "39         New England          Rhode Island        747.0           354.0   \n",
              "40      South Atlantic        South Carolina       3082.0           851.0   \n",
              "41  West North Central          South Dakota        836.0           323.0   \n",
              "42  East South Central             Tennessee       6139.0          1744.0   \n",
              "43  West South Central                 Texas      19199.0          6111.0   \n",
              "44            Mountain                  Utah       1904.0           972.0   \n",
              "45         New England               Vermont        780.0           511.0   \n",
              "46      South Atlantic              Virginia       3928.0          2047.0   \n",
              "47             Pacific            Washington      16424.0          5880.0   \n",
              "48      South Atlantic         West Virginia       1021.0           222.0   \n",
              "49  East North Central             Wisconsin       2740.0          2167.0   \n",
              "50            Mountain               Wyoming        434.0           205.0   \n",
              "\n",
              "    state_pop     total  p_individuals  indiv_per_10k  \n",
              "0     4887681    3434.0       0.748398       5.258117  \n",
              "1      735139    2016.0       0.711310      19.506515  \n",
              "2     7158024    9865.0       0.735834      10.141067  \n",
              "3     3009733    2712.0       0.840708       7.575423  \n",
              "4    39461588  129972.0       0.838704      27.623825  \n",
              "5     5691287   10857.0       0.700654      13.366045  \n",
              "6     3571520    3976.0       0.573441       6.383837  \n",
              "7      965479    1082.0       0.654344       7.333148  \n",
              "8      701547    6904.0       0.546060      53.738381  \n",
              "9    21244317   31030.0       0.691041      10.093523  \n",
              "10   10511131    9499.0       0.730919       6.605379  \n",
              "11    1420593    6530.0       0.632619      29.079406  \n",
              "12    1750536    2012.0       0.644632       7.409159  \n",
              "13   12723071   10643.0       0.634408       5.306895  \n",
              "14    6695497    5258.0       0.718144       5.639611  \n",
              "15    3148618    2749.0       0.622408       5.434130  \n",
              "16    2911359    2216.0       0.651173       4.956448  \n",
              "17    4461153    3688.0       0.741594       6.130702  \n",
              "18    4659690    3059.0       0.830337       5.451006  \n",
              "19    1339057    2516.0       0.576312      10.828516  \n",
              "20    6035802    7144.0       0.687850       8.141420  \n",
              "21    6882635   20068.0       0.339396       9.895919  \n",
              "22    9984072    8351.0       0.623758       5.217310  \n",
              "23    5606249    7243.0       0.551291       7.122409  \n",
              "24    2981020    1352.0       0.757396       3.435066  \n",
              "25    6121623    5883.0       0.641849       6.168299  \n",
              "26    1060665    1405.0       0.699644       9.267771  \n",
              "27    1925614    2421.0       0.720777       9.062045  \n",
              "28    3027341    7544.0       0.935578      23.314189  \n",
              "29    1353465    1450.0       0.575862       6.169351  \n",
              "30    8886025    9398.0       0.643541       6.806193  \n",
              "31    2092741    2551.0       0.764014       9.313145  \n",
              "32   19530351   91897.0       0.433387      20.392363  \n",
              "33   10381615    9268.0       0.696051       6.213869  \n",
              "34     758080     542.0       0.861624       6.160300  \n",
              "35   11676341   10249.0       0.676066       5.934222  \n",
              "36    3940235    3871.0       0.729269       7.164547  \n",
              "37    4181886   14476.0       0.769481      26.636307  \n",
              "38   12800922   13512.0       0.604130       6.376884  \n",
              "39    1058287    1101.0       0.678474       7.058577  \n",
              "40    5084156    3933.0       0.783626       6.061970  \n",
              "41     878698    1159.0       0.721311       9.514077  \n",
              "42    6771631    7883.0       0.778764       9.065763  \n",
              "43   28628666   25310.0       0.758554       6.706215  \n",
              "44    3153550    2876.0       0.662031       6.037640  \n",
              "45     624358    1291.0       0.604183      12.492833  \n",
              "46    8501286    5975.0       0.657406       4.620477  \n",
              "47    7523869   22304.0       0.736370      21.829195  \n",
              "48    1804291    1243.0       0.821400       5.658732  \n",
              "49    5807406    4907.0       0.558386       4.718113  \n",
              "50     577601     639.0       0.679186       7.513837  "
            ],
            "text/html": [
              "\n",
              "  <div id=\"df-0c49a75e-c2aa-4943-b074-1208790f3838\">\n",
              "    <div class=\"colab-df-container\">\n",
              "      <div>\n",
              "<style scoped>\n",
              "    .dataframe tbody tr th:only-of-type {\n",
              "        vertical-align: middle;\n",
              "    }\n",
              "\n",
              "    .dataframe tbody tr th {\n",
              "        vertical-align: top;\n",
              "    }\n",
              "\n",
              "    .dataframe thead th {\n",
              "        text-align: right;\n",
              "    }\n",
              "</style>\n",
              "<table border=\"1\" class=\"dataframe\">\n",
              "  <thead>\n",
              "    <tr style=\"text-align: right;\">\n",
              "      <th></th>\n",
              "      <th>region</th>\n",
              "      <th>state</th>\n",
              "      <th>individuals</th>\n",
              "      <th>family_members</th>\n",
              "      <th>state_pop</th>\n",
              "      <th>total</th>\n",
              "      <th>p_individuals</th>\n",
              "      <th>indiv_per_10k</th>\n",
              "    </tr>\n",
              "  </thead>\n",
              "  <tbody>\n",
              "    <tr>\n",
              "      <th>0</th>\n",
              "      <td>East South Central</td>\n",
              "      <td>Alabama</td>\n",
              "      <td>2570.0</td>\n",
              "      <td>864.0</td>\n",
              "      <td>4887681</td>\n",
              "      <td>3434.0</td>\n",
              "      <td>0.748398</td>\n",
              "      <td>5.258117</td>\n",
              "    </tr>\n",
              "    <tr>\n",
              "      <th>1</th>\n",
              "      <td>Pacific</td>\n",
              "      <td>Alaska</td>\n",
              "      <td>1434.0</td>\n",
              "      <td>582.0</td>\n",
              "      <td>735139</td>\n",
              "      <td>2016.0</td>\n",
              "      <td>0.711310</td>\n",
              "      <td>19.506515</td>\n",
              "    </tr>\n",
              "    <tr>\n",
              "      <th>2</th>\n",
              "      <td>Mountain</td>\n",
              "      <td>Arizona</td>\n",
              "      <td>7259.0</td>\n",
              "      <td>2606.0</td>\n",
              "      <td>7158024</td>\n",
              "      <td>9865.0</td>\n",
              "      <td>0.735834</td>\n",
              "      <td>10.141067</td>\n",
              "    </tr>\n",
              "    <tr>\n",
              "      <th>3</th>\n",
              "      <td>West South Central</td>\n",
              "      <td>Arkansas</td>\n",
              "      <td>2280.0</td>\n",
              "      <td>432.0</td>\n",
              "      <td>3009733</td>\n",
              "      <td>2712.0</td>\n",
              "      <td>0.840708</td>\n",
              "      <td>7.575423</td>\n",
              "    </tr>\n",
              "    <tr>\n",
              "      <th>4</th>\n",
              "      <td>Pacific</td>\n",
              "      <td>California</td>\n",
              "      <td>109008.0</td>\n",
              "      <td>20964.0</td>\n",
              "      <td>39461588</td>\n",
              "      <td>129972.0</td>\n",
              "      <td>0.838704</td>\n",
              "      <td>27.623825</td>\n",
              "    </tr>\n",
              "    <tr>\n",
              "      <th>5</th>\n",
              "      <td>Mountain</td>\n",
              "      <td>Colorado</td>\n",
              "      <td>7607.0</td>\n",
              "      <td>3250.0</td>\n",
              "      <td>5691287</td>\n",
              "      <td>10857.0</td>\n",
              "      <td>0.700654</td>\n",
              "      <td>13.366045</td>\n",
              "    </tr>\n",
              "    <tr>\n",
              "      <th>6</th>\n",
              "      <td>New England</td>\n",
              "      <td>Connecticut</td>\n",
              "      <td>2280.0</td>\n",
              "      <td>1696.0</td>\n",
              "      <td>3571520</td>\n",
              "      <td>3976.0</td>\n",
              "      <td>0.573441</td>\n",
              "      <td>6.383837</td>\n",
              "    </tr>\n",
              "    <tr>\n",
              "      <th>7</th>\n",
              "      <td>South Atlantic</td>\n",
              "      <td>Delaware</td>\n",
              "      <td>708.0</td>\n",
              "      <td>374.0</td>\n",
              "      <td>965479</td>\n",
              "      <td>1082.0</td>\n",
              "      <td>0.654344</td>\n",
              "      <td>7.333148</td>\n",
              "    </tr>\n",
              "    <tr>\n",
              "      <th>8</th>\n",
              "      <td>South Atlantic</td>\n",
              "      <td>District of Columbia</td>\n",
              "      <td>3770.0</td>\n",
              "      <td>3134.0</td>\n",
              "      <td>701547</td>\n",
              "      <td>6904.0</td>\n",
              "      <td>0.546060</td>\n",
              "      <td>53.738381</td>\n",
              "    </tr>\n",
              "    <tr>\n",
              "      <th>9</th>\n",
              "      <td>South Atlantic</td>\n",
              "      <td>Florida</td>\n",
              "      <td>21443.0</td>\n",
              "      <td>9587.0</td>\n",
              "      <td>21244317</td>\n",
              "      <td>31030.0</td>\n",
              "      <td>0.691041</td>\n",
              "      <td>10.093523</td>\n",
              "    </tr>\n",
              "    <tr>\n",
              "      <th>10</th>\n",
              "      <td>South Atlantic</td>\n",
              "      <td>Georgia</td>\n",
              "      <td>6943.0</td>\n",
              "      <td>2556.0</td>\n",
              "      <td>10511131</td>\n",
              "      <td>9499.0</td>\n",
              "      <td>0.730919</td>\n",
              "      <td>6.605379</td>\n",
              "    </tr>\n",
              "    <tr>\n",
              "      <th>11</th>\n",
              "      <td>Pacific</td>\n",
              "      <td>Hawaii</td>\n",
              "      <td>4131.0</td>\n",
              "      <td>2399.0</td>\n",
              "      <td>1420593</td>\n",
              "      <td>6530.0</td>\n",
              "      <td>0.632619</td>\n",
              "      <td>29.079406</td>\n",
              "    </tr>\n",
              "    <tr>\n",
              "      <th>12</th>\n",
              "      <td>Mountain</td>\n",
              "      <td>Idaho</td>\n",
              "      <td>1297.0</td>\n",
              "      <td>715.0</td>\n",
              "      <td>1750536</td>\n",
              "      <td>2012.0</td>\n",
              "      <td>0.644632</td>\n",
              "      <td>7.409159</td>\n",
              "    </tr>\n",
              "    <tr>\n",
              "      <th>13</th>\n",
              "      <td>East North Central</td>\n",
              "      <td>Illinois</td>\n",
              "      <td>6752.0</td>\n",
              "      <td>3891.0</td>\n",
              "      <td>12723071</td>\n",
              "      <td>10643.0</td>\n",
              "      <td>0.634408</td>\n",
              "      <td>5.306895</td>\n",
              "    </tr>\n",
              "    <tr>\n",
              "      <th>14</th>\n",
              "      <td>East North Central</td>\n",
              "      <td>Indiana</td>\n",
              "      <td>3776.0</td>\n",
              "      <td>1482.0</td>\n",
              "      <td>6695497</td>\n",
              "      <td>5258.0</td>\n",
              "      <td>0.718144</td>\n",
              "      <td>5.639611</td>\n",
              "    </tr>\n",
              "    <tr>\n",
              "      <th>15</th>\n",
              "      <td>West North Central</td>\n",
              "      <td>Iowa</td>\n",
              "      <td>1711.0</td>\n",
              "      <td>1038.0</td>\n",
              "      <td>3148618</td>\n",
              "      <td>2749.0</td>\n",
              "      <td>0.622408</td>\n",
              "      <td>5.434130</td>\n",
              "    </tr>\n",
              "    <tr>\n",
              "      <th>16</th>\n",
              "      <td>West North Central</td>\n",
              "      <td>Kansas</td>\n",
              "      <td>1443.0</td>\n",
              "      <td>773.0</td>\n",
              "      <td>2911359</td>\n",
              "      <td>2216.0</td>\n",
              "      <td>0.651173</td>\n",
              "      <td>4.956448</td>\n",
              "    </tr>\n",
              "    <tr>\n",
              "      <th>17</th>\n",
              "      <td>East South Central</td>\n",
              "      <td>Kentucky</td>\n",
              "      <td>2735.0</td>\n",
              "      <td>953.0</td>\n",
              "      <td>4461153</td>\n",
              "      <td>3688.0</td>\n",
              "      <td>0.741594</td>\n",
              "      <td>6.130702</td>\n",
              "    </tr>\n",
              "    <tr>\n",
              "      <th>18</th>\n",
              "      <td>West South Central</td>\n",
              "      <td>Louisiana</td>\n",
              "      <td>2540.0</td>\n",
              "      <td>519.0</td>\n",
              "      <td>4659690</td>\n",
              "      <td>3059.0</td>\n",
              "      <td>0.830337</td>\n",
              "      <td>5.451006</td>\n",
              "    </tr>\n",
              "    <tr>\n",
              "      <th>19</th>\n",
              "      <td>New England</td>\n",
              "      <td>Maine</td>\n",
              "      <td>1450.0</td>\n",
              "      <td>1066.0</td>\n",
              "      <td>1339057</td>\n",
              "      <td>2516.0</td>\n",
              "      <td>0.576312</td>\n",
              "      <td>10.828516</td>\n",
              "    </tr>\n",
              "    <tr>\n",
              "      <th>20</th>\n",
              "      <td>South Atlantic</td>\n",
              "      <td>Maryland</td>\n",
              "      <td>4914.0</td>\n",
              "      <td>2230.0</td>\n",
              "      <td>6035802</td>\n",
              "      <td>7144.0</td>\n",
              "      <td>0.687850</td>\n",
              "      <td>8.141420</td>\n",
              "    </tr>\n",
              "    <tr>\n",
              "      <th>21</th>\n",
              "      <td>New England</td>\n",
              "      <td>Massachusetts</td>\n",
              "      <td>6811.0</td>\n",
              "      <td>13257.0</td>\n",
              "      <td>6882635</td>\n",
              "      <td>20068.0</td>\n",
              "      <td>0.339396</td>\n",
              "      <td>9.895919</td>\n",
              "    </tr>\n",
              "    <tr>\n",
              "      <th>22</th>\n",
              "      <td>East North Central</td>\n",
              "      <td>Michigan</td>\n",
              "      <td>5209.0</td>\n",
              "      <td>3142.0</td>\n",
              "      <td>9984072</td>\n",
              "      <td>8351.0</td>\n",
              "      <td>0.623758</td>\n",
              "      <td>5.217310</td>\n",
              "    </tr>\n",
              "    <tr>\n",
              "      <th>23</th>\n",
              "      <td>West North Central</td>\n",
              "      <td>Minnesota</td>\n",
              "      <td>3993.0</td>\n",
              "      <td>3250.0</td>\n",
              "      <td>5606249</td>\n",
              "      <td>7243.0</td>\n",
              "      <td>0.551291</td>\n",
              "      <td>7.122409</td>\n",
              "    </tr>\n",
              "    <tr>\n",
              "      <th>24</th>\n",
              "      <td>East South Central</td>\n",
              "      <td>Mississippi</td>\n",
              "      <td>1024.0</td>\n",
              "      <td>328.0</td>\n",
              "      <td>2981020</td>\n",
              "      <td>1352.0</td>\n",
              "      <td>0.757396</td>\n",
              "      <td>3.435066</td>\n",
              "    </tr>\n",
              "    <tr>\n",
              "      <th>25</th>\n",
              "      <td>West North Central</td>\n",
              "      <td>Missouri</td>\n",
              "      <td>3776.0</td>\n",
              "      <td>2107.0</td>\n",
              "      <td>6121623</td>\n",
              "      <td>5883.0</td>\n",
              "      <td>0.641849</td>\n",
              "      <td>6.168299</td>\n",
              "    </tr>\n",
              "    <tr>\n",
              "      <th>26</th>\n",
              "      <td>Mountain</td>\n",
              "      <td>Montana</td>\n",
              "      <td>983.0</td>\n",
              "      <td>422.0</td>\n",
              "      <td>1060665</td>\n",
              "      <td>1405.0</td>\n",
              "      <td>0.699644</td>\n",
              "      <td>9.267771</td>\n",
              "    </tr>\n",
              "    <tr>\n",
              "      <th>27</th>\n",
              "      <td>West North Central</td>\n",
              "      <td>Nebraska</td>\n",
              "      <td>1745.0</td>\n",
              "      <td>676.0</td>\n",
              "      <td>1925614</td>\n",
              "      <td>2421.0</td>\n",
              "      <td>0.720777</td>\n",
              "      <td>9.062045</td>\n",
              "    </tr>\n",
              "    <tr>\n",
              "      <th>28</th>\n",
              "      <td>Mountain</td>\n",
              "      <td>Nevada</td>\n",
              "      <td>7058.0</td>\n",
              "      <td>486.0</td>\n",
              "      <td>3027341</td>\n",
              "      <td>7544.0</td>\n",
              "      <td>0.935578</td>\n",
              "      <td>23.314189</td>\n",
              "    </tr>\n",
              "    <tr>\n",
              "      <th>29</th>\n",
              "      <td>New England</td>\n",
              "      <td>New Hampshire</td>\n",
              "      <td>835.0</td>\n",
              "      <td>615.0</td>\n",
              "      <td>1353465</td>\n",
              "      <td>1450.0</td>\n",
              "      <td>0.575862</td>\n",
              "      <td>6.169351</td>\n",
              "    </tr>\n",
              "    <tr>\n",
              "      <th>30</th>\n",
              "      <td>Mid-Atlantic</td>\n",
              "      <td>New Jersey</td>\n",
              "      <td>6048.0</td>\n",
              "      <td>3350.0</td>\n",
              "      <td>8886025</td>\n",
              "      <td>9398.0</td>\n",
              "      <td>0.643541</td>\n",
              "      <td>6.806193</td>\n",
              "    </tr>\n",
              "    <tr>\n",
              "      <th>31</th>\n",
              "      <td>Mountain</td>\n",
              "      <td>New Mexico</td>\n",
              "      <td>1949.0</td>\n",
              "      <td>602.0</td>\n",
              "      <td>2092741</td>\n",
              "      <td>2551.0</td>\n",
              "      <td>0.764014</td>\n",
              "      <td>9.313145</td>\n",
              "    </tr>\n",
              "    <tr>\n",
              "      <th>32</th>\n",
              "      <td>Mid-Atlantic</td>\n",
              "      <td>New York</td>\n",
              "      <td>39827.0</td>\n",
              "      <td>52070.0</td>\n",
              "      <td>19530351</td>\n",
              "      <td>91897.0</td>\n",
              "      <td>0.433387</td>\n",
              "      <td>20.392363</td>\n",
              "    </tr>\n",
              "    <tr>\n",
              "      <th>33</th>\n",
              "      <td>South Atlantic</td>\n",
              "      <td>North Carolina</td>\n",
              "      <td>6451.0</td>\n",
              "      <td>2817.0</td>\n",
              "      <td>10381615</td>\n",
              "      <td>9268.0</td>\n",
              "      <td>0.696051</td>\n",
              "      <td>6.213869</td>\n",
              "    </tr>\n",
              "    <tr>\n",
              "      <th>34</th>\n",
              "      <td>West North Central</td>\n",
              "      <td>North Dakota</td>\n",
              "      <td>467.0</td>\n",
              "      <td>75.0</td>\n",
              "      <td>758080</td>\n",
              "      <td>542.0</td>\n",
              "      <td>0.861624</td>\n",
              "      <td>6.160300</td>\n",
              "    </tr>\n",
              "    <tr>\n",
              "      <th>35</th>\n",
              "      <td>East North Central</td>\n",
              "      <td>Ohio</td>\n",
              "      <td>6929.0</td>\n",
              "      <td>3320.0</td>\n",
              "      <td>11676341</td>\n",
              "      <td>10249.0</td>\n",
              "      <td>0.676066</td>\n",
              "      <td>5.934222</td>\n",
              "    </tr>\n",
              "    <tr>\n",
              "      <th>36</th>\n",
              "      <td>West South Central</td>\n",
              "      <td>Oklahoma</td>\n",
              "      <td>2823.0</td>\n",
              "      <td>1048.0</td>\n",
              "      <td>3940235</td>\n",
              "      <td>3871.0</td>\n",
              "      <td>0.729269</td>\n",
              "      <td>7.164547</td>\n",
              "    </tr>\n",
              "    <tr>\n",
              "      <th>37</th>\n",
              "      <td>Pacific</td>\n",
              "      <td>Oregon</td>\n",
              "      <td>11139.0</td>\n",
              "      <td>3337.0</td>\n",
              "      <td>4181886</td>\n",
              "      <td>14476.0</td>\n",
              "      <td>0.769481</td>\n",
              "      <td>26.636307</td>\n",
              "    </tr>\n",
              "    <tr>\n",
              "      <th>38</th>\n",
              "      <td>Mid-Atlantic</td>\n",
              "      <td>Pennsylvania</td>\n",
              "      <td>8163.0</td>\n",
              "      <td>5349.0</td>\n",
              "      <td>12800922</td>\n",
              "      <td>13512.0</td>\n",
              "      <td>0.604130</td>\n",
              "      <td>6.376884</td>\n",
              "    </tr>\n",
              "    <tr>\n",
              "      <th>39</th>\n",
              "      <td>New England</td>\n",
              "      <td>Rhode Island</td>\n",
              "      <td>747.0</td>\n",
              "      <td>354.0</td>\n",
              "      <td>1058287</td>\n",
              "      <td>1101.0</td>\n",
              "      <td>0.678474</td>\n",
              "      <td>7.058577</td>\n",
              "    </tr>\n",
              "    <tr>\n",
              "      <th>40</th>\n",
              "      <td>South Atlantic</td>\n",
              "      <td>South Carolina</td>\n",
              "      <td>3082.0</td>\n",
              "      <td>851.0</td>\n",
              "      <td>5084156</td>\n",
              "      <td>3933.0</td>\n",
              "      <td>0.783626</td>\n",
              "      <td>6.061970</td>\n",
              "    </tr>\n",
              "    <tr>\n",
              "      <th>41</th>\n",
              "      <td>West North Central</td>\n",
              "      <td>South Dakota</td>\n",
              "      <td>836.0</td>\n",
              "      <td>323.0</td>\n",
              "      <td>878698</td>\n",
              "      <td>1159.0</td>\n",
              "      <td>0.721311</td>\n",
              "      <td>9.514077</td>\n",
              "    </tr>\n",
              "    <tr>\n",
              "      <th>42</th>\n",
              "      <td>East South Central</td>\n",
              "      <td>Tennessee</td>\n",
              "      <td>6139.0</td>\n",
              "      <td>1744.0</td>\n",
              "      <td>6771631</td>\n",
              "      <td>7883.0</td>\n",
              "      <td>0.778764</td>\n",
              "      <td>9.065763</td>\n",
              "    </tr>\n",
              "    <tr>\n",
              "      <th>43</th>\n",
              "      <td>West South Central</td>\n",
              "      <td>Texas</td>\n",
              "      <td>19199.0</td>\n",
              "      <td>6111.0</td>\n",
              "      <td>28628666</td>\n",
              "      <td>25310.0</td>\n",
              "      <td>0.758554</td>\n",
              "      <td>6.706215</td>\n",
              "    </tr>\n",
              "    <tr>\n",
              "      <th>44</th>\n",
              "      <td>Mountain</td>\n",
              "      <td>Utah</td>\n",
              "      <td>1904.0</td>\n",
              "      <td>972.0</td>\n",
              "      <td>3153550</td>\n",
              "      <td>2876.0</td>\n",
              "      <td>0.662031</td>\n",
              "      <td>6.037640</td>\n",
              "    </tr>\n",
              "    <tr>\n",
              "      <th>45</th>\n",
              "      <td>New England</td>\n",
              "      <td>Vermont</td>\n",
              "      <td>780.0</td>\n",
              "      <td>511.0</td>\n",
              "      <td>624358</td>\n",
              "      <td>1291.0</td>\n",
              "      <td>0.604183</td>\n",
              "      <td>12.492833</td>\n",
              "    </tr>\n",
              "    <tr>\n",
              "      <th>46</th>\n",
              "      <td>South Atlantic</td>\n",
              "      <td>Virginia</td>\n",
              "      <td>3928.0</td>\n",
              "      <td>2047.0</td>\n",
              "      <td>8501286</td>\n",
              "      <td>5975.0</td>\n",
              "      <td>0.657406</td>\n",
              "      <td>4.620477</td>\n",
              "    </tr>\n",
              "    <tr>\n",
              "      <th>47</th>\n",
              "      <td>Pacific</td>\n",
              "      <td>Washington</td>\n",
              "      <td>16424.0</td>\n",
              "      <td>5880.0</td>\n",
              "      <td>7523869</td>\n",
              "      <td>22304.0</td>\n",
              "      <td>0.736370</td>\n",
              "      <td>21.829195</td>\n",
              "    </tr>\n",
              "    <tr>\n",
              "      <th>48</th>\n",
              "      <td>South Atlantic</td>\n",
              "      <td>West Virginia</td>\n",
              "      <td>1021.0</td>\n",
              "      <td>222.0</td>\n",
              "      <td>1804291</td>\n",
              "      <td>1243.0</td>\n",
              "      <td>0.821400</td>\n",
              "      <td>5.658732</td>\n",
              "    </tr>\n",
              "    <tr>\n",
              "      <th>49</th>\n",
              "      <td>East North Central</td>\n",
              "      <td>Wisconsin</td>\n",
              "      <td>2740.0</td>\n",
              "      <td>2167.0</td>\n",
              "      <td>5807406</td>\n",
              "      <td>4907.0</td>\n",
              "      <td>0.558386</td>\n",
              "      <td>4.718113</td>\n",
              "    </tr>\n",
              "    <tr>\n",
              "      <th>50</th>\n",
              "      <td>Mountain</td>\n",
              "      <td>Wyoming</td>\n",
              "      <td>434.0</td>\n",
              "      <td>205.0</td>\n",
              "      <td>577601</td>\n",
              "      <td>639.0</td>\n",
              "      <td>0.679186</td>\n",
              "      <td>7.513837</td>\n",
              "    </tr>\n",
              "  </tbody>\n",
              "</table>\n",
              "</div>\n",
              "      <button class=\"colab-df-convert\" onclick=\"convertToInteractive('df-0c49a75e-c2aa-4943-b074-1208790f3838')\"\n",
              "              title=\"Convert this dataframe to an interactive table.\"\n",
              "              style=\"display:none;\">\n",
              "        \n",
              "  <svg xmlns=\"http://www.w3.org/2000/svg\" height=\"24px\"viewBox=\"0 0 24 24\"\n",
              "       width=\"24px\">\n",
              "    <path d=\"M0 0h24v24H0V0z\" fill=\"none\"/>\n",
              "    <path d=\"M18.56 5.44l.94 2.06.94-2.06 2.06-.94-2.06-.94-.94-2.06-.94 2.06-2.06.94zm-11 1L8.5 8.5l.94-2.06 2.06-.94-2.06-.94L8.5 2.5l-.94 2.06-2.06.94zm10 10l.94 2.06.94-2.06 2.06-.94-2.06-.94-.94-2.06-.94 2.06-2.06.94z\"/><path d=\"M17.41 7.96l-1.37-1.37c-.4-.4-.92-.59-1.43-.59-.52 0-1.04.2-1.43.59L10.3 9.45l-7.72 7.72c-.78.78-.78 2.05 0 2.83L4 21.41c.39.39.9.59 1.41.59.51 0 1.02-.2 1.41-.59l7.78-7.78 2.81-2.81c.8-.78.8-2.07 0-2.86zM5.41 20L4 18.59l7.72-7.72 1.47 1.35L5.41 20z\"/>\n",
              "  </svg>\n",
              "      </button>\n",
              "      \n",
              "  <style>\n",
              "    .colab-df-container {\n",
              "      display:flex;\n",
              "      flex-wrap:wrap;\n",
              "      gap: 12px;\n",
              "    }\n",
              "\n",
              "    .colab-df-convert {\n",
              "      background-color: #E8F0FE;\n",
              "      border: none;\n",
              "      border-radius: 50%;\n",
              "      cursor: pointer;\n",
              "      display: none;\n",
              "      fill: #1967D2;\n",
              "      height: 32px;\n",
              "      padding: 0 0 0 0;\n",
              "      width: 32px;\n",
              "    }\n",
              "\n",
              "    .colab-df-convert:hover {\n",
              "      background-color: #E2EBFA;\n",
              "      box-shadow: 0px 1px 2px rgba(60, 64, 67, 0.3), 0px 1px 3px 1px rgba(60, 64, 67, 0.15);\n",
              "      fill: #174EA6;\n",
              "    }\n",
              "\n",
              "    [theme=dark] .colab-df-convert {\n",
              "      background-color: #3B4455;\n",
              "      fill: #D2E3FC;\n",
              "    }\n",
              "\n",
              "    [theme=dark] .colab-df-convert:hover {\n",
              "      background-color: #434B5C;\n",
              "      box-shadow: 0px 1px 3px 1px rgba(0, 0, 0, 0.15);\n",
              "      filter: drop-shadow(0px 1px 2px rgba(0, 0, 0, 0.3));\n",
              "      fill: #FFFFFF;\n",
              "    }\n",
              "  </style>\n",
              "\n",
              "      <script>\n",
              "        const buttonEl =\n",
              "          document.querySelector('#df-0c49a75e-c2aa-4943-b074-1208790f3838 button.colab-df-convert');\n",
              "        buttonEl.style.display =\n",
              "          google.colab.kernel.accessAllowed ? 'block' : 'none';\n",
              "\n",
              "        async function convertToInteractive(key) {\n",
              "          const element = document.querySelector('#df-0c49a75e-c2aa-4943-b074-1208790f3838');\n",
              "          const dataTable =\n",
              "            await google.colab.kernel.invokeFunction('convertToInteractive',\n",
              "                                                     [key], {});\n",
              "          if (!dataTable) return;\n",
              "\n",
              "          const docLinkHtml = 'Like what you see? Visit the ' +\n",
              "            '<a target=\"_blank\" href=https://colab.research.google.com/notebooks/data_table.ipynb>data table notebook</a>'\n",
              "            + ' to learn more about interactive tables.';\n",
              "          element.innerHTML = '';\n",
              "          dataTable['output_type'] = 'display_data';\n",
              "          await google.colab.output.renderOutput(dataTable, element);\n",
              "          const docLink = document.createElement('div');\n",
              "          docLink.innerHTML = docLinkHtml;\n",
              "          element.appendChild(docLink);\n",
              "        }\n",
              "      </script>\n",
              "    </div>\n",
              "  </div>\n",
              "  "
            ]
          },
          "metadata": {},
          "execution_count": 116
        }
      ]
    }
  ],
  "metadata": {
    "anaconda-cloud": "",
    "kernelspec": {
      "display_name": "Python 3.8.13 ('r-reticulate')",
      "language": "python",
      "name": "python3"
    },
    "language_info": {
      "codemirror_mode": "r",
      "file_extension": ".r",
      "mimetype": "text/x-r-source",
      "name": "python",
      "pygments_lexer": "r",
      "version": "3.8.13"
    },
    "vscode": {
      "interpreter": {
        "hash": "5516b1134d36dc5eb8af4fea059c533cda43b57de0b6ee70334a647f3c4f8f68"
      }
    },
    "colab": {
      "provenance": [],
      "include_colab_link": true
    }
  },
  "nbformat": 4,
  "nbformat_minor": 0
}
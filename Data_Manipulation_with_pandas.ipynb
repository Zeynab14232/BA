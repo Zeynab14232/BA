{
  "cells": [
    {
      "cell_type": "markdown",
      "metadata": {
        "id": "view-in-github",
        "colab_type": "text"
      },
      "source": [
        "<a href=\"https://colab.research.google.com/github/ogut77/BA/blob/main/Data_Manipulation_with_pandas.ipynb\" target=\"_parent\"><img src=\"https://colab.research.google.com/assets/colab-badge.svg\" alt=\"Open In Colab\"/></a>"
      ]
    },
    {
      "cell_type": "markdown",
      "metadata": {
        "id": "VrR9O1csn8cw"
      },
      "source": [
        "# Transforming DataFrames\n",
        "\n",
        "<p class=\"chapter__description\">\n",
        "    Let’s master the pandas basics. Learn how to inspect DataFrames and perform fundamental manipulations, including sorting rows, subsetting, and adding new columns.\n",
        "  </p>\n",
        "  \n"
      ]
    },
    {
      "cell_type": "markdown",
      "source": [
        "## Introducing DataFrames\n",
        "\n",
        "\n",
        "\n"
      ],
      "metadata": {
        "id": "rDTYvQgZoR1R"
      }
    },
    {
      "cell_type": "markdown",
      "source": [
        "### Inspecting a DataFrame\n",
        "\n",
        "\n",
        "<div class>\n",
        "<p>When you get a new DataFrame to work with, the first thing you need to do is explore it and see what it contains. There are several useful methods and attributes for this.</p>\n",
        "<ul>\n",
        "<li>\n",
        "<code>.head()</code> returns the first few rows (the “head” of the DataFrame).</li>\n",
        "<li>\n",
        "<code>.info()</code> shows information on each of the columns, such as the data type and number of missing values.</li>\n",
        "<li>\n",
        "<code>.shape</code> returns the number of rows and columns of the DataFrame.</li>\n",
        "<li>\n",
        "<code>.describe()</code> calculates a few summary statistics for each column.</li>\n",
        "</ul>\n",
        "<p><code>homelessness</code> is a DataFrame containing estimates of homelessness in each U.S. state in 2018. The <code>individual</code> column is the number of homeless individuals not part of a family with children. The <code>family_members</code> column is the number of homeless individuals part of a family with children. The <code>state_pop</code> column is the state's total population.</p>\n",
        "<p><code>pandas</code> is imported for you.</p>\n",
        "</div>\n"
      ],
      "metadata": {
        "id": "h_Q4IhgxoS3n"
      }
    },
    {
      "cell_type": "code",
      "execution_count": null,
      "metadata": {
        "id": "Jquq1dILn8cx"
      },
      "outputs": [],
      "source": [
        "# edited by mclix8\n",
        "import pandas as pd\n",
        "homelessness = pd.read_csv('https://raw.githubusercontent.com/mclix8/DataCamp/master/Data%20Manipulation%20with%20Python/Data%20Manipulation%20with%20pandas/datasets/homelessness.csv', index_col = 0)\n"
      ]
    },
    {
      "cell_type": "markdown",
      "metadata": {
        "id": "RiajwGbZn8cy"
      },
      "source": [
        "\n",
        "<li>Print the head of the <code>homelessness</code> DataFrame.</li>\n"
      ]
    },
    {
      "cell_type": "code",
      "execution_count": null,
      "metadata": {
        "colab": {
          "base_uri": "https://localhost:8080/"
        },
        "id": "EMoIIutfn8cy",
        "outputId": "f4a647ac-780f-4463-86b2-177e0f015fad"
      },
      "outputs": [
        {
          "output_type": "stream",
          "name": "stdout",
          "text": [
            "               region       state  individuals  family_members  state_pop\n",
            "0  East South Central     Alabama       2570.0           864.0    4887681\n",
            "1             Pacific      Alaska       1434.0           582.0     735139\n",
            "2            Mountain     Arizona       7259.0          2606.0    7158024\n",
            "3  West South Central    Arkansas       2280.0           432.0    3009733\n",
            "4             Pacific  California     109008.0         20964.0   39461588\n"
          ]
        }
      ],
      "source": [
        "# Print the head of the homelessness data\n",
        "print(homelessness.head())\n"
      ]
    },
    {
      "cell_type": "markdown",
      "metadata": {
        "id": "du_thzH8n8cy"
      },
      "source": [
        "\n",
        "<li>Print information about the column types and missing values in <code>homelessness</code>.</li>\n"
      ]
    },
    {
      "cell_type": "code",
      "execution_count": null,
      "metadata": {
        "colab": {
          "base_uri": "https://localhost:8080/"
        },
        "id": "oT7OSCs9n8cz",
        "outputId": "d11d7b64-24b6-4757-d1c3-e88336bf7e9e"
      },
      "outputs": [
        {
          "output_type": "stream",
          "name": "stdout",
          "text": [
            "<class 'pandas.core.frame.DataFrame'>\n",
            "Int64Index: 51 entries, 0 to 50\n",
            "Data columns (total 5 columns):\n",
            " #   Column          Non-Null Count  Dtype  \n",
            "---  ------          --------------  -----  \n",
            " 0   region          51 non-null     object \n",
            " 1   state           51 non-null     object \n",
            " 2   individuals     51 non-null     float64\n",
            " 3   family_members  51 non-null     float64\n",
            " 4   state_pop       51 non-null     int64  \n",
            "dtypes: float64(2), int64(1), object(2)\n",
            "memory usage: 2.4+ KB\n",
            "None\n"
          ]
        }
      ],
      "source": [
        "# Print information about homelessness\n",
        "print(homelessness.info())\n"
      ]
    },
    {
      "cell_type": "markdown",
      "metadata": {
        "id": "XSdTspWCn8cz"
      },
      "source": [
        "\n",
        "<li>Print the number of rows and columns in <code>homelessness</code>.</li>\n"
      ]
    },
    {
      "cell_type": "code",
      "execution_count": null,
      "metadata": {
        "colab": {
          "base_uri": "https://localhost:8080/"
        },
        "id": "9iJ9E7t-n8cz",
        "outputId": "b490ab93-d65f-48eb-926d-4d040950ec67"
      },
      "outputs": [
        {
          "output_type": "stream",
          "name": "stdout",
          "text": [
            "(51, 5)\n"
          ]
        }
      ],
      "source": [
        "# Print the shape of homelessness\n",
        "print(homelessness.shape)\n"
      ]
    },
    {
      "cell_type": "markdown",
      "metadata": {
        "id": "ZJu2rrQVn8c0"
      },
      "source": [
        "\n",
        "<li>Print some summary statistics that describe the <code>homelessness</code> DataFrame.</li>\n"
      ]
    },
    {
      "cell_type": "code",
      "execution_count": null,
      "metadata": {
        "colab": {
          "base_uri": "https://localhost:8080/"
        },
        "id": "gngC47bYn8c0",
        "outputId": "fba71e60-30d8-46dc-dec7-a51774e35b32"
      },
      "outputs": [
        {
          "output_type": "stream",
          "name": "stdout",
          "text": [
            "         individuals  family_members     state_pop\n",
            "count      51.000000       51.000000  5.100000e+01\n",
            "mean     7225.784314     3504.882353  6.405637e+06\n",
            "std     15991.025083     7805.411811  7.327258e+06\n",
            "min       434.000000       75.000000  5.776010e+05\n",
            "25%      1446.500000      592.000000  1.777414e+06\n",
            "50%      3082.000000     1482.000000  4.461153e+06\n",
            "75%      6781.500000     3196.000000  7.340946e+06\n",
            "max    109008.000000    52070.000000  3.946159e+07\n"
          ]
        }
      ],
      "source": [
        "# Print a description of homelessness\n",
        "print(homelessness.describe())\n"
      ]
    },
    {
      "cell_type": "markdown",
      "metadata": {
        "id": "mXMhEPJMn8c1"
      },
      "source": [
        "<p class=\"\">Insightful inspecting! You can see that the average number of homeless individuals in each state is about 7226. Let's explore the DataFrame further.</p>\n",
        "\n"
      ]
    },
    {
      "cell_type": "markdown",
      "source": [
        "### Parts of a DataFrame\n",
        "\n",
        "\n",
        "<div class>\n",
        "<p>To better understand DataFrame objects, it's useful to know that they consist of three components, stored as attributes:</p>\n",
        "<ul>\n",
        "<li>\n",
        "<code>.values</code>: A two-dimensional NumPy array of values.</li>\n",
        "<li>\n",
        "<code>.columns</code>: An index of columns: the column names.</li>\n",
        "<li>\n",
        "<code>.index</code>: An index for the rows: either row numbers or row names.</li>\n",
        "</ul>\n",
        "<p>You can usually think of indexes as a list of strings or numbers, though the pandas <code>Index</code> data type allows for more sophisticated options. (These will be covered later in the course.)</p>\n",
        "<p><code>homelessness</code> is available.</p>\n",
        "</div>\n",
        "\n",
        "<li>Import <code>pandas</code> using the alias <code>pd</code>.</li>\n"
      ],
      "metadata": {
        "id": "c0TT3qWloU4D"
      }
    },
    {
      "cell_type": "code",
      "execution_count": null,
      "metadata": {
        "id": "a24f_jsbn8c1"
      },
      "outputs": [],
      "source": [
        "# Import pandas using the alias pd\n",
        "import pandas as pd\n"
      ]
    },
    {
      "cell_type": "markdown",
      "metadata": {
        "id": "LNbznsAfn8c1"
      },
      "source": [
        "<li>Print a 2D NumPy array of the values in <code>homelessness</code>.</li>\n"
      ]
    },
    {
      "cell_type": "code",
      "execution_count": null,
      "metadata": {
        "colab": {
          "base_uri": "https://localhost:8080/"
        },
        "id": "Vmq0FTJQn8c1",
        "outputId": "43948064-2593-4ad1-89b3-86865b504dc7"
      },
      "outputs": [
        {
          "output_type": "stream",
          "name": "stdout",
          "text": [
            "[['East South Central' 'Alabama' 2570.0 864.0 4887681]\n",
            " ['Pacific' 'Alaska' 1434.0 582.0 735139]\n",
            " ['Mountain' 'Arizona' 7259.0 2606.0 7158024]\n",
            " ['West South Central' 'Arkansas' 2280.0 432.0 3009733]\n",
            " ['Pacific' 'California' 109008.0 20964.0 39461588]\n",
            " ['Mountain' 'Colorado' 7607.0 3250.0 5691287]\n",
            " ['New England' 'Connecticut' 2280.0 1696.0 3571520]\n",
            " ['South Atlantic' 'Delaware' 708.0 374.0 965479]\n",
            " ['South Atlantic' 'District of Columbia' 3770.0 3134.0 701547]\n",
            " ['South Atlantic' 'Florida' 21443.0 9587.0 21244317]\n",
            " ['South Atlantic' 'Georgia' 6943.0 2556.0 10511131]\n",
            " ['Pacific' 'Hawaii' 4131.0 2399.0 1420593]\n",
            " ['Mountain' 'Idaho' 1297.0 715.0 1750536]\n",
            " ['East North Central' 'Illinois' 6752.0 3891.0 12723071]\n",
            " ['East North Central' 'Indiana' 3776.0 1482.0 6695497]\n",
            " ['West North Central' 'Iowa' 1711.0 1038.0 3148618]\n",
            " ['West North Central' 'Kansas' 1443.0 773.0 2911359]\n",
            " ['East South Central' 'Kentucky' 2735.0 953.0 4461153]\n",
            " ['West South Central' 'Louisiana' 2540.0 519.0 4659690]\n",
            " ['New England' 'Maine' 1450.0 1066.0 1339057]\n",
            " ['South Atlantic' 'Maryland' 4914.0 2230.0 6035802]\n",
            " ['New England' 'Massachusetts' 6811.0 13257.0 6882635]\n",
            " ['East North Central' 'Michigan' 5209.0 3142.0 9984072]\n",
            " ['West North Central' 'Minnesota' 3993.0 3250.0 5606249]\n",
            " ['East South Central' 'Mississippi' 1024.0 328.0 2981020]\n",
            " ['West North Central' 'Missouri' 3776.0 2107.0 6121623]\n",
            " ['Mountain' 'Montana' 983.0 422.0 1060665]\n",
            " ['West North Central' 'Nebraska' 1745.0 676.0 1925614]\n",
            " ['Mountain' 'Nevada' 7058.0 486.0 3027341]\n",
            " ['New England' 'New Hampshire' 835.0 615.0 1353465]\n",
            " ['Mid-Atlantic' 'New Jersey' 6048.0 3350.0 8886025]\n",
            " ['Mountain' 'New Mexico' 1949.0 602.0 2092741]\n",
            " ['Mid-Atlantic' 'New York' 39827.0 52070.0 19530351]\n",
            " ['South Atlantic' 'North Carolina' 6451.0 2817.0 10381615]\n",
            " ['West North Central' 'North Dakota' 467.0 75.0 758080]\n",
            " ['East North Central' 'Ohio' 6929.0 3320.0 11676341]\n",
            " ['West South Central' 'Oklahoma' 2823.0 1048.0 3940235]\n",
            " ['Pacific' 'Oregon' 11139.0 3337.0 4181886]\n",
            " ['Mid-Atlantic' 'Pennsylvania' 8163.0 5349.0 12800922]\n",
            " ['New England' 'Rhode Island' 747.0 354.0 1058287]\n",
            " ['South Atlantic' 'South Carolina' 3082.0 851.0 5084156]\n",
            " ['West North Central' 'South Dakota' 836.0 323.0 878698]\n",
            " ['East South Central' 'Tennessee' 6139.0 1744.0 6771631]\n",
            " ['West South Central' 'Texas' 19199.0 6111.0 28628666]\n",
            " ['Mountain' 'Utah' 1904.0 972.0 3153550]\n",
            " ['New England' 'Vermont' 780.0 511.0 624358]\n",
            " ['South Atlantic' 'Virginia' 3928.0 2047.0 8501286]\n",
            " ['Pacific' 'Washington' 16424.0 5880.0 7523869]\n",
            " ['South Atlantic' 'West Virginia' 1021.0 222.0 1804291]\n",
            " ['East North Central' 'Wisconsin' 2740.0 2167.0 5807406]\n",
            " ['Mountain' 'Wyoming' 434.0 205.0 577601]]\n"
          ]
        }
      ],
      "source": [
        "# Print the values of homelessness\n",
        "print(homelessness.values)\n"
      ]
    },
    {
      "cell_type": "markdown",
      "metadata": {
        "id": "xdx6NJA-n8c1"
      },
      "source": [
        "<li>Print the column names of <code>homelessness</code>.</li>\n"
      ]
    },
    {
      "cell_type": "code",
      "execution_count": null,
      "metadata": {
        "colab": {
          "base_uri": "https://localhost:8080/"
        },
        "id": "izKC5uF5n8c2",
        "outputId": "7b63d4b2-7729-42c7-c262-c5ae2e5dbfa1"
      },
      "outputs": [
        {
          "output_type": "stream",
          "name": "stdout",
          "text": [
            "Index(['region', 'state', 'individuals', 'family_members', 'state_pop'], dtype='object')\n"
          ]
        }
      ],
      "source": [
        "# Print the column index of homelessness\n",
        "print(homelessness.columns)\n"
      ]
    },
    {
      "cell_type": "markdown",
      "metadata": {
        "id": "qABEoSmIn8c2"
      },
      "source": [
        "<li>Print the index of <code>homelessness</code>.</li>\n"
      ]
    },
    {
      "cell_type": "code",
      "execution_count": null,
      "metadata": {
        "colab": {
          "base_uri": "https://localhost:8080/"
        },
        "id": "6KeqxSszn8c2",
        "outputId": "099b829e-7af8-4814-f85c-60a695683fa6"
      },
      "outputs": [
        {
          "output_type": "stream",
          "name": "stdout",
          "text": [
            "Int64Index([ 0,  1,  2,  3,  4,  5,  6,  7,  8,  9, 10, 11, 12, 13, 14, 15, 16,\n",
            "            17, 18, 19, 20, 21, 22, 23, 24, 25, 26, 27, 28, 29, 30, 31, 32, 33,\n",
            "            34, 35, 36, 37, 38, 39, 40, 41, 42, 43, 44, 45, 46, 47, 48, 49,\n",
            "            50],\n",
            "           dtype='int64')\n"
          ]
        }
      ],
      "source": [
        "# Print the row index of homelessness\n",
        "print(homelessness.index)\n"
      ]
    },
    {
      "cell_type": "markdown",
      "metadata": {
        "id": "vjAU2eUgn8c2"
      },
      "source": [
        "<p class=\"\">Dynamite <code>DataFrame</code> dissection! <code>DataFrame</code>s have three components: values, a column index, and a row index.</p>\n",
        "\n"
      ]
    },
    {
      "cell_type": "markdown",
      "source": [
        "## Sorting and subsetting\n",
        "\n",
        "\n",
        "\n"
      ],
      "metadata": {
        "id": "IjdpChE9oqZO"
      }
    },
    {
      "cell_type": "markdown",
      "source": [
        "### Sorting rows\n",
        "\n",
        "\n",
        "<div class>\n",
        "<p>Finding interesting bits of data in a DataFrame is often easier if you change the order of the rows. You can sort the rows by passing a column name to <code>.sort_values()</code>.</p>\n",
        "<p>In cases where rows have the same value (this is common if you sort on a categorical variable), you may wish to break the ties by sorting on another column. You can sort on multiple columns in this way by passing a list of column names.</p>\n",
        "<table>\n",
        "<thead><tr>\n",
        "<th>Sort on …</th>\n",
        "<th>Syntax</th>\n",
        "</tr></thead>\n",
        "<tbody>\n",
        "<tr>\n",
        "<td>one column</td>\n",
        "<td><code>df.sort_values(\"breed\")</code></td>\n",
        "</tr>\n",
        "<tr>\n",
        "<td>multiple columns</td>\n",
        "<td><code>df.sort_values([\"breed\", \"weight_kg\"])</code></td>\n",
        "</tr>\n",
        "</tbody>\n",
        "</table>\n",
        "<p>By combining <code>.sort_values()</code> with <code>.head()</code>, you can answer questions in the form, \"What are the top cases where…?\".</p>\n",
        "<p><code>homelessness</code> is available and <code>pandas</code> is loaded as <code>pd</code>.</p>\n",
        "</div>\n",
        "\n",
        "<li>Sort <code>homelessness</code> by the number of homeless individuals, from smallest to largest, and save this as <code>homelessness_ind</code>.</li>\n"
      ],
      "metadata": {
        "id": "WVCROX-PorR2"
      }
    },
    {
      "cell_type": "code",
      "execution_count": null,
      "metadata": {
        "id": "s6zcifiVn8c2"
      },
      "outputs": [],
      "source": [
        "# Sort homelessness by individuals\n",
        "homelessness_ind = homelessness.sort_values(\"individuals\")\n"
      ]
    },
    {
      "cell_type": "markdown",
      "metadata": {
        "id": "dL4tbrfdn8c2"
      },
      "source": [
        "<li>Print the head of the sorted DataFrame.</li>\n"
      ]
    },
    {
      "cell_type": "code",
      "execution_count": null,
      "metadata": {
        "colab": {
          "base_uri": "https://localhost:8080/"
        },
        "id": "zYHRV1_Yn8c2",
        "outputId": "06e553a9-29ad-43a3-8bd3-82f00b479c7c"
      },
      "outputs": [
        {
          "output_type": "stream",
          "name": "stdout",
          "text": [
            "                region         state  individuals  family_members  state_pop\n",
            "50            Mountain       Wyoming        434.0           205.0     577601\n",
            "34  West North Central  North Dakota        467.0            75.0     758080\n",
            "7       South Atlantic      Delaware        708.0           374.0     965479\n",
            "39         New England  Rhode Island        747.0           354.0    1058287\n",
            "45         New England       Vermont        780.0           511.0     624358\n"
          ]
        }
      ],
      "source": [
        "# Print the top few rows\n",
        "print(homelessness_ind.head())\n"
      ]
    },
    {
      "cell_type": "markdown",
      "metadata": {
        "id": "ZQvh7xnYn8c3"
      },
      "source": [
        "\n",
        "<li>Sort <code>homelessness</code> by the number of homeless <code>family_members</code> in descending order, and save this as <code>homelessness_fam</code>.</li>\n"
      ]
    },
    {
      "cell_type": "code",
      "execution_count": null,
      "metadata": {
        "id": "m07M5BHyn8c3"
      },
      "outputs": [],
      "source": [
        "# Sort homelessness by descending family members\n",
        "homelessness_fam = homelessness.sort_values(\"family_members\", ascending=False)\n"
      ]
    },
    {
      "cell_type": "markdown",
      "metadata": {
        "id": "9Xef0F_yn8c3"
      },
      "source": [
        "<li>Print the head of the sorted DataFrame.</li>\n"
      ]
    },
    {
      "cell_type": "code",
      "execution_count": null,
      "metadata": {
        "colab": {
          "base_uri": "https://localhost:8080/"
        },
        "id": "tw-k4f1Zn8c3",
        "outputId": "7718ba72-f4ca-4803-931e-e353bc356187"
      },
      "outputs": [
        {
          "output_type": "stream",
          "name": "stdout",
          "text": [
            "                region          state  individuals  family_members  state_pop\n",
            "32        Mid-Atlantic       New York      39827.0         52070.0   19530351\n",
            "4              Pacific     California     109008.0         20964.0   39461588\n",
            "21         New England  Massachusetts       6811.0         13257.0    6882635\n",
            "9       South Atlantic        Florida      21443.0          9587.0   21244317\n",
            "43  West South Central          Texas      19199.0          6111.0   28628666\n"
          ]
        }
      ],
      "source": [
        "# Print the top few rows\n",
        "print(homelessness_fam.head())\n"
      ]
    },
    {
      "cell_type": "markdown",
      "metadata": {
        "id": "9q_tgorhn8c3"
      },
      "source": [
        "\n",
        "<li>Sort <code>homelessness</code> first by region (ascending), and then by number of family members (descending). Save this as <code>homelessness_reg_fam</code>.</li>\n"
      ]
    },
    {
      "cell_type": "code",
      "execution_count": null,
      "metadata": {
        "id": "iIQR2dyyn8c3"
      },
      "outputs": [],
      "source": [
        "# Sort homelessness by region, then descending family members\n",
        "homelessness_reg_fam = homelessness.sort_values([\"region\", \"family_members\"], ascending=[True, False])\n"
      ]
    },
    {
      "cell_type": "markdown",
      "metadata": {
        "id": "Bh94biGin8c3"
      },
      "source": [
        "<li>Print the head of the sorted DataFrame.</li>\n"
      ]
    },
    {
      "cell_type": "code",
      "execution_count": null,
      "metadata": {
        "colab": {
          "base_uri": "https://localhost:8080/"
        },
        "id": "PKBSBBusn8c3",
        "outputId": "1e57d13d-bbae-4fd2-f3f3-7e8cfc9c4994"
      },
      "outputs": [
        {
          "output_type": "stream",
          "name": "stdout",
          "text": [
            "                region      state  individuals  family_members  state_pop\n",
            "13  East North Central   Illinois       6752.0          3891.0   12723071\n",
            "35  East North Central       Ohio       6929.0          3320.0   11676341\n",
            "22  East North Central   Michigan       5209.0          3142.0    9984072\n",
            "49  East North Central  Wisconsin       2740.0          2167.0    5807406\n",
            "14  East North Central    Indiana       3776.0          1482.0    6695497\n"
          ]
        }
      ],
      "source": [
        "# Print the top few rows\n",
        "print(homelessness_reg_fam.head())\n"
      ]
    },
    {
      "cell_type": "markdown",
      "metadata": {
        "id": "Jjj2qxhnn8c4"
      },
      "source": [
        "<p class=\"\">Your head is sorted! Using <code>.sort_values()</code> and <code>.head()</code> form a powerful pair.</p>\n",
        "\n"
      ]
    },
    {
      "cell_type": "markdown",
      "source": [
        "### Subsetting columns\n",
        "\n",
        "\n",
        "<div class>\n",
        "<p>When working with data, you may not need all of the variables in your dataset. Square brackets (<code>[]</code>) can be used to select only the columns that matter to you in an order that makes sense to you.\n",
        "To select only <code>\"col_a\"</code> of the DataFrame <code>df</code>, use</p>\n",
        "<pre><code>df[\"col_a\"]\n",
        "</code></pre>\n",
        "<p>To select <code>\"col_a\"</code> and <code>\"col_b\"</code> of <code>df</code>, use</p>\n",
        "<pre><code>df[[\"col_a\", \"col_b\"]]\n",
        "</code></pre>\n",
        "<p><code>homelessness</code> is available and <code>pandas</code> is loaded as <code>pd</code>.</p>\n",
        "</div>\n",
        "\n",
        "<li>Create a DataFrame called <code>individuals</code> that contains only the <code>individuals</code> column of <code>homelessness</code>.</li>\n"
      ],
      "metadata": {
        "id": "FV_XDWjTotGy"
      }
    },
    {
      "cell_type": "code",
      "execution_count": null,
      "metadata": {
        "id": "apF9LEnAn8c4"
      },
      "outputs": [],
      "source": [
        "# Select the individuals column\n",
        "homelessness.head()\n",
        "individuals = homelessness[\"individuals\"]\n"
      ]
    },
    {
      "cell_type": "markdown",
      "metadata": {
        "id": "Iqi2rAbLn8c4"
      },
      "source": [
        "<li>Print the head of the result.</li>\n"
      ]
    },
    {
      "cell_type": "code",
      "execution_count": null,
      "metadata": {
        "colab": {
          "base_uri": "https://localhost:8080/"
        },
        "id": "Icqera0ln8c4",
        "outputId": "c4f589b7-6957-4370-c0a9-7629170fa90e"
      },
      "outputs": [
        {
          "output_type": "stream",
          "name": "stdout",
          "text": [
            "0      2570.0\n",
            "1      1434.0\n",
            "2      7259.0\n",
            "3      2280.0\n",
            "4    109008.0\n",
            "Name: individuals, dtype: float64\n"
          ]
        }
      ],
      "source": [
        "# Print the head of the result\n",
        "print(individuals.head())\n"
      ]
    },
    {
      "cell_type": "markdown",
      "metadata": {
        "id": "1OqBRixNn8c4"
      },
      "source": [
        "\n",
        "<li>Create a DataFrame called <code>state_fam</code> that contains only the <code>state</code> and <code>family_members</code> columns of <code>homelessness</code>, in that order.</li>\n"
      ]
    },
    {
      "cell_type": "code",
      "execution_count": null,
      "metadata": {
        "id": "tyx2e_97n8c4"
      },
      "outputs": [],
      "source": [
        "# Select the state and family_members columns\n",
        "state_fam = homelessness[[\"state\", \"family_members\"]]\n"
      ]
    },
    {
      "cell_type": "markdown",
      "metadata": {
        "id": "MG1_kK8wn8c4"
      },
      "source": [
        "<li>Print the head of the result.</li>\n"
      ]
    },
    {
      "cell_type": "code",
      "execution_count": null,
      "metadata": {
        "colab": {
          "base_uri": "https://localhost:8080/"
        },
        "id": "o9R_HxK0n8c4",
        "outputId": "572971fb-91b1-44c3-a238-6f253b4a0012"
      },
      "outputs": [
        {
          "output_type": "stream",
          "name": "stdout",
          "text": [
            "        state  family_members\n",
            "0     Alabama           864.0\n",
            "1      Alaska           582.0\n",
            "2     Arizona          2606.0\n",
            "3    Arkansas           432.0\n",
            "4  California         20964.0\n"
          ]
        }
      ],
      "source": [
        "# Print the head of the result\n",
        "print(state_fam.head())\n"
      ]
    },
    {
      "cell_type": "markdown",
      "metadata": {
        "id": "u5Z7Q30_n8c5"
      },
      "source": [
        "\n",
        "<li>Create a DataFrame called <code>ind_state</code> that contains the <code>individuals</code> and <code>state</code> columns of <code>homelessness</code>, in that order.</li>\n"
      ]
    },
    {
      "cell_type": "code",
      "execution_count": null,
      "metadata": {
        "id": "NcISLnKxn8c5"
      },
      "outputs": [],
      "source": [
        "# Select only the individuals and state columns, in that order\n",
        "ind_state = homelessness[[\"individuals\", \"state\"]]\n"
      ]
    },
    {
      "cell_type": "markdown",
      "metadata": {
        "id": "fIX0h2ifn8c5"
      },
      "source": [
        "<li>Print the head of the result.</li>\n"
      ]
    },
    {
      "cell_type": "code",
      "execution_count": null,
      "metadata": {
        "colab": {
          "base_uri": "https://localhost:8080/"
        },
        "id": "1824lpCKn8c5",
        "outputId": "5354678a-cb8a-47ff-cba2-848392230631"
      },
      "outputs": [
        {
          "output_type": "stream",
          "name": "stdout",
          "text": [
            "   individuals       state\n",
            "0       2570.0     Alabama\n",
            "1       1434.0      Alaska\n",
            "2       7259.0     Arizona\n",
            "3       2280.0    Arkansas\n",
            "4     109008.0  California\n"
          ]
        }
      ],
      "source": [
        "# Print the head of the result\n",
        "print(ind_state.head())\n"
      ]
    },
    {
      "cell_type": "markdown",
      "metadata": {
        "id": "XSwkfupvn8c5"
      },
      "source": [
        "<p class=\"\">Radical reordering! Selecting and reordering columns can make data easier to work with.</p>\n",
        "\n"
      ]
    },
    {
      "cell_type": "markdown",
      "source": [
        "### Subsetting rows\n",
        "\n",
        "\n",
        "<div class>\n",
        "<p>A large part of data science is about finding which bits of your dataset are interesting. One of the simplest techniques for this is to find a subset of rows that match some criteria. This is sometimes known as <em>filtering rows</em> or <em>selecting rows</em>.</p>\n",
        "<p>There are many ways to subset a DataFrame, perhaps the most common is to use relational operators to return <code>True</code> or <code>False</code> for each row, then pass that inside square brackets.</p>\n",
        "<pre><code>dogs[dogs[\"height_cm\"] &gt; 60]\n",
        "dogs[dogs[\"color\"] == \"tan\"]\n",
        "</code></pre>\n",
        "<p>You can filter for multiple conditions at once by using the \"bitwise and\" operator, <code>&amp;</code>.</p>\n",
        "<pre><code>dogs[(dogs[\"height_cm\"] &gt; 60) &amp; (dogs[\"color\"] == \"tan\")]\n",
        "</code></pre>\n",
        "<p><code>homelessness</code> is available and <code>pandas</code> is loaded as <code>pd</code>.</p>\n",
        "</div>\n",
        "<div class=\"exercise--instructions__content\"><p>Filter <code>homelessness</code> for cases where the number of individuals is greater than ten thousand, assigning to <code>ind_gt_10k</code>. <em>View the printed result.</em></p></div>\n"
      ],
      "metadata": {
        "id": "ITsI42zWouvU"
      }
    },
    {
      "cell_type": "code",
      "execution_count": null,
      "metadata": {
        "colab": {
          "base_uri": "https://localhost:8080/"
        },
        "id": "8v3HRvYZn8c5",
        "outputId": "144e1bae-422b-4d93-b7c4-bf793922409c"
      },
      "outputs": [
        {
          "output_type": "stream",
          "name": "stdout",
          "text": [
            "                region       state  individuals  family_members  state_pop\n",
            "4              Pacific  California     109008.0         20964.0   39461588\n",
            "9       South Atlantic     Florida      21443.0          9587.0   21244317\n",
            "32        Mid-Atlantic    New York      39827.0         52070.0   19530351\n",
            "37             Pacific      Oregon      11139.0          3337.0    4181886\n",
            "43  West South Central       Texas      19199.0          6111.0   28628666\n",
            "47             Pacific  Washington      16424.0          5880.0    7523869\n"
          ]
        }
      ],
      "source": [
        "# Filter for rows where individuals is greater than 10000\n",
        "ind_gt_10k = homelessness[homelessness[\"individuals\"]>10000]\n",
        "\n",
        "# See the result\n",
        "print(ind_gt_10k)\n"
      ]
    },
    {
      "cell_type": "markdown",
      "metadata": {
        "id": "AqXAuEX_n8c5"
      },
      "source": [
        "\n",
        "<div class=\"exercise--instructions__content\"><p>Filter <code>homelessness</code> for cases where the USA Census region is <code>\"Mountain\"</code>, assigning to <code>mountain_reg</code>. <em>View the printed result.</em></p></div>\n"
      ]
    },
    {
      "cell_type": "code",
      "execution_count": null,
      "metadata": {
        "colab": {
          "base_uri": "https://localhost:8080/"
        },
        "id": "MjhltS4Yn8c5",
        "outputId": "c0b24028-88ba-4824-f2df-9b5dc7e722ae"
      },
      "outputs": [
        {
          "output_type": "stream",
          "name": "stdout",
          "text": [
            "      region       state  individuals  family_members  state_pop\n",
            "2   Mountain     Arizona       7259.0          2606.0    7158024\n",
            "5   Mountain    Colorado       7607.0          3250.0    5691287\n",
            "12  Mountain       Idaho       1297.0           715.0    1750536\n",
            "26  Mountain     Montana        983.0           422.0    1060665\n",
            "28  Mountain      Nevada       7058.0           486.0    3027341\n",
            "31  Mountain  New Mexico       1949.0           602.0    2092741\n",
            "44  Mountain        Utah       1904.0           972.0    3153550\n",
            "50  Mountain     Wyoming        434.0           205.0     577601\n"
          ]
        }
      ],
      "source": [
        "# Filter for rows where region is Mountain\n",
        "mountain_reg = homelessness[homelessness[\"region\"] == \"Mountain\"]\n",
        "\n",
        "# See the result\n",
        "print(mountain_reg)\n"
      ]
    },
    {
      "cell_type": "markdown",
      "metadata": {
        "id": "ZLG6Wbt7n8c6"
      },
      "source": [
        "\n",
        "<div class=\"exercise--instructions__content\"><p>Filter <code>homelessness</code> for cases where the number of <code>family_members</code> is less than one thousand and the <code>region</code> is \"Pacific\", assigning to <code>fam_lt_1k_pac</code>. <em>View the printed result.</em></p></div>\n"
      ]
    },
    {
      "cell_type": "code",
      "execution_count": null,
      "metadata": {
        "colab": {
          "base_uri": "https://localhost:8080/"
        },
        "id": "T8GSbEG0n8c6",
        "outputId": "9a0dba91-4ff7-461a-d06e-85a34c738c3e"
      },
      "outputs": [
        {
          "output_type": "stream",
          "name": "stdout",
          "text": [
            "    region   state  individuals  family_members  state_pop\n",
            "1  Pacific  Alaska       1434.0           582.0     735139\n"
          ]
        }
      ],
      "source": [
        "# Filter for rows where family_members is less than 1000 \n",
        "# and region is Pacific\n",
        "fam_lt_1k_pac = homelessness[(homelessness[\"family_members\"] < 1000) & (homelessness[\"region\"] == \"Pacific\")]\n",
        "\n",
        "# See the result\n",
        "print(fam_lt_1k_pac)\n"
      ]
    },
    {
      "cell_type": "markdown",
      "metadata": {
        "id": "JHILxXXjn8c6"
      },
      "source": [
        "<p class=\"\">Superb subsetting! Using square brackets plus logical conditions is often the most powerful way of identifying interesting rows of data.</p>\n",
        "\n"
      ]
    },
    {
      "cell_type": "markdown",
      "source": [
        "### Subsetting rows by categorical variables\n",
        "\n",
        "\n",
        "<div class>\n",
        "<p>Subsetting data based on a categorical variable often involves using the \"or\" operator (<code>|</code>) to select rows from multiple categories. This can get tedious when you want all states in one of three different regions, for example. \n",
        "Instead, use the <code>.isin()</code> method, which will allow you to tackle this problem by writing one condition instead of three separate ones.</p>\n",
        "<pre><code>colors = [\"brown\", \"black\", \"tan\"]\n",
        "condition = dogs[\"color\"].isin(colors)\n",
        "dogs[condition]\n",
        "</code></pre>\n",
        "<p><code>homelessness</code> is available and <code>pandas</code> is loaded as <code>pd</code>.</p>\n",
        "</div>\n",
        "<div class=\"exercise--instructions__content\"><p>Filter <code>homelessness</code> for cases where the USA census region is \"South Atlantic\" or it is \"Mid-Atlantic\", assigning to <code>south_mid_atlantic</code>. <em>View the printed result.</em></p></div>\n"
      ],
      "metadata": {
        "id": "SZmCEI2-owUM"
      }
    },
    {
      "cell_type": "code",
      "execution_count": null,
      "metadata": {
        "colab": {
          "base_uri": "https://localhost:8080/"
        },
        "id": "3yop3QtYn8c6",
        "outputId": "87ad492b-a792-4597-a7bd-a6181a2573bf"
      },
      "outputs": [
        {
          "output_type": "stream",
          "name": "stdout",
          "text": [
            "            region                 state  individuals  family_members  \\\n",
            "7   South Atlantic              Delaware        708.0           374.0   \n",
            "8   South Atlantic  District of Columbia       3770.0          3134.0   \n",
            "9   South Atlantic               Florida      21443.0          9587.0   \n",
            "10  South Atlantic               Georgia       6943.0          2556.0   \n",
            "20  South Atlantic              Maryland       4914.0          2230.0   \n",
            "30    Mid-Atlantic            New Jersey       6048.0          3350.0   \n",
            "32    Mid-Atlantic              New York      39827.0         52070.0   \n",
            "33  South Atlantic        North Carolina       6451.0          2817.0   \n",
            "38    Mid-Atlantic          Pennsylvania       8163.0          5349.0   \n",
            "40  South Atlantic        South Carolina       3082.0           851.0   \n",
            "46  South Atlantic              Virginia       3928.0          2047.0   \n",
            "48  South Atlantic         West Virginia       1021.0           222.0   \n",
            "\n",
            "    state_pop  \n",
            "7      965479  \n",
            "8      701547  \n",
            "9    21244317  \n",
            "10   10511131  \n",
            "20    6035802  \n",
            "30    8886025  \n",
            "32   19530351  \n",
            "33   10381615  \n",
            "38   12800922  \n",
            "40    5084156  \n",
            "46    8501286  \n",
            "48    1804291  \n"
          ]
        }
      ],
      "source": [
        "# Subset for rows in South Atlantic or Mid-Atlantic regions\n",
        "regions=[]\n",
        "south_mid_atlantic = homelessness[(homelessness[\"region\"]==\"South Atlantic\") |(homelessness[\"region\"]==\"Mid-Atlantic\")]\n",
        "\n",
        "# See the result\n",
        "print(south_mid_atlantic)\n"
      ]
    },
    {
      "cell_type": "markdown",
      "metadata": {
        "id": "kg7Ur5TPn8c6"
      },
      "source": [
        "\n",
        "<div class=\"exercise--instructions__content\"><p>Filter <code>homelessness</code> for cases where the USA census <code>state</code> is in the list of Mojave states, <code>canu</code>, assigning to <code>mojave_homelessness</code>. <em>View the printed result.</em></p></div>\n"
      ]
    },
    {
      "cell_type": "code",
      "execution_count": null,
      "metadata": {
        "colab": {
          "base_uri": "https://localhost:8080/"
        },
        "id": "bcrXGEDpn8c7",
        "outputId": "421ef049-f424-4fa5-c709-389d907ccf47"
      },
      "outputs": [
        {
          "output_type": "stream",
          "name": "stdout",
          "text": [
            "      region       state  individuals  family_members  state_pop\n",
            "2   Mountain     Arizona       7259.0          2606.0    7158024\n",
            "4    Pacific  California     109008.0         20964.0   39461588\n",
            "28  Mountain      Nevada       7058.0           486.0    3027341\n",
            "44  Mountain        Utah       1904.0           972.0    3153550\n"
          ]
        }
      ],
      "source": [
        "# The Mojave Desert states\n",
        "canu = [\"California\", \"Arizona\", \"Nevada\", \"Utah\"]\n",
        "\n",
        "# Filter for rows in the Mojave Desert states\n",
        "mojave_homelessness = homelessness[homelessness[\"state\"].isin(canu)]\n",
        "\n",
        "# See the result\n",
        "print(mojave_homelessness)\n"
      ]
    },
    {
      "cell_type": "markdown",
      "metadata": {
        "id": "AYbZHmamn8c7"
      },
      "source": [
        "<p class=\"\">Success <em>is in</em> the air! Using <code>.isin()</code> makes subsetting categorical variables a breeze.</p>\n",
        "\n"
      ]
    },
    {
      "cell_type": "markdown",
      "source": [
        "## New columns\n",
        "\n",
        "\n",
        "\n"
      ],
      "metadata": {
        "id": "FoFbrEIPoyO9"
      }
    },
    {
      "cell_type": "markdown",
      "source": [
        "### Adding new columns\n",
        "\n",
        "\n",
        "<div class>\n",
        "<p>You aren't stuck with just the data you are given. Instead, you can add new columns to a DataFrame. This has many names, such as <em>transforming</em>, <em>mutating</em>, and <em>feature engineering</em>.</p>\n",
        "<p>You can create new columns from scratch, but it is also common to derive them from other columns, for example, by adding columns together or by changing their units. </p>\n",
        "<p><code>homelessness</code> is available and <code>pandas</code> is loaded as <code>pd</code>.</p>\n",
        "</div>\n",
        "\n",
        "<li>Add a new column to <code>homelessness</code>, named <code>total</code>, containing the sum of the <code>individuals</code> and <code>family_members</code> columns.</li>\n"
      ],
      "metadata": {
        "id": "rmKbtYiGoy9h"
      }
    },
    {
      "cell_type": "code",
      "execution_count": null,
      "metadata": {
        "id": "8v3V2cJJn8c7"
      },
      "outputs": [],
      "source": [
        "# Add total col as sum of individuals and family_members\n",
        "homelessness[\"total\"] = homelessness[\"individuals\"] + homelessness[\"family_members\"]\n"
      ]
    },
    {
      "cell_type": "markdown",
      "metadata": {
        "id": "grY7hgj0n8c7"
      },
      "source": [
        "<li>Add another column to <code>homelessness</code>, named <code>p_individuals</code>, containing the proportion of homeless people in each state who are individuals.</li>\n"
      ]
    },
    {
      "cell_type": "code",
      "execution_count": null,
      "metadata": {
        "colab": {
          "base_uri": "https://localhost:8080/"
        },
        "id": "8MjvTWGdn8c7",
        "outputId": "9aa38cdc-3914-4355-e82b-1d4965e3dae7"
      },
      "outputs": [
        {
          "output_type": "stream",
          "name": "stdout",
          "text": [
            "                region                 state  individuals  family_members  \\\n",
            "0   East South Central               Alabama       2570.0           864.0   \n",
            "1              Pacific                Alaska       1434.0           582.0   \n",
            "2             Mountain               Arizona       7259.0          2606.0   \n",
            "3   West South Central              Arkansas       2280.0           432.0   \n",
            "4              Pacific            California     109008.0         20964.0   \n",
            "5             Mountain              Colorado       7607.0          3250.0   \n",
            "6          New England           Connecticut       2280.0          1696.0   \n",
            "7       South Atlantic              Delaware        708.0           374.0   \n",
            "8       South Atlantic  District of Columbia       3770.0          3134.0   \n",
            "9       South Atlantic               Florida      21443.0          9587.0   \n",
            "10      South Atlantic               Georgia       6943.0          2556.0   \n",
            "11             Pacific                Hawaii       4131.0          2399.0   \n",
            "12            Mountain                 Idaho       1297.0           715.0   \n",
            "13  East North Central              Illinois       6752.0          3891.0   \n",
            "14  East North Central               Indiana       3776.0          1482.0   \n",
            "15  West North Central                  Iowa       1711.0          1038.0   \n",
            "16  West North Central                Kansas       1443.0           773.0   \n",
            "17  East South Central              Kentucky       2735.0           953.0   \n",
            "18  West South Central             Louisiana       2540.0           519.0   \n",
            "19         New England                 Maine       1450.0          1066.0   \n",
            "20      South Atlantic              Maryland       4914.0          2230.0   \n",
            "21         New England         Massachusetts       6811.0         13257.0   \n",
            "22  East North Central              Michigan       5209.0          3142.0   \n",
            "23  West North Central             Minnesota       3993.0          3250.0   \n",
            "24  East South Central           Mississippi       1024.0           328.0   \n",
            "25  West North Central              Missouri       3776.0          2107.0   \n",
            "26            Mountain               Montana        983.0           422.0   \n",
            "27  West North Central              Nebraska       1745.0           676.0   \n",
            "28            Mountain                Nevada       7058.0           486.0   \n",
            "29         New England         New Hampshire        835.0           615.0   \n",
            "30        Mid-Atlantic            New Jersey       6048.0          3350.0   \n",
            "31            Mountain            New Mexico       1949.0           602.0   \n",
            "32        Mid-Atlantic              New York      39827.0         52070.0   \n",
            "33      South Atlantic        North Carolina       6451.0          2817.0   \n",
            "34  West North Central          North Dakota        467.0            75.0   \n",
            "35  East North Central                  Ohio       6929.0          3320.0   \n",
            "36  West South Central              Oklahoma       2823.0          1048.0   \n",
            "37             Pacific                Oregon      11139.0          3337.0   \n",
            "38        Mid-Atlantic          Pennsylvania       8163.0          5349.0   \n",
            "39         New England          Rhode Island        747.0           354.0   \n",
            "40      South Atlantic        South Carolina       3082.0           851.0   \n",
            "41  West North Central          South Dakota        836.0           323.0   \n",
            "42  East South Central             Tennessee       6139.0          1744.0   \n",
            "43  West South Central                 Texas      19199.0          6111.0   \n",
            "44            Mountain                  Utah       1904.0           972.0   \n",
            "45         New England               Vermont        780.0           511.0   \n",
            "46      South Atlantic              Virginia       3928.0          2047.0   \n",
            "47             Pacific            Washington      16424.0          5880.0   \n",
            "48      South Atlantic         West Virginia       1021.0           222.0   \n",
            "49  East North Central             Wisconsin       2740.0          2167.0   \n",
            "50            Mountain               Wyoming        434.0           205.0   \n",
            "\n",
            "    state_pop     total  p_individuals  \n",
            "0     4887681    3434.0       0.748398  \n",
            "1      735139    2016.0       0.711310  \n",
            "2     7158024    9865.0       0.735834  \n",
            "3     3009733    2712.0       0.840708  \n",
            "4    39461588  129972.0       0.838704  \n",
            "5     5691287   10857.0       0.700654  \n",
            "6     3571520    3976.0       0.573441  \n",
            "7      965479    1082.0       0.654344  \n",
            "8      701547    6904.0       0.546060  \n",
            "9    21244317   31030.0       0.691041  \n",
            "10   10511131    9499.0       0.730919  \n",
            "11    1420593    6530.0       0.632619  \n",
            "12    1750536    2012.0       0.644632  \n",
            "13   12723071   10643.0       0.634408  \n",
            "14    6695497    5258.0       0.718144  \n",
            "15    3148618    2749.0       0.622408  \n",
            "16    2911359    2216.0       0.651173  \n",
            "17    4461153    3688.0       0.741594  \n",
            "18    4659690    3059.0       0.830337  \n",
            "19    1339057    2516.0       0.576312  \n",
            "20    6035802    7144.0       0.687850  \n",
            "21    6882635   20068.0       0.339396  \n",
            "22    9984072    8351.0       0.623758  \n",
            "23    5606249    7243.0       0.551291  \n",
            "24    2981020    1352.0       0.757396  \n",
            "25    6121623    5883.0       0.641849  \n",
            "26    1060665    1405.0       0.699644  \n",
            "27    1925614    2421.0       0.720777  \n",
            "28    3027341    7544.0       0.935578  \n",
            "29    1353465    1450.0       0.575862  \n",
            "30    8886025    9398.0       0.643541  \n",
            "31    2092741    2551.0       0.764014  \n",
            "32   19530351   91897.0       0.433387  \n",
            "33   10381615    9268.0       0.696051  \n",
            "34     758080     542.0       0.861624  \n",
            "35   11676341   10249.0       0.676066  \n",
            "36    3940235    3871.0       0.729269  \n",
            "37    4181886   14476.0       0.769481  \n",
            "38   12800922   13512.0       0.604130  \n",
            "39    1058287    1101.0       0.678474  \n",
            "40    5084156    3933.0       0.783626  \n",
            "41     878698    1159.0       0.721311  \n",
            "42    6771631    7883.0       0.778764  \n",
            "43   28628666   25310.0       0.758554  \n",
            "44    3153550    2876.0       0.662031  \n",
            "45     624358    1291.0       0.604183  \n",
            "46    8501286    5975.0       0.657406  \n",
            "47    7523869   22304.0       0.736370  \n",
            "48    1804291    1243.0       0.821400  \n",
            "49    5807406    4907.0       0.558386  \n",
            "50     577601     639.0       0.679186  \n"
          ]
        }
      ],
      "source": [
        "# Add p_individuals col as proportion of total that are individuals\n",
        "homelessness[\"p_individuals\"] = homelessness[\"individuals\"] / homelessness[\"total\"]\n",
        "\n",
        "# See the result\n",
        "print(homelessness)\n"
      ]
    },
    {
      "cell_type": "markdown",
      "metadata": {
        "id": "LWnOCFLXn8c7"
      },
      "source": [
        "<p class=\"\">Astounding column assignment! If your dataset doesn't have the exact columns you need, you can often make your own from what you have.</p>\n",
        "\n"
      ]
    },
    {
      "cell_type": "markdown",
      "source": [
        "### Combo-attack!\n",
        "\n",
        "\n",
        "<div class>\n",
        "<p>You've seen the four most common types of data manipulation: sorting rows, subsetting columns, subsetting rows, and adding new columns. In a real-life data analysis, you can mix and match these four manipulations to answer a multitude of questions.</p>\n",
        "<p>In this exercise, you'll answer the question, \"Which state has the highest number of homeless individuals per 10,000 people in the state?\" Combine your new <code>pandas</code> skills to find out.</p>\n",
        "</div>\n",
        "\n",
        "<li>Add a column to <code>homelessness</code>, <code>indiv_per_10k</code>, containing the number of homeless individuals per ten thousand people in each state.</li>\n"
      ],
      "metadata": {
        "id": "Wct_bP5go2Qn"
      }
    },
    {
      "cell_type": "code",
      "execution_count": null,
      "metadata": {
        "id": "mBrTQR8on8c7"
      },
      "outputs": [],
      "source": [
        "# Create indiv_per_10k col as homeless individuals per 10k state pop\n",
        "homelessness[\"indiv_per_10k\"] = 10000 * homelessness[\"individuals\"] / homelessness[\"state_pop\"] \n"
      ]
    },
    {
      "cell_type": "markdown",
      "metadata": {
        "id": "FeqtVDTvn8c7"
      },
      "source": [
        "<li>Subset rows where <code>indiv_per_10k</code> is higher than <code>20</code>, assigning to <code>high_homelessness</code>.</li>\n"
      ]
    },
    {
      "cell_type": "code",
      "execution_count": null,
      "metadata": {
        "id": "fDiK39WUn8c8"
      },
      "outputs": [],
      "source": [
        "# Subset rows for indiv_per_10k greater than 20\n",
        "high_homelessness = homelessness[homelessness[\"indiv_per_10k\"] > 20]\n"
      ]
    },
    {
      "cell_type": "markdown",
      "metadata": {
        "id": "YpJy1MjVn8c8"
      },
      "source": [
        "<li>Sort <code>high_homelessness</code> by descending <code>indiv_per_10k</code>, assigning to <code>high_homelessness_srt</code>.</li>\n"
      ]
    },
    {
      "cell_type": "code",
      "execution_count": null,
      "metadata": {
        "id": "TxuwazP9n8c8"
      },
      "outputs": [],
      "source": [
        "# Sort high_homelessness by descending indiv_per_10k\n",
        "high_homelessness_srt = high_homelessness.sort_values(\"indiv_per_10k\", ascending=False)\n"
      ]
    },
    {
      "cell_type": "markdown",
      "metadata": {
        "id": "BVPsu7obn8c8"
      },
      "source": [
        "<li>Select only the <code>state</code> and <code>indiv_per_10k</code> columns of <code>high_homelessness_srt</code> and save as <code>result</code>. <em>Look at the <code>result</code>.</em>\n",
        "</li>\n"
      ]
    },
    {
      "cell_type": "code",
      "execution_count": null,
      "metadata": {
        "colab": {
          "base_uri": "https://localhost:8080/"
        },
        "id": "oR-eyoS9n8c8",
        "outputId": "1e3b5b54-d18a-43a7-d3c9-61a68a78c0d6"
      },
      "outputs": [
        {
          "output_type": "stream",
          "name": "stdout",
          "text": [
            "                   state  indiv_per_10k\n",
            "8   District of Columbia      53.738381\n",
            "11                Hawaii      29.079406\n",
            "4             California      27.623825\n",
            "37                Oregon      26.636307\n",
            "28                Nevada      23.314189\n",
            "47            Washington      21.829195\n",
            "32              New York      20.392363\n"
          ]
        }
      ],
      "source": [
        "# From high_homelessness_srt, select the state and indiv_per_10k cols\n",
        "result = high_homelessness_srt[[\"state\", \"indiv_per_10k\"]]\n",
        "\n",
        "# See the result\n",
        "print(result)\n"
      ]
    },
    {
      "cell_type": "markdown",
      "metadata": {
        "id": "kQz9Ln08n8c8"
      },
      "source": [
        "<p class=\"\">Cool combination! District of Columbia has the highest number of homeless individuals - almost 54 per ten thousand people. This is almost double the number of the next-highest state, Hawaii. If you combine new column addition, row subsetting, sorting, and column selection, you can answer lots of questions like this.</p>\n",
        "\n"
      ]
    },
    {
      "cell_type": "markdown",
      "source": [
        "# Aggregating DataFrames\n",
        "\n",
        "<p class=\"chapter__description\">\n",
        "    In this chapter, you’ll calculate summary statistics on DataFrame columns, and master grouped summary statistics and pivot tables.\n",
        "  </p>\n",
        "\n"
      ],
      "metadata": {
        "id": "MKJDWogOo3jO"
      }
    },
    {
      "cell_type": "markdown",
      "source": [
        "## Summary statistics\n",
        "\n",
        "\n",
        "\n"
      ],
      "metadata": {
        "id": "ckXrj6t7o4YT"
      }
    },
    {
      "cell_type": "markdown",
      "source": [
        "### Mean and median\n",
        "\n",
        "\n",
        "<div class>\n",
        "<p>Summary statistics are exactly what they sound like - they summarize many numbers in one statistic. For example, mean, median, minimum, maximum, and standard deviation are summary statistics. Calculating summary statistics allows you to get a better sense of your data, even if there's a lot of it. </p>\n",
        "<p><code>sales</code> is available and <code>pandas</code> is loaded as <code>pd</code>.</p>\n",
        "</div>\n"
      ],
      "metadata": {
        "id": "UCaUV_h-o5Ez"
      }
    },
    {
      "cell_type": "code",
      "execution_count": null,
      "metadata": {
        "id": "ygNFviMzn8c8"
      },
      "outputs": [],
      "source": [
        "# edited by mclix8\n",
        "sales = pd.read_csv('https://raw.githubusercontent.com/mclix8/DataCamp/master/Data%20Manipulation%20with%20Python/Data%20Manipulation%20with%20pandas/datasets/sales.csv', index_col = 0)\n"
      ]
    },
    {
      "cell_type": "markdown",
      "metadata": {
        "id": "PWNgTKE6n8c8"
      },
      "source": [
        "\n",
        "<li>Explore your new DataFrame first by printing the first few rows of the <code>sales</code> DataFrame.</li>\n"
      ]
    },
    {
      "cell_type": "code",
      "execution_count": null,
      "metadata": {
        "colab": {
          "base_uri": "https://localhost:8080/"
        },
        "id": "2RwgirtRn8c8",
        "outputId": "4103825f-af80-45e8-9f72-ec9a5501ad37"
      },
      "outputs": [
        {
          "output_type": "stream",
          "name": "stdout",
          "text": [
            "   store type  department        date  weekly_sales  is_holiday  \\\n",
            "0      1    A           1  2010-02-05      24924.50       False   \n",
            "1      1    A           1  2010-03-05      21827.90       False   \n",
            "2      1    A           1  2010-04-02      57258.43       False   \n",
            "3      1    A           1  2010-05-07      17413.94       False   \n",
            "4      1    A           1  2010-06-04      17558.09       False   \n",
            "\n",
            "   temperature_c  fuel_price_usd_per_l  unemployment  \n",
            "0       5.727778              0.679451         8.106  \n",
            "1       8.055556              0.693452         8.106  \n",
            "2      16.816667              0.718284         7.808  \n",
            "3      22.527778              0.748928         7.808  \n",
            "4      27.050000              0.714586         7.808  \n"
          ]
        }
      ],
      "source": [
        "# Print the head of the sales DataFrame\n",
        "print(sales.head())\n"
      ]
    },
    {
      "cell_type": "markdown",
      "metadata": {
        "id": "KhG-e46_n8c9"
      },
      "source": [
        "<li>Print information about the columns in <code>sales</code>.</li>\n"
      ]
    },
    {
      "cell_type": "code",
      "execution_count": null,
      "metadata": {
        "colab": {
          "base_uri": "https://localhost:8080/"
        },
        "id": "sp1HPmyOn8c9",
        "outputId": "2ba6d6de-d2fe-4d3a-a1e4-61e8087cffe7"
      },
      "outputs": [
        {
          "output_type": "stream",
          "name": "stdout",
          "text": [
            "<class 'pandas.core.frame.DataFrame'>\n",
            "Int64Index: 10774 entries, 0 to 10773\n",
            "Data columns (total 9 columns):\n",
            " #   Column                Non-Null Count  Dtype  \n",
            "---  ------                --------------  -----  \n",
            " 0   store                 10774 non-null  int64  \n",
            " 1   type                  10774 non-null  object \n",
            " 2   department            10774 non-null  int64  \n",
            " 3   date                  10774 non-null  object \n",
            " 4   weekly_sales          10774 non-null  float64\n",
            " 5   is_holiday            10774 non-null  bool   \n",
            " 6   temperature_c         10774 non-null  float64\n",
            " 7   fuel_price_usd_per_l  10774 non-null  float64\n",
            " 8   unemployment          10774 non-null  float64\n",
            "dtypes: bool(1), float64(4), int64(2), object(2)\n",
            "memory usage: 768.1+ KB\n",
            "None\n"
          ]
        }
      ],
      "source": [
        "# Print the info about the sales DataFrame\n",
        "print(sales.info())\n"
      ]
    },
    {
      "cell_type": "markdown",
      "metadata": {
        "id": "i7iFyNuIn8c9"
      },
      "source": [
        "<li>Print the mean of the <code>weekly_sales</code> column.</li>\n"
      ]
    },
    {
      "cell_type": "code",
      "execution_count": null,
      "metadata": {
        "colab": {
          "base_uri": "https://localhost:8080/"
        },
        "id": "BdMSbt6Dn8c9",
        "outputId": "9133e34c-1a03-460c-9330-bab729105bcb"
      },
      "outputs": [
        {
          "output_type": "stream",
          "name": "stdout",
          "text": [
            "23843.95014850566\n"
          ]
        }
      ],
      "source": [
        "# Print the mean of weekly_sales\n",
        "print(sales[\"weekly_sales\"].mean())\n"
      ]
    },
    {
      "cell_type": "markdown",
      "metadata": {
        "id": "98j2PA-sn8c9"
      },
      "source": [
        "<li>Print the median of the <code>weekly_sales</code> column.</li>\n"
      ]
    },
    {
      "cell_type": "code",
      "execution_count": null,
      "metadata": {
        "colab": {
          "base_uri": "https://localhost:8080/"
        },
        "id": "o_i1c5ywn8c9",
        "outputId": "af98d710-2e60-47ca-cc27-d3cbce3d17a1"
      },
      "outputs": [
        {
          "output_type": "stream",
          "name": "stdout",
          "text": [
            "12049.064999999999\n"
          ]
        }
      ],
      "source": [
        "# Print the median of weekly_sales\n",
        "print(sales[\"weekly_sales\"].median())\n"
      ]
    },
    {
      "cell_type": "markdown",
      "metadata": {
        "id": "kLC9WvNEn8c9"
      },
      "source": [
        "<p class=\"\">The mean weekly sales amount is almost double the median weekly sales amount! This can tell you that there are a few very high sales weeks that are making the mean so much higher than the median.</p>\n",
        "\n"
      ]
    },
    {
      "cell_type": "markdown",
      "source": [
        "### Summarizing dates\n",
        "\n",
        "\n",
        "<div class>\n",
        "<p>Summary statistics can also be calculated on date columns that have values with the data type <code>datetime64</code>. Some summary statistics — like mean — don't make a ton of sense on dates, but others are super helpful, for example, minimum and maximum, which allow you to see what time range your data covers.</p>\n",
        "<p><code>sales</code> is available and <code>pandas</code> is loaded as <code>pd</code>.</p>\n",
        "</div>\n",
        "\n",
        "<li>Print the maximum of the <code>date</code> column.</li>\n"
      ],
      "metadata": {
        "id": "5yRY873Ho6pv"
      }
    },
    {
      "cell_type": "code",
      "execution_count": null,
      "metadata": {
        "colab": {
          "base_uri": "https://localhost:8080/"
        },
        "id": "hUEm3aIPn8c9",
        "outputId": "afdf3e95-d2a6-4812-ef35-719f2f40a2ef"
      },
      "outputs": [
        {
          "output_type": "stream",
          "name": "stdout",
          "text": [
            "2012-10-26\n"
          ]
        }
      ],
      "source": [
        "# Print the maximum of the date column\n",
        "print(sales[\"date\"].max())\n"
      ]
    },
    {
      "cell_type": "markdown",
      "metadata": {
        "id": "_iuNgYbBn8c9"
      },
      "source": [
        "<li>Print the minimum of the <code>date</code> column.</li>\n"
      ]
    },
    {
      "cell_type": "code",
      "execution_count": null,
      "metadata": {
        "colab": {
          "base_uri": "https://localhost:8080/"
        },
        "id": "seNxL3umn8c-",
        "outputId": "643a71d6-342a-4c3c-cd23-19b4b18d8727"
      },
      "outputs": [
        {
          "output_type": "stream",
          "name": "stdout",
          "text": [
            "2010-02-05\n"
          ]
        }
      ],
      "source": [
        "# Print the minimum of the date column\n",
        "print(sales[\"date\"].min())\n"
      ]
    },
    {
      "cell_type": "markdown",
      "metadata": {
        "id": "LJIyM4tYn8c-"
      },
      "source": [
        "<p class=\"\">Super summarizing! Taking the minimum and maximum of a column of dates is handy for figuring out what time period your data covers. In this case, there are data from February of 2010 to October of 2012.</p>\n",
        "\n"
      ]
    },
    {
      "cell_type": "markdown",
      "source": [
        "### Efficient summaries\n",
        "\n",
        "\n",
        "<div class>\n",
        "<p>While pandas and NumPy have tons of functions, sometimes, you may need a different function to summarize your data.</p>\n",
        "<p>The <code>.agg()</code> method allows you to apply your own custom functions to a DataFrame, as well as apply functions to more than one column of a DataFrame at once, making your aggregations super-efficient. For example, </p>\n",
        "<pre><code>df['column'].agg(function)\n",
        "</code></pre>\n",
        "<p>In the custom function for this exercise, \"IQR\" is short for inter-quartile range, which is the 75th percentile minus the 25th percentile. It's an alternative to standard deviation that is helpful if your data contains outliers.</p>\n",
        "<p><code>sales</code> is available and <code>pandas</code> is loaded as <code>pd</code>.</p>\n",
        "</div>\n",
        "\n",
        "<li>Use the custom <code>iqr</code> function defined for you along with <code>.agg()</code> to print the IQR of the <code>temperature_c</code> column of <code>sales</code>.</li>\n"
      ],
      "metadata": {
        "id": "L7d1oAt2o71G"
      }
    },
    {
      "cell_type": "code",
      "execution_count": null,
      "metadata": {
        "colab": {
          "base_uri": "https://localhost:8080/"
        },
        "id": "uxKEMQ3An8c-",
        "outputId": "f22de0ec-1f55-44b8-f477-aec03781e893"
      },
      "outputs": [
        {
          "output_type": "stream",
          "name": "stdout",
          "text": [
            "16.583333333333336\n"
          ]
        }
      ],
      "source": [
        "# A custom IQR function\n",
        "def iqr(column):\n",
        "    return column.quantile(0.75) - column.quantile(0.25)\n",
        "    \n",
        "# Print IQR of the temperature_c column\n",
        "print(sales[\"temperature_c\"].agg(iqr))\n"
      ]
    },
    {
      "cell_type": "markdown",
      "metadata": {
        "id": "yhsZNiaMn8c-"
      },
      "source": [
        "\n",
        "<li>Update the column selection to use the custom <code>iqr</code> function with <code>.agg()</code> to print the IQR of <code>temperature_c</code>, <code>fuel_price_usd_per_l</code>, and <code>unemployment</code>, in that order.</li>\n"
      ]
    },
    {
      "cell_type": "code",
      "execution_count": null,
      "metadata": {
        "colab": {
          "base_uri": "https://localhost:8080/"
        },
        "id": "Kdt2UsgJn8c-",
        "outputId": "e7f69e3f-eef9-4d47-f77a-6713cda64486"
      },
      "outputs": [
        {
          "output_type": "stream",
          "name": "stdout",
          "text": [
            "temperature_c           16.583333\n",
            "fuel_price_usd_per_l     0.073176\n",
            "unemployment             0.565000\n",
            "dtype: float64\n"
          ]
        }
      ],
      "source": [
        "# A custom IQR function\n",
        "def iqr(column):\n",
        "    return column.quantile(0.75) - column.quantile(0.25)\n",
        "\n",
        "# Update to print IQR of temperature_c, fuel_price_usd_per_l, & unemployment\n",
        "print(sales[[\"temperature_c\", \"fuel_price_usd_per_l\", \"unemployment\"]].agg(iqr))\n"
      ]
    },
    {
      "cell_type": "markdown",
      "metadata": {
        "id": "jKAPLFJ0n8c-"
      },
      "source": [
        "\n",
        "<li>Update the aggregation functions called by <code>.agg()</code>: include <code>iqr</code> and <code>np.median</code> in that order.</li>\n"
      ]
    },
    {
      "cell_type": "code",
      "execution_count": null,
      "metadata": {
        "colab": {
          "base_uri": "https://localhost:8080/"
        },
        "id": "oAckhhign8c-",
        "outputId": "e7b04b91-0c95-462b-ed5c-27a0a01e955e"
      },
      "outputs": [
        {
          "output_type": "stream",
          "name": "stdout",
          "text": [
            "        temperature_c  fuel_price_usd_per_l  unemployment\n",
            "iqr         16.583333              0.073176         0.565\n",
            "median      16.966667              0.743381         8.099\n"
          ]
        }
      ],
      "source": [
        "# Import NumPy and create custom IQR function\n",
        "import numpy as np\n",
        "def iqr(column):\n",
        "    return column.quantile(0.75) - column.quantile(0.25)\n",
        "\n",
        "# Update to print IQR and median of temperature_c, fuel_price_usd_per_l, & unemployment\n",
        "print(sales[[\"temperature_c\", \"fuel_price_usd_per_l\", \"unemployment\"]].agg([iqr, np.median]))\n"
      ]
    },
    {
      "cell_type": "markdown",
      "metadata": {
        "id": "oZ1bSpX7n8c_"
      },
      "source": [
        "<p class=\"\">Excellent efficiency! The <code>.agg()</code> method makes it easy to compute multiple statistics on multiple columns, all in just one line of code.</p>\n",
        "\n"
      ]
    },
    {
      "cell_type": "markdown",
      "source": [
        "### Cumulative statistics\n",
        "\n",
        "\n",
        "<div class>\n",
        "<p>Cumulative statistics can also be helpful in tracking summary statistics over time. In this exercise, you'll calculate the cumulative sum and cumulative max of a department's weekly sales, which will allow you to identify what the total sales were so far as well as what the highest weekly sales were so far. </p>\n",
        "<p>A DataFrame called <code>sales_1_1</code> has been created for you, which contains the sales data for department 1 of store 1. <code>pandas</code> is loaded as <code>pd</code>.</p>\n",
        "</div>\n"
      ],
      "metadata": {
        "id": "NqmvmFezo9Ss"
      }
    },
    {
      "cell_type": "code",
      "execution_count": null,
      "metadata": {
        "id": "ADIGS3lon8c_"
      },
      "outputs": [],
      "source": [
        "# edited by mclix8\n",
        "sales_1_1 = sales[(sales[\"department\"] == 1) & (sales[\"store\"] == 1)]\n"
      ]
    },
    {
      "cell_type": "markdown",
      "metadata": {
        "id": "oSjIlgH8n8c_"
      },
      "source": [
        "\n",
        "<li>Sort the rows of <code>sales_1_1</code> by the <code>date</code> column in ascending order.</li>\n"
      ]
    },
    {
      "cell_type": "code",
      "execution_count": null,
      "metadata": {
        "id": "vzV3rq0nn8c_"
      },
      "outputs": [],
      "source": [
        "# Sort sales_1_1 by date\n",
        "sales_1_1 = sales_1_1.sort_values(\"date\")\n"
      ]
    },
    {
      "cell_type": "markdown",
      "metadata": {
        "id": "5l6hGiYsn8c_"
      },
      "source": [
        "<li>Get the cumulative sum of <code>weekly_sales</code> and add it as a new column of <code>sales_1_1</code> called <code>cum_weekly_sales</code>.</li>\n"
      ]
    },
    {
      "cell_type": "code",
      "execution_count": null,
      "metadata": {
        "id": "6cpYtaKgn8c_"
      },
      "outputs": [],
      "source": [
        "# Get the cumulative sum of weekly_sales, add as cum_weekly_sales col\n",
        "sales_1_1[\"cum_weekly_sales\"] = sales[\"weekly_sales\"].cumsum()\n"
      ]
    },
    {
      "cell_type": "markdown",
      "metadata": {
        "id": "hJKQmy0yn8c_"
      },
      "source": [
        "<li>Get the cumulative maximum of <code>weekly_sales</code>, and add it as a column called <code>cum_max_sales</code>.</li>\n"
      ]
    },
    {
      "cell_type": "code",
      "execution_count": null,
      "metadata": {
        "id": "5jgVUjZXn8dA"
      },
      "outputs": [],
      "source": [
        "# Get the cumulative max of weekly_sales, add as cum_max_sales col\n",
        "sales_1_1[\"cum_max_sales\"] = sales[\"weekly_sales\"].cummax()\n"
      ]
    },
    {
      "cell_type": "markdown",
      "metadata": {
        "id": "2dcHFwAjn8dA"
      },
      "source": [
        "<li>Print the <code>date</code>, <code>weekly_sales</code>, <code>cum_weekly_sales</code>, and <code>cum_max_sales</code> columns.</li>\n"
      ]
    },
    {
      "cell_type": "code",
      "execution_count": null,
      "metadata": {
        "colab": {
          "base_uri": "https://localhost:8080/"
        },
        "id": "d4eA4DLvn8dA",
        "outputId": "93a62b77-8eb3-468d-d0dc-f06ca9c5e028"
      },
      "outputs": [
        {
          "output_type": "stream",
          "name": "stdout",
          "text": [
            "          date  weekly_sales  cum_weekly_sales  cum_max_sales\n",
            "0   2010-02-05      24924.50          24924.50       24924.50\n",
            "1   2010-03-05      21827.90          46752.40       24924.50\n",
            "2   2010-04-02      57258.43         104010.83       57258.43\n",
            "3   2010-05-07      17413.94         121424.77       57258.43\n",
            "4   2010-06-04      17558.09         138982.86       57258.43\n",
            "5   2010-07-02      16333.14         155316.00       57258.43\n",
            "6   2010-08-06      17508.41         172824.41       57258.43\n",
            "7   2010-09-03      16241.78         189066.19       57258.43\n",
            "8   2010-10-01      20094.19         209160.38       57258.43\n",
            "9   2010-11-05      34238.88         243399.26       57258.43\n",
            "10  2010-12-03      22517.56         265916.82       57258.43\n",
            "11  2011-01-07      15984.24         281901.06       57258.43\n"
          ]
        }
      ],
      "source": [
        "# See the columns you calculated\n",
        "print(sales_1_1[[\"date\", \"weekly_sales\", \"cum_weekly_sales\", \"cum_max_sales\"]])\n"
      ]
    },
    {
      "cell_type": "markdown",
      "metadata": {
        "id": "Sm1zXTZKn8dA"
      },
      "source": [
        "<p class=\"\">You've accumulated success! Not all functions that calculate on columns return a single number. Some, like the cumulative statistic functions, return a whole column.</p>\n",
        "\n"
      ]
    },
    {
      "cell_type": "markdown",
      "source": [
        "## Counting\n",
        "\n",
        "\n",
        "\n"
      ],
      "metadata": {
        "id": "96ZiPt0vo-1Y"
      }
    },
    {
      "cell_type": "markdown",
      "source": [
        "### Dropping duplicates\n",
        "\n",
        "\n",
        "<div class>\n",
        "<p>Removing duplicates is an essential skill to get accurate counts because often, you don't want to count the same thing multiple times. In this exercise, you'll create some new DataFrames using unique values from <code>sales</code>.</p>\n",
        "<p><code>sales</code> is available and <code>pandas</code> is imported as <code>pd</code>.</p>\n",
        "</div>\n",
        "\n",
        "<li>Remove rows of <code>sales</code> with duplicate pairs of <code>store</code> and <code>type</code> and save as <code>store_types</code> and print the head.</li>\n"
      ],
      "metadata": {
        "id": "FsALQjOzo_jb"
      }
    },
    {
      "cell_type": "code",
      "execution_count": null,
      "metadata": {
        "colab": {
          "base_uri": "https://localhost:8080/"
        },
        "id": "TpLstTm8n8dA",
        "outputId": "5f38f70c-8bc1-4897-a1cb-9c468c611f29"
      },
      "outputs": [
        {
          "output_type": "stream",
          "name": "stdout",
          "text": [
            "      store type  department        date  weekly_sales  is_holiday  \\\n",
            "0         1    A           1  2010-02-05      24924.50       False   \n",
            "901       2    A           1  2010-02-05      35034.06       False   \n",
            "1798      4    A           1  2010-02-05      38724.42       False   \n",
            "2699      6    A           1  2010-02-05      25619.00       False   \n",
            "3593     10    B           1  2010-02-05      40212.84       False   \n",
            "\n",
            "      temperature_c  fuel_price_usd_per_l  unemployment  \n",
            "0          5.727778              0.679451         8.106  \n",
            "901        4.550000              0.679451         8.324  \n",
            "1798       6.533333              0.686319         8.623  \n",
            "2699       4.683333              0.679451         7.259  \n",
            "3593      12.411111              0.782478         9.765  \n"
          ]
        }
      ],
      "source": [
        "# Drop duplicate store/type combinations\n",
        "store_types = sales.drop_duplicates(subset=[\"store\", \"type\"])\n",
        "print(store_types.head())\n"
      ]
    },
    {
      "cell_type": "markdown",
      "metadata": {
        "id": "hTegVoWyn8dA"
      },
      "source": [
        "<li>Remove rows of <code>sales</code> with duplicate pairs of <code>store</code> and <code>department</code> and save as <code>store_depts</code> and print the head.</li>\n"
      ]
    },
    {
      "cell_type": "code",
      "execution_count": null,
      "metadata": {
        "colab": {
          "base_uri": "https://localhost:8080/"
        },
        "id": "fIwdfSP7n8dA",
        "outputId": "a984295e-4494-4f0f-db5d-0ecabb6e9721"
      },
      "outputs": [
        {
          "output_type": "stream",
          "name": "stdout",
          "text": [
            "    store type  department        date  weekly_sales  is_holiday  \\\n",
            "0       1    A           1  2010-02-05      24924.50       False   \n",
            "12      1    A           2  2010-02-05      50605.27       False   \n",
            "24      1    A           3  2010-02-05      13740.12       False   \n",
            "36      1    A           4  2010-02-05      39954.04       False   \n",
            "48      1    A           5  2010-02-05      32229.38       False   \n",
            "\n",
            "    temperature_c  fuel_price_usd_per_l  unemployment  \n",
            "0        5.727778              0.679451         8.106  \n",
            "12       5.727778              0.679451         8.106  \n",
            "24       5.727778              0.679451         8.106  \n",
            "36       5.727778              0.679451         8.106  \n",
            "48       5.727778              0.679451         8.106  \n"
          ]
        }
      ],
      "source": [
        "# Drop duplicate store/department combinations\n",
        "store_depts = sales.drop_duplicates(subset=[\"store\", \"department\"])\n",
        "print(store_depts.head())\n"
      ]
    },
    {
      "cell_type": "markdown",
      "metadata": {
        "id": "Rl7hsA_An8dA"
      },
      "source": [
        "<li>Subset the rows that are holiday weeks using the <code>is_holiday</code> column, and drop the duplicate <code>date</code>s, saving as <code>holiday_dates</code>.</li>\n"
      ]
    },
    {
      "cell_type": "code",
      "execution_count": null,
      "metadata": {
        "id": "VDu-hSN7n8dB"
      },
      "outputs": [],
      "source": [
        "# Subset the rows where is_holiday is True and drop duplicate dates\n",
        "holiday_dates = sales[sales[\"is_holiday\"]].drop_duplicates(subset=\"date\")\n"
      ]
    },
    {
      "cell_type": "markdown",
      "metadata": {
        "id": "4NtBktEcn8dB"
      },
      "source": [
        "<li>Select the <code>date</code> column of <code>holiday_dates</code>, and print.</li>\n"
      ]
    },
    {
      "cell_type": "code",
      "execution_count": null,
      "metadata": {
        "colab": {
          "base_uri": "https://localhost:8080/"
        },
        "id": "P-Sj3fHkn8dB",
        "outputId": "47201273-0fc2-4c8f-9a46-5e275a427608"
      },
      "outputs": [
        {
          "output_type": "stream",
          "name": "stdout",
          "text": [
            "498     2010-09-10\n",
            "691     2011-11-25\n",
            "2315    2010-02-12\n",
            "6735    2012-09-07\n",
            "6810    2010-12-31\n",
            "6815    2012-02-10\n",
            "6820    2011-09-09\n",
            "Name: date, dtype: object\n"
          ]
        }
      ],
      "source": [
        "# Print date col of holiday_dates\n",
        "print(holiday_dates[\"date\"])\n"
      ]
    },
    {
      "cell_type": "markdown",
      "metadata": {
        "id": "K_Bf2ffun8dB"
      },
      "source": [
        "<p class=\"\">Dazzling duplicate dropping! The holiday weeks correspond to the Superbowl in February, Labor Day in September, Thanksgiving in November, and Christmas in December. Now that the duplicates are removed, it's time to do some counting.</p>\n",
        "\n"
      ]
    },
    {
      "cell_type": "markdown",
      "source": [
        "### Counting categorical variables\n",
        "\n",
        "\n",
        "<div class>\n",
        "<p>Counting is a great way to get an overview of your data and to spot curiosities that you might not notice otherwise. In this exercise, you'll count the number of each type of store and the number of each department number using the DataFrames you created in the previous exercise:</p>\n",
        "<pre><code># Drop duplicate store/type combinations\n",
        "store_types = sales.drop_duplicates(subset=[\"store\", \"type\"])</code>\n",
        "\n",
        "<code># Drop duplicate store/department combinations\n",
        "store_depts = sales.drop_duplicates(subset=[\"store\", \"department\"])\n",
        "</code></pre>\n",
        "<p>The <code>store_types</code> and <code>store_depts</code> DataFrames you created in the last exercise are available, and <code>pandas</code> is imported as <code>pd</code>.</p>\n",
        "</div>\n",
        "\n",
        "<li>Count the number of stores of each store <code>type</code> in <code>store_types</code>.</li>\n"
      ],
      "metadata": {
        "id": "yg1aaQkSpBC6"
      }
    },
    {
      "cell_type": "code",
      "execution_count": null,
      "metadata": {
        "colab": {
          "base_uri": "https://localhost:8080/"
        },
        "id": "VYG8QdNrn8dF",
        "outputId": "0fc9fc94-bada-43b8-b179-7bd2e254b80a"
      },
      "outputs": [
        {
          "output_type": "stream",
          "name": "stdout",
          "text": [
            "A    11\n",
            "B     1\n",
            "Name: type, dtype: int64\n"
          ]
        }
      ],
      "source": [
        "# Count the number of stores of each type\n",
        "store_counts = store_types[\"type\"].value_counts()\n",
        "print(store_counts)\n"
      ]
    },
    {
      "cell_type": "markdown",
      "metadata": {
        "id": "p6mZIcMon8dG"
      },
      "source": [
        "<li>Count the proportion of stores of each store <code>type</code> in <code>store_types</code>.</li>\n"
      ]
    },
    {
      "cell_type": "code",
      "execution_count": null,
      "metadata": {
        "colab": {
          "base_uri": "https://localhost:8080/"
        },
        "id": "3DXnes81n8dG",
        "outputId": "e9e158dd-980f-4135-e27d-5365e6d0fc09"
      },
      "outputs": [
        {
          "output_type": "stream",
          "name": "stdout",
          "text": [
            "A    0.916667\n",
            "B    0.083333\n",
            "Name: type, dtype: float64\n"
          ]
        }
      ],
      "source": [
        "# Get the proportion of stores of each type\n",
        "store_props = store_types[\"type\"].value_counts(normalize=True)\n",
        "print(store_props)\n"
      ]
    },
    {
      "cell_type": "markdown",
      "metadata": {
        "id": "Fz47vaXTn8dG"
      },
      "source": [
        "<li>Count the number of different <code>department</code>s in <code>store_depts</code>, sorting the counts in descending order.</li>\n"
      ]
    },
    {
      "cell_type": "code",
      "execution_count": null,
      "metadata": {
        "colab": {
          "base_uri": "https://localhost:8080/"
        },
        "id": "8L60Fbg7n8dG",
        "outputId": "494067ad-db61-49c7-e03c-10c68d951cbe"
      },
      "outputs": [
        {
          "output_type": "stream",
          "name": "stdout",
          "text": [
            "1     12\n",
            "55    12\n",
            "72    12\n",
            "71    12\n",
            "67    12\n",
            "      ..\n",
            "37    10\n",
            "48     8\n",
            "50     6\n",
            "39     4\n",
            "43     2\n",
            "Name: department, Length: 80, dtype: int64\n"
          ]
        }
      ],
      "source": [
        "# Count the number of each department number and sort\n",
        "dept_counts_sorted = store_depts[\"department\"].value_counts(sort=True)\n",
        "print(dept_counts_sorted)\n"
      ]
    },
    {
      "cell_type": "markdown",
      "metadata": {
        "id": "uhf4-Blin8dG"
      },
      "source": [
        "<li>Count the proportion of different <code>department</code>s in <code>store_depts</code>, sorting the proportions in descending order.</li>\n"
      ]
    },
    {
      "cell_type": "code",
      "execution_count": null,
      "metadata": {
        "colab": {
          "base_uri": "https://localhost:8080/"
        },
        "id": "4tEGdI67n8dG",
        "outputId": "cea5769e-2021-4107-adb8-5b752c8e5855"
      },
      "outputs": [
        {
          "output_type": "stream",
          "name": "stdout",
          "text": [
            "1     0.012917\n",
            "55    0.012917\n",
            "72    0.012917\n",
            "71    0.012917\n",
            "67    0.012917\n",
            "        ...   \n",
            "37    0.010764\n",
            "48    0.008611\n",
            "50    0.006459\n",
            "39    0.004306\n",
            "43    0.002153\n",
            "Name: department, Length: 80, dtype: float64\n"
          ]
        }
      ],
      "source": [
        "# Get the proportion of departments of each number and sort\n",
        "dept_props_sorted = store_depts[\"department\"].value_counts(sort=True, normalize=True)\n",
        "print(dept_props_sorted)\n"
      ]
    },
    {
      "cell_type": "markdown",
      "metadata": {
        "id": "FmGXR4D7n8dH"
      },
      "source": [
        "<p class=\"\">Great counting! It looks like department 43 only exists in two stores.</p>\n",
        "\n"
      ]
    },
    {
      "cell_type": "markdown",
      "source": [
        "## Grouped summary statistics\n",
        "\n",
        "\n",
        "\n"
      ],
      "metadata": {
        "id": "diTPONxCpCk5"
      }
    },
    {
      "cell_type": "markdown",
      "source": [
        "### What percent of sales occurred at each store type?\n",
        "\n",
        "\n",
        "<div class>\n",
        "<p>While <code>.groupby()</code> is useful, you can calculate grouped summary statistics without it. </p>\n",
        "<p>Walmart distinguishes three types of stores: \"supercenters,\" \"discount stores,\" and \"neighborhood markets,\" encoded in this dataset as type \"A,\" \"B,\" and \"C.\" In this exercise, you'll calculate the total sales made at each store type, without using <code>.groupby()</code>. You can then use these numbers to see what proportion of Walmart's total sales were made at each type.</p>\n",
        "<p><code>sales</code> is available and <code>pandas</code> is imported as <code>pd</code>.</p>\n",
        "</div>\n",
        "\n",
        "<li>Calculate the total <code>weekly_sales</code> over the whole dataset.</li>\n"
      ],
      "metadata": {
        "id": "1n2hlNpZpDRt"
      }
    },
    {
      "cell_type": "code",
      "execution_count": null,
      "metadata": {
        "id": "mgykVUGHn8dH"
      },
      "outputs": [],
      "source": [
        "# Calc total weekly sales\n",
        "sales_all = sales[\"weekly_sales\"].sum()\n"
      ]
    },
    {
      "cell_type": "markdown",
      "metadata": {
        "id": "YYliuds8n8dH"
      },
      "source": [
        "<li>Subset for <code>type</code> <code>\"A\"</code> stores, and calculate their total weekly sales.</li>\n"
      ]
    },
    {
      "cell_type": "code",
      "execution_count": null,
      "metadata": {
        "id": "bKg1STJpn8dH"
      },
      "outputs": [],
      "source": [
        "# Subset for type A stores, calc total weekly sales\n",
        "sales_A = sales[sales[\"type\"] == \"A\"][\"weekly_sales\"].sum()\n"
      ]
    },
    {
      "cell_type": "markdown",
      "metadata": {
        "id": "TDY6uIIBn8dH"
      },
      "source": [
        "<li>Do the same for <code>type</code> <code>\"B\"</code> and <code>type</code> <code>\"C\"</code> stores.</li>\n"
      ]
    },
    {
      "cell_type": "code",
      "execution_count": null,
      "metadata": {
        "id": "fjvV6QWun8dH"
      },
      "outputs": [],
      "source": [
        "# Subset for type B stores, calc total weekly sales\n",
        "sales_B = sales[sales[\"type\"] == \"B\"][\"weekly_sales\"].sum()\n",
        "\n",
        "# Subset for type C stores, calc total weekly sales\n",
        "sales_C = sales[sales[\"type\"] == \"C\"][\"weekly_sales\"].sum()\n"
      ]
    },
    {
      "cell_type": "markdown",
      "metadata": {
        "id": "PP2MrWamn8dH"
      },
      "source": [
        "<li>Combine the A/B/C results into a list, and divide by <code>sales_all</code> to get the proportion of sales by type.</li>\n"
      ]
    },
    {
      "cell_type": "code",
      "execution_count": null,
      "metadata": {
        "colab": {
          "base_uri": "https://localhost:8080/"
        },
        "id": "B-HFcfE8n8dH",
        "outputId": "86879197-64d5-42e2-9f6b-6b17b5a63a31"
      },
      "outputs": [
        {
          "output_type": "stream",
          "name": "stdout",
          "text": [
            "[0.9097747 0.0902253 0.       ]\n"
          ]
        }
      ],
      "source": [
        "# Get proportion for each type\n",
        "sales_propn_by_type = [sales_A, sales_B, sales_C] / sales_all\n",
        "print(sales_propn_by_type)\n"
      ]
    },
    {
      "cell_type": "markdown",
      "metadata": {
        "id": "stujUwAtn8dH"
      },
      "source": [
        "<p class=\"\">Marvelous mathematics! About 91% of sales occurred in stores of type A', 9% in stores of type B, and there are no sales records for stores of type C. Now see if you can do this calculation using <code>.groupby()</code>.</p>\n",
        "\n"
      ]
    },
    {
      "cell_type": "markdown",
      "source": [
        "### Calculations with .groupby()\n",
        "\n",
        "\n",
        "<div class>\n",
        "<p>The <code>.groupby()</code> method makes life much easier. In this exercise, you'll perform the same calculations as last time, except you'll use the <code>.groupby()</code> method. You'll also perform calculations on data grouped by two variables to see if sales differ by store type depending on if it's a holiday week or not. </p>\n",
        "<p><code>sales</code> is available and <code>pandas</code> is loaded as <code>pd</code>.</p>\n",
        "</div>\n",
        "\n",
        "<li>Group <code>sales</code> by <code>\"type\"</code>, take the sum of <code>\"weekly_sales\"</code>, and store as <code>sales_by_type</code>.</li>\n"
      ],
      "metadata": {
        "id": "qRs4lL4YpEl1"
      }
    },
    {
      "cell_type": "code",
      "execution_count": null,
      "metadata": {
        "id": "8jxuTwzqn8dI"
      },
      "outputs": [],
      "source": [
        "# Group by type; calc total weekly sales\n",
        "sales_by_type = sales.groupby(\"type\")[\"weekly_sales\"].sum()\n"
      ]
    },
    {
      "cell_type": "markdown",
      "metadata": {
        "id": "QeANfLuZn8dI"
      },
      "source": [
        "<li>Calculate the proportion of sales at each store type by dividing by the sum of <code>sales_by_type</code>. Assign to <code>sales_propn_by_type</code>.</li>\n"
      ]
    },
    {
      "cell_type": "code",
      "execution_count": null,
      "metadata": {
        "colab": {
          "base_uri": "https://localhost:8080/"
        },
        "id": "UhAi4fznn8dI",
        "outputId": "630ae4a8-09d4-4234-df9b-823c3889b7d2"
      },
      "outputs": [
        {
          "output_type": "stream",
          "name": "stdout",
          "text": [
            "type\n",
            "A    0.909775\n",
            "B    0.090225\n",
            "Name: weekly_sales, dtype: float64\n"
          ]
        }
      ],
      "source": [
        "# Get proportion for each type\n",
        "sales_propn_by_type = sales_by_type / sum(sales_by_type)\n",
        "print(sales_propn_by_type)\n"
      ]
    },
    {
      "cell_type": "markdown",
      "metadata": {
        "id": "9XNhtZ7An8dI"
      },
      "source": [
        "\n",
        "<li>Group <code>sales</code> by <code>\"type\"</code> and \"<code>is_holiday</code>\", take the sum of <code>weekly_sales</code>, and store as <code>sales_by_type_is_holiday</code>.</li>\n"
      ]
    },
    {
      "cell_type": "code",
      "execution_count": null,
      "metadata": {
        "colab": {
          "base_uri": "https://localhost:8080/"
        },
        "id": "XFfk9smsn8dI",
        "outputId": "0345356d-55a1-4011-be6f-59974cfa148d"
      },
      "outputs": [
        {
          "output_type": "stream",
          "name": "stdout",
          "text": [
            "type  is_holiday\n",
            "A     False         2.336927e+08\n",
            "      True          2.360181e+04\n",
            "B     False         2.317678e+07\n",
            "      True          1.621410e+03\n",
            "Name: weekly_sales, dtype: float64\n"
          ]
        }
      ],
      "source": [
        "# Group by type and is_holiday; calc total weekly sales\n",
        "sales_by_type_is_holiday = sales.groupby([\"type\", \"is_holiday\"])[\"weekly_sales\"].sum()\n",
        "print(sales_by_type_is_holiday)\n"
      ]
    },
    {
      "cell_type": "markdown",
      "metadata": {
        "id": "fms_Ds6qn8dI"
      },
      "source": [
        "<p class=\"\">Great grouping! You were able to do the same calculation as in the previous exercise while writing much less code.</p>\n",
        "\n"
      ]
    },
    {
      "cell_type": "markdown",
      "source": [
        "### Multiple grouped summaries\n",
        "\n",
        "\n",
        "<div class>\n",
        "<p>Earlier in this chapter, you saw that the <code>.agg()</code> method is useful to compute multiple statistics on multiple variables. It also works with grouped data. NumPy, which is imported as <code>np</code>, has many different summary statistics functions, including: <code>np.min</code>, <code>np.max</code>, <code>np.mean</code>, and <code>np.median</code>.</p>\n",
        "<p><code>sales</code> is available and <code>pandas</code> is imported as <code>pd</code>.</p>\n",
        "</div>\n",
        "\n",
        "<li>Import <code>numpy</code> with the alias <code>np</code>.</li>\n"
      ],
      "metadata": {
        "id": "YfALdKUopGSz"
      }
    },
    {
      "cell_type": "code",
      "execution_count": null,
      "metadata": {
        "id": "2CnhjVJyn8dI"
      },
      "outputs": [],
      "source": [
        "# Import numpy with the alias np\n",
        "import numpy as np\n"
      ]
    },
    {
      "cell_type": "markdown",
      "metadata": {
        "id": "fsAeM5-8n8dI"
      },
      "source": [
        "<li>Get the min, max, mean, and median of <code>weekly_sales</code> for each store type using <code>.groupby()</code> and <code>.agg()</code>. Store this as <code>sales_stats</code>. Make sure to use <code>numpy</code> functions!</li>\n"
      ]
    },
    {
      "cell_type": "code",
      "execution_count": null,
      "metadata": {
        "colab": {
          "base_uri": "https://localhost:8080/"
        },
        "id": "4enqFfrsn8dI",
        "outputId": "d142046a-1d5f-4900-881e-99b557815622"
      },
      "outputs": [
        {
          "output_type": "stream",
          "name": "stdout",
          "text": [
            "        amin       amax          mean    median\n",
            "type                                           \n",
            "A    -1098.0  293966.05  23674.667242  11943.92\n",
            "B     -798.0  232558.51  25696.678370  13336.08\n"
          ]
        }
      ],
      "source": [
        "# For each store type, aggregate weekly_sales: get min, max, mean, and median\n",
        "sales_stats = sales.groupby(\"type\")[\"weekly_sales\"].agg([np.min, np.max, np.mean, np.median])\n",
        "\n",
        "# Print sales_stats\n",
        "print(sales_stats)\n"
      ]
    },
    {
      "cell_type": "markdown",
      "metadata": {
        "id": "nmX64a39n8dI"
      },
      "source": [
        "<li>Get the min, max, mean, and median of <code>unemployment</code> and <code>fuel_price_usd_per_l</code> for each store type. Store this as <code>unemp_fuel_stats</code>.</li>\n"
      ]
    },
    {
      "cell_type": "code",
      "execution_count": null,
      "metadata": {
        "colab": {
          "base_uri": "https://localhost:8080/"
        },
        "id": "mmdgs2p4n8dJ",
        "outputId": "be989431-c0ae-4e5a-feb3-1dd62e91a2ce"
      },
      "outputs": [
        {
          "output_type": "stream",
          "name": "stdout",
          "text": [
            "     unemployment                         fuel_price_usd_per_l            \\\n",
            "             amin   amax      mean median                 amin      amax   \n",
            "type                                                                       \n",
            "A           3.879  8.992  7.972611  8.067             0.664129  1.107410   \n",
            "B           7.170  9.765  9.279323  9.199             0.760023  1.107674   \n",
            "\n",
            "                          \n",
            "          mean    median  \n",
            "type                      \n",
            "A     0.744619  0.735455  \n",
            "B     0.805858  0.803348  \n"
          ]
        }
      ],
      "source": [
        "# For each store type, aggregate unemployment and fuel_price_usd_per_l: get min, max, mean, and median\n",
        "unemp_fuel_stats = sales.groupby(\"type\")[[\"unemployment\", \"fuel_price_usd_per_l\"]].agg([np.min, np.max, np.mean, np.median])\n",
        "\n",
        "# Print unemp_fuel_stats\n",
        "print(unemp_fuel_stats)\n"
      ]
    },
    {
      "cell_type": "markdown",
      "metadata": {
        "id": "jEgux9nNn8dJ"
      },
      "source": [
        "<p class=\"\">Awesome aggregating! Notice that the minimum <code>weekly_sales</code> is negative because some stores had more returns than sales.</p>\n",
        "\n"
      ]
    },
    {
      "cell_type": "markdown",
      "source": [
        "## Pivot tables\n",
        "\n",
        "\n",
        "\n"
      ],
      "metadata": {
        "id": "UO8rOt4IpHwz"
      }
    },
    {
      "cell_type": "markdown",
      "source": [
        "### Pivoting on one variable\n",
        "\n",
        "\n",
        "<div class>\n",
        "<p>Pivot tables are the standard way of aggregating data in spreadsheets. In pandas, pivot tables are essentially just another way of performing grouped calculations. That is, the <code>.pivot_table()</code> method is just an alternative to <code>.groupby()</code>. </p>\n",
        "<p>In this exercise, you'll perform calculations using <code>.pivot_table()</code> to replicate the calculations you performed in the last lesson using <code>.groupby()</code>.</p>\n",
        "<p><code>sales</code> is available and <code>pandas</code> is imported as <code>pd</code>.</p>\n",
        "</div>\n",
        "\n",
        "<li>Get the mean <code>weekly_sales</code> by <code>type</code> using <code>.pivot_table()</code> and store as <code>mean_sales_by_type</code>.</li>\n"
      ],
      "metadata": {
        "id": "uIlqPS2RpIgA"
      }
    },
    {
      "cell_type": "code",
      "execution_count": null,
      "metadata": {
        "colab": {
          "base_uri": "https://localhost:8080/"
        },
        "id": "YS6A3OJ7n8dJ",
        "outputId": "b16bd0f3-5943-42ed-bcab-81c9514f8f33"
      },
      "outputs": [
        {
          "output_type": "stream",
          "name": "stdout",
          "text": [
            "      weekly_sales\n",
            "type              \n",
            "A     23674.667242\n",
            "B     25696.678370\n"
          ]
        }
      ],
      "source": [
        "# Pivot for mean weekly_sales for each store type\n",
        "mean_sales_by_type = sales.pivot_table(values=\"weekly_sales\", index=\"type\")\n",
        "\n",
        "# Print mean_sales_by_type\n",
        "print(mean_sales_by_type)\n"
      ]
    },
    {
      "cell_type": "markdown",
      "metadata": {
        "id": "d_O1OyGon8dJ"
      },
      "source": [
        "\n",
        "<li>Get the mean and median (using NumPy functions) of <code>weekly_sales</code> by <code>type</code> using <code>.pivot_table()</code> and store as <code>mean_med_sales_by_type</code>.</li>\n"
      ]
    },
    {
      "cell_type": "code",
      "execution_count": null,
      "metadata": {
        "colab": {
          "base_uri": "https://localhost:8080/"
        },
        "id": "K59pCBbVn8dJ",
        "outputId": "c3ed90f2-a184-4cb6-b97e-05f81a06a454"
      },
      "outputs": [
        {
          "output_type": "stream",
          "name": "stdout",
          "text": [
            "              mean       median\n",
            "      weekly_sales weekly_sales\n",
            "type                           \n",
            "A     23674.667242     11943.92\n",
            "B     25696.678370     13336.08\n"
          ]
        }
      ],
      "source": [
        "# Import NumPy as np\n",
        "import numpy as np\n",
        "\n",
        "# Pivot for mean and median weekly_sales for each store type\n",
        "mean_med_sales_by_type = sales.pivot_table(\"weekly_sales\", \"type\", aggfunc = [np.mean, np.median])\n",
        "\n",
        "# Print mean_med_sales_by_type\n",
        "print(mean_med_sales_by_type)\n"
      ]
    },
    {
      "cell_type": "markdown",
      "metadata": {
        "id": "haSWuqmjn8dJ"
      },
      "source": [
        "\n",
        "<li>Get the mean of <code>weekly_sales</code> by <code>type</code> and <code>is_holiday</code> using <code>.pivot_table()</code> and store as <code>mean_sales_by_type_holiday</code>.</li>\n"
      ]
    },
    {
      "cell_type": "code",
      "execution_count": null,
      "metadata": {
        "colab": {
          "base_uri": "https://localhost:8080/"
        },
        "id": "MNQ1N95kn8dJ",
        "outputId": "5dbb00ad-eea8-4143-bdc6-09af1bc9e99a"
      },
      "outputs": [
        {
          "output_type": "stream",
          "name": "stdout",
          "text": [
            "is_holiday         False       True\n",
            "type                               \n",
            "A           23768.583523  590.04525\n",
            "B           25751.980533  810.70500\n"
          ]
        }
      ],
      "source": [
        "# Pivot for mean weekly_sales by store type and holiday \n",
        "mean_sales_by_type_holiday = sales.pivot_table(\"weekly_sales\", \"type\", \"is_holiday\")\n",
        "\n",
        "# Print mean_sales_by_type_holiday\n",
        "print(mean_sales_by_type_holiday)\n"
      ]
    },
    {
      "cell_type": "markdown",
      "metadata": {
        "id": "ifrZ_Jb4n8dJ"
      },
      "source": [
        "<p class=\"\">Perfect pivoting! Pivot tables are another way to do the same thing as a group-by-then-summarize.</p>\n",
        "\n"
      ]
    },
    {
      "cell_type": "markdown",
      "source": [
        "### Fill in missing values and sum values with pivot tables\n",
        "\n",
        "\n",
        "<div class>\n",
        "<p>The <code>.pivot_table()</code> method has several useful arguments, including <code>fill_value</code> and <code>margins</code>. </p>\n",
        "<ul>\n",
        "<li>\n",
        "<code>fill_value</code> replaces missing values with a real value (known as <em>imputation</em>). What to replace missing values with is a topic big enough to have its own course (<a href=\"https://www.datacamp.com/courses/dealing-with-missing-data-in-python\">Dealing with Missing Data in Python</a>), but the simplest thing to do is to substitute a dummy value.</li>\n",
        "<li>\n",
        "<code>margins</code> is a shortcut for when you pivoted by two variables, but also wanted to pivot by each of those variables separately: it gives the row and column totals of the pivot table contents.</li>\n",
        "</ul>\n",
        "<p>In this exercise, you'll practice using these arguments to up your pivot table skills, which will help you crunch numbers more efficiently!</p>\n",
        "<p><code>sales</code> is available and <code>pandas</code> is imported as <code>pd</code>.</p>\n",
        "</div>\n",
        "\n",
        "<li>Print the mean <code>weekly_sales</code> by <code>department</code> and <code>type</code>, filling in any missing values with <code>0</code>.</li>\n"
      ],
      "metadata": {
        "id": "9MnHKGEXpJ8T"
      }
    },
    {
      "cell_type": "code",
      "execution_count": null,
      "metadata": {
        "colab": {
          "base_uri": "https://localhost:8080/"
        },
        "id": "MmoAUIVmn8dJ",
        "outputId": "4e055078-8f56-4edd-c78f-433ba923efb5"
      },
      "outputs": [
        {
          "output_type": "stream",
          "name": "stdout",
          "text": [
            "type                    A              B\n",
            "department                              \n",
            "1            30961.725379   44050.626667\n",
            "2            67600.158788  112958.526667\n",
            "3            17160.002955   30580.655000\n",
            "4            44285.399091   51219.654167\n",
            "5            34821.011364   63236.875000\n",
            "...                   ...            ...\n",
            "95          123933.787121   77082.102500\n",
            "96           21367.042857    9528.538333\n",
            "97           28471.266970    5828.873333\n",
            "98           12875.423182     217.428333\n",
            "99             379.123659       0.000000\n",
            "\n",
            "[80 rows x 2 columns]\n"
          ]
        }
      ],
      "source": [
        "# Print mean weekly_sales by department and type; fill missing values with 0\n",
        "print(sales.pivot_table(values=\"weekly_sales\", index=\"department\", columns=\"type\", fill_value=0))\n"
      ]
    },
    {
      "cell_type": "markdown",
      "metadata": {
        "id": "K7rYWo5Mn8dK"
      },
      "source": [
        "\n",
        "<li>Print the mean <code>weekly_sales</code> by <code>department</code> and <code>type</code>, filling in any missing values with <code>0</code> and summing all rows and columns.</li>\n"
      ]
    },
    {
      "cell_type": "code",
      "execution_count": null,
      "metadata": {
        "colab": {
          "base_uri": "https://localhost:8080/"
        },
        "id": "DHYfm7Ayn8dK",
        "outputId": "4f049fb1-6d14-4f2e-832d-59f75c5f00c8"
      },
      "outputs": [
        {
          "output_type": "stream",
          "name": "stdout",
          "text": [
            "type                   A              B           All\n",
            "department                                           \n",
            "1           30961.725379   44050.626667  32052.467153\n",
            "2           67600.158788  112958.526667  71380.022778\n",
            "3           17160.002955   30580.655000  18278.390625\n",
            "4           44285.399091   51219.654167  44863.253681\n",
            "5           34821.011364   63236.875000  37189.000000\n",
            "...                  ...            ...           ...\n",
            "96          21367.042857    9528.538333  20337.607681\n",
            "97          28471.266970    5828.873333  26584.400833\n",
            "98          12875.423182     217.428333  11820.590278\n",
            "99            379.123659       0.000000    379.123659\n",
            "All         23674.667242   25696.678370  23843.950149\n",
            "\n",
            "[81 rows x 3 columns]\n"
          ]
        }
      ],
      "source": [
        "# Print the mean weekly_sales by department and type; fill missing values with 0s; sum all rows and cols\n",
        "print(sales.pivot_table(values=\"weekly_sales\", index=\"department\", columns=\"type\", fill_value=0, margins =True))\n"
      ]
    },
    {
      "cell_type": "markdown",
      "metadata": {
        "id": "NgEJ9MQqn8dK"
      },
      "source": [
        "<p class=\"\">Magnificent margin making! You are now armed with pivot table skills that can help you compute summaries at multiple grouped levels in one line of code.</p>\n",
        "\n"
      ]
    },
    {
      "cell_type": "markdown",
      "source": [
        "# Slicing and Indexing DataFrames\n",
        "\n",
        "<p class=\"chapter__description\">\n",
        "    Indexes are supercharged row and column names. Learn how they can be combined with slicing for powerful DataFrame subsetting.\n",
        "  </p>\n",
        "  \n"
      ],
      "metadata": {
        "id": "-U9n0ACEpLbF"
      }
    },
    {
      "cell_type": "markdown",
      "source": [
        "## Explicit indexes\n",
        "\n",
        "\n",
        "\n"
      ],
      "metadata": {
        "id": "Pioq4buHpMW5"
      }
    },
    {
      "cell_type": "markdown",
      "source": [
        "### Setting and removing indexes\n",
        "\n",
        "\n",
        "<div class>\n",
        "<p>pandas allows you to designate columns as an <em>index</em>. This enables cleaner code when taking subsets (as well as providing more efficient lookup under some circumstances).</p>\n",
        "<p>In this chapter, you'll be exploring <code>temperatures</code>, a DataFrame of average temperatures in cities around the world. <code>pandas</code> is loaded as <code>pd</code>.</p>\n",
        "</div>\n"
      ],
      "metadata": {
        "id": "g0G2UtqepM-h"
      }
    },
    {
      "cell_type": "code",
      "execution_count": null,
      "metadata": {
        "id": "vr-dEEtRn8dK"
      },
      "outputs": [],
      "source": [
        "# edited by mclix8\n",
        "temperatures = pd.read_csv('https://raw.githubusercontent.com/mclix8/DataCamp/master/Data%20Manipulation%20with%20Python/Data%20Manipulation%20with%20pandas/datasets/temperatures.csv', index_col = 0)\n",
        "temperatures['date'] =  pd.to_datetime(temperatures['date'], infer_datetime_format=True)\n"
      ]
    },
    {
      "cell_type": "markdown",
      "metadata": {
        "id": "qKtur4ewn8dK"
      },
      "source": [
        "<li>\n",
        "<em>Look at <code>temperatures</code></em>.</li>\n"
      ]
    },
    {
      "cell_type": "code",
      "execution_count": null,
      "metadata": {
        "colab": {
          "base_uri": "https://localhost:8080/"
        },
        "id": "Bau-hyFmn8dK",
        "outputId": "79b32591-9508-4b9e-820a-e32116c8c752"
      },
      "outputs": [
        {
          "output_type": "stream",
          "name": "stdout",
          "text": [
            "            date     city        country  avg_temp_c\n",
            "0     2000-01-01  Abidjan  Côte D'Ivoire      27.293\n",
            "1     2000-02-01  Abidjan  Côte D'Ivoire      27.685\n",
            "2     2000-03-01  Abidjan  Côte D'Ivoire      29.061\n",
            "3     2000-04-01  Abidjan  Côte D'Ivoire      28.162\n",
            "4     2000-05-01  Abidjan  Côte D'Ivoire      27.547\n",
            "...          ...      ...            ...         ...\n",
            "16495 2013-05-01     Xian          China      18.979\n",
            "16496 2013-06-01     Xian          China      23.522\n",
            "16497 2013-07-01     Xian          China      25.251\n",
            "16498 2013-08-01     Xian          China      24.528\n",
            "16499 2013-09-01     Xian          China         NaN\n",
            "\n",
            "[16500 rows x 4 columns]\n"
          ]
        }
      ],
      "source": [
        "# Look at temperatures\n",
        "print(temperatures)\n"
      ]
    },
    {
      "cell_type": "markdown",
      "metadata": {
        "id": "WXiTHEMAn8dK"
      },
      "source": [
        "<li>Set the index of <code>temperatures</code> to <code>\"city\"</code>, assigning to <code>temperatures_ind</code>.</li>\n"
      ]
    },
    {
      "cell_type": "code",
      "execution_count": null,
      "metadata": {
        "id": "WoDseysun8dK"
      },
      "outputs": [],
      "source": [
        "# Index temperatures by city\n",
        "temperatures_ind = temperatures.set_index(\"city\")\n"
      ]
    },
    {
      "cell_type": "markdown",
      "metadata": {
        "id": "HJ9RPqCwn8dL"
      },
      "source": [
        "<li><em>Look at <code>temperatures_ind</code>. How is it different from <code>temperatures</code>?</em></li>\n"
      ]
    },
    {
      "cell_type": "code",
      "execution_count": null,
      "metadata": {
        "colab": {
          "base_uri": "https://localhost:8080/"
        },
        "id": "s6rw5KUyn8dL",
        "outputId": "83683fdf-d2ac-4488-c938-b66fecc1bad4"
      },
      "outputs": [
        {
          "output_type": "stream",
          "name": "stdout",
          "text": [
            "              date        country  avg_temp_c\n",
            "city                                         \n",
            "Abidjan 2000-01-01  Côte D'Ivoire      27.293\n",
            "Abidjan 2000-02-01  Côte D'Ivoire      27.685\n",
            "Abidjan 2000-03-01  Côte D'Ivoire      29.061\n",
            "Abidjan 2000-04-01  Côte D'Ivoire      28.162\n",
            "Abidjan 2000-05-01  Côte D'Ivoire      27.547\n",
            "...            ...            ...         ...\n",
            "Xian    2013-05-01          China      18.979\n",
            "Xian    2013-06-01          China      23.522\n",
            "Xian    2013-07-01          China      25.251\n",
            "Xian    2013-08-01          China      24.528\n",
            "Xian    2013-09-01          China         NaN\n",
            "\n",
            "[16500 rows x 3 columns]\n"
          ]
        }
      ],
      "source": [
        "# Look at temperatures_ind\n",
        "print(temperatures_ind)\n"
      ]
    },
    {
      "cell_type": "markdown",
      "metadata": {
        "id": "ts4PwrFcn8dL"
      },
      "source": [
        "<li>Reset the index of <code>temperatures_ind</code>, keeping its contents.</li>\n"
      ]
    },
    {
      "cell_type": "code",
      "execution_count": null,
      "metadata": {
        "colab": {
          "base_uri": "https://localhost:8080/"
        },
        "id": "lSpktezAn8dL",
        "outputId": "f79caefa-71bf-4fb9-a692-a475833739ef"
      },
      "outputs": [
        {
          "output_type": "stream",
          "name": "stdout",
          "text": [
            "          city       date        country  avg_temp_c\n",
            "0      Abidjan 2000-01-01  Côte D'Ivoire      27.293\n",
            "1      Abidjan 2000-02-01  Côte D'Ivoire      27.685\n",
            "2      Abidjan 2000-03-01  Côte D'Ivoire      29.061\n",
            "3      Abidjan 2000-04-01  Côte D'Ivoire      28.162\n",
            "4      Abidjan 2000-05-01  Côte D'Ivoire      27.547\n",
            "...        ...        ...            ...         ...\n",
            "16495     Xian 2013-05-01          China      18.979\n",
            "16496     Xian 2013-06-01          China      23.522\n",
            "16497     Xian 2013-07-01          China      25.251\n",
            "16498     Xian 2013-08-01          China      24.528\n",
            "16499     Xian 2013-09-01          China         NaN\n",
            "\n",
            "[16500 rows x 4 columns]\n"
          ]
        }
      ],
      "source": [
        "# Reset the index, keeping its contents\n",
        "print(temperatures_ind.reset_index())\n"
      ]
    },
    {
      "cell_type": "markdown",
      "metadata": {
        "id": "2lBLyPaVn8dL"
      },
      "source": [
        "<li>Reset the index of <code>temperatures_ind</code>, dropping its contents.</li>\n"
      ]
    },
    {
      "cell_type": "code",
      "execution_count": null,
      "metadata": {
        "colab": {
          "base_uri": "https://localhost:8080/"
        },
        "id": "eFp5pBA6n8dL",
        "outputId": "8e1633fc-b2c1-4966-fdbc-8e18ed32cfdb"
      },
      "outputs": [
        {
          "output_type": "stream",
          "name": "stdout",
          "text": [
            "            date        country  avg_temp_c\n",
            "0     2000-01-01  Côte D'Ivoire      27.293\n",
            "1     2000-02-01  Côte D'Ivoire      27.685\n",
            "2     2000-03-01  Côte D'Ivoire      29.061\n",
            "3     2000-04-01  Côte D'Ivoire      28.162\n",
            "4     2000-05-01  Côte D'Ivoire      27.547\n",
            "...          ...            ...         ...\n",
            "16495 2013-05-01          China      18.979\n",
            "16496 2013-06-01          China      23.522\n",
            "16497 2013-07-01          China      25.251\n",
            "16498 2013-08-01          China      24.528\n",
            "16499 2013-09-01          China         NaN\n",
            "\n",
            "[16500 rows x 3 columns]\n"
          ]
        }
      ],
      "source": [
        "# Reset the index, dropping its contents\n",
        "print(temperatures_ind.reset_index(drop=True))\n"
      ]
    },
    {
      "cell_type": "markdown",
      "metadata": {
        "id": "8wX-9gN1n8dL"
      },
      "source": [
        "<p class=\"\">Incredible indexing! Setting an index allows more concise code for subsetting for rows of a categorical variable via <code>.loc[]</code>.</p>\n",
        "\n"
      ]
    },
    {
      "cell_type": "markdown",
      "source": [
        "### Subsetting with .loc[]\n",
        "\n",
        "\n",
        "<div class>\n",
        "<p>The killer feature for indexes is <code>.loc[]</code>: a subsetting method that accepts index values. When you pass it a single argument, it will take a subset of rows.</p>\n",
        "<p>The code for subsetting using <code>.loc[]</code> can be easier to read than standard square bracket subsetting, which can make your code less burdensome to maintain.</p>\n",
        "<p><code>pandas</code> is loaded as <code>pd</code>. <code>temperatures</code> and <code>temperatures_ind</code> are available; the latter is indexed by <code>city</code>.</p>\n",
        "</div>\n",
        "\n",
        "<li>Create a list called <code>cities</code> that contains \"Moscow\" and \"Saint Petersburg\".</li>\n"
      ],
      "metadata": {
        "id": "u1olFnqrpO8m"
      }
    },
    {
      "cell_type": "code",
      "execution_count": null,
      "metadata": {
        "id": "GZw-W14xn8dL"
      },
      "outputs": [],
      "source": [
        "# Make a list of cities to subset on\n",
        "cities = [\"Moscow\", \"Saint Petersburg\"]\n"
      ]
    },
    {
      "cell_type": "markdown",
      "metadata": {
        "id": "SwCek_Bxn8dM"
      },
      "source": [
        "<li>Use <code>[]</code> subsetting to filter <code>temperatures</code> for rows where the <code>city</code> column takes a value in the <code>cities</code> list.</li>\n"
      ]
    },
    {
      "cell_type": "code",
      "execution_count": null,
      "metadata": {
        "colab": {
          "base_uri": "https://localhost:8080/"
        },
        "id": "fXMG2BJcn8dM",
        "outputId": "9a9a9bd0-a662-4793-bff2-88efb373b36a"
      },
      "outputs": [
        {
          "output_type": "stream",
          "name": "stdout",
          "text": [
            "            date              city country  avg_temp_c\n",
            "10725 2000-01-01            Moscow  Russia      -7.313\n",
            "10726 2000-02-01            Moscow  Russia      -3.551\n",
            "10727 2000-03-01            Moscow  Russia      -1.661\n",
            "10728 2000-04-01            Moscow  Russia      10.096\n",
            "10729 2000-05-01            Moscow  Russia      10.357\n",
            "...          ...               ...     ...         ...\n",
            "13360 2013-05-01  Saint Petersburg  Russia      12.355\n",
            "13361 2013-06-01  Saint Petersburg  Russia      17.185\n",
            "13362 2013-07-01  Saint Petersburg  Russia      17.234\n",
            "13363 2013-08-01  Saint Petersburg  Russia      17.153\n",
            "13364 2013-09-01  Saint Petersburg  Russia         NaN\n",
            "\n",
            "[330 rows x 4 columns]\n"
          ]
        }
      ],
      "source": [
        "# Subset temperatures using square brackets\n",
        "print(temperatures[temperatures[\"city\"].isin(cities)])\n"
      ]
    },
    {
      "cell_type": "markdown",
      "metadata": {
        "id": "h-DqCtqln8dM"
      },
      "source": [
        "<li>Use <code>.loc[]</code> subsetting to filter <code>temperatures_ind</code> for rows where the city is in the <code>cities</code> list.</li>\n"
      ]
    },
    {
      "cell_type": "code",
      "execution_count": null,
      "metadata": {
        "colab": {
          "base_uri": "https://localhost:8080/"
        },
        "id": "Rh2gcnTpn8dM",
        "outputId": "6083b1e2-77cc-41aa-8e56-2872b475474a"
      },
      "outputs": [
        {
          "output_type": "stream",
          "name": "stdout",
          "text": [
            "                       date country  avg_temp_c\n",
            "city                                           \n",
            "Moscow           2000-01-01  Russia      -7.313\n",
            "Moscow           2000-02-01  Russia      -3.551\n",
            "Moscow           2000-03-01  Russia      -1.661\n",
            "Moscow           2000-04-01  Russia      10.096\n",
            "Moscow           2000-05-01  Russia      10.357\n",
            "...                     ...     ...         ...\n",
            "Saint Petersburg 2013-05-01  Russia      12.355\n",
            "Saint Petersburg 2013-06-01  Russia      17.185\n",
            "Saint Petersburg 2013-07-01  Russia      17.234\n",
            "Saint Petersburg 2013-08-01  Russia      17.153\n",
            "Saint Petersburg 2013-09-01  Russia         NaN\n",
            "\n",
            "[330 rows x 3 columns]\n"
          ]
        }
      ],
      "source": [
        "# Subset temperatures_ind using .loc[]\n",
        "print(temperatures_ind.loc[cities])\n"
      ]
    },
    {
      "cell_type": "markdown",
      "metadata": {
        "id": "oZVNGmxFn8dM"
      },
      "source": [
        "<p class=\"\"><code>.loc[]</code> is used by all the best folk! Setting an index allows more concise code for subsetting rows via <code>.loc[]</code>.</p>\n",
        "\n"
      ]
    },
    {
      "cell_type": "markdown",
      "source": [
        "### Setting multi-level indexes\n",
        "\n",
        "\n",
        "<div class>\n",
        "<p>Indexes can also be made out of multiple columns, forming a <em>multi-level index</em> (sometimes called a <em>hierarchical index</em>). There is a trade-off to using these. </p>\n",
        "<p>The benefit is that multi-level indexes make it more natural to reason about nested categorical variables. For example, in a clinical trial, you might have control and treatment groups. Then each test subject belongs to one or another group, and we can say that a test subject is nested inside the treatment group. Similarly, in the temperature dataset, the city is located in the country, so we can say a city is nested inside the country. </p>\n",
        "<p>The main downside is that the code for manipulating indexes is different from the code for manipulating columns, so you have to learn two syntaxes and keep track of how your data is represented.</p>\n",
        "<p><code>pandas</code> is loaded as <code>pd</code>. <code>temperatures</code> is available.</p>\n",
        "</div>\n",
        "\n",
        "<li>Set the index of <code>temperatures</code> to the <code>\"country\"</code> and <code>\"city\"</code> columns, and assign this to <code>temperatures_ind</code>.</li>\n"
      ],
      "metadata": {
        "id": "zddQXXhRpQRy"
      }
    },
    {
      "cell_type": "code",
      "execution_count": null,
      "metadata": {
        "id": "7ugLOWvBn8dM"
      },
      "outputs": [],
      "source": [
        "# Index temperatures by country & city\n",
        "temperatures_ind = temperatures.set_index([\"country\", \"city\"])\n"
      ]
    },
    {
      "cell_type": "markdown",
      "metadata": {
        "id": "k-tmwpzpn8dM"
      },
      "source": [
        "<li>Specify two country/city pairs to keep: <code>\"Brazil\"</code>/<code>\"Rio De Janeiro\"</code> and <code>\"Pakistan\"</code>/<code>\"Lahore\"</code>, assigning to <code>rows_to_keep</code>.</li>\n"
      ]
    },
    {
      "cell_type": "code",
      "execution_count": null,
      "metadata": {
        "id": "BraWbvIkn8dM"
      },
      "outputs": [],
      "source": [
        "# List of tuples: Brazil, Rio De Janeiro & Pakistan, Lahore\n",
        "rows_to_keep = [(\"Brazil\", \"Rio De Janeiro\"), (\"Pakistan\", \"Lahore\")]\n"
      ]
    },
    {
      "cell_type": "markdown",
      "metadata": {
        "id": "otFC1KMWn8dM"
      },
      "source": [
        "<li>Print and subset <code>temperatures_ind</code> for <code>rows_to_keep</code> using <code>.loc[]</code>.</li>\n"
      ]
    },
    {
      "cell_type": "code",
      "execution_count": null,
      "metadata": {
        "colab": {
          "base_uri": "https://localhost:8080/"
        },
        "id": "0jL08WmVn8dN",
        "outputId": "cedcdeda-6199-488a-a6be-4f29df27e9f8"
      },
      "outputs": [
        {
          "output_type": "stream",
          "name": "stdout",
          "text": [
            "                              date  avg_temp_c\n",
            "country  city                                 \n",
            "Brazil   Rio De Janeiro 2000-01-01      25.974\n",
            "         Rio De Janeiro 2000-02-01      26.699\n",
            "         Rio De Janeiro 2000-03-01      26.270\n",
            "         Rio De Janeiro 2000-04-01      25.750\n",
            "         Rio De Janeiro 2000-05-01      24.356\n",
            "...                            ...         ...\n",
            "Pakistan Lahore         2013-05-01      33.457\n",
            "         Lahore         2013-06-01      34.456\n",
            "         Lahore         2013-07-01      33.279\n",
            "         Lahore         2013-08-01      31.511\n",
            "         Lahore         2013-09-01         NaN\n",
            "\n",
            "[330 rows x 2 columns]\n"
          ]
        }
      ],
      "source": [
        "# Subset for rows to keep\n",
        "print(temperatures_ind.loc[rows_to_keep])\n"
      ]
    },
    {
      "cell_type": "markdown",
      "metadata": {
        "id": "b2PLA2QLn8dN"
      },
      "source": [
        "<p class=\"\">Magnificent multi-level indexing! Multi-level indexes can make it easy to comprehend your dataset when one category is nested inside another category.</p>\n",
        "\n"
      ]
    },
    {
      "cell_type": "markdown",
      "source": [
        "### Sorting by index values\n",
        "\n",
        "\n",
        "<div class>\n",
        "<p>Previously, you changed the order of the rows in a DataFrame by calling <code>.sort_values()</code>. It's also useful to be able to sort by elements in the index. For this, you need to use <code>.sort_index()</code>.</p>\n",
        "<p><code>pandas</code> is loaded as <code>pd</code>. <code>temperatures_ind</code> has a multi-level index of <code>country</code> and <code>city</code>, and is available.</p>\n",
        "</div>\n",
        "\n",
        "<li>Sort <code>temperatures_ind</code> by the index values.</li>\n"
      ],
      "metadata": {
        "id": "-XZYnW9PpRhY"
      }
    },
    {
      "cell_type": "code",
      "execution_count": null,
      "metadata": {
        "colab": {
          "base_uri": "https://localhost:8080/"
        },
        "id": "ZnDCg2COn8dN",
        "outputId": "3a4d3b7b-ebcc-4b3e-dd22-6d807ed4b4f8"
      },
      "outputs": [
        {
          "output_type": "stream",
          "name": "stdout",
          "text": [
            "                         date  avg_temp_c\n",
            "country     city                         \n",
            "Afghanistan Kabul  2000-01-01       3.326\n",
            "            Kabul  2000-02-01       3.454\n",
            "            Kabul  2000-03-01       9.612\n",
            "            Kabul  2000-04-01      17.925\n",
            "            Kabul  2000-05-01      24.658\n",
            "...                       ...         ...\n",
            "Zimbabwe    Harare 2013-05-01      18.298\n",
            "            Harare 2013-06-01      17.020\n",
            "            Harare 2013-07-01      16.299\n",
            "            Harare 2013-08-01      19.232\n",
            "            Harare 2013-09-01         NaN\n",
            "\n",
            "[16500 rows x 2 columns]\n"
          ]
        }
      ],
      "source": [
        "# Sort temperatures_ind by index values\n",
        "print(temperatures_ind.sort_index())\n"
      ]
    },
    {
      "cell_type": "markdown",
      "metadata": {
        "id": "uNEl7Lxen8dN"
      },
      "source": [
        "<li>Sort <code>temperatures_ind</code> by the index values at the <code>\"city\"</code> level.</li>\n"
      ]
    },
    {
      "cell_type": "code",
      "execution_count": null,
      "metadata": {
        "colab": {
          "base_uri": "https://localhost:8080/"
        },
        "id": "veTkKpuTn8dN",
        "outputId": "d108fe59-7d61-4f97-de21-149b78cb6c3c"
      },
      "outputs": [
        {
          "output_type": "stream",
          "name": "stdout",
          "text": [
            "                            date  avg_temp_c\n",
            "country       city                          \n",
            "Côte D'Ivoire Abidjan 2000-01-01      27.293\n",
            "              Abidjan 2000-02-01      27.685\n",
            "              Abidjan 2000-03-01      29.061\n",
            "              Abidjan 2000-04-01      28.162\n",
            "              Abidjan 2000-05-01      27.547\n",
            "...                          ...         ...\n",
            "China         Xian    2013-05-01      18.979\n",
            "              Xian    2013-06-01      23.522\n",
            "              Xian    2013-07-01      25.251\n",
            "              Xian    2013-08-01      24.528\n",
            "              Xian    2013-09-01         NaN\n",
            "\n",
            "[16500 rows x 2 columns]\n"
          ]
        }
      ],
      "source": [
        "# Sort temperatures_ind by index values at the city level\n",
        "print(temperatures_ind.sort_index(level=\"city\"))\n"
      ]
    },
    {
      "cell_type": "markdown",
      "metadata": {
        "id": "3MfqsZpvn8dN"
      },
      "source": [
        "<li>Sort <code>temperatures_ind</code> by ascending country then descending city.</li>\n"
      ]
    },
    {
      "cell_type": "code",
      "execution_count": null,
      "metadata": {
        "colab": {
          "base_uri": "https://localhost:8080/"
        },
        "id": "EGWzAP1cn8dN",
        "outputId": "95617020-08b3-484a-e4b7-3bdd69e8047d"
      },
      "outputs": [
        {
          "output_type": "stream",
          "name": "stdout",
          "text": [
            "                         date  avg_temp_c\n",
            "country     city                         \n",
            "Afghanistan Kabul  2000-01-01       3.326\n",
            "            Kabul  2000-02-01       3.454\n",
            "            Kabul  2000-03-01       9.612\n",
            "            Kabul  2000-04-01      17.925\n",
            "            Kabul  2000-05-01      24.658\n",
            "...                       ...         ...\n",
            "Zimbabwe    Harare 2013-05-01      18.298\n",
            "            Harare 2013-06-01      17.020\n",
            "            Harare 2013-07-01      16.299\n",
            "            Harare 2013-08-01      19.232\n",
            "            Harare 2013-09-01         NaN\n",
            "\n",
            "[16500 rows x 2 columns]\n"
          ]
        }
      ],
      "source": [
        "# Sort temperatures_ind by country then descending city\n",
        "print(temperatures_ind.sort_index(level=[\"country\", \"city\"], ascending = [True, False]))\n"
      ]
    },
    {
      "cell_type": "markdown",
      "metadata": {
        "id": "OwREEwCjn8dN"
      },
      "source": [
        "<p class=\"\">Sorted! Sorting index values is similar to sorting values in columns, except that you call <code>.sort_index()</code> instead of <code>.sort_values()</code>.</p>\n",
        "\n"
      ]
    },
    {
      "cell_type": "markdown",
      "source": [
        "## Slicing and subsetting\n",
        "\n",
        "\n",
        "\n"
      ],
      "metadata": {
        "id": "M9hrPUvqpTJr"
      }
    },
    {
      "cell_type": "markdown",
      "source": [
        "### Slicing index values\n",
        "\n",
        "\n",
        "<div class>\n",
        "<p>Slicing lets you select consecutive elements of an object using <code>first:last</code> syntax. DataFrames can be sliced by index values or by row/column number; we'll start with the first case. This involves slicing inside the <code>.loc[]</code> method.</p>\n",
        "<p>Compared to slicing lists, there are a few things to remember.</p>\n",
        "<ul>\n",
        "<li>You can only slice an index if the index is sorted (using <code>.sort_index()</code>).</li>\n",
        "<li>To slice at the outer level, <code>first</code> and <code>last</code> can be strings.</li>\n",
        "<li>To slice at inner levels, <code>first</code> and <code>last</code> should be tuples.</li>\n",
        "<li>If you pass a single slice to <code>.loc[]</code>, it will slice the rows.</li>\n",
        "</ul>\n",
        "<p><code>pandas</code> is loaded as <code>pd</code>. <code>temperatures_ind</code> has country and city in the index, and is available.</p>\n",
        "</div>\n",
        "\n",
        "<li>Sort the index of <code>temperatures_ind</code>.</li>\n"
      ],
      "metadata": {
        "id": "2qWBpIlKpT7M"
      }
    },
    {
      "cell_type": "code",
      "execution_count": null,
      "metadata": {
        "id": "DQylwLgmn8dN"
      },
      "outputs": [],
      "source": [
        "# Sort the index of temperatures_ind\n",
        "temperatures_srt = temperatures_ind.sort_index()\n"
      ]
    },
    {
      "cell_type": "markdown",
      "metadata": {
        "id": "EUsmHGdKn8dN"
      },
      "source": [
        "<li>Use slicing with <code>.loc[]</code> to get these subsets:\n",
        "<li>from Pakistan to Russia.</li>\n"
      ]
    },
    {
      "cell_type": "code",
      "execution_count": null,
      "metadata": {
        "colab": {
          "base_uri": "https://localhost:8080/"
        },
        "id": "JW4iPz61n8dO",
        "outputId": "b4ce3ac6-7b41-4f28-db39-0c987a434b06"
      },
      "outputs": [
        {
          "output_type": "stream",
          "name": "stdout",
          "text": [
            "                                date  avg_temp_c\n",
            "country  city                                   \n",
            "Pakistan Faisalabad       2000-01-01      12.792\n",
            "         Faisalabad       2000-02-01      14.339\n",
            "         Faisalabad       2000-03-01      20.309\n",
            "         Faisalabad       2000-04-01      29.072\n",
            "         Faisalabad       2000-05-01      34.845\n",
            "...                              ...         ...\n",
            "Russia   Saint Petersburg 2013-05-01      12.355\n",
            "         Saint Petersburg 2013-06-01      17.185\n",
            "         Saint Petersburg 2013-07-01      17.234\n",
            "         Saint Petersburg 2013-08-01      17.153\n",
            "         Saint Petersburg 2013-09-01         NaN\n",
            "\n",
            "[1155 rows x 2 columns]\n"
          ]
        }
      ],
      "source": [
        "# Subset rows from Pakistan to Russia\n",
        "print(temperatures_srt.loc[\"Pakistan\":\"Russia\"])\n"
      ]
    },
    {
      "cell_type": "markdown",
      "metadata": {
        "id": "DLCuFkW8n8dO"
      },
      "source": [
        "<li>from Lahore to Moscow. (<em>This will return nonsense.</em>)</li>\n"
      ]
    },
    {
      "cell_type": "code",
      "execution_count": null,
      "metadata": {
        "colab": {
          "base_uri": "https://localhost:8080/"
        },
        "id": "b_ZdHklXn8dO",
        "outputId": "3a9c4104-6ff1-4437-998d-2f636762c288"
      },
      "outputs": [
        {
          "output_type": "stream",
          "name": "stdout",
          "text": [
            "                         date  avg_temp_c\n",
            "country city                             \n",
            "Mexico  Mexico     2000-01-01      12.694\n",
            "        Mexico     2000-02-01      14.677\n",
            "        Mexico     2000-03-01      17.376\n",
            "        Mexico     2000-04-01      18.294\n",
            "        Mexico     2000-05-01      18.562\n",
            "...                       ...         ...\n",
            "Morocco Casablanca 2013-05-01      19.217\n",
            "        Casablanca 2013-06-01      23.649\n",
            "        Casablanca 2013-07-01      27.488\n",
            "        Casablanca 2013-08-01      27.952\n",
            "        Casablanca 2013-09-01         NaN\n",
            "\n",
            "[330 rows x 2 columns]\n"
          ]
        }
      ],
      "source": [
        "# Try to subset rows from Lahore to Moscow\n",
        "print(temperatures_srt.loc[\"Lahore\":\"Moscow\"])\n"
      ]
    },
    {
      "cell_type": "markdown",
      "metadata": {
        "id": "N3kT464Qn8dO"
      },
      "source": [
        "<li>from Pakistan, Lahore to Russia, Moscow.</li>\n"
      ]
    },
    {
      "cell_type": "code",
      "execution_count": null,
      "metadata": {
        "colab": {
          "base_uri": "https://localhost:8080/"
        },
        "id": "0Zshd69Dn8dO",
        "outputId": "6c54c5ba-e527-477b-b325-f85cf3fcec18"
      },
      "outputs": [
        {
          "output_type": "stream",
          "name": "stdout",
          "text": [
            "                      date  avg_temp_c\n",
            "country  city                         \n",
            "Pakistan Lahore 2000-01-01      12.792\n",
            "         Lahore 2000-02-01      14.339\n",
            "         Lahore 2000-03-01      20.309\n",
            "         Lahore 2000-04-01      29.072\n",
            "         Lahore 2000-05-01      34.845\n",
            "...                    ...         ...\n",
            "Russia   Moscow 2013-05-01      16.152\n",
            "         Moscow 2013-06-01      18.718\n",
            "         Moscow 2013-07-01      18.136\n",
            "         Moscow 2013-08-01      17.485\n",
            "         Moscow 2013-09-01         NaN\n",
            "\n",
            "[660 rows x 2 columns]\n"
          ]
        }
      ],
      "source": [
        "# Subset rows from Pakistan, Lahore to Russia, Moscow\n",
        "print(temperatures_srt.loc[(\"Pakistan\", \"Lahore\"):(\"Russia\", \"Moscow\")])\n"
      ]
    },
    {
      "cell_type": "markdown",
      "metadata": {
        "id": "LoKLWBYfn8dO"
      },
      "source": [
        "</li>\n",
        "\n",
        "<p class=\"\">That's a nice slice! Combining slicing with <code>.loc[]</code> provides a concise syntax for subsetting.</p>\n",
        "\n"
      ]
    },
    {
      "cell_type": "markdown",
      "source": [
        "### Slicing in both directions\n",
        "\n",
        "\n",
        "<div class>\n",
        "<p>You've seen slicing DataFrames by rows and by columns, but since DataFrames are two-dimensional objects, it is often natural to slice both dimensions at once. That is, by passing two arguments to <code>.loc[]</code>, you can subset by rows and columns in one go.</p>\n",
        "<p><code>pandas</code> is loaded as <code>pd</code>. <code>temperatures_srt</code> is indexed by country and city, has a sorted index, and is available.</p>\n",
        "</div>\n",
        "\n",
        "<li>Use <code>.loc[]</code> slicing to subset rows from India, Hyderabad to Iraq, Baghdad.</li>\n"
      ],
      "metadata": {
        "id": "AfUXJY3epVlZ"
      }
    },
    {
      "cell_type": "code",
      "execution_count": null,
      "metadata": {
        "colab": {
          "base_uri": "https://localhost:8080/"
        },
        "id": "QTsRHdYzn8dO",
        "outputId": "b9c2763e-2b88-4ffc-c62b-71a510a08f9e"
      },
      "outputs": [
        {
          "output_type": "stream",
          "name": "stdout",
          "text": [
            "                        date  avg_temp_c\n",
            "country city                            \n",
            "India   Hyderabad 2000-01-01      23.779\n",
            "        Hyderabad 2000-02-01      25.826\n",
            "        Hyderabad 2000-03-01      28.821\n",
            "        Hyderabad 2000-04-01      32.698\n",
            "        Hyderabad 2000-05-01      32.438\n",
            "...                      ...         ...\n",
            "Iraq    Baghdad   2013-05-01      28.673\n",
            "        Baghdad   2013-06-01      33.803\n",
            "        Baghdad   2013-07-01      36.392\n",
            "        Baghdad   2013-08-01      35.463\n",
            "        Baghdad   2013-09-01         NaN\n",
            "\n",
            "[2145 rows x 2 columns]\n"
          ]
        }
      ],
      "source": [
        "# Subset rows from India, Hyderabad to Iraq, Baghdad\n",
        "print(temperatures_srt.loc[(\"India\", \"Hyderabad\"):(\"Iraq\", \"Baghdad\")])\n"
      ]
    },
    {
      "cell_type": "markdown",
      "metadata": {
        "id": "gsRA3pDsn8dO"
      },
      "source": [
        "<li>Use <code>.loc[]</code> slicing to subset columns from <code>date</code> to <code>avg_temp_c</code>.</li>\n"
      ]
    },
    {
      "cell_type": "code",
      "execution_count": null,
      "metadata": {
        "colab": {
          "base_uri": "https://localhost:8080/"
        },
        "id": "b17KqPBIn8dO",
        "outputId": "82f78a4e-7bc2-4f2e-dff9-3855f7d02565"
      },
      "outputs": [
        {
          "output_type": "stream",
          "name": "stdout",
          "text": [
            "                         date  avg_temp_c\n",
            "country     city                         \n",
            "Afghanistan Kabul  2000-01-01       3.326\n",
            "            Kabul  2000-02-01       3.454\n",
            "            Kabul  2000-03-01       9.612\n",
            "            Kabul  2000-04-01      17.925\n",
            "            Kabul  2000-05-01      24.658\n",
            "...                       ...         ...\n",
            "Zimbabwe    Harare 2013-05-01      18.298\n",
            "            Harare 2013-06-01      17.020\n",
            "            Harare 2013-07-01      16.299\n",
            "            Harare 2013-08-01      19.232\n",
            "            Harare 2013-09-01         NaN\n",
            "\n",
            "[16500 rows x 2 columns]\n"
          ]
        }
      ],
      "source": [
        "# Subset columns from date to avg_temp_c\n",
        "print(temperatures_srt.loc[:, \"date\":\"avg_temp_c\"])\n"
      ]
    },
    {
      "cell_type": "markdown",
      "metadata": {
        "id": "uH2TfZ_En8dO"
      },
      "source": [
        "<li>Slice in both directions at once from Hyderabad to Baghdad, and <code>date</code> to <code>avg_temp_c</code>.</li>\n"
      ]
    },
    {
      "cell_type": "code",
      "execution_count": null,
      "metadata": {
        "colab": {
          "base_uri": "https://localhost:8080/"
        },
        "id": "SJ0ix1G4n8dP",
        "outputId": "ae3366ae-2363-4c09-b0cb-710de268173d"
      },
      "outputs": [
        {
          "output_type": "stream",
          "name": "stdout",
          "text": [
            "                        date  avg_temp_c\n",
            "country city                            \n",
            "India   Hyderabad 2000-01-01      23.779\n",
            "        Hyderabad 2000-02-01      25.826\n",
            "        Hyderabad 2000-03-01      28.821\n",
            "        Hyderabad 2000-04-01      32.698\n",
            "        Hyderabad 2000-05-01      32.438\n",
            "...                      ...         ...\n",
            "Iraq    Baghdad   2013-05-01      28.673\n",
            "        Baghdad   2013-06-01      33.803\n",
            "        Baghdad   2013-07-01      36.392\n",
            "        Baghdad   2013-08-01      35.463\n",
            "        Baghdad   2013-09-01         NaN\n",
            "\n",
            "[2145 rows x 2 columns]\n"
          ]
        }
      ],
      "source": [
        "# Subset in both directions at once\n",
        "print(temperatures_srt.loc[(\"India\", \"Hyderabad\"):(\"Iraq\", \"Baghdad\"), \"date\":\"avg_temp_c\"])\n"
      ]
    },
    {
      "cell_type": "markdown",
      "metadata": {
        "id": "t6lJhJRln8dP"
      },
      "source": [
        "<p class=\"\">Brilliant bidirectional slicing! Slicing with <code>.loc[]</code> lets you take subsets in both directions at once.</p>\n",
        "\n"
      ]
    },
    {
      "cell_type": "markdown",
      "source": [
        "### Slicing time series\n",
        "\n",
        "\n",
        "<div class>\n",
        "<p>Slicing is particularly useful for time series since it's a common thing to want to filter for data within a date range. Add the <code>date</code> column to the index, then use <code>.loc[]</code> to perform the subsetting. The important thing to remember is to keep your dates in ISO 8601 format, that is, <code>\"yyyy-mm-dd\"</code> for year-month-day, <code>\"yyyy-mm\"</code> for year-month, and <code>\"yyyy\"</code> for year.</p>\n",
        "<p>Recall from Chapter 1 that you can combine multiple Boolean conditions using logical operators, such as <code>&amp;</code>. To do so in one line of code, you'll need to add parentheses <code>()</code> around each condition. </p>\n",
        "<p><code>pandas</code> is loaded as <code>pd</code> and <code>temperatures</code>, with no index, is available.</p>\n",
        "</div>\n",
        "\n",
        "<li>Use Boolean conditions, not <code>.isin()</code> or <code>.loc[]</code>, and the full date <code>\"yyyy-mm-dd\"</code>, to subset <code>temperatures</code> for rows in 2010 and 2011 and print the results.</li>\n"
      ],
      "metadata": {
        "id": "bFQFc9z4pXat"
      }
    },
    {
      "cell_type": "code",
      "execution_count": null,
      "metadata": {
        "colab": {
          "base_uri": "https://localhost:8080/"
        },
        "id": "BE0C5955n8dP",
        "outputId": "600ca411-e8d2-4810-f23c-517130a336dd"
      },
      "outputs": [
        {
          "output_type": "stream",
          "name": "stdout",
          "text": [
            "            date     city        country  avg_temp_c\n",
            "120   2010-01-01  Abidjan  Côte D'Ivoire      28.270\n",
            "121   2010-02-01  Abidjan  Côte D'Ivoire      29.262\n",
            "122   2010-03-01  Abidjan  Côte D'Ivoire      29.596\n",
            "123   2010-04-01  Abidjan  Côte D'Ivoire      29.068\n",
            "124   2010-05-01  Abidjan  Côte D'Ivoire      28.258\n",
            "...          ...      ...            ...         ...\n",
            "16474 2011-08-01     Xian          China      23.069\n",
            "16475 2011-09-01     Xian          China      16.775\n",
            "16476 2011-10-01     Xian          China      12.587\n",
            "16477 2011-11-01     Xian          China       7.543\n",
            "16478 2011-12-01     Xian          China      -0.490\n",
            "\n",
            "[2400 rows x 4 columns]\n"
          ]
        }
      ],
      "source": [
        "# Use Boolean conditions to subset temperatures for rows in 2010 and 2011\n",
        "temperatures_bool = temperatures[(temperatures[\"date\"] >= \"2010-01-01\") & (temperatures[\"date\"] <= \"2011-12-31\")]\n",
        "print(temperatures_bool)\n"
      ]
    },
    {
      "cell_type": "markdown",
      "metadata": {
        "id": "X5FGo3NLn8dP"
      },
      "source": [
        "<li>Set the index of <code>temperatures</code> to the <code>date</code> column and sort it.</li>\n"
      ]
    },
    {
      "cell_type": "code",
      "execution_count": null,
      "metadata": {
        "id": "4YtF_qsFn8dP"
      },
      "outputs": [],
      "source": [
        "# Set date as the index and sort the index\n",
        "temperatures_ind = temperatures.set_index(\"date\").sort_index()\n"
      ]
    },
    {
      "cell_type": "markdown",
      "metadata": {
        "id": "p2x2tneZn8dP"
      },
      "source": [
        "<li>Use <code>.loc[]</code> to subset <code>temperatures_ind</code> for rows in 2010 and 2011.</li>\n"
      ]
    },
    {
      "cell_type": "code",
      "execution_count": null,
      "metadata": {
        "colab": {
          "base_uri": "https://localhost:8080/"
        },
        "id": "gxFIGq_Nn8dP",
        "outputId": "0ea0ab08-203f-4afe-c3f3-9c053019534a"
      },
      "outputs": [
        {
          "output_type": "stream",
          "name": "stdout",
          "text": [
            "                  city    country  avg_temp_c\n",
            "date                                         \n",
            "2010-01-01  Faisalabad   Pakistan      11.810\n",
            "2010-01-01   Melbourne  Australia      20.016\n",
            "2010-01-01   Chongqing      China       7.921\n",
            "2010-01-01   São Paulo     Brazil      23.738\n",
            "2010-01-01   Guangzhou      China      14.136\n",
            "...                ...        ...         ...\n",
            "2011-12-01      Nagoya      Japan       6.476\n",
            "2011-12-01   Hyderabad      India      23.613\n",
            "2011-12-01        Cali   Colombia      21.559\n",
            "2011-12-01        Lima       Peru      18.293\n",
            "2011-12-01     Bangkok   Thailand      25.021\n",
            "\n",
            "[2400 rows x 3 columns]\n"
          ]
        }
      ],
      "source": [
        "# Use .loc[] to subset temperatures_ind for rows in 2010 and 2011\n",
        "print(temperatures_ind.loc[\"2010\":\"2011\"])\n"
      ]
    },
    {
      "cell_type": "markdown",
      "metadata": {
        "id": "CdbjB9P_n8dP"
      },
      "source": [
        "<li>Use <code>.loc[]</code> to subset <code>temperatures_ind</code> for rows from Aug 2010 to Feb 2011.</li>\n"
      ]
    },
    {
      "cell_type": "code",
      "execution_count": null,
      "metadata": {
        "colab": {
          "base_uri": "https://localhost:8080/"
        },
        "id": "eiDh6vVWn8dP",
        "outputId": "5a0f8ddb-39ae-4a66-bf5d-7a53864a55ff"
      },
      "outputs": [
        {
          "output_type": "stream",
          "name": "stdout",
          "text": [
            "                city        country  avg_temp_c\n",
            "date                                           \n",
            "2010-08-01  Calcutta          India      30.226\n",
            "2010-08-01      Pune          India      24.941\n",
            "2010-08-01     Izmir         Turkey      28.352\n",
            "2010-08-01   Tianjin          China      25.543\n",
            "2010-08-01    Manila    Philippines      27.101\n",
            "...              ...            ...         ...\n",
            "2011-02-01     Kabul    Afghanistan       3.914\n",
            "2011-02-01   Chicago  United States       0.276\n",
            "2011-02-01    Aleppo          Syria       8.246\n",
            "2011-02-01     Delhi          India      18.136\n",
            "2011-02-01   Rangoon          Burma      26.631\n",
            "\n",
            "[700 rows x 3 columns]\n"
          ]
        }
      ],
      "source": [
        "# Use .loc[] to subset temperatures_ind for rows from Aug 2010 to Feb 2011\n",
        "print(temperatures_ind.loc[\"2010-08\":\"2011-02\"])\n"
      ]
    },
    {
      "cell_type": "markdown",
      "metadata": {
        "id": "grprtXSln8dP"
      },
      "source": [
        "<p class=\"\">Delightful data range slicing! Using <code>.loc[]</code> in conjunction with a date index provides an easy way to subset for rows before or after some date.</p>\n",
        "\n"
      ]
    },
    {
      "cell_type": "markdown",
      "source": [
        "### Subsetting by row/column number\n",
        "\n",
        "\n",
        "<div class>\n",
        "<p>The most common ways to subset rows are the ways we've previously discussed: using a Boolean condition or by index labels. However, it is also occasionally useful to pass row numbers.</p>\n",
        "<p>This is done using <code>.iloc[]</code>, and like <code>.loc[]</code>, it can take two arguments to let you subset by rows and columns.</p>\n",
        "<p><code>pandas</code> is loaded as <code>pd</code>. <code>temperatures</code> (without an index) is available.</p>\n",
        "</div>\n",
        "<div class=\"exercise--instructions__content\">\n",
        "<p>Use <code>.iloc[]</code> on <code>temperatures</code> to take subsets.</p>\n",
        "\n",
        "<li>Get the 23rd row, 2nd column (index positions 22 and 1).</li>\n"
      ],
      "metadata": {
        "id": "U7sghbgGpZGc"
      }
    },
    {
      "cell_type": "code",
      "execution_count": null,
      "metadata": {
        "colab": {
          "base_uri": "https://localhost:8080/"
        },
        "id": "38TPKHFXn8dP",
        "outputId": "1887837c-d338-4e20-9e5b-0bde44873f09"
      },
      "outputs": [
        {
          "output_type": "stream",
          "name": "stdout",
          "text": [
            "Abidjan\n"
          ]
        }
      ],
      "source": [
        "# Get 23rd row, 2nd column (index 22, 1)\n",
        "print(temperatures.iloc[22, 1])\n"
      ]
    },
    {
      "cell_type": "markdown",
      "metadata": {
        "id": "LOq6hHuUn8dQ"
      },
      "source": [
        "<li>Get the first 5 rows (index positions 0 to 5).</li>\n"
      ]
    },
    {
      "cell_type": "code",
      "execution_count": null,
      "metadata": {
        "colab": {
          "base_uri": "https://localhost:8080/"
        },
        "id": "mFHUAmH3n8dQ",
        "outputId": "eb2518a9-841f-4531-8a48-866698d35467"
      },
      "outputs": [
        {
          "output_type": "stream",
          "name": "stdout",
          "text": [
            "        date     city        country  avg_temp_c\n",
            "0 2000-01-01  Abidjan  Côte D'Ivoire      27.293\n",
            "1 2000-02-01  Abidjan  Côte D'Ivoire      27.685\n",
            "2 2000-03-01  Abidjan  Côte D'Ivoire      29.061\n",
            "3 2000-04-01  Abidjan  Côte D'Ivoire      28.162\n",
            "4 2000-05-01  Abidjan  Côte D'Ivoire      27.547\n"
          ]
        }
      ],
      "source": [
        "# Use slicing to get the first 5 rows\n",
        "print(temperatures.iloc[:5])\n"
      ]
    },
    {
      "cell_type": "markdown",
      "metadata": {
        "id": "6Zo_3DhGn8dQ"
      },
      "source": [
        "<li>Get all rows, columns 3 and 4 (index positions 2 to 4).</li>\n"
      ]
    },
    {
      "cell_type": "code",
      "execution_count": null,
      "metadata": {
        "colab": {
          "base_uri": "https://localhost:8080/"
        },
        "id": "AFmJ0rL7n8dQ",
        "outputId": "36837096-a966-40f6-da03-089e1f0bf155"
      },
      "outputs": [
        {
          "output_type": "stream",
          "name": "stdout",
          "text": [
            "             country  avg_temp_c\n",
            "0      Côte D'Ivoire      27.293\n",
            "1      Côte D'Ivoire      27.685\n",
            "2      Côte D'Ivoire      29.061\n",
            "3      Côte D'Ivoire      28.162\n",
            "4      Côte D'Ivoire      27.547\n",
            "...              ...         ...\n",
            "16495          China      18.979\n",
            "16496          China      23.522\n",
            "16497          China      25.251\n",
            "16498          China      24.528\n",
            "16499          China         NaN\n",
            "\n",
            "[16500 rows x 2 columns]\n"
          ]
        }
      ],
      "source": [
        "# Use slicing to get columns 3 to 4\n",
        "print(temperatures.iloc[:, 2:4])\n"
      ]
    },
    {
      "cell_type": "markdown",
      "metadata": {
        "id": "l1sFpFI-n8dQ"
      },
      "source": [
        "<li>Get the first 5 rows, columns 3 and 4.</li>\n"
      ]
    },
    {
      "cell_type": "code",
      "execution_count": null,
      "metadata": {
        "colab": {
          "base_uri": "https://localhost:8080/"
        },
        "id": "kqKTqjubn8dQ",
        "outputId": "0ba82c93-e055-46e3-96c8-c3c9d5a93f95"
      },
      "outputs": [
        {
          "output_type": "stream",
          "name": "stdout",
          "text": [
            "         country  avg_temp_c\n",
            "0  Côte D'Ivoire      27.293\n",
            "1  Côte D'Ivoire      27.685\n",
            "2  Côte D'Ivoire      29.061\n",
            "3  Côte D'Ivoire      28.162\n",
            "4  Côte D'Ivoire      27.547\n"
          ]
        }
      ],
      "source": [
        "# Use slicing in both directions at once\n",
        "print(temperatures.iloc[:5, 2:4])\n"
      ]
    },
    {
      "cell_type": "markdown",
      "metadata": {
        "id": "TvUuKwHrn8dQ"
      },
      "source": [
        "</div>\n",
        "\n",
        "<p class=\"\">Insightful use of <code>.iloc[]</code>! Use <code>.iloc[]</code> to specify a subset using the row or column numbers.</p>\n",
        "\n"
      ]
    },
    {
      "cell_type": "markdown",
      "source": [
        "## Working with pivot tables\n",
        "\n",
        "\n",
        "\n"
      ],
      "metadata": {
        "id": "n3oU8dbDpaxf"
      }
    },
    {
      "cell_type": "markdown",
      "source": [
        "### Pivot temperature by city and year\n",
        "\n",
        "\n",
        "<div class>\n",
        "<p>It's interesting to see how temperatures for each city change over time—looking at every month results in a big table, which can be tricky to reason about. Instead, let's look at how temperatures change by year.</p>\n",
        "<p>You can access the components of a date (year, month and day) using code of the form <code>dataframe[\"column\"].dt.component</code>. For example, the month component is <code>dataframe[\"column\"].dt.month</code>, and the year component is <code>dataframe[\"column\"].dt.year</code>.</p>\n",
        "<p>Once you have the year column, you can create a pivot table with the data aggregated by city and year, which you'll explore in the coming exercises.</p>\n",
        "<p><code>pandas</code> is loaded as <code>pd</code>. <code>temperatures</code> is available.</p>\n",
        "</div>\n",
        "\n",
        "<li>Add a <code>year</code> column to <code>temperatures</code>, from the <code>year</code> component of the <code>date</code> column.</li>\n"
      ],
      "metadata": {
        "id": "A82ntx9Apbb0"
      }
    },
    {
      "cell_type": "code",
      "execution_count": null,
      "metadata": {
        "id": "qbgK1MPln8dQ"
      },
      "outputs": [],
      "source": [
        "# Add a year column to temperatures\n",
        "temperatures[\"year\"] = (temperatures[\"date\"].dt).year\n"
      ]
    },
    {
      "cell_type": "markdown",
      "metadata": {
        "id": "yjw9dniIn8dR"
      },
      "source": [
        "<li>Make a pivot table of the <code>avg_temp_c</code> column, with <code>country</code> and <code>city</code> as rows, and <code>year</code> as columns. Assign to <code>temp_by_country_city_vs_year</code>, and <em>look at the result</em>.</li>\n"
      ]
    },
    {
      "cell_type": "code",
      "execution_count": null,
      "metadata": {
        "colab": {
          "base_uri": "https://localhost:8080/"
        },
        "id": "8Rx5LY85n8dR",
        "outputId": "77a3495a-ef90-40d4-c313-0ba252b5551e"
      },
      "outputs": [
        {
          "output_type": "stream",
          "name": "stdout",
          "text": [
            "year                                 2000       2001       2002       2003  \\\n",
            "country       city                                                           \n",
            "Afghanistan   Kabul             15.822667  15.847917  15.714583  15.132583   \n",
            "Angola        Luanda            24.410333  24.427083  24.790917  24.867167   \n",
            "Australia     Melbourne         14.320083  14.180000  14.075833  13.985583   \n",
            "              Sydney            17.567417  17.854500  17.733833  17.592333   \n",
            "Bangladesh    Dhaka             25.905250  25.931250  26.095000  25.927417   \n",
            "...                                   ...        ...        ...        ...   \n",
            "United States Chicago           11.089667  11.703083  11.532083  10.481583   \n",
            "              Los Angeles       16.643333  16.466250  16.430250  16.944667   \n",
            "              New York           9.969083  10.931000  11.252167   9.836000   \n",
            "Vietnam       Ho Chi Minh City  27.588917  27.831750  28.064750  27.827667   \n",
            "Zimbabwe      Harare            20.283667  20.861000  21.079333  20.889167   \n",
            "\n",
            "year                                 2004       2005       2006       2007  \\\n",
            "country       city                                                           \n",
            "Afghanistan   Kabul             16.128417  14.847500  15.798500  15.518000   \n",
            "Angola        Luanda            24.216167  24.414583  24.138417  24.241583   \n",
            "Australia     Melbourne         13.742083  14.378500  13.991083  14.991833   \n",
            "              Sydney            17.869667  18.028083  17.749500  18.020833   \n",
            "Bangladesh    Dhaka             26.136083  26.193333  26.440417  25.951333   \n",
            "...                                   ...        ...        ...        ...   \n",
            "United States Chicago           10.943417  11.583833  11.870500  11.448333   \n",
            "              Los Angeles       16.552833  16.431417  16.623083  16.699917   \n",
            "              New York          10.389500  10.681417  11.519250  10.627333   \n",
            "Vietnam       Ho Chi Minh City  27.686583  27.884000  28.044000  27.866667   \n",
            "Zimbabwe      Harare            20.307667  21.487417  20.699750  20.746250   \n",
            "\n",
            "year                                 2008       2009       2010       2011  \\\n",
            "country       city                                                           \n",
            "Afghanistan   Kabul             15.479250  15.093333  15.676000  15.812167   \n",
            "Angola        Luanda            24.266333  24.325083  24.440250  24.150750   \n",
            "Australia     Melbourne         14.110583  14.647417  14.231667  14.190917   \n",
            "              Sydney            17.321083  18.175833  17.999000  17.713333   \n",
            "Bangladesh    Dhaka             26.004500  26.535583  26.648167  25.803250   \n",
            "...                                   ...        ...        ...        ...   \n",
            "United States Chicago           10.242417  10.298333  11.815917  11.214250   \n",
            "              Los Angeles       17.014750  16.677000  15.887000  15.874833   \n",
            "              New York          10.641667  10.141833  11.357583  11.272250   \n",
            "Vietnam       Ho Chi Minh City  27.611417  27.853333  28.281750  27.675417   \n",
            "Zimbabwe      Harare            20.680500  20.523833  21.165833  20.781750   \n",
            "\n",
            "year                                 2012       2013  \n",
            "country       city                                    \n",
            "Afghanistan   Kabul             14.510333  16.206125  \n",
            "Angola        Luanda            24.240083  24.553875  \n",
            "Australia     Melbourne         14.268667  14.741500  \n",
            "              Sydney            17.474333  18.089750  \n",
            "Bangladesh    Dhaka             26.283583  26.587000  \n",
            "...                                   ...        ...  \n",
            "United States Chicago           12.821250  11.586889  \n",
            "              Los Angeles       17.089583  18.120667  \n",
            "              New York          11.971500  12.163889  \n",
            "Vietnam       Ho Chi Minh City  28.248750  28.455000  \n",
            "Zimbabwe      Harare            20.523333  19.756500  \n",
            "\n",
            "[100 rows x 14 columns]\n"
          ]
        }
      ],
      "source": [
        "# Pivot avg_temp_c by country and city vs year\n",
        "temp_by_country_city_vs_year = temperatures.pivot_table(\"avg_temp_c\", index = [\"country\", \"city\"], columns = \"year\")\n",
        "\n",
        "# See the result\n",
        "print(temp_by_country_city_vs_year)\n"
      ]
    },
    {
      "cell_type": "markdown",
      "metadata": {
        "id": "Bjq9EBssn8dR"
      },
      "source": [
        "<p class=\"\">Powerful pivoting! Now you have the pivot table, let's manipulate it.</p>\n",
        "\n"
      ]
    },
    {
      "cell_type": "markdown",
      "source": [
        "### Subsetting pivot tables\n",
        "\n",
        "\n",
        "<div class>\n",
        "<p>A pivot table is just a DataFrame with sorted indexes, so the techniques you have learned already can be used to subset them. In particular, the <code>.loc[]</code> + slicing combination is often helpful.</p>\n",
        "<p><code>pandas</code> is loaded as <code>pd</code>. <code>temp_by_country_city_vs_year</code> is available.</p>\n",
        "</div>\n",
        "<div class=\"exercise--instructions__content\">\n",
        "<p>Use <code>.loc[]</code> on <code>temp_by_country_city_vs_year</code> to take subsets.</p>\n",
        "\n",
        "<li>From Egypt to India.</li>\n"
      ],
      "metadata": {
        "id": "hFkQX5Zxpc5X"
      }
    },
    {
      "cell_type": "code",
      "execution_count": null,
      "metadata": {
        "colab": {
          "base_uri": "https://localhost:8080/",
          "height": 789
        },
        "id": "PlxZUs59n8dR",
        "outputId": "71340ce2-451a-431c-8710-10f9136f14e8"
      },
      "outputs": [
        {
          "output_type": "execute_result",
          "data": {
            "text/plain": [
              "year                       2000       2001       2002       2003       2004  \\\n",
              "country  city                                                                 \n",
              "Egypt    Alexandria   20.744500  21.454583  21.456167  21.221417  21.064167   \n",
              "         Cairo        21.486167  22.330833  22.414083  22.170500  22.081917   \n",
              "         Gizeh        21.486167  22.330833  22.414083  22.170500  22.081917   \n",
              "Ethiopia Addis Abeba  18.241250  18.296417  18.469750  18.320917  18.292750   \n",
              "France   Paris        11.739667  11.371250  11.871333  11.909500  11.338833   \n",
              "Germany  Berlin       10.963667   9.690250  10.264417  10.065750   9.822583   \n",
              "India    Ahmadabad    27.436000  27.198083  27.719083  27.403833  27.628333   \n",
              "         Bangalore    25.337917  25.528167  25.755333  25.924750  25.252083   \n",
              "         Bombay       27.203667  27.243667  27.628667  27.578417  27.318750   \n",
              "         Calcutta     26.491333  26.515167  26.703917  26.561333  26.634333   \n",
              "         Delhi        26.048333  25.862917  26.634333  25.721083  26.239917   \n",
              "         Hyderabad    27.231833  27.555167  27.665167  27.844583  27.228500   \n",
              "         Jaipur       26.430250  26.023000  27.031667  26.027417  26.642167   \n",
              "         Kanpur       25.353917  25.326500  26.116833  25.409083  25.586500   \n",
              "         Lakhnau      25.353917  25.326500  26.116833  25.409083  25.586500   \n",
              "         Madras       28.811667  29.162917  29.246500  29.273083  28.810917   \n",
              "         Nagpur       26.181417  26.321667  26.753000  26.503833  26.406333   \n",
              "         New Delhi    26.048333  25.862917  26.634333  25.721083  26.239917   \n",
              "         Pune         25.110917  25.337833  25.583000  25.748417  25.316167   \n",
              "         Surat        27.029000  26.897250  27.347750  27.230917  27.290583   \n",
              "\n",
              "year                       2005       2006       2007       2008       2009  \\\n",
              "country  city                                                                 \n",
              "Egypt    Alexandria   21.082333  21.148167  21.507750  21.739000  21.670500   \n",
              "         Cairo        22.006500  22.050000  22.361000  22.644500  22.625000   \n",
              "         Gizeh        22.006500  22.050000  22.361000  22.644500  22.625000   \n",
              "Ethiopia Addis Abeba  18.312833  18.427083  18.142583  18.165000  18.765333   \n",
              "France   Paris        11.552917  11.788500  11.750833  11.278250  11.464083   \n",
              "Germany  Berlin        9.919083  10.545333  10.883167  10.657750  10.062500   \n",
              "India    Ahmadabad    26.828083  27.282833  27.511167  27.048500  28.095833   \n",
              "         Bangalore    25.476500  25.418250  25.464333  25.352583  25.725750   \n",
              "         Bombay       27.035750  27.381500  27.634667  27.177750  27.844500   \n",
              "         Calcutta     26.729167  26.986250  26.584583  26.522333  27.153250   \n",
              "         Delhi        25.716083  26.365917  26.145667  25.675000  26.554250   \n",
              "         Hyderabad    27.488833  27.471000  27.545333  27.446667  28.026500   \n",
              "         Jaipur       25.772250  26.429833  26.267000  25.877583  26.919500   \n",
              "         Kanpur       25.621500  25.848833  25.436083  25.109750  25.987083   \n",
              "         Lakhnau      25.621500  25.848833  25.436083  25.109750  25.987083   \n",
              "         Madras       29.099417  29.073250  28.970167  29.024083  29.417417   \n",
              "         Nagpur       26.229167  26.374833  26.393667  26.188000  27.138917   \n",
              "         New Delhi    25.716083  26.365917  26.145667  25.675000  26.554250   \n",
              "         Pune         25.085583  25.310167  25.584833  25.230250  25.868250   \n",
              "         Surat        26.724500  27.149417  27.311750  26.828750  27.819833   \n",
              "\n",
              "year                       2010       2011       2012       2013  \n",
              "country  city                                                     \n",
              "Egypt    Alexandria   22.459583  21.181500  21.552583  21.438500  \n",
              "         Cairo        23.718250  21.986917  22.484250  22.907000  \n",
              "         Gizeh        23.718250  21.986917  22.484250  22.907000  \n",
              "Ethiopia Addis Abeba  18.298250  18.606750  18.448583  19.539000  \n",
              "France   Paris        10.409833  12.325750  11.219917  11.011625  \n",
              "Germany  Berlin        8.606833  10.556417   9.964333  10.121500  \n",
              "India    Ahmadabad    28.017833  27.290417  27.027250  27.608625  \n",
              "         Bangalore    25.705250  25.362083  26.042333  26.610500  \n",
              "         Bombay       27.765417  27.384917  27.192500  26.713000  \n",
              "         Calcutta     27.288833  26.406917  26.935083  27.369250  \n",
              "         Delhi        26.520250  25.629500  25.889417  26.709250  \n",
              "         Hyderabad    27.693417  27.408833  28.018583  28.851250  \n",
              "         Jaipur       26.818417  25.916500  25.884500  26.844125  \n",
              "         Kanpur       26.021750  25.062083  25.445417  26.121250  \n",
              "         Lakhnau      26.021750  25.062083  25.445417  26.121250  \n",
              "         Madras       29.047333  29.063167  29.778417  30.411750  \n",
              "         Nagpur       26.927000  26.004667  26.327917  27.112375  \n",
              "         New Delhi    26.520250  25.629500  25.889417  26.709250  \n",
              "         Pune         25.749167  25.161417  25.296833  25.847625  \n",
              "         Surat        27.681667  27.016583  26.889250  27.437750  "
            ],
            "text/html": [
              "\n",
              "  <div id=\"df-33d0093b-3735-4175-adf2-29b244985357\">\n",
              "    <div class=\"colab-df-container\">\n",
              "      <div>\n",
              "<style scoped>\n",
              "    .dataframe tbody tr th:only-of-type {\n",
              "        vertical-align: middle;\n",
              "    }\n",
              "\n",
              "    .dataframe tbody tr th {\n",
              "        vertical-align: top;\n",
              "    }\n",
              "\n",
              "    .dataframe thead th {\n",
              "        text-align: right;\n",
              "    }\n",
              "</style>\n",
              "<table border=\"1\" class=\"dataframe\">\n",
              "  <thead>\n",
              "    <tr style=\"text-align: right;\">\n",
              "      <th></th>\n",
              "      <th>year</th>\n",
              "      <th>2000</th>\n",
              "      <th>2001</th>\n",
              "      <th>2002</th>\n",
              "      <th>2003</th>\n",
              "      <th>2004</th>\n",
              "      <th>2005</th>\n",
              "      <th>2006</th>\n",
              "      <th>2007</th>\n",
              "      <th>2008</th>\n",
              "      <th>2009</th>\n",
              "      <th>2010</th>\n",
              "      <th>2011</th>\n",
              "      <th>2012</th>\n",
              "      <th>2013</th>\n",
              "    </tr>\n",
              "    <tr>\n",
              "      <th>country</th>\n",
              "      <th>city</th>\n",
              "      <th></th>\n",
              "      <th></th>\n",
              "      <th></th>\n",
              "      <th></th>\n",
              "      <th></th>\n",
              "      <th></th>\n",
              "      <th></th>\n",
              "      <th></th>\n",
              "      <th></th>\n",
              "      <th></th>\n",
              "      <th></th>\n",
              "      <th></th>\n",
              "      <th></th>\n",
              "      <th></th>\n",
              "    </tr>\n",
              "  </thead>\n",
              "  <tbody>\n",
              "    <tr>\n",
              "      <th rowspan=\"3\" valign=\"top\">Egypt</th>\n",
              "      <th>Alexandria</th>\n",
              "      <td>20.744500</td>\n",
              "      <td>21.454583</td>\n",
              "      <td>21.456167</td>\n",
              "      <td>21.221417</td>\n",
              "      <td>21.064167</td>\n",
              "      <td>21.082333</td>\n",
              "      <td>21.148167</td>\n",
              "      <td>21.507750</td>\n",
              "      <td>21.739000</td>\n",
              "      <td>21.670500</td>\n",
              "      <td>22.459583</td>\n",
              "      <td>21.181500</td>\n",
              "      <td>21.552583</td>\n",
              "      <td>21.438500</td>\n",
              "    </tr>\n",
              "    <tr>\n",
              "      <th>Cairo</th>\n",
              "      <td>21.486167</td>\n",
              "      <td>22.330833</td>\n",
              "      <td>22.414083</td>\n",
              "      <td>22.170500</td>\n",
              "      <td>22.081917</td>\n",
              "      <td>22.006500</td>\n",
              "      <td>22.050000</td>\n",
              "      <td>22.361000</td>\n",
              "      <td>22.644500</td>\n",
              "      <td>22.625000</td>\n",
              "      <td>23.718250</td>\n",
              "      <td>21.986917</td>\n",
              "      <td>22.484250</td>\n",
              "      <td>22.907000</td>\n",
              "    </tr>\n",
              "    <tr>\n",
              "      <th>Gizeh</th>\n",
              "      <td>21.486167</td>\n",
              "      <td>22.330833</td>\n",
              "      <td>22.414083</td>\n",
              "      <td>22.170500</td>\n",
              "      <td>22.081917</td>\n",
              "      <td>22.006500</td>\n",
              "      <td>22.050000</td>\n",
              "      <td>22.361000</td>\n",
              "      <td>22.644500</td>\n",
              "      <td>22.625000</td>\n",
              "      <td>23.718250</td>\n",
              "      <td>21.986917</td>\n",
              "      <td>22.484250</td>\n",
              "      <td>22.907000</td>\n",
              "    </tr>\n",
              "    <tr>\n",
              "      <th>Ethiopia</th>\n",
              "      <th>Addis Abeba</th>\n",
              "      <td>18.241250</td>\n",
              "      <td>18.296417</td>\n",
              "      <td>18.469750</td>\n",
              "      <td>18.320917</td>\n",
              "      <td>18.292750</td>\n",
              "      <td>18.312833</td>\n",
              "      <td>18.427083</td>\n",
              "      <td>18.142583</td>\n",
              "      <td>18.165000</td>\n",
              "      <td>18.765333</td>\n",
              "      <td>18.298250</td>\n",
              "      <td>18.606750</td>\n",
              "      <td>18.448583</td>\n",
              "      <td>19.539000</td>\n",
              "    </tr>\n",
              "    <tr>\n",
              "      <th>France</th>\n",
              "      <th>Paris</th>\n",
              "      <td>11.739667</td>\n",
              "      <td>11.371250</td>\n",
              "      <td>11.871333</td>\n",
              "      <td>11.909500</td>\n",
              "      <td>11.338833</td>\n",
              "      <td>11.552917</td>\n",
              "      <td>11.788500</td>\n",
              "      <td>11.750833</td>\n",
              "      <td>11.278250</td>\n",
              "      <td>11.464083</td>\n",
              "      <td>10.409833</td>\n",
              "      <td>12.325750</td>\n",
              "      <td>11.219917</td>\n",
              "      <td>11.011625</td>\n",
              "    </tr>\n",
              "    <tr>\n",
              "      <th>Germany</th>\n",
              "      <th>Berlin</th>\n",
              "      <td>10.963667</td>\n",
              "      <td>9.690250</td>\n",
              "      <td>10.264417</td>\n",
              "      <td>10.065750</td>\n",
              "      <td>9.822583</td>\n",
              "      <td>9.919083</td>\n",
              "      <td>10.545333</td>\n",
              "      <td>10.883167</td>\n",
              "      <td>10.657750</td>\n",
              "      <td>10.062500</td>\n",
              "      <td>8.606833</td>\n",
              "      <td>10.556417</td>\n",
              "      <td>9.964333</td>\n",
              "      <td>10.121500</td>\n",
              "    </tr>\n",
              "    <tr>\n",
              "      <th rowspan=\"14\" valign=\"top\">India</th>\n",
              "      <th>Ahmadabad</th>\n",
              "      <td>27.436000</td>\n",
              "      <td>27.198083</td>\n",
              "      <td>27.719083</td>\n",
              "      <td>27.403833</td>\n",
              "      <td>27.628333</td>\n",
              "      <td>26.828083</td>\n",
              "      <td>27.282833</td>\n",
              "      <td>27.511167</td>\n",
              "      <td>27.048500</td>\n",
              "      <td>28.095833</td>\n",
              "      <td>28.017833</td>\n",
              "      <td>27.290417</td>\n",
              "      <td>27.027250</td>\n",
              "      <td>27.608625</td>\n",
              "    </tr>\n",
              "    <tr>\n",
              "      <th>Bangalore</th>\n",
              "      <td>25.337917</td>\n",
              "      <td>25.528167</td>\n",
              "      <td>25.755333</td>\n",
              "      <td>25.924750</td>\n",
              "      <td>25.252083</td>\n",
              "      <td>25.476500</td>\n",
              "      <td>25.418250</td>\n",
              "      <td>25.464333</td>\n",
              "      <td>25.352583</td>\n",
              "      <td>25.725750</td>\n",
              "      <td>25.705250</td>\n",
              "      <td>25.362083</td>\n",
              "      <td>26.042333</td>\n",
              "      <td>26.610500</td>\n",
              "    </tr>\n",
              "    <tr>\n",
              "      <th>Bombay</th>\n",
              "      <td>27.203667</td>\n",
              "      <td>27.243667</td>\n",
              "      <td>27.628667</td>\n",
              "      <td>27.578417</td>\n",
              "      <td>27.318750</td>\n",
              "      <td>27.035750</td>\n",
              "      <td>27.381500</td>\n",
              "      <td>27.634667</td>\n",
              "      <td>27.177750</td>\n",
              "      <td>27.844500</td>\n",
              "      <td>27.765417</td>\n",
              "      <td>27.384917</td>\n",
              "      <td>27.192500</td>\n",
              "      <td>26.713000</td>\n",
              "    </tr>\n",
              "    <tr>\n",
              "      <th>Calcutta</th>\n",
              "      <td>26.491333</td>\n",
              "      <td>26.515167</td>\n",
              "      <td>26.703917</td>\n",
              "      <td>26.561333</td>\n",
              "      <td>26.634333</td>\n",
              "      <td>26.729167</td>\n",
              "      <td>26.986250</td>\n",
              "      <td>26.584583</td>\n",
              "      <td>26.522333</td>\n",
              "      <td>27.153250</td>\n",
              "      <td>27.288833</td>\n",
              "      <td>26.406917</td>\n",
              "      <td>26.935083</td>\n",
              "      <td>27.369250</td>\n",
              "    </tr>\n",
              "    <tr>\n",
              "      <th>Delhi</th>\n",
              "      <td>26.048333</td>\n",
              "      <td>25.862917</td>\n",
              "      <td>26.634333</td>\n",
              "      <td>25.721083</td>\n",
              "      <td>26.239917</td>\n",
              "      <td>25.716083</td>\n",
              "      <td>26.365917</td>\n",
              "      <td>26.145667</td>\n",
              "      <td>25.675000</td>\n",
              "      <td>26.554250</td>\n",
              "      <td>26.520250</td>\n",
              "      <td>25.629500</td>\n",
              "      <td>25.889417</td>\n",
              "      <td>26.709250</td>\n",
              "    </tr>\n",
              "    <tr>\n",
              "      <th>Hyderabad</th>\n",
              "      <td>27.231833</td>\n",
              "      <td>27.555167</td>\n",
              "      <td>27.665167</td>\n",
              "      <td>27.844583</td>\n",
              "      <td>27.228500</td>\n",
              "      <td>27.488833</td>\n",
              "      <td>27.471000</td>\n",
              "      <td>27.545333</td>\n",
              "      <td>27.446667</td>\n",
              "      <td>28.026500</td>\n",
              "      <td>27.693417</td>\n",
              "      <td>27.408833</td>\n",
              "      <td>28.018583</td>\n",
              "      <td>28.851250</td>\n",
              "    </tr>\n",
              "    <tr>\n",
              "      <th>Jaipur</th>\n",
              "      <td>26.430250</td>\n",
              "      <td>26.023000</td>\n",
              "      <td>27.031667</td>\n",
              "      <td>26.027417</td>\n",
              "      <td>26.642167</td>\n",
              "      <td>25.772250</td>\n",
              "      <td>26.429833</td>\n",
              "      <td>26.267000</td>\n",
              "      <td>25.877583</td>\n",
              "      <td>26.919500</td>\n",
              "      <td>26.818417</td>\n",
              "      <td>25.916500</td>\n",
              "      <td>25.884500</td>\n",
              "      <td>26.844125</td>\n",
              "    </tr>\n",
              "    <tr>\n",
              "      <th>Kanpur</th>\n",
              "      <td>25.353917</td>\n",
              "      <td>25.326500</td>\n",
              "      <td>26.116833</td>\n",
              "      <td>25.409083</td>\n",
              "      <td>25.586500</td>\n",
              "      <td>25.621500</td>\n",
              "      <td>25.848833</td>\n",
              "      <td>25.436083</td>\n",
              "      <td>25.109750</td>\n",
              "      <td>25.987083</td>\n",
              "      <td>26.021750</td>\n",
              "      <td>25.062083</td>\n",
              "      <td>25.445417</td>\n",
              "      <td>26.121250</td>\n",
              "    </tr>\n",
              "    <tr>\n",
              "      <th>Lakhnau</th>\n",
              "      <td>25.353917</td>\n",
              "      <td>25.326500</td>\n",
              "      <td>26.116833</td>\n",
              "      <td>25.409083</td>\n",
              "      <td>25.586500</td>\n",
              "      <td>25.621500</td>\n",
              "      <td>25.848833</td>\n",
              "      <td>25.436083</td>\n",
              "      <td>25.109750</td>\n",
              "      <td>25.987083</td>\n",
              "      <td>26.021750</td>\n",
              "      <td>25.062083</td>\n",
              "      <td>25.445417</td>\n",
              "      <td>26.121250</td>\n",
              "    </tr>\n",
              "    <tr>\n",
              "      <th>Madras</th>\n",
              "      <td>28.811667</td>\n",
              "      <td>29.162917</td>\n",
              "      <td>29.246500</td>\n",
              "      <td>29.273083</td>\n",
              "      <td>28.810917</td>\n",
              "      <td>29.099417</td>\n",
              "      <td>29.073250</td>\n",
              "      <td>28.970167</td>\n",
              "      <td>29.024083</td>\n",
              "      <td>29.417417</td>\n",
              "      <td>29.047333</td>\n",
              "      <td>29.063167</td>\n",
              "      <td>29.778417</td>\n",
              "      <td>30.411750</td>\n",
              "    </tr>\n",
              "    <tr>\n",
              "      <th>Nagpur</th>\n",
              "      <td>26.181417</td>\n",
              "      <td>26.321667</td>\n",
              "      <td>26.753000</td>\n",
              "      <td>26.503833</td>\n",
              "      <td>26.406333</td>\n",
              "      <td>26.229167</td>\n",
              "      <td>26.374833</td>\n",
              "      <td>26.393667</td>\n",
              "      <td>26.188000</td>\n",
              "      <td>27.138917</td>\n",
              "      <td>26.927000</td>\n",
              "      <td>26.004667</td>\n",
              "      <td>26.327917</td>\n",
              "      <td>27.112375</td>\n",
              "    </tr>\n",
              "    <tr>\n",
              "      <th>New Delhi</th>\n",
              "      <td>26.048333</td>\n",
              "      <td>25.862917</td>\n",
              "      <td>26.634333</td>\n",
              "      <td>25.721083</td>\n",
              "      <td>26.239917</td>\n",
              "      <td>25.716083</td>\n",
              "      <td>26.365917</td>\n",
              "      <td>26.145667</td>\n",
              "      <td>25.675000</td>\n",
              "      <td>26.554250</td>\n",
              "      <td>26.520250</td>\n",
              "      <td>25.629500</td>\n",
              "      <td>25.889417</td>\n",
              "      <td>26.709250</td>\n",
              "    </tr>\n",
              "    <tr>\n",
              "      <th>Pune</th>\n",
              "      <td>25.110917</td>\n",
              "      <td>25.337833</td>\n",
              "      <td>25.583000</td>\n",
              "      <td>25.748417</td>\n",
              "      <td>25.316167</td>\n",
              "      <td>25.085583</td>\n",
              "      <td>25.310167</td>\n",
              "      <td>25.584833</td>\n",
              "      <td>25.230250</td>\n",
              "      <td>25.868250</td>\n",
              "      <td>25.749167</td>\n",
              "      <td>25.161417</td>\n",
              "      <td>25.296833</td>\n",
              "      <td>25.847625</td>\n",
              "    </tr>\n",
              "    <tr>\n",
              "      <th>Surat</th>\n",
              "      <td>27.029000</td>\n",
              "      <td>26.897250</td>\n",
              "      <td>27.347750</td>\n",
              "      <td>27.230917</td>\n",
              "      <td>27.290583</td>\n",
              "      <td>26.724500</td>\n",
              "      <td>27.149417</td>\n",
              "      <td>27.311750</td>\n",
              "      <td>26.828750</td>\n",
              "      <td>27.819833</td>\n",
              "      <td>27.681667</td>\n",
              "      <td>27.016583</td>\n",
              "      <td>26.889250</td>\n",
              "      <td>27.437750</td>\n",
              "    </tr>\n",
              "  </tbody>\n",
              "</table>\n",
              "</div>\n",
              "      <button class=\"colab-df-convert\" onclick=\"convertToInteractive('df-33d0093b-3735-4175-adf2-29b244985357')\"\n",
              "              title=\"Convert this dataframe to an interactive table.\"\n",
              "              style=\"display:none;\">\n",
              "        \n",
              "  <svg xmlns=\"http://www.w3.org/2000/svg\" height=\"24px\"viewBox=\"0 0 24 24\"\n",
              "       width=\"24px\">\n",
              "    <path d=\"M0 0h24v24H0V0z\" fill=\"none\"/>\n",
              "    <path d=\"M18.56 5.44l.94 2.06.94-2.06 2.06-.94-2.06-.94-.94-2.06-.94 2.06-2.06.94zm-11 1L8.5 8.5l.94-2.06 2.06-.94-2.06-.94L8.5 2.5l-.94 2.06-2.06.94zm10 10l.94 2.06.94-2.06 2.06-.94-2.06-.94-.94-2.06-.94 2.06-2.06.94z\"/><path d=\"M17.41 7.96l-1.37-1.37c-.4-.4-.92-.59-1.43-.59-.52 0-1.04.2-1.43.59L10.3 9.45l-7.72 7.72c-.78.78-.78 2.05 0 2.83L4 21.41c.39.39.9.59 1.41.59.51 0 1.02-.2 1.41-.59l7.78-7.78 2.81-2.81c.8-.78.8-2.07 0-2.86zM5.41 20L4 18.59l7.72-7.72 1.47 1.35L5.41 20z\"/>\n",
              "  </svg>\n",
              "      </button>\n",
              "      \n",
              "  <style>\n",
              "    .colab-df-container {\n",
              "      display:flex;\n",
              "      flex-wrap:wrap;\n",
              "      gap: 12px;\n",
              "    }\n",
              "\n",
              "    .colab-df-convert {\n",
              "      background-color: #E8F0FE;\n",
              "      border: none;\n",
              "      border-radius: 50%;\n",
              "      cursor: pointer;\n",
              "      display: none;\n",
              "      fill: #1967D2;\n",
              "      height: 32px;\n",
              "      padding: 0 0 0 0;\n",
              "      width: 32px;\n",
              "    }\n",
              "\n",
              "    .colab-df-convert:hover {\n",
              "      background-color: #E2EBFA;\n",
              "      box-shadow: 0px 1px 2px rgba(60, 64, 67, 0.3), 0px 1px 3px 1px rgba(60, 64, 67, 0.15);\n",
              "      fill: #174EA6;\n",
              "    }\n",
              "\n",
              "    [theme=dark] .colab-df-convert {\n",
              "      background-color: #3B4455;\n",
              "      fill: #D2E3FC;\n",
              "    }\n",
              "\n",
              "    [theme=dark] .colab-df-convert:hover {\n",
              "      background-color: #434B5C;\n",
              "      box-shadow: 0px 1px 3px 1px rgba(0, 0, 0, 0.15);\n",
              "      filter: drop-shadow(0px 1px 2px rgba(0, 0, 0, 0.3));\n",
              "      fill: #FFFFFF;\n",
              "    }\n",
              "  </style>\n",
              "\n",
              "      <script>\n",
              "        const buttonEl =\n",
              "          document.querySelector('#df-33d0093b-3735-4175-adf2-29b244985357 button.colab-df-convert');\n",
              "        buttonEl.style.display =\n",
              "          google.colab.kernel.accessAllowed ? 'block' : 'none';\n",
              "\n",
              "        async function convertToInteractive(key) {\n",
              "          const element = document.querySelector('#df-33d0093b-3735-4175-adf2-29b244985357');\n",
              "          const dataTable =\n",
              "            await google.colab.kernel.invokeFunction('convertToInteractive',\n",
              "                                                     [key], {});\n",
              "          if (!dataTable) return;\n",
              "\n",
              "          const docLinkHtml = 'Like what you see? Visit the ' +\n",
              "            '<a target=\"_blank\" href=https://colab.research.google.com/notebooks/data_table.ipynb>data table notebook</a>'\n",
              "            + ' to learn more about interactive tables.';\n",
              "          element.innerHTML = '';\n",
              "          dataTable['output_type'] = 'display_data';\n",
              "          await google.colab.output.renderOutput(dataTable, element);\n",
              "          const docLink = document.createElement('div');\n",
              "          docLink.innerHTML = docLinkHtml;\n",
              "          element.appendChild(docLink);\n",
              "        }\n",
              "      </script>\n",
              "    </div>\n",
              "  </div>\n",
              "  "
            ]
          },
          "metadata": {},
          "execution_count": 247
        }
      ],
      "source": [
        "# Subset for Egypt to India\n",
        "temp_by_country_city_vs_year.loc[\"Egypt\":\"India\"]\n"
      ]
    },
    {
      "cell_type": "markdown",
      "metadata": {
        "id": "rCGFdYTgn8dR"
      },
      "source": [
        "<li>From Egypt, Cairo to India, Delhi.</li>\n"
      ]
    },
    {
      "cell_type": "code",
      "execution_count": null,
      "metadata": {
        "colab": {
          "base_uri": "https://localhost:8080/",
          "height": 476
        },
        "id": "7ego2T5dn8dR",
        "outputId": "e1518b66-47a0-41dd-ff6a-853c2edab48e"
      },
      "outputs": [
        {
          "output_type": "execute_result",
          "data": {
            "text/plain": [
              "year                       2000       2001       2002       2003       2004  \\\n",
              "country  city                                                                 \n",
              "Egypt    Cairo        21.486167  22.330833  22.414083  22.170500  22.081917   \n",
              "         Gizeh        21.486167  22.330833  22.414083  22.170500  22.081917   \n",
              "Ethiopia Addis Abeba  18.241250  18.296417  18.469750  18.320917  18.292750   \n",
              "France   Paris        11.739667  11.371250  11.871333  11.909500  11.338833   \n",
              "Germany  Berlin       10.963667   9.690250  10.264417  10.065750   9.822583   \n",
              "India    Ahmadabad    27.436000  27.198083  27.719083  27.403833  27.628333   \n",
              "         Bangalore    25.337917  25.528167  25.755333  25.924750  25.252083   \n",
              "         Bombay       27.203667  27.243667  27.628667  27.578417  27.318750   \n",
              "         Calcutta     26.491333  26.515167  26.703917  26.561333  26.634333   \n",
              "         Delhi        26.048333  25.862917  26.634333  25.721083  26.239917   \n",
              "\n",
              "year                       2005       2006       2007       2008       2009  \\\n",
              "country  city                                                                 \n",
              "Egypt    Cairo        22.006500  22.050000  22.361000  22.644500  22.625000   \n",
              "         Gizeh        22.006500  22.050000  22.361000  22.644500  22.625000   \n",
              "Ethiopia Addis Abeba  18.312833  18.427083  18.142583  18.165000  18.765333   \n",
              "France   Paris        11.552917  11.788500  11.750833  11.278250  11.464083   \n",
              "Germany  Berlin        9.919083  10.545333  10.883167  10.657750  10.062500   \n",
              "India    Ahmadabad    26.828083  27.282833  27.511167  27.048500  28.095833   \n",
              "         Bangalore    25.476500  25.418250  25.464333  25.352583  25.725750   \n",
              "         Bombay       27.035750  27.381500  27.634667  27.177750  27.844500   \n",
              "         Calcutta     26.729167  26.986250  26.584583  26.522333  27.153250   \n",
              "         Delhi        25.716083  26.365917  26.145667  25.675000  26.554250   \n",
              "\n",
              "year                       2010       2011       2012       2013  \n",
              "country  city                                                     \n",
              "Egypt    Cairo        23.718250  21.986917  22.484250  22.907000  \n",
              "         Gizeh        23.718250  21.986917  22.484250  22.907000  \n",
              "Ethiopia Addis Abeba  18.298250  18.606750  18.448583  19.539000  \n",
              "France   Paris        10.409833  12.325750  11.219917  11.011625  \n",
              "Germany  Berlin        8.606833  10.556417   9.964333  10.121500  \n",
              "India    Ahmadabad    28.017833  27.290417  27.027250  27.608625  \n",
              "         Bangalore    25.705250  25.362083  26.042333  26.610500  \n",
              "         Bombay       27.765417  27.384917  27.192500  26.713000  \n",
              "         Calcutta     27.288833  26.406917  26.935083  27.369250  \n",
              "         Delhi        26.520250  25.629500  25.889417  26.709250  "
            ],
            "text/html": [
              "\n",
              "  <div id=\"df-0d292a83-cb80-4cd6-88b9-e97bbb22ab81\">\n",
              "    <div class=\"colab-df-container\">\n",
              "      <div>\n",
              "<style scoped>\n",
              "    .dataframe tbody tr th:only-of-type {\n",
              "        vertical-align: middle;\n",
              "    }\n",
              "\n",
              "    .dataframe tbody tr th {\n",
              "        vertical-align: top;\n",
              "    }\n",
              "\n",
              "    .dataframe thead th {\n",
              "        text-align: right;\n",
              "    }\n",
              "</style>\n",
              "<table border=\"1\" class=\"dataframe\">\n",
              "  <thead>\n",
              "    <tr style=\"text-align: right;\">\n",
              "      <th></th>\n",
              "      <th>year</th>\n",
              "      <th>2000</th>\n",
              "      <th>2001</th>\n",
              "      <th>2002</th>\n",
              "      <th>2003</th>\n",
              "      <th>2004</th>\n",
              "      <th>2005</th>\n",
              "      <th>2006</th>\n",
              "      <th>2007</th>\n",
              "      <th>2008</th>\n",
              "      <th>2009</th>\n",
              "      <th>2010</th>\n",
              "      <th>2011</th>\n",
              "      <th>2012</th>\n",
              "      <th>2013</th>\n",
              "    </tr>\n",
              "    <tr>\n",
              "      <th>country</th>\n",
              "      <th>city</th>\n",
              "      <th></th>\n",
              "      <th></th>\n",
              "      <th></th>\n",
              "      <th></th>\n",
              "      <th></th>\n",
              "      <th></th>\n",
              "      <th></th>\n",
              "      <th></th>\n",
              "      <th></th>\n",
              "      <th></th>\n",
              "      <th></th>\n",
              "      <th></th>\n",
              "      <th></th>\n",
              "      <th></th>\n",
              "    </tr>\n",
              "  </thead>\n",
              "  <tbody>\n",
              "    <tr>\n",
              "      <th rowspan=\"2\" valign=\"top\">Egypt</th>\n",
              "      <th>Cairo</th>\n",
              "      <td>21.486167</td>\n",
              "      <td>22.330833</td>\n",
              "      <td>22.414083</td>\n",
              "      <td>22.170500</td>\n",
              "      <td>22.081917</td>\n",
              "      <td>22.006500</td>\n",
              "      <td>22.050000</td>\n",
              "      <td>22.361000</td>\n",
              "      <td>22.644500</td>\n",
              "      <td>22.625000</td>\n",
              "      <td>23.718250</td>\n",
              "      <td>21.986917</td>\n",
              "      <td>22.484250</td>\n",
              "      <td>22.907000</td>\n",
              "    </tr>\n",
              "    <tr>\n",
              "      <th>Gizeh</th>\n",
              "      <td>21.486167</td>\n",
              "      <td>22.330833</td>\n",
              "      <td>22.414083</td>\n",
              "      <td>22.170500</td>\n",
              "      <td>22.081917</td>\n",
              "      <td>22.006500</td>\n",
              "      <td>22.050000</td>\n",
              "      <td>22.361000</td>\n",
              "      <td>22.644500</td>\n",
              "      <td>22.625000</td>\n",
              "      <td>23.718250</td>\n",
              "      <td>21.986917</td>\n",
              "      <td>22.484250</td>\n",
              "      <td>22.907000</td>\n",
              "    </tr>\n",
              "    <tr>\n",
              "      <th>Ethiopia</th>\n",
              "      <th>Addis Abeba</th>\n",
              "      <td>18.241250</td>\n",
              "      <td>18.296417</td>\n",
              "      <td>18.469750</td>\n",
              "      <td>18.320917</td>\n",
              "      <td>18.292750</td>\n",
              "      <td>18.312833</td>\n",
              "      <td>18.427083</td>\n",
              "      <td>18.142583</td>\n",
              "      <td>18.165000</td>\n",
              "      <td>18.765333</td>\n",
              "      <td>18.298250</td>\n",
              "      <td>18.606750</td>\n",
              "      <td>18.448583</td>\n",
              "      <td>19.539000</td>\n",
              "    </tr>\n",
              "    <tr>\n",
              "      <th>France</th>\n",
              "      <th>Paris</th>\n",
              "      <td>11.739667</td>\n",
              "      <td>11.371250</td>\n",
              "      <td>11.871333</td>\n",
              "      <td>11.909500</td>\n",
              "      <td>11.338833</td>\n",
              "      <td>11.552917</td>\n",
              "      <td>11.788500</td>\n",
              "      <td>11.750833</td>\n",
              "      <td>11.278250</td>\n",
              "      <td>11.464083</td>\n",
              "      <td>10.409833</td>\n",
              "      <td>12.325750</td>\n",
              "      <td>11.219917</td>\n",
              "      <td>11.011625</td>\n",
              "    </tr>\n",
              "    <tr>\n",
              "      <th>Germany</th>\n",
              "      <th>Berlin</th>\n",
              "      <td>10.963667</td>\n",
              "      <td>9.690250</td>\n",
              "      <td>10.264417</td>\n",
              "      <td>10.065750</td>\n",
              "      <td>9.822583</td>\n",
              "      <td>9.919083</td>\n",
              "      <td>10.545333</td>\n",
              "      <td>10.883167</td>\n",
              "      <td>10.657750</td>\n",
              "      <td>10.062500</td>\n",
              "      <td>8.606833</td>\n",
              "      <td>10.556417</td>\n",
              "      <td>9.964333</td>\n",
              "      <td>10.121500</td>\n",
              "    </tr>\n",
              "    <tr>\n",
              "      <th rowspan=\"5\" valign=\"top\">India</th>\n",
              "      <th>Ahmadabad</th>\n",
              "      <td>27.436000</td>\n",
              "      <td>27.198083</td>\n",
              "      <td>27.719083</td>\n",
              "      <td>27.403833</td>\n",
              "      <td>27.628333</td>\n",
              "      <td>26.828083</td>\n",
              "      <td>27.282833</td>\n",
              "      <td>27.511167</td>\n",
              "      <td>27.048500</td>\n",
              "      <td>28.095833</td>\n",
              "      <td>28.017833</td>\n",
              "      <td>27.290417</td>\n",
              "      <td>27.027250</td>\n",
              "      <td>27.608625</td>\n",
              "    </tr>\n",
              "    <tr>\n",
              "      <th>Bangalore</th>\n",
              "      <td>25.337917</td>\n",
              "      <td>25.528167</td>\n",
              "      <td>25.755333</td>\n",
              "      <td>25.924750</td>\n",
              "      <td>25.252083</td>\n",
              "      <td>25.476500</td>\n",
              "      <td>25.418250</td>\n",
              "      <td>25.464333</td>\n",
              "      <td>25.352583</td>\n",
              "      <td>25.725750</td>\n",
              "      <td>25.705250</td>\n",
              "      <td>25.362083</td>\n",
              "      <td>26.042333</td>\n",
              "      <td>26.610500</td>\n",
              "    </tr>\n",
              "    <tr>\n",
              "      <th>Bombay</th>\n",
              "      <td>27.203667</td>\n",
              "      <td>27.243667</td>\n",
              "      <td>27.628667</td>\n",
              "      <td>27.578417</td>\n",
              "      <td>27.318750</td>\n",
              "      <td>27.035750</td>\n",
              "      <td>27.381500</td>\n",
              "      <td>27.634667</td>\n",
              "      <td>27.177750</td>\n",
              "      <td>27.844500</td>\n",
              "      <td>27.765417</td>\n",
              "      <td>27.384917</td>\n",
              "      <td>27.192500</td>\n",
              "      <td>26.713000</td>\n",
              "    </tr>\n",
              "    <tr>\n",
              "      <th>Calcutta</th>\n",
              "      <td>26.491333</td>\n",
              "      <td>26.515167</td>\n",
              "      <td>26.703917</td>\n",
              "      <td>26.561333</td>\n",
              "      <td>26.634333</td>\n",
              "      <td>26.729167</td>\n",
              "      <td>26.986250</td>\n",
              "      <td>26.584583</td>\n",
              "      <td>26.522333</td>\n",
              "      <td>27.153250</td>\n",
              "      <td>27.288833</td>\n",
              "      <td>26.406917</td>\n",
              "      <td>26.935083</td>\n",
              "      <td>27.369250</td>\n",
              "    </tr>\n",
              "    <tr>\n",
              "      <th>Delhi</th>\n",
              "      <td>26.048333</td>\n",
              "      <td>25.862917</td>\n",
              "      <td>26.634333</td>\n",
              "      <td>25.721083</td>\n",
              "      <td>26.239917</td>\n",
              "      <td>25.716083</td>\n",
              "      <td>26.365917</td>\n",
              "      <td>26.145667</td>\n",
              "      <td>25.675000</td>\n",
              "      <td>26.554250</td>\n",
              "      <td>26.520250</td>\n",
              "      <td>25.629500</td>\n",
              "      <td>25.889417</td>\n",
              "      <td>26.709250</td>\n",
              "    </tr>\n",
              "  </tbody>\n",
              "</table>\n",
              "</div>\n",
              "      <button class=\"colab-df-convert\" onclick=\"convertToInteractive('df-0d292a83-cb80-4cd6-88b9-e97bbb22ab81')\"\n",
              "              title=\"Convert this dataframe to an interactive table.\"\n",
              "              style=\"display:none;\">\n",
              "        \n",
              "  <svg xmlns=\"http://www.w3.org/2000/svg\" height=\"24px\"viewBox=\"0 0 24 24\"\n",
              "       width=\"24px\">\n",
              "    <path d=\"M0 0h24v24H0V0z\" fill=\"none\"/>\n",
              "    <path d=\"M18.56 5.44l.94 2.06.94-2.06 2.06-.94-2.06-.94-.94-2.06-.94 2.06-2.06.94zm-11 1L8.5 8.5l.94-2.06 2.06-.94-2.06-.94L8.5 2.5l-.94 2.06-2.06.94zm10 10l.94 2.06.94-2.06 2.06-.94-2.06-.94-.94-2.06-.94 2.06-2.06.94z\"/><path d=\"M17.41 7.96l-1.37-1.37c-.4-.4-.92-.59-1.43-.59-.52 0-1.04.2-1.43.59L10.3 9.45l-7.72 7.72c-.78.78-.78 2.05 0 2.83L4 21.41c.39.39.9.59 1.41.59.51 0 1.02-.2 1.41-.59l7.78-7.78 2.81-2.81c.8-.78.8-2.07 0-2.86zM5.41 20L4 18.59l7.72-7.72 1.47 1.35L5.41 20z\"/>\n",
              "  </svg>\n",
              "      </button>\n",
              "      \n",
              "  <style>\n",
              "    .colab-df-container {\n",
              "      display:flex;\n",
              "      flex-wrap:wrap;\n",
              "      gap: 12px;\n",
              "    }\n",
              "\n",
              "    .colab-df-convert {\n",
              "      background-color: #E8F0FE;\n",
              "      border: none;\n",
              "      border-radius: 50%;\n",
              "      cursor: pointer;\n",
              "      display: none;\n",
              "      fill: #1967D2;\n",
              "      height: 32px;\n",
              "      padding: 0 0 0 0;\n",
              "      width: 32px;\n",
              "    }\n",
              "\n",
              "    .colab-df-convert:hover {\n",
              "      background-color: #E2EBFA;\n",
              "      box-shadow: 0px 1px 2px rgba(60, 64, 67, 0.3), 0px 1px 3px 1px rgba(60, 64, 67, 0.15);\n",
              "      fill: #174EA6;\n",
              "    }\n",
              "\n",
              "    [theme=dark] .colab-df-convert {\n",
              "      background-color: #3B4455;\n",
              "      fill: #D2E3FC;\n",
              "    }\n",
              "\n",
              "    [theme=dark] .colab-df-convert:hover {\n",
              "      background-color: #434B5C;\n",
              "      box-shadow: 0px 1px 3px 1px rgba(0, 0, 0, 0.15);\n",
              "      filter: drop-shadow(0px 1px 2px rgba(0, 0, 0, 0.3));\n",
              "      fill: #FFFFFF;\n",
              "    }\n",
              "  </style>\n",
              "\n",
              "      <script>\n",
              "        const buttonEl =\n",
              "          document.querySelector('#df-0d292a83-cb80-4cd6-88b9-e97bbb22ab81 button.colab-df-convert');\n",
              "        buttonEl.style.display =\n",
              "          google.colab.kernel.accessAllowed ? 'block' : 'none';\n",
              "\n",
              "        async function convertToInteractive(key) {\n",
              "          const element = document.querySelector('#df-0d292a83-cb80-4cd6-88b9-e97bbb22ab81');\n",
              "          const dataTable =\n",
              "            await google.colab.kernel.invokeFunction('convertToInteractive',\n",
              "                                                     [key], {});\n",
              "          if (!dataTable) return;\n",
              "\n",
              "          const docLinkHtml = 'Like what you see? Visit the ' +\n",
              "            '<a target=\"_blank\" href=https://colab.research.google.com/notebooks/data_table.ipynb>data table notebook</a>'\n",
              "            + ' to learn more about interactive tables.';\n",
              "          element.innerHTML = '';\n",
              "          dataTable['output_type'] = 'display_data';\n",
              "          await google.colab.output.renderOutput(dataTable, element);\n",
              "          const docLink = document.createElement('div');\n",
              "          docLink.innerHTML = docLinkHtml;\n",
              "          element.appendChild(docLink);\n",
              "        }\n",
              "      </script>\n",
              "    </div>\n",
              "  </div>\n",
              "  "
            ]
          },
          "metadata": {},
          "execution_count": 248
        }
      ],
      "source": [
        "# Subset for Egypt, Cairo to India, Delhi\n",
        "temp_by_country_city_vs_year.loc[(\"Egypt\", \"Cairo\"):(\"India\", \"Delhi\")]\n"
      ]
    },
    {
      "cell_type": "markdown",
      "metadata": {
        "id": "jXkvM7b_n8dR"
      },
      "source": [
        "<li>From Egypt, Cairo to India, Delhi, and 2005 to 2010.</li>\n"
      ]
    },
    {
      "cell_type": "code",
      "execution_count": null,
      "metadata": {
        "colab": {
          "base_uri": "https://localhost:8080/",
          "height": 394
        },
        "id": "2gxc1fZOn8dR",
        "outputId": "3f083c4a-fc7c-4a99-9d7f-d66d0353c755"
      },
      "outputs": [
        {
          "output_type": "execute_result",
          "data": {
            "text/plain": [
              "year                       2005       2006       2007       2008       2009  \\\n",
              "country  city                                                                 \n",
              "Egypt    Cairo        22.006500  22.050000  22.361000  22.644500  22.625000   \n",
              "         Gizeh        22.006500  22.050000  22.361000  22.644500  22.625000   \n",
              "Ethiopia Addis Abeba  18.312833  18.427083  18.142583  18.165000  18.765333   \n",
              "France   Paris        11.552917  11.788500  11.750833  11.278250  11.464083   \n",
              "Germany  Berlin        9.919083  10.545333  10.883167  10.657750  10.062500   \n",
              "India    Ahmadabad    26.828083  27.282833  27.511167  27.048500  28.095833   \n",
              "         Bangalore    25.476500  25.418250  25.464333  25.352583  25.725750   \n",
              "         Bombay       27.035750  27.381500  27.634667  27.177750  27.844500   \n",
              "         Calcutta     26.729167  26.986250  26.584583  26.522333  27.153250   \n",
              "         Delhi        25.716083  26.365917  26.145667  25.675000  26.554250   \n",
              "\n",
              "year                       2010  \n",
              "country  city                    \n",
              "Egypt    Cairo        23.718250  \n",
              "         Gizeh        23.718250  \n",
              "Ethiopia Addis Abeba  18.298250  \n",
              "France   Paris        10.409833  \n",
              "Germany  Berlin        8.606833  \n",
              "India    Ahmadabad    28.017833  \n",
              "         Bangalore    25.705250  \n",
              "         Bombay       27.765417  \n",
              "         Calcutta     27.288833  \n",
              "         Delhi        26.520250  "
            ],
            "text/html": [
              "\n",
              "  <div id=\"df-2ff01bf4-5f63-4c50-9fb5-0857c43da9c4\">\n",
              "    <div class=\"colab-df-container\">\n",
              "      <div>\n",
              "<style scoped>\n",
              "    .dataframe tbody tr th:only-of-type {\n",
              "        vertical-align: middle;\n",
              "    }\n",
              "\n",
              "    .dataframe tbody tr th {\n",
              "        vertical-align: top;\n",
              "    }\n",
              "\n",
              "    .dataframe thead th {\n",
              "        text-align: right;\n",
              "    }\n",
              "</style>\n",
              "<table border=\"1\" class=\"dataframe\">\n",
              "  <thead>\n",
              "    <tr style=\"text-align: right;\">\n",
              "      <th></th>\n",
              "      <th>year</th>\n",
              "      <th>2005</th>\n",
              "      <th>2006</th>\n",
              "      <th>2007</th>\n",
              "      <th>2008</th>\n",
              "      <th>2009</th>\n",
              "      <th>2010</th>\n",
              "    </tr>\n",
              "    <tr>\n",
              "      <th>country</th>\n",
              "      <th>city</th>\n",
              "      <th></th>\n",
              "      <th></th>\n",
              "      <th></th>\n",
              "      <th></th>\n",
              "      <th></th>\n",
              "      <th></th>\n",
              "    </tr>\n",
              "  </thead>\n",
              "  <tbody>\n",
              "    <tr>\n",
              "      <th rowspan=\"2\" valign=\"top\">Egypt</th>\n",
              "      <th>Cairo</th>\n",
              "      <td>22.006500</td>\n",
              "      <td>22.050000</td>\n",
              "      <td>22.361000</td>\n",
              "      <td>22.644500</td>\n",
              "      <td>22.625000</td>\n",
              "      <td>23.718250</td>\n",
              "    </tr>\n",
              "    <tr>\n",
              "      <th>Gizeh</th>\n",
              "      <td>22.006500</td>\n",
              "      <td>22.050000</td>\n",
              "      <td>22.361000</td>\n",
              "      <td>22.644500</td>\n",
              "      <td>22.625000</td>\n",
              "      <td>23.718250</td>\n",
              "    </tr>\n",
              "    <tr>\n",
              "      <th>Ethiopia</th>\n",
              "      <th>Addis Abeba</th>\n",
              "      <td>18.312833</td>\n",
              "      <td>18.427083</td>\n",
              "      <td>18.142583</td>\n",
              "      <td>18.165000</td>\n",
              "      <td>18.765333</td>\n",
              "      <td>18.298250</td>\n",
              "    </tr>\n",
              "    <tr>\n",
              "      <th>France</th>\n",
              "      <th>Paris</th>\n",
              "      <td>11.552917</td>\n",
              "      <td>11.788500</td>\n",
              "      <td>11.750833</td>\n",
              "      <td>11.278250</td>\n",
              "      <td>11.464083</td>\n",
              "      <td>10.409833</td>\n",
              "    </tr>\n",
              "    <tr>\n",
              "      <th>Germany</th>\n",
              "      <th>Berlin</th>\n",
              "      <td>9.919083</td>\n",
              "      <td>10.545333</td>\n",
              "      <td>10.883167</td>\n",
              "      <td>10.657750</td>\n",
              "      <td>10.062500</td>\n",
              "      <td>8.606833</td>\n",
              "    </tr>\n",
              "    <tr>\n",
              "      <th rowspan=\"5\" valign=\"top\">India</th>\n",
              "      <th>Ahmadabad</th>\n",
              "      <td>26.828083</td>\n",
              "      <td>27.282833</td>\n",
              "      <td>27.511167</td>\n",
              "      <td>27.048500</td>\n",
              "      <td>28.095833</td>\n",
              "      <td>28.017833</td>\n",
              "    </tr>\n",
              "    <tr>\n",
              "      <th>Bangalore</th>\n",
              "      <td>25.476500</td>\n",
              "      <td>25.418250</td>\n",
              "      <td>25.464333</td>\n",
              "      <td>25.352583</td>\n",
              "      <td>25.725750</td>\n",
              "      <td>25.705250</td>\n",
              "    </tr>\n",
              "    <tr>\n",
              "      <th>Bombay</th>\n",
              "      <td>27.035750</td>\n",
              "      <td>27.381500</td>\n",
              "      <td>27.634667</td>\n",
              "      <td>27.177750</td>\n",
              "      <td>27.844500</td>\n",
              "      <td>27.765417</td>\n",
              "    </tr>\n",
              "    <tr>\n",
              "      <th>Calcutta</th>\n",
              "      <td>26.729167</td>\n",
              "      <td>26.986250</td>\n",
              "      <td>26.584583</td>\n",
              "      <td>26.522333</td>\n",
              "      <td>27.153250</td>\n",
              "      <td>27.288833</td>\n",
              "    </tr>\n",
              "    <tr>\n",
              "      <th>Delhi</th>\n",
              "      <td>25.716083</td>\n",
              "      <td>26.365917</td>\n",
              "      <td>26.145667</td>\n",
              "      <td>25.675000</td>\n",
              "      <td>26.554250</td>\n",
              "      <td>26.520250</td>\n",
              "    </tr>\n",
              "  </tbody>\n",
              "</table>\n",
              "</div>\n",
              "      <button class=\"colab-df-convert\" onclick=\"convertToInteractive('df-2ff01bf4-5f63-4c50-9fb5-0857c43da9c4')\"\n",
              "              title=\"Convert this dataframe to an interactive table.\"\n",
              "              style=\"display:none;\">\n",
              "        \n",
              "  <svg xmlns=\"http://www.w3.org/2000/svg\" height=\"24px\"viewBox=\"0 0 24 24\"\n",
              "       width=\"24px\">\n",
              "    <path d=\"M0 0h24v24H0V0z\" fill=\"none\"/>\n",
              "    <path d=\"M18.56 5.44l.94 2.06.94-2.06 2.06-.94-2.06-.94-.94-2.06-.94 2.06-2.06.94zm-11 1L8.5 8.5l.94-2.06 2.06-.94-2.06-.94L8.5 2.5l-.94 2.06-2.06.94zm10 10l.94 2.06.94-2.06 2.06-.94-2.06-.94-.94-2.06-.94 2.06-2.06.94z\"/><path d=\"M17.41 7.96l-1.37-1.37c-.4-.4-.92-.59-1.43-.59-.52 0-1.04.2-1.43.59L10.3 9.45l-7.72 7.72c-.78.78-.78 2.05 0 2.83L4 21.41c.39.39.9.59 1.41.59.51 0 1.02-.2 1.41-.59l7.78-7.78 2.81-2.81c.8-.78.8-2.07 0-2.86zM5.41 20L4 18.59l7.72-7.72 1.47 1.35L5.41 20z\"/>\n",
              "  </svg>\n",
              "      </button>\n",
              "      \n",
              "  <style>\n",
              "    .colab-df-container {\n",
              "      display:flex;\n",
              "      flex-wrap:wrap;\n",
              "      gap: 12px;\n",
              "    }\n",
              "\n",
              "    .colab-df-convert {\n",
              "      background-color: #E8F0FE;\n",
              "      border: none;\n",
              "      border-radius: 50%;\n",
              "      cursor: pointer;\n",
              "      display: none;\n",
              "      fill: #1967D2;\n",
              "      height: 32px;\n",
              "      padding: 0 0 0 0;\n",
              "      width: 32px;\n",
              "    }\n",
              "\n",
              "    .colab-df-convert:hover {\n",
              "      background-color: #E2EBFA;\n",
              "      box-shadow: 0px 1px 2px rgba(60, 64, 67, 0.3), 0px 1px 3px 1px rgba(60, 64, 67, 0.15);\n",
              "      fill: #174EA6;\n",
              "    }\n",
              "\n",
              "    [theme=dark] .colab-df-convert {\n",
              "      background-color: #3B4455;\n",
              "      fill: #D2E3FC;\n",
              "    }\n",
              "\n",
              "    [theme=dark] .colab-df-convert:hover {\n",
              "      background-color: #434B5C;\n",
              "      box-shadow: 0px 1px 3px 1px rgba(0, 0, 0, 0.15);\n",
              "      filter: drop-shadow(0px 1px 2px rgba(0, 0, 0, 0.3));\n",
              "      fill: #FFFFFF;\n",
              "    }\n",
              "  </style>\n",
              "\n",
              "      <script>\n",
              "        const buttonEl =\n",
              "          document.querySelector('#df-2ff01bf4-5f63-4c50-9fb5-0857c43da9c4 button.colab-df-convert');\n",
              "        buttonEl.style.display =\n",
              "          google.colab.kernel.accessAllowed ? 'block' : 'none';\n",
              "\n",
              "        async function convertToInteractive(key) {\n",
              "          const element = document.querySelector('#df-2ff01bf4-5f63-4c50-9fb5-0857c43da9c4');\n",
              "          const dataTable =\n",
              "            await google.colab.kernel.invokeFunction('convertToInteractive',\n",
              "                                                     [key], {});\n",
              "          if (!dataTable) return;\n",
              "\n",
              "          const docLinkHtml = 'Like what you see? Visit the ' +\n",
              "            '<a target=\"_blank\" href=https://colab.research.google.com/notebooks/data_table.ipynb>data table notebook</a>'\n",
              "            + ' to learn more about interactive tables.';\n",
              "          element.innerHTML = '';\n",
              "          dataTable['output_type'] = 'display_data';\n",
              "          await google.colab.output.renderOutput(dataTable, element);\n",
              "          const docLink = document.createElement('div');\n",
              "          docLink.innerHTML = docLinkHtml;\n",
              "          element.appendChild(docLink);\n",
              "        }\n",
              "      </script>\n",
              "    </div>\n",
              "  </div>\n",
              "  "
            ]
          },
          "metadata": {},
          "execution_count": 249
        }
      ],
      "source": [
        "# Subset for Egypt, Cairo to India, Delhi, and 2005 to 2010\n",
        "temp_by_country_city_vs_year.loc[(\"Egypt\", \"Cairo\"):(\"India\", \"Delhi\"), \"2005\":\"2010\"]\n"
      ]
    },
    {
      "cell_type": "markdown",
      "metadata": {
        "id": "J3SW-69Hn8dR"
      },
      "source": [
        "</div>\n",
        "\n",
        "<p class=\"\">Super pivot table subsetting! Slicing is especially helpful for subsetting pivot tables.</p>\n",
        "\n"
      ]
    },
    {
      "cell_type": "markdown",
      "source": [
        "### Calculating on a pivot table\n",
        "\n",
        "\n",
        "<div class>\n",
        "<p>Pivot tables are filled with summary statistics, but they are only a first step to finding something insightful. Often you'll need to perform further calculations on them. A common thing to do is to find the rows or columns where the highest or lowest value occurs. </p>\n",
        "<p>Recall from Chapter 1 that you can easily subset a Series or DataFrame to find rows of interest using a logical condition inside of square brackets. For example: <code>series[series &gt; value]</code>.</p>\n",
        "<p><code>pandas</code> is loaded as <code>pd</code> and the DataFrame <code>temp_by_country_city_vs_year</code> is available.</p>\n",
        "</div>\n",
        "\n",
        "<li>Calculate the mean temperature for each year, assigning to <code>mean_temp_by_year</code>.</li>\n"
      ],
      "metadata": {
        "id": "kQycbK11pfFO"
      }
    },
    {
      "cell_type": "code",
      "execution_count": null,
      "metadata": {
        "id": "qZFYdNuTn8dR"
      },
      "outputs": [],
      "source": [
        "# Get the worldwide mean temp by year\n",
        "mean_temp_by_year = temp_by_country_city_vs_year.mean()\n"
      ]
    },
    {
      "cell_type": "markdown",
      "metadata": {
        "id": "gp9iULdXn8dS"
      },
      "source": [
        "<li>Filter <code>mean_temp_by_year</code> for the year that had the highest mean temperature.</li>\n"
      ]
    },
    {
      "cell_type": "code",
      "execution_count": null,
      "metadata": {
        "colab": {
          "base_uri": "https://localhost:8080/"
        },
        "id": "GF2d2w2sn8dS",
        "outputId": "9e53e385-41be-4623-f554-4fafc99a27b3"
      },
      "outputs": [
        {
          "output_type": "stream",
          "name": "stdout",
          "text": [
            "year\n",
            "2013    20.312285\n",
            "dtype: float64\n"
          ]
        }
      ],
      "source": [
        "# Filter for the year that had the highest mean temp\n",
        "print(mean_temp_by_year[mean_temp_by_year == mean_temp_by_year.max()])\n"
      ]
    },
    {
      "cell_type": "markdown",
      "metadata": {
        "id": "IXHcgrCqn8dS"
      },
      "source": [
        "<li>Calculate the mean temperature for each city (across columns), assigning to <code>mean_temp_by_city</code>.</li>\n"
      ]
    },
    {
      "cell_type": "code",
      "execution_count": null,
      "metadata": {
        "id": "AP63N36Vn8dS"
      },
      "outputs": [],
      "source": [
        "# Get the mean temp by city\n",
        "mean_temp_by_city = temp_by_country_city_vs_year.mean(axis=\"columns\")\n"
      ]
    },
    {
      "cell_type": "markdown",
      "metadata": {
        "id": "2WLtcdZyn8dS"
      },
      "source": [
        "<li>Filter <code>mean_temp_by_city</code> for the city that had the lowest mean temperature.</li>\n"
      ]
    },
    {
      "cell_type": "code",
      "execution_count": null,
      "metadata": {
        "colab": {
          "base_uri": "https://localhost:8080/"
        },
        "id": "kcUTXxgEn8dS",
        "outputId": "36d09204-2821-4b9c-b066-10d9e607d716"
      },
      "outputs": [
        {
          "output_type": "stream",
          "name": "stdout",
          "text": [
            "country  city  \n",
            "China    Harbin    4.876551\n",
            "dtype: float64\n"
          ]
        }
      ],
      "source": [
        "# Filter for the city that had the lowest mean temp\n",
        "print(mean_temp_by_city[mean_temp_by_city == mean_temp_by_city.min()])\n"
      ]
    },
    {
      "cell_type": "markdown",
      "metadata": {
        "id": "4w4cQV5Tn8dS"
      },
      "source": [
        "<p class=\"\">Classy calculating! With an average temperature just above freezing, Harbin is famous for its ice sculpture festival.</p>\n",
        "\n"
      ]
    },
    {
      "cell_type": "markdown",
      "source": [
        "# Creating and Visualizing DataFrames\n",
        "\n",
        "<p class=\"chapter__description\">\n",
        "    Learn to visualize the contents of your DataFrames, handle missing data values, and import data from and export data to CSV files.\n",
        "  </p>\n",
        "  \n"
      ],
      "metadata": {
        "id": "AaqNVpPepgdb"
      }
    },
    {
      "cell_type": "markdown",
      "source": [
        "## Visualizing your data\n",
        "\n",
        "\n",
        "\n"
      ],
      "metadata": {
        "id": "Stklcs17phMy"
      }
    },
    {
      "cell_type": "markdown",
      "source": [
        "### Which avocado size is most popular?\n",
        "\n",
        "\n",
        "<div class>\n",
        "<p>Avocados are increasingly popular and delicious in guacamole and on toast. The Hass Avocado Board keeps track of avocado supply and demand across the USA, including the sales of three different sizes of avocado. In this exercise, you'll use a bar plot to figure out which size is the most popular.</p>\n",
        "<p>Bar plots are great for revealing relationships between categorical (size) and numeric (number sold) variables, but you'll often have to manipulate your data first in order to get the numbers you need for plotting. </p>\n",
        "<p><code>pandas</code> has been imported as <code>pd</code>, and <code>avocados</code> is available.</p>\n",
        "</div>\n"
      ],
      "metadata": {
        "id": "kiHd4-g3pjMd"
      }
    },
    {
      "cell_type": "code",
      "execution_count": null,
      "metadata": {
        "id": "5oRFKfHYn8dS"
      },
      "outputs": [],
      "source": [
        "# edited by mclix8\n",
        "import urllib.request\n",
        "import pickle\n",
        "\n",
        "avocados = pd.read_pickle(\"https://raw.githubusercontent.com/mclix8/DataCamp/master/Data%20Manipulation%20with%20Python/Data%20Manipulation%20with%20pandas/datasets/avoplotto.pkl\")\n"
      ]
    },
    {
      "cell_type": "markdown",
      "metadata": {
        "id": "6aR79-cNn8dS"
      },
      "source": [
        "<li>Print the head of the <code>avocados</code> dataset. <em>What columns are available?</em>\n",
        "</li>\n"
      ]
    },
    {
      "cell_type": "code",
      "execution_count": null,
      "metadata": {
        "colab": {
          "base_uri": "https://localhost:8080/"
        },
        "id": "glse-rHRn8dS",
        "outputId": "191c2641-ce22-4fb5-b3c0-e442e1ec266f"
      },
      "outputs": [
        {
          "output_type": "stream",
          "name": "stdout",
          "text": [
            "         date          type  year  avg_price   size     nb_sold\n",
            "0  2015-12-27  conventional  2015       0.95  small  9626901.09\n",
            "1  2015-12-20  conventional  2015       0.98  small  8710021.76\n",
            "2  2015-12-13  conventional  2015       0.93  small  9855053.66\n",
            "3  2015-12-06  conventional  2015       0.89  small  9405464.36\n",
            "4  2015-11-29  conventional  2015       0.99  small  8094803.56\n"
          ]
        }
      ],
      "source": [
        "# Import matplotlib.pyplot with alias plt\n",
        "import matplotlib.pyplot as plt\n",
        "\n",
        "# Look at the first few rows of data\n",
        "print(avocados.head())\n"
      ]
    },
    {
      "cell_type": "markdown",
      "metadata": {
        "id": "wu3zJb1hn8dS"
      },
      "source": [
        "<li>For each avocado size group, calculate the total number sold, storing as <code>nb_sold_by_size</code>.</li>\n"
      ]
    },
    {
      "cell_type": "code",
      "execution_count": null,
      "metadata": {
        "id": "b6jr5Zvsn8dT"
      },
      "outputs": [],
      "source": [
        "# Get the total number of avocados sold of each size\n",
        "nb_sold_by_size = avocados.groupby(\"size\")[\"nb_sold\"].sum()\n"
      ]
    },
    {
      "cell_type": "markdown",
      "metadata": {
        "id": "MkQwijBGn8dT"
      },
      "source": [
        "<li>Create a bar plot of the number of avocados sold by size.</li>\n",
        "<li>Show the plot.</li>\n"
      ]
    },
    {
      "cell_type": "code",
      "execution_count": null,
      "metadata": {
        "colab": {
          "base_uri": "https://localhost:8080/",
          "height": 337
        },
        "id": "k0tPkoQMn8dT",
        "outputId": "15bc67e0-963f-4a4b-9705-5695e8dd8fd4"
      },
      "outputs": [
        {
          "output_type": "display_data",
          "data": {
            "text/plain": [
              "<Figure size 432x288 with 1 Axes>"
            ],
            "image/png": "[encoded data removed]"
          },
          "metadata": {
            "needs_background": "light"
          }
        }
      ],
      "source": [
        "# Create a bar plot of the number of avocados sold by size\n",
        "nb_sold_by_size.plot(kind=\"bar\")\n",
        "\n",
        "# Show the plot\n",
        "plt.show()\n"
      ]
    },
    {
      "cell_type": "markdown",
      "metadata": {
        "id": "zvTGSrjrn8dT"
      },
      "source": [
        "<p class=\"\">Bedazzling bar plot! It looks like small avocados were the most-purchased size, but large avocados were a close second.</p>\n",
        "\n"
      ]
    },
    {
      "cell_type": "markdown",
      "source": [
        "### Changes in sales over time\n",
        "\n",
        "\n",
        "<div class>\n",
        "<p>Line plots are designed to visualize the relationship between two numeric variables, where each data values is connected to the next one. They are especially useful for visualizing the change in a number over time since each time point is naturally connected to the next time point. In this exercise, you'll visualize the change in avocado sales over three years.</p>\n",
        "<p><code>pandas</code> has been imported as <code>pd</code>, and <code>avocados</code> is available.</p>\n",
        "</div>\n",
        "\n",
        "<li>Get the total number of avocados sold on each date. <em>The DataFrame has two rows for each date—one for organic, and one for conventional</em>. Save this as <code>nb_sold_by_date</code>.</li>\n"
      ],
      "metadata": {
        "id": "2oUSQlkNpkhe"
      }
    },
    {
      "cell_type": "code",
      "execution_count": null,
      "metadata": {
        "id": "1XDvOBWkn8dT"
      },
      "outputs": [],
      "source": [
        "# Import matplotlib.pyplot with alias plt\n",
        "import matplotlib.pyplot as plt\n",
        "\n",
        "# Get the total number of avocados sold on each date\n",
        "nb_sold_by_date = avocados.groupby(\"date\")[\"nb_sold\"].sum()\n"
      ]
    },
    {
      "cell_type": "markdown",
      "metadata": {
        "id": "Ix1I-4xUn8dT"
      },
      "source": [
        "<li>Create a line plot of the number of avocados sold.</li>\n",
        "<li>Show the plot.</li>\n"
      ]
    },
    {
      "cell_type": "code",
      "execution_count": null,
      "metadata": {
        "colab": {
          "base_uri": "https://localhost:8080/",
          "height": 290
        },
        "id": "-aS1GHxfn8dT",
        "outputId": "75d9b565-7f85-4117-d9e3-254565039c15"
      },
      "outputs": [
        {
          "output_type": "display_data",
          "data": {
            "text/plain": [
              "<Figure size 432x288 with 1 Axes>"
            ],
            "image/png": "[encoded data removed]"
          },
          "metadata": {
            "needs_background": "light"
          }
        }
      ],
      "source": [
        "# Create a line plot of the number of avocados sold by date\n",
        "nb_sold_by_date.plot(kind=\"line\")\n",
        "\n",
        "# Show the plot\n",
        "plt.show()\n"
      ]
    },
    {
      "cell_type": "markdown",
      "metadata": {
        "id": "4HbOQKSZn8dT"
      },
      "source": [
        "<p class=\"\">Lovely line plot! Line plots are great for visualizing something over time. Here, it looks like the number of avocados spikes around the same time each year.</p>\n",
        "\n"
      ]
    },
    {
      "cell_type": "markdown",
      "source": [
        "### Avocado supply and demand\n",
        "\n",
        "\n",
        "<div class>\n",
        "<p>Scatter plots are ideal for visualizing relationships between numerical variables. In this exercise, you'll compare the number of avocados sold to average price and see if they're at all related. If they're related, you may be able to use one number to predict the other.</p>\n",
        "<p><code>matplotlib.pyplot</code> has been imported as <code>plt</code>, <code>pandas</code> has been imported as <code>pd</code>, and <code>avocados</code> is available.</p>\n",
        "</div>\n",
        "\n",
        "<li>Create a scatter plot with <code>nb_sold</code> on the x-axis and <code>avg_price</code> on the y-axis. Title it <code>\"Number of avocados sold vs. average price\"</code>.</li>\n",
        "<li>Show the plot.</li>\n"
      ],
      "metadata": {
        "id": "cFckDkB8pl1i"
      }
    },
    {
      "cell_type": "code",
      "execution_count": null,
      "metadata": {
        "colab": {
          "base_uri": "https://localhost:8080/",
          "height": 296
        },
        "id": "OZW3x0EAn8dT",
        "outputId": "d5586632-2ab9-4b54-faa7-163f51accfd0"
      },
      "outputs": [
        {
          "output_type": "display_data",
          "data": {
            "text/plain": [
              "<Figure size 432x288 with 1 Axes>"
            ],
            "image/png": "[encoded data removed]"
          },
          "metadata": {
            "needs_background": "light"
          }
        }
      ],
      "source": [
        "# Scatter plot of avg_price vs. nb_sold with title\n",
        "avocados.plot(x=\"nb_sold\", y=\"avg_price\", kind=\"scatter\", title=\"Number of avocados sold vs. average price\")\n",
        "\n",
        "# Show the plot\n",
        "plt.show()\n"
      ]
    },
    {
      "cell_type": "markdown",
      "metadata": {
        "id": "omMg-EAhn8dT"
      },
      "source": [
        "<p class=\"\">Super scatter plot! It looks like when more avocados are sold, prices go down. However, this doesn't mean that fewer sales <em>causes</em> higher prices - we can only tell that they're correlated with each other.</p>\n",
        "\n"
      ]
    },
    {
      "cell_type": "markdown",
      "source": [
        "### Price of conventional vs. organic avocados\n",
        "\n",
        "\n",
        "<div class>\n",
        "<p>Creating multiple plots for different subsets of data allows you to compare groups. In this exercise, you'll create multiple histograms to compare the prices of conventional and organic avocados.</p>\n",
        "<p><code>matplotlib.pyplot</code> has been imported as <code>plt</code> and <code>pandas</code> has been imported as <code>pd</code>.</p>\n",
        "</div>\n",
        "\n",
        "<li>Subset <code>avocados</code> for the conventional type, and the average price column. Create a histogram.</li>\n",
        "<li>Create a histogram of <code>avg_price</code> for organic type avocados.</li>\n",
        "<li>Add a legend to your plot, with the names \"conventional\" and \"organic\".</li>\n",
        "<li>Show your plot.</li>\n"
      ],
      "metadata": {
        "id": "_NP4l9jPpnEM"
      }
    },
    {
      "cell_type": "code",
      "execution_count": null,
      "metadata": {
        "colab": {
          "base_uri": "https://localhost:8080/",
          "height": 265
        },
        "id": "uMmu5M1in8dU",
        "outputId": "fdc11770-19a0-4935-d1db-cb0ba4beac98"
      },
      "outputs": [
        {
          "output_type": "display_data",
          "data": {
            "text/plain": [
              "<Figure size 432x288 with 1 Axes>"
            ],
            "image/png": "[encoded data removed]"
          },
          "metadata": {
            "needs_background": "light"
          }
        }
      ],
      "source": [
        "# Histogram of conventional avg_price \n",
        "avocados[avocados[\"type\"] == \"conventional\"][\"avg_price\"].hist()\n",
        "\n",
        "# Histogram of organic avg_price\n",
        "avocados[avocados[\"type\"] == \"organic\"][\"avg_price\"].hist()\n",
        "\n",
        "# Add a legend\n",
        "plt.legend([\"conventional\", \"organic\"])\n",
        "\n",
        "# Show the plot\n",
        "plt.show()\n"
      ]
    },
    {
      "cell_type": "markdown",
      "metadata": {
        "id": "v2BN9vHNn8dU"
      },
      "source": [
        "\n",
        "<li>Modify your code to adjust the transparency of both histograms to <code>0.5</code> to see how much overlap there is between the two distributions.</li>\n"
      ]
    },
    {
      "cell_type": "code",
      "execution_count": null,
      "metadata": {
        "colab": {
          "base_uri": "https://localhost:8080/",
          "height": 265
        },
        "id": "5Nh9ynASn8dU",
        "outputId": "78797858-c2b7-43b8-ec64-64f6b377fd47"
      },
      "outputs": [
        {
          "output_type": "display_data",
          "data": {
            "text/plain": [
              "<Figure size 432x288 with 1 Axes>"
            ],
            "image/png": "[encoded data removed]"
          },
          "metadata": {
            "needs_background": "light"
          }
        }
      ],
      "source": [
        "# Modify histogram transparency to 0.5 \n",
        "avocados[avocados[\"type\"] == \"conventional\"][\"avg_price\"].hist(alpha=0.5)\n",
        "\n",
        "# Modify histogram transparency to 0.5\n",
        "avocados[avocados[\"type\"] == \"organic\"][\"avg_price\"].hist(alpha=0.5)\n",
        "\n",
        "# Add a legend\n",
        "plt.legend([\"conventional\", \"organic\"])\n",
        "\n",
        "# Show the plot\n",
        "plt.show()\n"
      ]
    },
    {
      "cell_type": "markdown",
      "metadata": {
        "id": "LFLtsL6Vn8dU"
      },
      "source": [
        "\n",
        "<li>Modify your code to use 20 bins in both histograms.</li>\n"
      ]
    },
    {
      "cell_type": "code",
      "execution_count": null,
      "metadata": {
        "colab": {
          "base_uri": "https://localhost:8080/",
          "height": 268
        },
        "id": "b2_LWDb6n8dU",
        "outputId": "5945b6be-7c6b-4d6b-ca3f-0ba55b36eedc"
      },
      "outputs": [
        {
          "output_type": "display_data",
          "data": {
            "text/plain": [
              "<Figure size 432x288 with 1 Axes>"
            ],
            "image/png": "[encoded data removed]"
          },
          "metadata": {
            "needs_background": "light"
          }
        }
      ],
      "source": [
        "# Modify bins to 20\n",
        "avocados[avocados[\"type\"] == \"conventional\"][\"avg_price\"].hist(bins=20, alpha=0.5)\n",
        "\n",
        "# Modify bins to 20\n",
        "avocados[avocados[\"type\"] == \"organic\"][\"avg_price\"].hist(bins= 20, alpha=0.5)\n",
        "\n",
        "# Add a legend\n",
        "plt.legend([\"conventional\", \"organic\"])\n",
        "\n",
        "# Show the plot\n",
        "plt.show()\n"
      ]
    },
    {
      "cell_type": "markdown",
      "metadata": {
        "id": "f2FrXX-Bn8dV"
      },
      "source": [
        "<p class=\"\">Great layering! We can see that on average, organic avocados are more expensive than conventional ones, but their price distributions have some overlap.</p>\n",
        "\n"
      ]
    },
    {
      "cell_type": "markdown",
      "source": [
        "## Missing values\n",
        "\n",
        "\n",
        "\n"
      ],
      "metadata": {
        "id": "dKPA2cOxpour"
      }
    },
    {
      "cell_type": "markdown",
      "source": [
        "### Finding missing values\n",
        "\n",
        "\n",
        "<div class>\n",
        "<p>Missing values are everywhere, and you don't want them interfering with your work. Some functions ignore missing data by default, but that's not always the behavior you might want. Some functions can't handle missing values at all, so these values need to be taken care of before you can use them. If you don't know where your missing values are, or if they exist, you could make mistakes in your analysis. In this exercise, you'll determine if there are missing values in the dataset, and if so, how many.</p>\n",
        "<p><code>pandas</code> has been imported as <code>pd</code> and <code>avocados_2016</code>, a subset of <code>avocados</code> that contains only sales from 2016, is available.</p>\n",
        "</div>\n"
      ],
      "metadata": {
        "id": "3Szy1eUvppXz"
      }
    },
    {
      "cell_type": "code",
      "execution_count": null,
      "metadata": {
        "id": "wkHGVYqan8dV"
      },
      "outputs": [],
      "source": [
        "# edited by mclix8\n",
        "avocados_2016 = pd.read_csv('https://raw.githubusercontent.com/mclix8/DataCamp/master/Data%20Manipulation%20with%20Python/Data%20Manipulation%20with%20pandas/datasets/avocados_2016.csv')\n",
        "cols_with_missing = ['small_sold', 'large_sold', 'xl_sold']\n"
      ]
    },
    {
      "cell_type": "markdown",
      "metadata": {
        "id": "iLrYzVpEn8dV"
      },
      "source": [
        "\n",
        "<li>Print a DataFrame that shows whether each value in <code>avocados_2016</code> is missing or not.</li>\n"
      ]
    },
    {
      "cell_type": "code",
      "execution_count": null,
      "metadata": {
        "colab": {
          "base_uri": "https://localhost:8080/"
        },
        "id": "ANZjbiZ9n8dV",
        "outputId": "2446b952-7301-47ab-dfeb-12ea8c55489e"
      },
      "outputs": [
        {
          "output_type": "stream",
          "name": "stdout",
          "text": [
            "     date  avg_price  total_sold  small_sold  large_sold  xl_sold  \\\n",
            "0   False      False       False       False       False    False   \n",
            "1   False      False       False       False       False    False   \n",
            "2   False      False       False       False        True    False   \n",
            "3   False      False       False       False       False    False   \n",
            "4   False      False       False       False       False     True   \n",
            "5   False      False       False        True       False    False   \n",
            "6   False      False       False       False       False    False   \n",
            "7   False      False       False       False        True    False   \n",
            "8   False      False       False       False       False    False   \n",
            "9   False      False       False       False       False    False   \n",
            "10  False      False       False       False        True    False   \n",
            "11  False      False       False       False       False    False   \n",
            "12  False      False       False       False       False    False   \n",
            "13  False      False       False       False       False    False   \n",
            "14  False      False       False       False       False    False   \n",
            "15  False      False       False       False        True    False   \n",
            "16  False      False       False       False       False     True   \n",
            "17  False      False       False       False       False    False   \n",
            "18  False      False       False       False       False    False   \n",
            "19  False      False       False       False        True    False   \n",
            "20  False      False       False       False       False    False   \n",
            "21  False      False       False       False       False    False   \n",
            "22  False      False       False       False       False    False   \n",
            "23  False      False       False       False       False    False   \n",
            "24  False      False       False       False       False    False   \n",
            "25  False      False       False       False       False    False   \n",
            "26  False      False       False       False       False    False   \n",
            "27  False      False       False       False       False    False   \n",
            "28  False      False       False       False       False    False   \n",
            "29  False      False       False       False       False    False   \n",
            "30  False      False       False       False       False     True   \n",
            "31  False      False       False       False       False    False   \n",
            "32  False      False       False       False       False     True   \n",
            "33  False      False       False       False       False    False   \n",
            "34  False      False       False       False       False    False   \n",
            "35  False      False       False       False       False    False   \n",
            "36  False      False       False        True       False    False   \n",
            "37  False      False       False       False        True    False   \n",
            "38  False      False       False       False       False    False   \n",
            "39  False      False       False       False       False    False   \n",
            "40  False      False       False        True       False    False   \n",
            "41  False      False       False       False       False    False   \n",
            "42  False      False       False       False       False    False   \n",
            "43  False      False       False       False       False    False   \n",
            "44  False      False       False        True       False    False   \n",
            "45  False      False       False       False       False    False   \n",
            "46  False      False       False       False       False    False   \n",
            "47  False      False       False       False       False    False   \n",
            "48  False      False       False       False       False    False   \n",
            "49  False      False       False       False       False    False   \n",
            "50  False      False       False        True       False    False   \n",
            "51  False      False       False        True       False    False   \n",
            "\n",
            "    total_bags_sold  small_bags_sold  large_bags_sold  xl_bags_sold  \n",
            "0             False            False            False         False  \n",
            "1             False            False            False         False  \n",
            "2             False            False            False         False  \n",
            "3             False            False            False         False  \n",
            "4             False            False            False         False  \n",
            "5             False            False            False         False  \n",
            "6             False            False            False         False  \n",
            "7             False            False            False         False  \n",
            "8             False            False            False         False  \n",
            "9             False            False            False         False  \n",
            "10            False            False            False         False  \n",
            "11            False            False            False         False  \n",
            "12            False            False            False         False  \n",
            "13            False            False            False         False  \n",
            "14            False            False            False         False  \n",
            "15            False            False            False         False  \n",
            "16            False            False            False         False  \n",
            "17            False            False            False         False  \n",
            "18            False            False            False         False  \n",
            "19            False            False            False         False  \n",
            "20            False            False            False         False  \n",
            "21            False            False            False         False  \n",
            "22            False            False            False         False  \n",
            "23            False            False            False         False  \n",
            "24            False            False            False         False  \n",
            "25            False            False            False         False  \n",
            "26            False            False            False         False  \n",
            "27            False            False            False         False  \n",
            "28            False            False            False         False  \n",
            "29            False            False            False         False  \n",
            "30            False            False            False         False  \n",
            "31            False            False            False         False  \n",
            "32            False            False            False         False  \n",
            "33            False            False            False         False  \n",
            "34            False            False            False         False  \n",
            "35            False            False            False         False  \n",
            "36            False            False            False         False  \n",
            "37            False            False            False         False  \n",
            "38            False            False            False         False  \n",
            "39            False            False            False         False  \n",
            "40            False            False            False         False  \n",
            "41            False            False            False         False  \n",
            "42            False            False            False         False  \n",
            "43            False            False            False         False  \n",
            "44            False            False            False         False  \n",
            "45            False            False            False         False  \n",
            "46            False            False            False         False  \n",
            "47            False            False            False         False  \n",
            "48            False            False            False         False  \n",
            "49            False            False            False         False  \n",
            "50            False            False            False         False  \n",
            "51            False            False            False         False  \n"
          ]
        }
      ],
      "source": [
        "# Import matplotlib.pyplot with alias plt\n",
        "import matplotlib.pyplot as plt\n",
        "\n",
        "# Check individual values for missing values\n",
        "print(avocados_2016.isna())\n"
      ]
    },
    {
      "cell_type": "markdown",
      "metadata": {
        "id": "YtM_3jyKn8dW"
      },
      "source": [
        "<li>Print a summary that shows whether <em>any</em> value in each column is missing or not.</li>\n"
      ]
    },
    {
      "cell_type": "code",
      "execution_count": null,
      "metadata": {
        "colab": {
          "base_uri": "https://localhost:8080/"
        },
        "id": "LBrJDAKIn8dW",
        "outputId": "6384469e-0a67-4b70-d7d8-6796d5378a59"
      },
      "outputs": [
        {
          "output_type": "stream",
          "name": "stdout",
          "text": [
            "date               False\n",
            "avg_price          False\n",
            "total_sold         False\n",
            "small_sold          True\n",
            "large_sold          True\n",
            "xl_sold             True\n",
            "total_bags_sold    False\n",
            "small_bags_sold    False\n",
            "large_bags_sold    False\n",
            "xl_bags_sold       False\n",
            "dtype: bool\n"
          ]
        }
      ],
      "source": [
        "# Check each column for missing values\n",
        "print(avocados_2016.isna().any())\n"
      ]
    },
    {
      "cell_type": "markdown",
      "metadata": {
        "id": "7q6jvwLOn8dW"
      },
      "source": [
        "<li>Create a bar plot of the total number of missing values in each column.</li>\n"
      ]
    },
    {
      "cell_type": "code",
      "execution_count": null,
      "metadata": {
        "colab": {
          "base_uri": "https://localhost:8080/",
          "height": 337
        },
        "id": "_kNQDmDTn8dW",
        "outputId": "89df5eab-3c3d-4bf6-a444-59c548aa25f7"
      },
      "outputs": [
        {
          "output_type": "display_data",
          "data": {
            "text/plain": [
              "<Figure size 432x288 with 1 Axes>"
            ],
            "image/png": "[encoded data removed]"
          },
          "metadata": {
            "needs_background": "light"
          }
        }
      ],
      "source": [
        "# Bar plot of missing values by variable\n",
        "avocados_2016.isna().sum().plot(kind=\"bar\")\n",
        "\n",
        "# Show plot\n",
        "plt.show()\n"
      ]
    },
    {
      "cell_type": "markdown",
      "metadata": {
        "id": "90P68U3Yn8dW"
      },
      "source": [
        "<p class=\"\">Marvelous missing value detection! It looks like there are missing values in the <code>small_sold</code>, <code>large_sold</code>, and <code>xl_sold</code> columns.</p>\n",
        "\n"
      ]
    },
    {
      "cell_type": "markdown",
      "source": [
        "### Removing missing values\n",
        "\n",
        "\n",
        "<div class>\n",
        "<p>Now that you know there are some missing values in your DataFrame, you have a few options to deal with them. One way is to remove them from the dataset completely. In this exercise, you'll remove missing values by removing all rows that contain missing values.</p>\n",
        "<p><code>pandas</code> has been imported as <code>pd</code> and <code>avocados_2016</code> is available.</p>\n",
        "</div>\n",
        "\n",
        "<li>Remove the rows of <code>avocados_2016</code> that contain missing values and store the remaining rows in <code>avocados_complete</code>.</li>\n"
      ],
      "metadata": {
        "id": "jkhI9gV3prLO"
      }
    },
    {
      "cell_type": "code",
      "execution_count": null,
      "metadata": {
        "id": "XGx0zSfrn8dW"
      },
      "outputs": [],
      "source": [
        "# Remove rows with missing values\n",
        "avocados_complete = avocados_2016.dropna()\n"
      ]
    },
    {
      "cell_type": "markdown",
      "metadata": {
        "id": "3k9Qv3BDn8dX"
      },
      "source": [
        "<li>Verify that all missing values have been removed from <code>avocados_complete</code>. Calculate each column that has NAs and print.</li>\n"
      ]
    },
    {
      "cell_type": "code",
      "execution_count": null,
      "metadata": {
        "colab": {
          "base_uri": "https://localhost:8080/"
        },
        "id": "FwcpeWM9n8dX",
        "outputId": "83dcd56f-c170-4881-ebf6-e39fa73036eb"
      },
      "outputs": [
        {
          "output_type": "stream",
          "name": "stdout",
          "text": [
            "date               False\n",
            "avg_price          False\n",
            "total_sold         False\n",
            "small_sold         False\n",
            "large_sold         False\n",
            "xl_sold            False\n",
            "total_bags_sold    False\n",
            "small_bags_sold    False\n",
            "large_bags_sold    False\n",
            "xl_bags_sold       False\n",
            "dtype: bool\n"
          ]
        }
      ],
      "source": [
        "# Check if any columns contain missing values\n",
        "print(avocados_complete.isna().any())\n"
      ]
    },
    {
      "cell_type": "markdown",
      "metadata": {
        "id": "tvM4eEj_n8dX"
      },
      "source": [
        "<p class=\"\">Delightful dropping! Removing observations with missing values is a quick and dirty way to deal with missing data, but this can introduce bias to your data if the values are not missing at random.</p>\n",
        "\n"
      ]
    },
    {
      "cell_type": "markdown",
      "source": [
        "### Replacing missing values\n",
        "\n",
        "\n",
        "<div class>\n",
        "<p>Another way of handling missing values is to replace them all with the same value. For numerical variables, one option is to replace values with 0— you'll do this here. However, when you replace missing values, you make assumptions about what a missing value means. In this case, you will assume that a missing number sold means that no sales for that avocado type were made that week. </p>\n",
        "<p>In this exercise, you'll see how replacing missing values can affect the distribution of a variable using histograms. You can plot histograms for multiple variables at a time as follows:</p>\n",
        "<pre><code>dogs[[\"height_cm\", \"weight_kg\"]].hist()\n",
        "</code></pre>\n",
        "<p><code>pandas</code> has been imported as <code>pd</code> and <code>matplotlib.pyplot</code> has been imported as <code>plt</code>. The <code>avocados_2016</code> dataset is available.</p>\n",
        "</div>\n",
        "\n",
        "<li>A list has been created, <code>cols_with_missing</code>, containing the names of columns with missing values: <code>\"small_sold\"</code>, <code>\"large_sold\"</code>, and <code>\"xl_sold\"</code>.</li>\n"
      ],
      "metadata": {
        "id": "KAyZpsb-psiv"
      }
    },
    {
      "cell_type": "code",
      "execution_count": null,
      "metadata": {
        "id": "se4Acml2n8dX"
      },
      "outputs": [],
      "source": [
        "# List the columns with missing values\n",
        "cols_with_missing = [\"small_sold\", \"large_sold\", \"xl_sold\"]\n"
      ]
    },
    {
      "cell_type": "markdown",
      "metadata": {
        "id": "lWmPAzYFn8dX"
      },
      "source": [
        "<li>Create a histogram of those columns.</li>\n",
        "<li>Show the plot.</li>\n"
      ]
    },
    {
      "cell_type": "code",
      "execution_count": null,
      "metadata": {
        "colab": {
          "base_uri": "https://localhost:8080/",
          "height": 294
        },
        "id": "kL_dqgEMn8dX",
        "outputId": "9809aee3-62a3-45bf-9719-1595d48aebad"
      },
      "outputs": [
        {
          "output_type": "display_data",
          "data": {
            "text/plain": [
              "<Figure size 432x288 with 4 Axes>"
            ],
            "image/png": "[encoded data removed]"
          },
          "metadata": {
            "needs_background": "light"
          }
        }
      ],
      "source": [
        "# Create histograms showing the distributions cols_with_missing\n",
        "avocados_2016[cols_with_missing].hist()\n",
        "\n",
        "# Show the plot\n",
        "plt.show()\n"
      ]
    },
    {
      "cell_type": "markdown",
      "metadata": {
        "id": "g-7XS0crn8dX"
      },
      "source": [
        "\n",
        "<li>Replace the missing values of <code>avocados_2016</code> with <code>0</code>s and store the result as <code>avocados_filled</code>.</li>\n"
      ]
    },
    {
      "cell_type": "code",
      "execution_count": null,
      "metadata": {
        "id": "_z-hJYP6n8dX"
      },
      "outputs": [],
      "source": [
        "# Fill in missing values with 0\n",
        "avocados_filled = avocados_2016.fillna(0)\n"
      ]
    },
    {
      "cell_type": "markdown",
      "metadata": {
        "id": "ptyZ7h6hn8dX"
      },
      "source": [
        "\n",
        "<li>Create a histogram of the <code>cols_with_missing</code> columns of <code>avocados_filled</code>.</li>\n"
      ]
    },
    {
      "cell_type": "code",
      "execution_count": null,
      "metadata": {
        "colab": {
          "base_uri": "https://localhost:8080/",
          "height": 294
        },
        "id": "ekm0JAH6n8dY",
        "outputId": "e64df752-4ee9-46f7-f0b7-d9226bc8d47e"
      },
      "outputs": [
        {
          "output_type": "display_data",
          "data": {
            "text/plain": [
              "<Figure size 432x288 with 4 Axes>"
            ],
            "image/png": "[encoded data removed]"
          },
          "metadata": {
            "needs_background": "light"
          }
        }
      ],
      "source": [
        "# Create histograms of the filled columns\n",
        "avocados_filled[cols_with_missing].hist()\n",
        "\n",
        "# Show the plot\n",
        "plt.show()\n"
      ]
    },
    {
      "cell_type": "markdown",
      "metadata": {
        "id": "PiltZ6JZn8dY"
      },
      "source": [
        "<p class=\"\">Fabulous filling! Notice how the distribution has changed shape after replacing missing values with zeros.</p>\n",
        "\n"
      ]
    },
    {
      "cell_type": "markdown",
      "source": [
        "## Creating DataFrames\n",
        "\n",
        "\n",
        "\n"
      ],
      "metadata": {
        "id": "JN98XkBXpuE6"
      }
    },
    {
      "cell_type": "markdown",
      "source": [
        "### List of dictionaries\n",
        "\n",
        "\n",
        "<div class>\n",
        "<p>You recently got some new avocado data from 2019 that you'd like to put in a DataFrame using the list of dictionaries method. Remember that with this method, you go through the data row by row.</p>\n",
        "<table>\n",
        "<thead><tr>\n",
        "<th>date</th>\n",
        "<th>small_sold</th>\n",
        "<th>large_sold</th>\n",
        "</tr></thead>\n",
        "<tbody>\n",
        "<tr>\n",
        "<td>\"2019-11-03\"</td>\n",
        "<td>10376832</td>\n",
        "<td>7835071</td>\n",
        "</tr>\n",
        "<tr>\n",
        "<td>\"2019-11-10\"</td>\n",
        "<td>10717154</td>\n",
        "<td>8561348</td>\n",
        "</tr>\n",
        "</tbody>\n",
        "</table>\n",
        "<p><code>pandas</code> as <code>pd</code> is imported.</p>\n",
        "</div>\n",
        "\n",
        "<li>Create a list of dictionaries with the new data called <code>avocados_list</code>.</li>\n"
      ],
      "metadata": {
        "id": "lv3G7MRopu3h"
      }
    },
    {
      "cell_type": "code",
      "execution_count": null,
      "metadata": {
        "id": "gKoJk0uKn8dY"
      },
      "outputs": [],
      "source": [
        "# Create a list of dictionaries with new data\n",
        "avocados_list = [\n",
        "    {\"date\": \"2019-11-03\", \"small_sold\": 10376832, \"large_sold\": 7835071},\n",
        "    {\"date\": \"2019-11-10\", \"small_sold\": 10717154, \"large_sold\": 8561348},\n",
        "]\n"
      ]
    },
    {
      "cell_type": "markdown",
      "metadata": {
        "id": "SIifcvVFn8dY"
      },
      "source": [
        "<li>Convert the list into a DataFrame called <code>avocados_2019</code>.</li>\n"
      ]
    },
    {
      "cell_type": "code",
      "execution_count": null,
      "metadata": {
        "id": "T8iEpu_mn8dY"
      },
      "outputs": [],
      "source": [
        "# Convert list into DataFrame\n",
        "avocados_2019 = pd.DataFrame(avocados_list)\n"
      ]
    },
    {
      "cell_type": "markdown",
      "metadata": {
        "id": "B4o-_raan8dY"
      },
      "source": [
        "<li>Print your new DataFrame.</li>\n"
      ]
    },
    {
      "cell_type": "code",
      "execution_count": null,
      "metadata": {
        "colab": {
          "base_uri": "https://localhost:8080/"
        },
        "id": "VpRtiNE6n8dY",
        "outputId": "9154be04-feaf-4ef0-88b1-bb48f64096f0"
      },
      "outputs": [
        {
          "output_type": "stream",
          "name": "stdout",
          "text": [
            "         date  small_sold  large_sold\n",
            "0  2019-11-03    10376832     7835071\n",
            "1  2019-11-10    10717154     8561348\n"
          ]
        }
      ],
      "source": [
        "# Print the new DataFrame\n",
        "print(avocados_2019)\n"
      ]
    },
    {
      "cell_type": "markdown",
      "metadata": {
        "id": "cE9xYlqln8dY"
      },
      "source": [
        "<p class=\"\">Lovely work with the list-of-dictionaries! The list-of-dictionaries method creates DataFrames row-by-row.</p>\n",
        "\n"
      ]
    },
    {
      "cell_type": "markdown",
      "source": [
        "### Dictionary of lists\n",
        "\n",
        "\n",
        "<div class>\n",
        "<p>Some more data just came in! This time, you'll use the dictionary of lists method, parsing the data column by column.</p>\n",
        "<table>\n",
        "<thead><tr>\n",
        "<th>date</th>\n",
        "<th>small_sold</th>\n",
        "<th>large_sold</th>\n",
        "</tr></thead>\n",
        "<tbody>\n",
        "<tr>\n",
        "<td>\"2019-11-17\"</td>\n",
        "<td>10859987</td>\n",
        "<td>7674135</td>\n",
        "</tr>\n",
        "<tr>\n",
        "<td>\"2019-12-01\"</td>\n",
        "<td>9291631</td>\n",
        "<td>6238096</td>\n",
        "</tr>\n",
        "</tbody>\n",
        "</table>\n",
        "<p><code>pandas</code> as <code>pd</code> is imported.</p>\n",
        "</div>\n",
        "\n",
        "<li>Create a dictionary of lists with the new data called <code>avocados_dict</code>.</li>\n"
      ],
      "metadata": {
        "id": "XC7r1xFOpwGl"
      }
    },
    {
      "cell_type": "code",
      "execution_count": null,
      "metadata": {
        "id": "e3cuJulDn8dY"
      },
      "outputs": [],
      "source": [
        "# Create a dictionary of lists with new data\n",
        "avocados_dict = {\n",
        "  \"date\": [\"2019-11-17\", \"2019-12-01\"],\n",
        "  \"small_sold\": [10859987, 9291631],\n",
        "  \"large_sold\": [7674135, 6238096]\n",
        "}\n"
      ]
    },
    {
      "cell_type": "markdown",
      "metadata": {
        "id": "LbiVi6PKn8dZ"
      },
      "source": [
        "<li>Convert the dictionary to a DataFrame called <code>avocados_2019</code>.</li>\n"
      ]
    },
    {
      "cell_type": "code",
      "execution_count": null,
      "metadata": {
        "id": "8RDNyAYSn8dZ"
      },
      "outputs": [],
      "source": [
        "# Convert dictionary into DataFrame\n",
        "avocados_2019 = pd.DataFrame(avocados_dict)\n"
      ]
    },
    {
      "cell_type": "markdown",
      "metadata": {
        "id": "hvqmXDTwn8dZ"
      },
      "source": [
        "<li>Print your new DataFrame.</li>\n"
      ]
    },
    {
      "cell_type": "code",
      "execution_count": null,
      "metadata": {
        "colab": {
          "base_uri": "https://localhost:8080/"
        },
        "id": "TvbevyDcn8dZ",
        "outputId": "01f96b46-831b-4163-cec9-dc9acff54835"
      },
      "outputs": [
        {
          "output_type": "stream",
          "name": "stdout",
          "text": [
            "         date  small_sold  large_sold\n",
            "0  2019-11-17    10859987     7674135\n",
            "1  2019-12-01     9291631     6238096\n"
          ]
        }
      ],
      "source": [
        "# Print the new DataFrame\n",
        "print(avocados_2019)\n"
      ]
    },
    {
      "cell_type": "markdown",
      "metadata": {
        "id": "zgqaIHqgn8dZ"
      },
      "source": [
        "<p class=\"\">Delightful dictionary-of-lists usage! The list-of-dictionaries method creates DataFrames column-by-column.</p>\n",
        "\n"
      ]
    },
    {
      "cell_type": "markdown",
      "source": [
        "## Reading and writing CSVs\n",
        "\n",
        "\n",
        "\n"
      ],
      "metadata": {
        "id": "qrM78ubnpxan"
      }
    },
    {
      "cell_type": "markdown",
      "source": [
        "### CSV to DataFrame\n",
        "\n",
        "\n",
        "<div class>\n",
        "<p>You work for an airline, and your manager has asked you to do a competitive analysis and see how often passengers flying on other airlines are involuntarily bumped from their flights.\n",
        "You got a CSV file (<code>airline_bumping.csv</code>) from the Department of Transportation containing data on passengers that were involuntarily denied boarding in 2016 and 2017, but it doesn't have the exact numbers you want. In order to figure this out, you'll need to get the CSV into a pandas DataFrame and do some manipulation!</p>\n",
        "<p><code>pandas</code> is imported for you as <code>pd</code>. <code>\"airline_bumping.csv\"</code> is in your working directory.</p>\n",
        "</div>\n",
        "\n",
        "<li>Read the CSV file <code>\"airline_bumping.csv\"</code> and store it as a DataFrame called <code>airline_bumping</code>.</li>\n"
      ],
      "metadata": {
        "id": "UO6ICSxLpyQs"
      }
    },
    {
      "cell_type": "code",
      "execution_count": null,
      "metadata": {
        "id": "7ZhhRDNQn8dZ"
      },
      "outputs": [],
      "source": [
        "# Read CSV as DataFrame called airline_bumping\n",
        "airline_bumping = pd.read_csv('https://raw.githubusercontent.com/mclix8/DataCamp/master/Data%20Manipulation%20with%20Python/Data%20Manipulation%20with%20pandas/datasets/airline_bumping.csv')\n"
      ]
    },
    {
      "cell_type": "markdown",
      "metadata": {
        "id": "9zn6mujdn8dZ"
      },
      "source": [
        "<li>Print the first few rows of <code>airline_bumping</code>.</li>\n"
      ]
    },
    {
      "cell_type": "code",
      "execution_count": null,
      "metadata": {
        "colab": {
          "base_uri": "https://localhost:8080/"
        },
        "id": "pm8DUgzSn8dZ",
        "outputId": "3e84fb42-8c3f-42f2-edf4-1950600671be"
      },
      "outputs": [
        {
          "output_type": "stream",
          "name": "stdout",
          "text": [
            "             airline  year  nb_bumped  total_passengers\n",
            "0    DELTA AIR LINES  2017        679          99796155\n",
            "1     VIRGIN AMERICA  2017        165           6090029\n",
            "2    JETBLUE AIRWAYS  2017       1475          27255038\n",
            "3    UNITED AIRLINES  2017       2067          70030765\n",
            "4  HAWAIIAN AIRLINES  2017         92           8422734\n"
          ]
        }
      ],
      "source": [
        "# Take a look at the DataFrame\n",
        "print(airline_bumping.head())\n"
      ]
    },
    {
      "cell_type": "markdown",
      "metadata": {
        "id": "8nlx_DLpn8dZ"
      },
      "source": [
        "\n",
        "<li>For each airline group, select the <code>nb_bumped</code>, and <code>total_passengers</code> columns, and calculate the sum (for both years). Store this as <code>airline_totals</code>.</li>\n"
      ]
    },
    {
      "cell_type": "code",
      "execution_count": null,
      "metadata": {
        "id": "n_bVBSTkn8dZ"
      },
      "outputs": [],
      "source": [
        "# For each airline, select nb_bumped and total_passengers and sum\n",
        "airline_totals = airline_bumping.groupby(\"airline\")[[\"nb_bumped\", \"total_passengers\"]].sum()\n"
      ]
    },
    {
      "cell_type": "markdown",
      "metadata": {
        "id": "0cMsYTnUn8da"
      },
      "source": [
        "\n",
        "<li>Create a new column of <code>airline_totals</code> called <code>bumps_per_10k</code>, which is the number of passengers bumped per 10,000 passengers in 2016 and 2017.</li>\n"
      ]
    },
    {
      "cell_type": "code",
      "execution_count": null,
      "metadata": {
        "colab": {
          "base_uri": "https://localhost:8080/"
        },
        "id": "ACvZAtpAn8da",
        "outputId": "79108aa7-232e-413f-eb0a-f4bd1e8d4ea0"
      },
      "outputs": [
        {
          "output_type": "stream",
          "name": "stdout",
          "text": [
            "                     nb_bumped  total_passengers  bumps_per_10k\n",
            "airline                                                        \n",
            "ALASKA AIRLINES           1392          36543121       0.380920\n",
            "AMERICAN AIRLINES        11115         197365225       0.563169\n",
            "DELTA AIR LINES           1591         197033215       0.080748\n",
            "EXPRESSJET AIRLINES       3326          27858678       1.193883\n",
            "FRONTIER AIRLINES         1228          22954995       0.534960\n",
            "HAWAIIAN AIRLINES          122          16577572       0.073593\n",
            "JETBLUE AIRWAYS           3615          53245866       0.678926\n",
            "SKYWEST AIRLINES          3094          47091737       0.657015\n",
            "SOUTHWEST AIRLINES       18585         228142036       0.814624\n",
            "SPIRIT AIRLINES           2920          32304571       0.903897\n",
            "UNITED AIRLINES           4941         134468897       0.367446\n",
            "VIRGIN AMERICA             242          12017967       0.201365\n"
          ]
        }
      ],
      "source": [
        "# Create new col, bumps_per_10k: no. of bumps per 10k passengers for each airline\n",
        "airline_totals[\"bumps_per_10k\"] = airline_totals[\"nb_bumped\"] / airline_totals[\"total_passengers\"] * 10000\n",
        "\n",
        "# Print airline_totals\n",
        "print(airline_totals)\n"
      ]
    },
    {
      "cell_type": "markdown",
      "metadata": {
        "id": "1PM1Wqpyn8da"
      },
      "source": [
        "<li>Print <code>airline_totals</code> to see the results of your manipulations.</li>\n"
      ]
    },
    {
      "cell_type": "code",
      "execution_count": null,
      "metadata": {
        "colab": {
          "base_uri": "https://localhost:8080/"
        },
        "id": "Gf5p72k-n8da",
        "outputId": "49e1447f-6349-4b72-82c6-ccc12917dc96"
      },
      "outputs": [
        {
          "output_type": "stream",
          "name": "stdout",
          "text": [
            "                     nb_bumped  total_passengers  bumps_per_10k\n",
            "airline                                                        \n",
            "ALASKA AIRLINES           1392          36543121       0.380920\n",
            "AMERICAN AIRLINES        11115         197365225       0.563169\n",
            "DELTA AIR LINES           1591         197033215       0.080748\n",
            "EXPRESSJET AIRLINES       3326          27858678       1.193883\n",
            "FRONTIER AIRLINES         1228          22954995       0.534960\n",
            "HAWAIIAN AIRLINES          122          16577572       0.073593\n",
            "JETBLUE AIRWAYS           3615          53245866       0.678926\n",
            "SKYWEST AIRLINES          3094          47091737       0.657015\n",
            "SOUTHWEST AIRLINES       18585         228142036       0.814624\n",
            "SPIRIT AIRLINES           2920          32304571       0.903897\n",
            "UNITED AIRLINES           4941         134468897       0.367446\n",
            "VIRGIN AMERICA             242          12017967       0.201365\n"
          ]
        }
      ],
      "source": [
        "# Print airline_totals\n",
        "print(airline_totals)\n"
      ]
    },
    {
      "cell_type": "markdown",
      "metadata": {
        "id": "aNxQ6r7zn8da"
      },
      "source": [
        "<p class=\"\">Masterful manipulation! Now you'll need to export this so you can share it with others.</p>\n",
        "\n"
      ]
    },
    {
      "cell_type": "markdown",
      "source": [
        "### DataFrame to CSV\n",
        "\n",
        "\n",
        "<div class>\n",
        "<p>You're almost there! To make things easier to read, you'll need to sort the data and export it to CSV so that your colleagues can read it.</p>\n",
        "<p><code>pandas</code> as <code>pd</code> has been imported for you.</p>\n",
        "</div>\n",
        "\n",
        "<li>Sort <code>airline_totals</code> by the values of <code>bumps_per_10k</code> from highest to lowest, storing as <code>airline_totals_sorted</code>.</li>\n"
      ],
      "metadata": {
        "id": "TjsQlZC4pzz8"
      }
    },
    {
      "cell_type": "code",
      "execution_count": null,
      "metadata": {
        "id": "olXOJ5ePn8da"
      },
      "outputs": [],
      "source": [
        "# Create airline_totals_sorted\n",
        "airline_totals_sorted = airline_totals.sort_values(\"bumps_per_10k\", ascending=False)\n"
      ]
    },
    {
      "cell_type": "markdown",
      "metadata": {
        "id": "ghSiOSwyn8da"
      },
      "source": [
        "<li>Print your sorted DataFrame.</li>\n"
      ]
    },
    {
      "cell_type": "code",
      "execution_count": null,
      "metadata": {
        "colab": {
          "base_uri": "https://localhost:8080/"
        },
        "id": "F_qQOEagn8da",
        "outputId": "a7a8d190-2b4f-400d-bda7-02660b949ff8"
      },
      "outputs": [
        {
          "output_type": "stream",
          "name": "stdout",
          "text": [
            "                     nb_bumped  total_passengers  bumps_per_10k\n",
            "airline                                                        \n",
            "EXPRESSJET AIRLINES       3326          27858678       1.193883\n",
            "SPIRIT AIRLINES           2920          32304571       0.903897\n",
            "SOUTHWEST AIRLINES       18585         228142036       0.814624\n",
            "JETBLUE AIRWAYS           3615          53245866       0.678926\n",
            "SKYWEST AIRLINES          3094          47091737       0.657015\n",
            "AMERICAN AIRLINES        11115         197365225       0.563169\n",
            "FRONTIER AIRLINES         1228          22954995       0.534960\n",
            "ALASKA AIRLINES           1392          36543121       0.380920\n",
            "UNITED AIRLINES           4941         134468897       0.367446\n",
            "VIRGIN AMERICA             242          12017967       0.201365\n",
            "DELTA AIR LINES           1591         197033215       0.080748\n",
            "HAWAIIAN AIRLINES          122          16577572       0.073593\n"
          ]
        }
      ],
      "source": [
        "# Print airline_totals_sorted\n",
        "print(airline_totals_sorted)\n"
      ]
    },
    {
      "cell_type": "markdown",
      "metadata": {
        "id": "zE_H-d--n8da"
      },
      "source": [
        "<li>Save the sorted DataFrame as a CSV called <code>\"airline_totals_sorted.csv\"</code>.</li>\n"
      ]
    },
    {
      "cell_type": "code",
      "execution_count": null,
      "metadata": {
        "id": "SUFQmpQpn8da"
      },
      "outputs": [],
      "source": [
        "# Save as airline_totals_sorted.csv\n",
        "airline_totals_sorted.to_csv(\"airline_totals_sorted.csv\")\n"
      ]
    },
    {
      "cell_type": "markdown",
      "metadata": {
        "id": "VLKFguTzn8da"
      },
      "source": [
        "\n",
        "<p class=\"\">Excellent exporting! Now you can share these insights about your competitors with your team.</p>\n"
      ]
    }
  ],
  "metadata": {
    "anaconda-cloud": "",
    "kernelspec": {
      "display_name": "Python 3.8.13 ('r-reticulate')",
      "language": "python",
      "name": "python3"
    },
    "language_info": {
      "codemirror_mode": "r",
      "file_extension": ".r",
      "mimetype": "text/x-r-source",
      "name": "python",
      "pygments_lexer": "r",
      "version": "3.8.13"
    },
    "vscode": {
      "interpreter": {
        "hash": "5516b1134d36dc5eb8af4fea059c533cda43b57de0b6ee70334a647f3c4f8f68"
      }
    },
    "colab": {
      "provenance": [],
      "include_colab_link": true
    }
  },
  "nbformat": 4,
  "nbformat_minor": 0
}